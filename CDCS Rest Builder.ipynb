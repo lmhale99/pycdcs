{
 "cells": [
  {
   "cell_type": "markdown",
   "metadata": {},
   "source": [
    "# CDCS Rest Builder\n",
    "\n",
    "The CDCS class has built-in functions wrapping around the python requests.request methods that automatically handle host and authentication parameters."
   ]
  },
  {
   "cell_type": "code",
   "execution_count": 1,
   "metadata": {},
   "outputs": [],
   "source": [
    "from cdcs import CDCS"
   ]
  },
  {
   "cell_type": "markdown",
   "metadata": {},
   "source": [
    "Initialization can ask for both username and password."
   ]
  },
  {
   "cell_type": "code",
   "execution_count": 2,
   "metadata": {},
   "outputs": [
    {
     "name": "stdout",
     "output_type": "stream",
     "text": [
      "Enter username for https://potentials.nist.gov:lmh1\n",
      "Enter password for lmh1 @ https://potentials.nist.gov:········\n"
     ]
    }
   ],
   "source": [
    "curator = CDCS('https://potentials.nist.gov/')"
   ]
  },
  {
   "cell_type": "markdown",
   "metadata": {},
   "source": [
    "Rest calls can then be handled directly using the request methods"
   ]
  },
  {
   "cell_type": "code",
   "execution_count": 9,
   "metadata": {},
   "outputs": [
    {
     "name": "stdout",
     "output_type": "stream",
     "text": [
      "200\n",
      "[{\"id\":\"5df7dee8ab2f7c0026177478\",\"name\":\"action\",\"filename\":\"action.xsl\",\"content\":\"<?xml version=\\\"1.0\\\" encoding=\\\"UTF-8\\\"?>\\r\\n<xsl:stylesheet version=\\\"1.0\\\" \\r\\n  xmlns:xsl=\\\"http://www.w3.org/1999/XSL/Transform\\\" \\r\\n  xmlns=\\\"http://www.w3.org/TR/xhtml1/strict\\\">\\r\\n  <xsl:output method=\\\"html\\\" encoding=\\\"utf-8\\\" indent=\\\"yes\\\" />\\r\\n\\r\\n  <xsl:template match=\\\"/action\\\">\\r\\n\\r\\n    <div>\\r\\n      <!--Action title: <b>type (date):</b> comment-->\\r\\n      <b><xsl:value-of select=\\\"type\\\"/> (<xsl:value-of select=\\\"date\\\"/>): </b><xsl:value-of select=\\\"comment\\\" disable-output-escaping=\\\"yes\\\"/>\\r\\n      <!--List potentials-->\\r\\n      <xsl:if test=\\\"potential\\\">\\r\\n        <ul>\\r\\n        <xsl:for-each select=\\\"potential\\\">\\r\\n          <li><a href='https://www.ctcms.nist.gov/potentials/entry/{id}'><xsl:value-of select=\\\"id\\\"/></a></li>\\r\\n        </xsl:for-each>\\r\\n        </ul>\\r\\n      </xsl:if>\\r\\n    </div>\\r\\n  </xsl:template>\\r\\n</xsl:stylesheet>\",\"_cls\":\"XslTransformation\"},{\"id\":\"5df7def8ab2f7c003417747a\",\"name\":\"faq\",\"filename\":\"faq.xsl\",\"content\":\"<?xml version=\\\"1.0\\\" encoding=\\\"UTF-8\\\"?>\\r\\n<xsl:stylesheet version=\\\"1.0\\\" \\r\\n  xmlns:xsl=\\\"http://www.w3.org/1999/XSL/Transform\\\" \\r\\n  xmlns=\\\"http://www.w3.org/TR/xhtml1/strict\\\">\\r\\n  <xsl:output method=\\\"html\\\" encoding=\\\"utf-8\\\" indent=\\\"yes\\\" />\\r\\n  \\r\\n  <xsl:template match=\\\"/faq\\\">\\r\\n    <div>\\r\\n      <h3>\\r\\n        Question: <xsl:value-of select = \\\"question\\\"  disable-output-escaping=\\\"yes\\\"/>\\r\\n      </h3>\\r\\n      <p>\\r\\n        Answer: <xsl:value-of select=\\\"answer\\\" disable-output-escaping=\\\"yes\\\"/>\\r\\n      </p>\\r\\n    </div>\\r\\n  </xsl:template>\\r\\n  \\r\\n</xsl:stylesheet>\",\"_cls\":\"XslTransformation\"},{\"id\":\"5df7df16ab2f7c003417747c\",\"name\":\"request\",\"filename\":\"request.xsl\",\"content\":\"<?xml version=\\\"1.0\\\" encoding=\\\"UTF-8\\\"?>\\r\\n<xsl:stylesheet version=\\\"1.0\\\" \\r\\n  xmlns:xsl=\\\"http://www.w3.org/1999/XSL/Transform\\\" \\r\\n  xmlns=\\\"http://www.w3.org/TR/xhtml1/strict\\\">\\r\\n  <xsl:output method=\\\"html\\\" encoding=\\\"utf-8\\\" indent=\\\"yes\\\" />\\r\\n  \\r\\n  <xsl:template match=\\\"request\\\">\\r\\n    <div>\\r\\n      <!-- <b>system(s): </b> comments (date) -->\\r\\n\\r\\n      <b>\\r\\n        <xsl:for-each select = 'system'>\\r\\n          <xsl:choose>\\r\\n\\r\\n            <!-- Use chemical formula if given -->\\r\\n            <xsl:when test=\\\"chemical-formula\\\">\\r\\n              <xsl:value-of select=\\\"chemical-formula\\\" disable-output-escaping=\\\"yes\\\"/>\\r\\n            </xsl:when>\\r\\n\\r\\n            <!-- Otherwise list elements -->\\r\\n            <xsl:otherwise>\\r\\n              <xsl:for-each select='element'>\\r\\n                <xsl:value-of select='text()'/>\\r\\n                <xsl:if test='position() &lt; last()'>\\r\\n                  <xsl:text>-</xsl:text>\\r\\n                </xsl:if>\\r\\n              </xsl:for-each>\\r\\n            </xsl:otherwise>\\r\\n          </xsl:choose>\\r\\n          \\r\\n          <!-- add commas between systems -->\\r\\n          <xsl:if test=\\\"position() &lt; last()-1\\\">\\r\\n            <xsl:text>, </xsl:text>\\r\\n          </xsl:if>\\r\\n          \\r\\n          <!-- add 'and' before last of multiple systems -->\\r\\n          <xsl:if test=\\\"position()=last()-1\\\">\\r\\n            <xsl:text> and </xsl:text>\\r\\n          </xsl:if>\\r\\n          <xsl:text> </xsl:text>  \\r\\n        </xsl:for-each>\\r\\n        <xsl:text> </xsl:text>\\r\\n      </b>\\r\\n        \\r\\n      <xsl:if test=\\\"comment\\\">\\r\\n        <xsl:value-of select=\\\"comment\\\" disable-output-escaping=\\\"yes\\\"/>\\r\\n      </xsl:if>\\r\\n\\r\\n      <xsl:text> (</xsl:text><xsl:value-of select=\\\"date\\\"/><xsl:text>)</xsl:text>\\r\\n\\r\\n    </div>\\r\\n  </xsl:template>\\r\\n</xsl:stylesheet>\",\"_cls\":\"XslTransformation\"}]\n"
     ]
    }
   ],
   "source": [
    "response = curator.get('/rest/xslt')\n",
    "print(response.status_code)\n",
    "print(response.text)"
   ]
  },
  {
   "cell_type": "markdown",
   "metadata": {},
   "source": [
    "data, params, etc can all still be passed in as well"
   ]
  },
  {
   "cell_type": "code",
   "execution_count": 10,
   "metadata": {},
   "outputs": [
    {
     "name": "stdout",
     "output_type": "stream",
     "text": [
      "200\n",
      "[]\n"
     ]
    }
   ],
   "source": [
    "params = {'title':'testing'}\n",
    "response = curator.get('/rest/data', params=params)\n",
    "print(response.status_code)\n",
    "print(response.text)"
   ]
  },
  {
   "cell_type": "code",
   "execution_count": 11,
   "metadata": {},
   "outputs": [
    {
     "name": "stdout",
     "output_type": "stream",
     "text": [
      "200\n",
      "[]\n"
     ]
    }
   ],
   "source": [
    "params = {'title':'testing2'}\n",
    "response = curator.get('/rest/data', params=params)\n",
    "print(response.status_code)\n",
    "print(response.text)"
   ]
  },
  {
   "cell_type": "markdown",
   "metadata": {},
   "source": [
    "Bad calls will display the returned json/text as well as the error raised."
   ]
  },
  {
   "cell_type": "code",
   "execution_count": 12,
   "metadata": {},
   "outputs": [
    {
     "name": "stdout",
     "output_type": "stream",
     "text": [
      "<h1>Not Found</h1><p>The requested resource was not found on this server.</p>\n"
     ]
    },
    {
     "ename": "HTTPError",
     "evalue": "404 Client Error: Not Found for url: https://potentials.nist.gov/rest/datum?title=testing2",
     "output_type": "error",
     "traceback": [
      "\u001b[1;31m---------------------------------------------------------------------------\u001b[0m",
      "\u001b[1;31mHTTPError\u001b[0m                                 Traceback (most recent call last)",
      "\u001b[1;32m<ipython-input-12-f994560e7e52>\u001b[0m in \u001b[0;36m<module>\u001b[1;34m\u001b[0m\n\u001b[0;32m      2\u001b[0m \u001b[1;33m\u001b[0m\u001b[0m\n\u001b[0;32m      3\u001b[0m \u001b[0mparams\u001b[0m \u001b[1;33m=\u001b[0m \u001b[1;33m{\u001b[0m\u001b[1;34m'title'\u001b[0m\u001b[1;33m:\u001b[0m\u001b[1;34m'testing2'\u001b[0m\u001b[1;33m}\u001b[0m\u001b[1;33m\u001b[0m\u001b[1;33m\u001b[0m\u001b[0m\n\u001b[1;32m----> 4\u001b[1;33m \u001b[0mresponse\u001b[0m \u001b[1;33m=\u001b[0m \u001b[0mcurator\u001b[0m\u001b[1;33m.\u001b[0m\u001b[0mget\u001b[0m\u001b[1;33m(\u001b[0m\u001b[1;34m'/rest/datum'\u001b[0m\u001b[1;33m,\u001b[0m \u001b[0mparams\u001b[0m\u001b[1;33m=\u001b[0m\u001b[0mparams\u001b[0m\u001b[1;33m)\u001b[0m\u001b[1;33m\u001b[0m\u001b[1;33m\u001b[0m\u001b[0m\n\u001b[0m\u001b[0;32m      5\u001b[0m \u001b[0mprint\u001b[0m\u001b[1;33m(\u001b[0m\u001b[0mresponse\u001b[0m\u001b[1;33m.\u001b[0m\u001b[0mstatus_code\u001b[0m\u001b[1;33m)\u001b[0m\u001b[1;33m\u001b[0m\u001b[1;33m\u001b[0m\u001b[0m\n\u001b[0;32m      6\u001b[0m \u001b[0mprint\u001b[0m\u001b[1;33m(\u001b[0m\u001b[0mresponse\u001b[0m\u001b[1;33m.\u001b[0m\u001b[0mtext\u001b[0m\u001b[1;33m)\u001b[0m\u001b[1;33m\u001b[0m\u001b[1;33m\u001b[0m\u001b[0m\n",
      "\u001b[1;32m~\\Documents\\Python-packages\\pycdcs\\cdcs\\RestClient.py\u001b[0m in \u001b[0;36mget\u001b[1;34m(self, rest_url, **kwargs)\u001b[0m\n\u001b[0;32m    189\u001b[0m             \u001b[0mAny\u001b[0m \u001b[0mrequests\u001b[0m \u001b[0merrors\u001b[0m \u001b[1;32mif\u001b[0m \u001b[0mthe\u001b[0m \u001b[0mresponse\u001b[0m \u001b[0mcode\u001b[0m \u001b[1;32mis\u001b[0m \u001b[1;32mnot\u001b[0m \u001b[0mok\u001b[0m\u001b[1;33m.\u001b[0m\u001b[1;33m\u001b[0m\u001b[1;33m\u001b[0m\u001b[0m\n\u001b[0;32m    190\u001b[0m         \"\"\"\n\u001b[1;32m--> 191\u001b[1;33m         \u001b[1;32mreturn\u001b[0m \u001b[0mself\u001b[0m\u001b[1;33m.\u001b[0m\u001b[0mrequest\u001b[0m\u001b[1;33m(\u001b[0m\u001b[1;34m'get'\u001b[0m\u001b[1;33m,\u001b[0m \u001b[0mrest_url\u001b[0m\u001b[1;33m,\u001b[0m \u001b[1;33m**\u001b[0m\u001b[0mkwargs\u001b[0m\u001b[1;33m)\u001b[0m\u001b[1;33m\u001b[0m\u001b[1;33m\u001b[0m\u001b[0m\n\u001b[0m\u001b[0;32m    192\u001b[0m \u001b[1;33m\u001b[0m\u001b[0m\n\u001b[0;32m    193\u001b[0m     \u001b[1;32mdef\u001b[0m \u001b[0mpost\u001b[0m\u001b[1;33m(\u001b[0m\u001b[0mself\u001b[0m\u001b[1;33m,\u001b[0m \u001b[0mrest_url\u001b[0m\u001b[1;33m,\u001b[0m \u001b[0mdata\u001b[0m\u001b[1;33m=\u001b[0m\u001b[1;32mNone\u001b[0m\u001b[1;33m,\u001b[0m \u001b[1;33m**\u001b[0m\u001b[0mkwargs\u001b[0m\u001b[1;33m)\u001b[0m\u001b[1;33m:\u001b[0m\u001b[1;33m\u001b[0m\u001b[1;33m\u001b[0m\u001b[0m\n",
      "\u001b[1;32m~\\Documents\\Python-packages\\pycdcs\\cdcs\\RestClient.py\u001b[0m in \u001b[0;36mrequest\u001b[1;34m(self, method, rest_url, **kwargs)\u001b[0m\n\u001b[0;32m    151\u001b[0m             \u001b[1;32mexcept\u001b[0m\u001b[1;33m:\u001b[0m\u001b[1;33m\u001b[0m\u001b[1;33m\u001b[0m\u001b[0m\n\u001b[0;32m    152\u001b[0m                 \u001b[0mprint\u001b[0m\u001b[1;33m(\u001b[0m\u001b[0mresponse\u001b[0m\u001b[1;33m.\u001b[0m\u001b[0mtext\u001b[0m\u001b[1;33m)\u001b[0m\u001b[1;33m\u001b[0m\u001b[1;33m\u001b[0m\u001b[0m\n\u001b[1;32m--> 153\u001b[1;33m             \u001b[0mresponse\u001b[0m\u001b[1;33m.\u001b[0m\u001b[0mraise_for_status\u001b[0m\u001b[1;33m(\u001b[0m\u001b[1;33m)\u001b[0m\u001b[1;33m\u001b[0m\u001b[1;33m\u001b[0m\u001b[0m\n\u001b[0m\u001b[0;32m    154\u001b[0m \u001b[1;33m\u001b[0m\u001b[0m\n\u001b[0;32m    155\u001b[0m         \u001b[1;32mreturn\u001b[0m \u001b[0mresponse\u001b[0m\u001b[1;33m\u001b[0m\u001b[1;33m\u001b[0m\u001b[0m\n",
      "\u001b[1;32m~\\AppData\\Local\\Continuum\\anaconda3\\lib\\site-packages\\requests\\models.py\u001b[0m in \u001b[0;36mraise_for_status\u001b[1;34m(self)\u001b[0m\n\u001b[0;32m    938\u001b[0m \u001b[1;33m\u001b[0m\u001b[0m\n\u001b[0;32m    939\u001b[0m         \u001b[1;32mif\u001b[0m \u001b[0mhttp_error_msg\u001b[0m\u001b[1;33m:\u001b[0m\u001b[1;33m\u001b[0m\u001b[1;33m\u001b[0m\u001b[0m\n\u001b[1;32m--> 940\u001b[1;33m             \u001b[1;32mraise\u001b[0m \u001b[0mHTTPError\u001b[0m\u001b[1;33m(\u001b[0m\u001b[0mhttp_error_msg\u001b[0m\u001b[1;33m,\u001b[0m \u001b[0mresponse\u001b[0m\u001b[1;33m=\u001b[0m\u001b[0mself\u001b[0m\u001b[1;33m)\u001b[0m\u001b[1;33m\u001b[0m\u001b[1;33m\u001b[0m\u001b[0m\n\u001b[0m\u001b[0;32m    941\u001b[0m \u001b[1;33m\u001b[0m\u001b[0m\n\u001b[0;32m    942\u001b[0m     \u001b[1;32mdef\u001b[0m \u001b[0mclose\u001b[0m\u001b[1;33m(\u001b[0m\u001b[0mself\u001b[0m\u001b[1;33m)\u001b[0m\u001b[1;33m:\u001b[0m\u001b[1;33m\u001b[0m\u001b[1;33m\u001b[0m\u001b[0m\n",
      "\u001b[1;31mHTTPError\u001b[0m: 404 Client Error: Not Found for url: https://potentials.nist.gov/rest/datum?title=testing2"
     ]
    }
   ],
   "source": [
    "# Show that bad call automatically issues message and error\n",
    "\n",
    "params = {'title':'testing2'}\n",
    "response = curator.get('/rest/datum', params=params)\n",
    "print(response.status_code)\n",
    "print(response.text)"
   ]
  }
 ],
 "metadata": {
  "kernelspec": {
   "display_name": "Python 3",
   "language": "python",
   "name": "python3"
  },
  "language_info": {
   "codemirror_mode": {
    "name": "ipython",
    "version": 3
   },
   "file_extension": ".py",
   "mimetype": "text/x-python",
   "name": "python",
   "nbconvert_exporter": "python",
   "pygments_lexer": "ipython3",
   "version": "3.7.4"
  }
 },
 "nbformat": 4,
 "nbformat_minor": 4
}
