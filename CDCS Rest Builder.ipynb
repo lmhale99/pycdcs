{
 "cells": [
  {
   "cell_type": "markdown",
   "metadata": {},
   "source": [
    "# CDCS Rest Builder\n",
    "\n",
    "The CDCS class has built-in functions wrapping around the python requests.request methods that automatically handle host and authentication parameters.  This makes it possible to build your own methods for REST actions that do not currently have custom methods in the CDCS class yet\n",
    "\n",
    "__NOTE__: If you do find a specific REST action of importance that is not in cdcs.CDCS yet, please submit an issue or pull request on github: https://github.com/usnistgov/pycdcs.  That way, a new method can be added making it easier for others to use."
   ]
  },
  {
   "cell_type": "code",
   "execution_count": 1,
   "metadata": {},
   "outputs": [
    {
     "name": "stdout",
     "output_type": "stream",
     "text": [
      "Notebook executed for cdcs version 0.1.5\n"
     ]
    }
   ],
   "source": [
    "import cdcs\n",
    "from cdcs import CDCS\n",
    "\n",
    "print('Notebook executed for cdcs version', cdcs.__version__)"
   ]
  },
  {
   "cell_type": "markdown",
   "metadata": {},
   "source": [
    "Initialization can ask for both username and password."
   ]
  },
  {
   "cell_type": "code",
   "execution_count": 2,
   "metadata": {},
   "outputs": [
    {
     "name": "stdin",
     "output_type": "stream",
     "text": [
      "Enter username for https://potentials.nist.gov: lmh1\n",
      "Enter password for lmh1 @ https://potentials.nist.gov: ················\n"
     ]
    }
   ],
   "source": [
    "curator = CDCS('https://potentials.nist.gov/')"
   ]
  },
  {
   "cell_type": "markdown",
   "metadata": {},
   "source": [
    "Rest calls can then be handled directly using the request methods"
   ]
  },
  {
   "cell_type": "code",
   "execution_count": 3,
   "metadata": {},
   "outputs": [
    {
     "name": "stdout",
     "output_type": "stream",
     "text": [
      "200\n",
      "[{\"id\":\"5fb55eda26ed1e003617114d\",\"name\":\"faq.xsl\",\"filename\":\"faq.xsl\",\"content\":\"<?xml version=\\\"1.0\\\" encoding=\\\"UTF-8\\\"?>\\n<xsl:stylesheet version=\\\"1.0\\\" \\n  xmlns:xsl=\\\"http://www.w3.org/1999/XSL/Transform\\\" \\n  xmlns=\\\"http://www.w3.org/TR/xhtml1/strict\\\">\\n  <xsl:output method=\\\"html\\\" encoding=\\\"utf-8\\\" indent=\\\"yes\\\" />\\n  \\n  <xsl:template match=\\\"/faq\\\">\\n    <div>\\n      <h3>\\n        Question: <xsl:value-of select = \\\"question\\\"  disable-output-escaping=\\\"yes\\\"/>\\n      </h3>\\n      <p>\\n        Answer: <xsl:value-of select=\\\"answer\\\" disable-output-escaping=\\\"yes\\\"/>\\n      </p>\\n    </div>\\n  </xsl:template>\\n  \\n</xsl:stylesheet>\",\"_cls\":\"XslTransformation\"},{\"id\":\"5fb55eda26ed1e003817114e\",\"name\":\"request.xsl\",\"filename\":\"request.xsl\",\"content\":\"<?xml version=\\\"1.0\\\" encoding=\\\"UTF-8\\\"?>\\n<xsl:stylesheet version=\\\"1.0\\\" \\n  xmlns:xsl=\\\"http://www.w3.org/1999/XSL/Transform\\\" \\n  xmlns=\\\"http://www.w3.org/TR/xhtml1/strict\\\">\\n  <xsl:output method=\\\"html\\\" encoding=\\\"utf-8\\\" indent=\\\"yes\\\" />\\n  \\n  <xsl:template match=\\\"request\\\">\\n    <div>\\n      <!-- <b>system(s): </b> comments (date) -->\\n\\n      <b>\\n        <xsl:for-each select = 'system'>\\n          <xsl:choose>\\n\\n            <!-- Use chemical formula if given -->\\n            <xsl:when test=\\\"chemical-formula\\\">\\n              <xsl:value-of select=\\\"chemical-formula\\\" disable-output-escaping=\\\"yes\\\"/>\\n            </xsl:when>\\n\\n            <!-- Otherwise list elements -->\\n            <xsl:otherwise>\\n              <xsl:for-each select='element'>\\n                <xsl:value-of select='text()'/>\\n                <xsl:if test='position() &lt; last()'>\\n                  <xsl:text>-</xsl:text>\\n                </xsl:if>\\n              </xsl:for-each>\\n            </xsl:otherwise>\\n          </xsl:choose>\\n          \\n          <!-- add commas between systems -->\\n          <xsl:if test=\\\"position() &lt; last()-1\\\">\\n            <xsl:text>, </xsl:text>\\n          </xsl:if>\\n          \\n          <!-- add 'and' before last of multiple systems -->\\n          <xsl:if test=\\\"position()=last()-1\\\">\\n            <xsl:text> and </xsl:text>\\n          </xsl:if>\\n          <xsl:text> </xsl:text>  \\n        </xsl:for-each>\\n        <xsl:text> </xsl:text>\\n      </b>\\n        \\n      <xsl:if test=\\\"comment\\\">\\n        <xsl:value-of select=\\\"comment\\\" disable-output-escaping=\\\"yes\\\"/>\\n      </xsl:if>\\n\\n      <xsl:text> (</xsl:text><xsl:value-of select=\\\"date\\\"/><xsl:text>)</xsl:text>\\n\\n    </div>\\n  </xsl:template>\\n</xsl:stylesheet>\",\"_cls\":\"XslTransformation\"},{\"id\":\"5fb6dbc526ed1e0035177bd9\",\"name\":\"atom_data\",\"filename\":\"atom_data.xsl\",\"content\":\"<?xml version=\\\"1.0\\\" encoding=\\\"UTF-8\\\"?>\\r\\n<xsl:stylesheet version=\\\"1.0\\\" xmlns:xsl=\\\"http://www.w3.org/1999/XSL/Transform\\\">\\r\\n<xsl:output method=\\\"text\\\" omit-xml-declaration=\\\"yes\\\" indent=\\\"no\\\"/>\\r\\n  \\r\\n  <xsl:template match=\\\"/*\\\">\\r\\n    <xsl:apply-templates select=\\\"atomic-system\\\"/>\\r\\n  </xsl:template>\\r\\n\\r\\n  <xsl:template match=\\\"atomic-system\\\">\\r\\n    \\r\\n    <!-- # Atoms line -->\\r\\n    <xsl:value-of select=\\\"atoms/natoms\\\"></xsl:value-of>\\r\\n    <xsl:text> atoms&#xa;</xsl:text>\\r\\n    \\r\\n    <!-- # Types line -->\\r\\n    <xsl:for-each select=\\\"atoms/property[name='atype']/data/value\\\">\\r\\n\\t\\t\\t<xsl:sort select=\\\".\\\" data-type=\\\"number\\\" order=\\\"descending\\\"/>\\r\\n\\t\\t\\t<xsl:if test=\\\"position()=1\\\">\\r\\n\\t\\t\\t\\t<xsl:value-of select=\\\".\\\"/>\\r\\n\\t\\t\\t</xsl:if>\\r\\n\\t\\t</xsl:for-each>\\r\\n    <xsl:text> atom types&#xa;</xsl:text>\\r\\n\\r\\n    <!-- Box dimensions -->\\r\\n    <xsl:value-of select=\\\"format-number(box/origin/value[1], '##0.0000000000000')\\\"/>\\r\\n    <xsl:text> </xsl:text>\\r\\n    <xsl:value-of select=\\\"format-number(box/origin/value[1] + box/avect/value[1], '##0.0000000000000')\\\"/>\\r\\n    <xsl:text> xlo xhi&#xa;</xsl:text>\\r\\n\\r\\n    <xsl:value-of select=\\\"format-number(box/origin/value[2], '##0.0000000000000')\\\"/>\\r\\n    <xsl:text> </xsl:text>\\r\\n    <xsl:value-of select=\\\"format-number(box/origin/value[2] + box/bvect/value[2], '##0.0000000000000')\\\"/>\\r\\n    <xsl:text> ylo yhi&#xa;</xsl:text>\\r\\n\\r\\n    <xsl:value-of select=\\\"format-number(box/origin/value[3], '##0.0000000000000')\\\"/>\\r\\n    <xsl:text> </xsl:text>\\r\\n    <xsl:value-of select=\\\"format-number(box/origin/value[3] + box/cvect/value[3], '##0.0000000000000')\\\"/>\\r\\n    <xsl:text> zlo zhi&#xa;</xsl:text>\\r\\n\\r\\n    <xsl:if test=\\\"box/bvect/value[1]!=0 or box/cvect/value[1]!=0 or box/cvect/value[2]!=0\\\">\\r\\n      <xsl:value-of select=\\\"format-number(box/bvect/value[1], '##0.0000000000000')\\\"/>\\r\\n      <xsl:text> </xsl:text>\\r\\n      <xsl:value-of select=\\\"format-number(box/cvect/value[1], '##0.0000000000000')\\\"/>\\r\\n      <xsl:text> </xsl:text>\\r\\n      <xsl:value-of select=\\\"format-number(box/cvect/value[2], '##0.0000000000000')\\\"/>\\r\\n      <xsl:text> xy xz yz&#xa;</xsl:text>\\r\\n    </xsl:if>\\r\\n\\r\\n    <!-- Atomic values -->\\r\\n    <xsl:text>&#xa;Atoms # atomic&#xa;&#xa;</xsl:text>\\r\\n    <xsl:for-each select=\\\"atoms/property[name='atype']/data/value\\\">\\r\\n      <xsl:variable name=\\\"row\\\" select=\\\"position()\\\"/>\\r\\n      <xsl:value-of select=\\\"$row\\\"/>\\r\\n      <xsl:text> </xsl:text>\\r\\n      <xsl:value-of select=\\\".\\\"/>\\r\\n      <xsl:text> </xsl:text>\\r\\n      <xsl:value-of select=\\\"format-number(../../../property[name='pos']/data/value[($row - 1) * 3 + 1], '##0.0000000000000')\\\"/>\\r\\n      <xsl:text> </xsl:text>\\r\\n      <xsl:value-of select=\\\"format-number(../../../property[name='pos']/data/value[($row - 1) * 3 + 2], '##0.0000000000000')\\\"/>\\r\\n      <xsl:text> </xsl:text>\\r\\n      <xsl:value-of select=\\\"format-number(../../../property[name='pos']/data/value[($row - 1) * 3 + 3], '##0.0000000000000')\\\"/>\\r\\n      <xsl:text>&#xa;</xsl:text>\\r\\n      \\r\\n    \\r\\n    </xsl:for-each>\\r\\n\\r\\n  </xsl:template>\\r\\n</xsl:stylesheet>\",\"_cls\":\"XslTransformation\"},{\"id\":\"601af1ab26ed1e003dcff505\",\"name\":\"atom.xsl\",\"filename\":\"atom.xsl\",\"content\":\"<?xml version=\\\"1.0\\\" encoding=\\\"UTF-8\\\"?>\\n<xsl:stylesheet xmlns:xsl=\\\"http://www.w3.org/1999/XSL/Transform\\\"\\n    xmlns:xs=\\\"http://www.w3.org/2001/XMLSchema\\\" exclude-result-prefixes=\\\"xs\\\" version=\\\"1.0\\\">\\n\\n    <xsl:template match=\\\"*\\\"> \\n      \\n        <br> </br>\\n        <b> Download File: </b>\\n        <xsl:value-of select=\\\"pid\\\"/>\\n        <br> </br>\\n        <b> Link: </b>\\n        <xsl:value-of select=\\\"file\\\"/> \\n        <br/>\\n            \\n        </xsl:template>\\n\\n</xsl:stylesheet>\",\"_cls\":\"XslTransformation\"},{\"id\":\"60f5d5b4f5e3c9d399747a74\",\"name\":\"Action\",\"filename\":\"Action.xsl\",\"content\":\"<?xml version=\\\"1.0\\\" encoding=\\\"UTF-8\\\"?>\\r\\n<xsl:stylesheet version=\\\"1.0\\\" \\r\\n  xmlns:xsl=\\\"http://www.w3.org/1999/XSL/Transform\\\" \\r\\n  xmlns=\\\"http://www.w3.org/TR/xhtml1/strict\\\">\\r\\n  <xsl:output method=\\\"html\\\" encoding=\\\"utf-8\\\" indent=\\\"yes\\\" />\\r\\n  \\r\\n  <xsl:template match=\\\"action\\\">\\r\\n    <div>\\r\\n      <b>\\r\\n        <xsl:value-of select=\\\"type\\\"/>\\r\\n        <xsl:text> </xsl:text>\\r\\n      \\r\\n      <xsl:text>(</xsl:text>\\r\\n      <xsl:value-of select=\\\"date\\\"/>\\r\\n      <xsl:text>): </xsl:text>\\r\\n      </b>\\r\\n\\r\\n      <xsl:value-of select=\\\"comment\\\" disable-output-escaping=\\\"yes\\\"/>\\r\\n      <xsl:text> </xsl:text>\\r\\n      <xsl:if test=\\\"potential\\\">\\r\\n        <ul>\\r\\n        <xsl:for-each select=\\\"potential\\\">\\r\\n          <li><a href='https://www.ctcms.nist.gov/potentials/entry/{id}'><xsl:value-of select=\\\"id\\\"/></a></li>\\r\\n        </xsl:for-each>\\r\\n        </ul>\\r\\n      </xsl:if>\\r\\n    </div>\\r\\n  </xsl:template>\\r\\n</xsl:stylesheet>\",\"_cls\":\"XslTransformation\"},{\"id\":\"60f6d722c1273bd2b3748900\",\"name\":\"Potential\",\"filename\":\"Potential.xsl\",\"content\":\"<?xml version=\\\"1.0\\\" encoding=\\\"UTF-8\\\"?>\\r\\n<xsl:stylesheet version=\\\"1.0\\\" \\r\\n  xmlns:xsl=\\\"http://www.w3.org/1999/XSL/Transform\\\" \\r\\n  xmlns=\\\"http://www.w3.org/TR/xhtml1/strict\\\">\\r\\n  <xsl:output method=\\\"html\\\" encoding=\\\"utf-8\\\" indent=\\\"yes\\\" />\\r\\n  \\r\\n  <xsl:template match=\\\"*\\\" name=\\\"citation\\\">\\r\\n    \\r\\n    <!-- choose what to display based on document type -->\\r\\n    <xsl:choose>\\r\\n    \\r\\n      <!-- if document type is journal show author,year,title,publication,volume,issue,doi -->\\r\\n      <xsl:when test = \\\"document-type = 'journal'\\\">\\r\\n        <xsl:if test = \\\"author\\\">\\r\\n                      \\r\\n          <!-- Authors -->\\r\\n          <xsl:for-each select=\\\"author\\\">\\r\\n            <xsl:value-of select=\\\"given-name\\\"/>\\r\\n            <xsl:text> </xsl:text>\\r\\n            <xsl:value-of select=\\\"surname\\\"/>\\r\\n            <!-- add commas to all but last person -->\\r\\n            <xsl:if test=\\\"position() &lt; last()-1\\\">\\r\\n              <xsl:text>, </xsl:text>\\r\\n            </xsl:if>\\r\\n            <!-- add 'and' to last person -->\\r\\n            <xsl:if test=\\\"position()=last()-1\\\">\\r\\n              <xsl:text>, and </xsl:text>\\r\\n            </xsl:if>\\r\\n          </xsl:for-each>\\r\\n\\r\\n          <!-- (YEAR), \\\"Title\\\", <i>Publication</i>, <b>V(I)</b>, -->\\r\\n          <xsl:text> (</xsl:text><xsl:value-of select=\\\"publication-date/year\\\"/><xsl:text>), </xsl:text>\\r\\n          <xsl:text>\\\"</xsl:text><xsl:value-of select=\\\"title\\\" disable-output-escaping=\\\"yes\\\"/><xsl:text>\\\", </xsl:text>\\r\\n          <xsl:if test=\\\"publication-name\\\">\\r\\n            <i><xsl:value-of select=\\\"publication-name\\\"/></i><xsl:text>, </xsl:text>\\r\\n          </xsl:if> \\r\\n          <xsl:if test=\\\"volume\\\">\\r\\n            <b>\\r\\n              <xsl:value-of select=\\\"volume\\\"/>\\r\\n              <xsl:if test = \\\"issue\\\">\\r\\n                <xsl:text>(</xsl:text><xsl:value-of select=\\\"issue\\\"/><xsl:text>)</xsl:text>\\r\\n              </xsl:if>\\r\\n            </b>\\r\\n            <xsl:text>, </xsl:text>\\r\\n          </xsl:if>\\r\\n          <xsl:value-of select=\\\"pages\\\"/><xsl:text>. </xsl:text>\\r\\n\\r\\n          <!-- DOI -->\\r\\n          <xsl:text>DOI: </xsl:text>\\r\\n          <a href=\\\"https://doi.org/{DOI}\\\" class=\\\"external\\\"><xsl:value-of select=\\\"DOI\\\"/></a>\\r\\n          <xsl:text>.</xsl:text>\\r\\n          <br/>\\r\\n        </xsl:if>\\r\\n      </xsl:when>\\r\\n      \\r\\n      <!-- if document type is journal show author,year,title -->\\r\\n      <xsl:when test = \\\"document-type = 'unspecified'\\\">\\r\\n        <xsl:if test = \\\"author\\\">\\r\\n                      \\r\\n          <!-- Authors -->\\r\\n          <xsl:for-each select=\\\"author\\\">\\r\\n            <xsl:value-of select=\\\"given-name\\\"/>\\r\\n            <xsl:text> </xsl:text>\\r\\n            <xsl:value-of select=\\\"surname\\\"/>\\r\\n            <!-- add commas to all but last person -->\\r\\n            <xsl:if test=\\\"position() &lt; last()-1\\\">\\r\\n              <xsl:text>, </xsl:text>\\r\\n            </xsl:if>\\r\\n            <!-- add 'and' to last person -->\\r\\n            <xsl:if test=\\\"position()=last()-1\\\">\\r\\n              <xsl:text>, and </xsl:text>\\r\\n            </xsl:if>\\r\\n          </xsl:for-each>\\r\\n\\r\\n          <!-- (YEAR) \\\"Title\\\". -->\\r\\n          <xsl:text> (</xsl:text><xsl:value-of select=\\\"publication-date/year\\\"/><xsl:text>), </xsl:text>\\r\\n          <xsl:text>\\\"</xsl:text><xsl:value-of select=\\\"title\\\" disable-output-escaping=\\\"yes\\\"/><xsl:text>\\\".</xsl:text>\\r\\n        </xsl:if>\\r\\n      </xsl:when>\\r\\n\\r\\n    </xsl:choose>\\r\\n  </xsl:template>\\r\\n  \\r\\n  <xsl:template match=\\\"/interatomic-potential\\\">\\r\\n    <xsl:variable name=\\\"entryid\\\" select=\\\"id\\\" />\\r\\n    <div>\\r\\n\\r\\n      <!-- Show old implementation files buttons -->\\r\\n      <script src=\\\"https://www.ctcms.nist.gov/potentials/site/showFiles.js\\\">//</script>\\r\\n\\r\\n      <div class=\\\"panel panel-default\\\">\\r\\n        <div class=\\\"panel-heading\\\">\\r\\n          <h3 class=\\\"panel-title\\\"><xsl:value-of select=\\\"$entryid\\\"/></h3>\\r\\n        </div>\\r\\n        <div class=\\\"panel-body\\\">\\r\\n          <!-- Add citations and abstracts -->\\r\\n          <xsl:for-each select=\\\"description/citation\\\">\\r\\n            <div class=\\\"citation\\\">\\r\\n              <b><xsl:text>Citation: </xsl:text></b><xsl:call-template name=\\\"citation\\\" disable-output-escaping=\\\"yes\\\"/>\\r\\n            </div>\\r\\n            <xsl:if test = \\\"abstract\\\">\\r\\n              <div class=\\\"abstract\\\">\\r\\n                <b><xsl:text>Abstract: </xsl:text></b><xsl:value-of select=\\\"abstract\\\" disable-output-escaping=\\\"yes\\\"/>\\r\\n              </div>\\r\\n            </xsl:if>\\r\\n          </xsl:for-each>\\r\\n\\r\\n          <!-- Add description notes -->\\r\\n          <xsl:if test = \\\"description/notes/text\\\">\\r\\n            <br/>\\r\\n            <div class=\\\"description-notes\\\">\\r\\n              <b><xsl:text>Notes: </xsl:text></b><xsl:value-of select=\\\"description/notes/text\\\" disable-output-escaping=\\\"yes\\\"/>\\r\\n            </div>\\r\\n          </xsl:if>\\r\\n          <br/>\\r\\n          \\r\\n          <!-- Add implementations -->\\r\\n          <xsl:for-each select=\\\"implementation\\\">\\r\\n            \\r\\n            <!-- Show content type (and id)-->\\r\\n            <div class=\\\"format\\\">\\r\\n              <b><xsl:value-of select=\\\"type\\\"/></b>\\r\\n              <xsl:if test=\\\"id\\\">\\r\\n                <a>\\r\\n                  <xsl:attribute name=\\\"href\\\">\\r\\n                    <xsl:text>https://www.ctcms.nist.gov/potentials/entry/</xsl:text><xsl:value-of select=\\\"$entryid\\\"/><xsl:text>/</xsl:text><xsl:value-of select=\\\"id\\\"/><xsl:text>.html</xsl:text>\\r\\n                  </xsl:attribute>\\r\\n                  <xsl:text> (</xsl:text><xsl:value-of select=\\\"id\\\"></xsl:value-of><xsl:text>)</xsl:text>\\r\\n                </a>\\r\\n              </xsl:if>\\r\\n            </div>\\r\\n            \\r\\n            <!-- Show implementation notes -->\\r\\n            <div class=\\\"implementation-notes\\\">\\r\\n              <xsl:if test=\\\"id\\\">\\r\\n                <a>\\r\\n                  <xsl:attribute name=\\\"href\\\">\\r\\n                    <xsl:text>https://www.ctcms.nist.gov/potentials/entry/</xsl:text><xsl:value-of select=\\\"$entryid\\\"/><xsl:text>/</xsl:text><xsl:value-of select=\\\"id\\\"/><xsl:text>.html</xsl:text>\\r\\n                  </xsl:attribute>\\r\\n                  <b><xsl:text>See Computed Properties</xsl:text></b>\\r\\n                </a>\\r\\n                <br/>\\r\\n              </xsl:if>\\r\\n              <b><xsl:text>Notes: </xsl:text></b>\\r\\n              <xsl:value-of select = \\\"notes/text\\\" disable-output-escaping=\\\"yes\\\"/>\\r\\n              <br/>\\r\\n              \\r\\n              <!-- Content choice -->\\r\\n              <xsl:choose>\\r\\n                \\r\\n                <!-- List artifact files -->\\r\\n                <xsl:when test=\\\"artifact\\\">\\r\\n                  <b>\\r\\n                    <xsl:text>File(s): </xsl:text>\\r\\n                    <xsl:if test=\\\"status != 'active'\\\">\\r\\n                      <xsl:value-of select=\\\"status\\\"/>\\r\\n                    </xsl:if>\\r\\n                  </b>\\r\\n                  <div id=\\\"{key}\\\">\\r\\n                    <!-- Show or hide div based on status -->\\r\\n                    <xsl:choose>\\r\\n                      <xsl:when test=\\\"status != 'active'\\\">\\r\\n                        <xsl:attribute name=\\\"style\\\">display:none</xsl:attribute>\\r\\n                      </xsl:when>\\r\\n                      <xsl:otherwise>\\r\\n                        <xsl:attribute name=\\\"style\\\">display:block</xsl:attribute>\\r\\n                      </xsl:otherwise>\\r\\n                    </xsl:choose>\\r\\n\\r\\n                    <xsl:for-each select = \\\"artifact\\\">\\r\\n                      <xsl:if test=\\\"web-link/label\\\">\\r\\n                        <xsl:value-of select=\\\"web-link/label\\\" disable-output-escaping=\\\"yes\\\"/><xsl:text> </xsl:text>\\r\\n                      </xsl:if>\\r\\n                      <a href = \\\"{web-link/URL}\\\">\\r\\n                        <xsl:value-of select=\\\"web-link/link-text\\\"/>\\r\\n                      </a>\\r\\n                      <br/>\\r\\n                    </xsl:for-each>\\r\\n                  </div><br/>\\r\\n                </xsl:when>\\r\\n                \\r\\n                <!-- List web links -->\\r\\n                <xsl:when test=\\\"link\\\">\\r\\n                  <b>\\r\\n                    <xsl:text>Link(s): </xsl:text>\\r\\n                    <xsl:if test=\\\"status != 'active'\\\">\\r\\n                      <xsl:value-of select=\\\"status\\\"/>\\r\\n                    </xsl:if>\\r\\n                  </b>\\r\\n                  <div id=\\\"{key}\\\">\\r\\n                    <!-- Show or hide div based on status -->\\r\\n                    <xsl:choose>\\r\\n                      <xsl:when test=\\\"status != 'active'\\\">\\r\\n                        <xsl:attribute name=\\\"style\\\">display:none</xsl:attribute>\\r\\n                      </xsl:when>\\r\\n                      <xsl:otherwise>\\r\\n                        <xsl:attribute name=\\\"style\\\">display:block</xsl:attribute>\\r\\n                      </xsl:otherwise>\\r\\n                    </xsl:choose>\\r\\n\\r\\n                    <xsl:for-each select = \\\"link\\\">\\r\\n                      <xsl:if test=\\\"web-link/label\\\">\\r\\n                        <xsl:value-of select=\\\"web-link/label\\\" disable-output-escaping=\\\"yes\\\"/><xsl:text> </xsl:text>\\r\\n                      </xsl:if>\\r\\n                      <a href = \\\"{web-link/URL}\\\">\\r\\n                        <xsl:value-of select=\\\"web-link/link-text\\\"/>\\r\\n                      </a>\\r\\n                      <br/>\\r\\n                    </xsl:for-each>\\r\\n                  </div><br/>\\r\\n                </xsl:when>\\r\\n                \\r\\n              \\r\\n                <!-- List parameters -->\\r\\n                <xsl:when test=\\\"parameter\\\">\\r\\n                  <b>\\r\\n                    <xsl:text>Parameters: </xsl:text>\\r\\n                    <xsl:if test=\\\"status != 'active'\\\">\\r\\n                      <xsl:value-of select = \\\"status\\\"/>\\r\\n                    </xsl:if>\\r\\n                  </b>\\r\\n                  <div id=\\\"{key}\\\">\\r\\n                    <!-- Show or hide div based on status -->\\r\\n                    <xsl:choose>\\r\\n                      <xsl:when test=\\\"status != 'active'\\\">\\r\\n                        <xsl:attribute name=\\\"style\\\">display:none</xsl:attribute>\\r\\n                      </xsl:when>\\r\\n                      <xsl:otherwise>\\r\\n                        <xsl:attribute name=\\\"style\\\">display:block</xsl:attribute>\\r\\n                      </xsl:otherwise>\\r\\n                    </xsl:choose>\\r\\n\\r\\n                    <xsl:for-each select = \\\"parameter\\\">\\r\\n                      <xsl:value-of select=\\\"name\\\"/><br/>\\r\\n                    </xsl:for-each>\\r\\n                  </div><br/>\\r\\n                </xsl:when>\\r\\n\\r\\n                <!-- Otherwise, do nothing-->\\r\\n                <xsl:otherwise></xsl:otherwise>\\r\\n              </xsl:choose>\\r\\n            \\r\\n              <!-- Add button if status not active -->\\r\\n              <xsl:if test=\\\"status != 'active'\\\">\\r\\n                <div id=\\\"button-{key}\\\" style= \\\"display:block\\\">\\r\\n                  <input type=\\\"button\\\" value=\\\"Click to show\\\" onclick=\\\"showFiles('{key}','button-{key}')\\\"/>\\r\\n                  <br/>\\r\\n                  <br/>\\r\\n                </div>\\r\\n              </xsl:if>\\r\\n            \\r\\n            </div>\\r\\n          </xsl:for-each>\\r\\n        </div>\\r\\n      </div>\\r\\n    </div>\\r\\n  </xsl:template>\\r\\n</xsl:stylesheet>\",\"_cls\":\"XslTransformation\"}]\n"
     ]
    }
   ],
   "source": [
    "response = curator.get('/rest/xslt')\n",
    "print(response.status_code)\n",
    "print(response.text)"
   ]
  },
  {
   "cell_type": "markdown",
   "metadata": {},
   "source": [
    "data, params, etc can all still be passed in as well"
   ]
  },
  {
   "cell_type": "code",
   "execution_count": 4,
   "metadata": {},
   "outputs": [
    {
     "name": "stdout",
     "output_type": "stream",
     "text": [
      "200\n",
      "[]\n"
     ]
    }
   ],
   "source": [
    "params = {'title':'testing'}\n",
    "response = curator.get('/rest/data', params=params)\n",
    "print(response.status_code)\n",
    "print(response.text)"
   ]
  },
  {
   "cell_type": "code",
   "execution_count": 5,
   "metadata": {},
   "outputs": [
    {
     "name": "stdout",
     "output_type": "stream",
     "text": [
      "200\n",
      "[]\n"
     ]
    }
   ],
   "source": [
    "params = {'title':'testing2'}\n",
    "response = curator.get('/rest/data', params=params)\n",
    "print(response.status_code)\n",
    "print(response.text)"
   ]
  },
  {
   "cell_type": "markdown",
   "metadata": {},
   "source": [
    "Bad calls will display the returned json/text as well as the error raised."
   ]
  },
  {
   "cell_type": "code",
   "execution_count": 6,
   "metadata": {},
   "outputs": [
    {
     "name": "stdout",
     "output_type": "stream",
     "text": [
      "<h1>Not Found</h1><p>The requested resource was not found on this server.</p>\n"
     ]
    },
    {
     "ename": "HTTPError",
     "evalue": "404 Client Error: Not Found for url: https://potentials.nist.gov/rest/datum?title=testing2",
     "output_type": "error",
     "traceback": [
      "\u001b[1;31m---------------------------------------------------------------------------\u001b[0m",
      "\u001b[1;31mHTTPError\u001b[0m                                 Traceback (most recent call last)",
      "\u001b[1;32m<ipython-input-6-f994560e7e52>\u001b[0m in \u001b[0;36m<module>\u001b[1;34m\u001b[0m\n\u001b[0;32m      2\u001b[0m \u001b[1;33m\u001b[0m\u001b[0m\n\u001b[0;32m      3\u001b[0m \u001b[0mparams\u001b[0m \u001b[1;33m=\u001b[0m \u001b[1;33m{\u001b[0m\u001b[1;34m'title'\u001b[0m\u001b[1;33m:\u001b[0m\u001b[1;34m'testing2'\u001b[0m\u001b[1;33m}\u001b[0m\u001b[1;33m\u001b[0m\u001b[1;33m\u001b[0m\u001b[0m\n\u001b[1;32m----> 4\u001b[1;33m \u001b[0mresponse\u001b[0m \u001b[1;33m=\u001b[0m \u001b[0mcurator\u001b[0m\u001b[1;33m.\u001b[0m\u001b[0mget\u001b[0m\u001b[1;33m(\u001b[0m\u001b[1;34m'/rest/datum'\u001b[0m\u001b[1;33m,\u001b[0m \u001b[0mparams\u001b[0m\u001b[1;33m=\u001b[0m\u001b[0mparams\u001b[0m\u001b[1;33m)\u001b[0m\u001b[1;33m\u001b[0m\u001b[1;33m\u001b[0m\u001b[0m\n\u001b[0m\u001b[0;32m      5\u001b[0m \u001b[0mprint\u001b[0m\u001b[1;33m(\u001b[0m\u001b[0mresponse\u001b[0m\u001b[1;33m.\u001b[0m\u001b[0mstatus_code\u001b[0m\u001b[1;33m)\u001b[0m\u001b[1;33m\u001b[0m\u001b[1;33m\u001b[0m\u001b[0m\n\u001b[0;32m      6\u001b[0m \u001b[0mprint\u001b[0m\u001b[1;33m(\u001b[0m\u001b[0mresponse\u001b[0m\u001b[1;33m.\u001b[0m\u001b[0mtext\u001b[0m\u001b[1;33m)\u001b[0m\u001b[1;33m\u001b[0m\u001b[1;33m\u001b[0m\u001b[0m\n",
      "\u001b[1;32mE:\\Python-packages\\pycdcs\\cdcs\\RestClient.py\u001b[0m in \u001b[0;36mget\u001b[1;34m(self, rest_url, **kwargs)\u001b[0m\n\u001b[0;32m    234\u001b[0m             \u001b[0mAny\u001b[0m \u001b[0mrequests\u001b[0m \u001b[0merrors\u001b[0m \u001b[1;32mif\u001b[0m \u001b[0mthe\u001b[0m \u001b[0mresponse\u001b[0m \u001b[0mcode\u001b[0m \u001b[1;32mis\u001b[0m \u001b[1;32mnot\u001b[0m \u001b[0mok\u001b[0m\u001b[1;33m.\u001b[0m\u001b[1;33m\u001b[0m\u001b[1;33m\u001b[0m\u001b[0m\n\u001b[0;32m    235\u001b[0m         \"\"\"\n\u001b[1;32m--> 236\u001b[1;33m         \u001b[1;32mreturn\u001b[0m \u001b[0mself\u001b[0m\u001b[1;33m.\u001b[0m\u001b[0mrequest\u001b[0m\u001b[1;33m(\u001b[0m\u001b[1;34m'get'\u001b[0m\u001b[1;33m,\u001b[0m \u001b[0mrest_url\u001b[0m\u001b[1;33m,\u001b[0m \u001b[1;33m**\u001b[0m\u001b[0mkwargs\u001b[0m\u001b[1;33m)\u001b[0m\u001b[1;33m\u001b[0m\u001b[1;33m\u001b[0m\u001b[0m\n\u001b[0m\u001b[0;32m    237\u001b[0m \u001b[1;33m\u001b[0m\u001b[0m\n\u001b[0;32m    238\u001b[0m     \u001b[1;32mdef\u001b[0m \u001b[0mpost\u001b[0m\u001b[1;33m(\u001b[0m\u001b[0mself\u001b[0m\u001b[1;33m,\u001b[0m \u001b[0mrest_url\u001b[0m\u001b[1;33m,\u001b[0m \u001b[0mdata\u001b[0m\u001b[1;33m=\u001b[0m\u001b[1;32mNone\u001b[0m\u001b[1;33m,\u001b[0m \u001b[1;33m**\u001b[0m\u001b[0mkwargs\u001b[0m\u001b[1;33m)\u001b[0m\u001b[1;33m:\u001b[0m\u001b[1;33m\u001b[0m\u001b[1;33m\u001b[0m\u001b[0m\n",
      "\u001b[1;32mE:\\Python-packages\\pycdcs\\cdcs\\RestClient.py\u001b[0m in \u001b[0;36mrequest\u001b[1;34m(self, method, rest_url, **kwargs)\u001b[0m\n\u001b[0;32m    190\u001b[0m             \u001b[1;32mexcept\u001b[0m\u001b[1;33m:\u001b[0m\u001b[1;33m\u001b[0m\u001b[1;33m\u001b[0m\u001b[0m\n\u001b[0;32m    191\u001b[0m                 \u001b[0mprint\u001b[0m\u001b[1;33m(\u001b[0m\u001b[0mresponse\u001b[0m\u001b[1;33m.\u001b[0m\u001b[0mtext\u001b[0m\u001b[1;33m)\u001b[0m\u001b[1;33m\u001b[0m\u001b[1;33m\u001b[0m\u001b[0m\n\u001b[1;32m--> 192\u001b[1;33m             \u001b[0mresponse\u001b[0m\u001b[1;33m.\u001b[0m\u001b[0mraise_for_status\u001b[0m\u001b[1;33m(\u001b[0m\u001b[1;33m)\u001b[0m\u001b[1;33m\u001b[0m\u001b[1;33m\u001b[0m\u001b[0m\n\u001b[0m\u001b[0;32m    193\u001b[0m \u001b[1;33m\u001b[0m\u001b[0m\n\u001b[0;32m    194\u001b[0m         \u001b[1;32mreturn\u001b[0m \u001b[0mresponse\u001b[0m\u001b[1;33m\u001b[0m\u001b[1;33m\u001b[0m\u001b[0m\n",
      "\u001b[1;32m~\\AppData\\Local\\Continuum\\anaconda3\\lib\\site-packages\\requests\\models.py\u001b[0m in \u001b[0;36mraise_for_status\u001b[1;34m(self)\u001b[0m\n\u001b[0;32m    941\u001b[0m \u001b[1;33m\u001b[0m\u001b[0m\n\u001b[0;32m    942\u001b[0m         \u001b[1;32mif\u001b[0m \u001b[0mhttp_error_msg\u001b[0m\u001b[1;33m:\u001b[0m\u001b[1;33m\u001b[0m\u001b[1;33m\u001b[0m\u001b[0m\n\u001b[1;32m--> 943\u001b[1;33m             \u001b[1;32mraise\u001b[0m \u001b[0mHTTPError\u001b[0m\u001b[1;33m(\u001b[0m\u001b[0mhttp_error_msg\u001b[0m\u001b[1;33m,\u001b[0m \u001b[0mresponse\u001b[0m\u001b[1;33m=\u001b[0m\u001b[0mself\u001b[0m\u001b[1;33m)\u001b[0m\u001b[1;33m\u001b[0m\u001b[1;33m\u001b[0m\u001b[0m\n\u001b[0m\u001b[0;32m    944\u001b[0m \u001b[1;33m\u001b[0m\u001b[0m\n\u001b[0;32m    945\u001b[0m     \u001b[1;32mdef\u001b[0m \u001b[0mclose\u001b[0m\u001b[1;33m(\u001b[0m\u001b[0mself\u001b[0m\u001b[1;33m)\u001b[0m\u001b[1;33m:\u001b[0m\u001b[1;33m\u001b[0m\u001b[1;33m\u001b[0m\u001b[0m\n",
      "\u001b[1;31mHTTPError\u001b[0m: 404 Client Error: Not Found for url: https://potentials.nist.gov/rest/datum?title=testing2"
     ]
    }
   ],
   "source": [
    "# Show that bad call automatically issues message and error\n",
    "\n",
    "params = {'title':'testing2'}\n",
    "response = curator.get('/rest/datum', params=params)\n",
    "print(response.status_code)\n",
    "print(response.text)"
   ]
  }
 ],
 "metadata": {
  "kernelspec": {
   "display_name": "Python 3",
   "language": "python",
   "name": "python3"
  },
  "language_info": {
   "codemirror_mode": {
    "name": "ipython",
    "version": 3
   },
   "file_extension": ".py",
   "mimetype": "text/x-python",
   "name": "python",
   "nbconvert_exporter": "python",
   "pygments_lexer": "ipython3",
   "version": "3.7.3"
  }
 },
 "nbformat": 4,
 "nbformat_minor": 4
}
