{
 "cells": [
  {
   "cell_type": "markdown",
   "metadata": {},
   "source": [
    "# CDCS Rest Builder\n",
    "\n",
    "The CDCS class has built-in functions wrapping around the python requests.request methods that automatically handle host and authentication parameters.  This makes it possible to build your own methods for REST actions that do not currently have custom methods in the CDCS class yet\n",
    "\n",
    "__NOTE__: If you do find a specific REST action of importance that is not in cdcs.CDCS yet, please submit an issue or pull request on github: https://github.com/usnistgov/pycdcs.  That way, a new method can be added making it easier for others to use."
   ]
  },
  {
   "cell_type": "code",
   "execution_count": 1,
   "metadata": {},
   "outputs": [
    {
     "name": "stdout",
     "output_type": "stream",
     "text": [
      "Notebook executed for cdcs version 0.2.3\n"
     ]
    }
   ],
   "source": [
    "import cdcs\n",
    "from cdcs import CDCS\n",
    "\n",
    "print('Notebook executed for cdcs version', cdcs.__version__)"
   ]
  },
  {
   "cell_type": "markdown",
   "metadata": {},
   "source": [
    "The host URL and all login access parameters (username, password, authentication, etc.) are defined when creating a CDCS object.  Setting username as an empty string will access the site as an anonymous user, i.e. someone not signed in."
   ]
  },
  {
   "cell_type": "code",
   "execution_count": 2,
   "metadata": {},
   "outputs": [],
   "source": [
    "curator = CDCS('https://potentials.nist.gov/', username='')"
   ]
  },
  {
   "cell_type": "markdown",
   "metadata": {},
   "source": [
    "REST calls can be made using the head, get, post, put, patch, and delete methods of the CDCS object.  Each method is named for the type of HTTP request to perform.  \n",
    "\n",
    "Only the relative REST URL and any params and/or data associated with the request need to be given.  The host's URL will automatically be appended as a prefix to the REST URL, and the access parameters given when initializing the CDCS object will automatically be sent for each REST call. "
   ]
  },
  {
   "cell_type": "code",
   "execution_count": 3,
   "metadata": {},
   "outputs": [],
   "source": [
    "# REST URL to perform a keyword query.\n",
    "rest_url = '/rest/data/query/keyword/'\n",
    "\n",
    "# Optionally define a data dict for the REST call\n",
    "data = {}\n",
    "data['query'] = 'Gold'\n",
    "\n",
    "# Optionally define a params dict for the REST call\n",
    "params = {}\n",
    "params['page'] = 2\n",
    "\n",
    "# Submit the REST call as a post\n",
    "response = curator.post(rest_url, params=params, data=data)"
   ]
  },
  {
   "cell_type": "markdown",
   "metadata": {},
   "source": [
    "The REST call returns a requests.Response object allowing for checks of the status code as well as automatically transforming the data to str, bytes, or json contents. "
   ]
  },
  {
   "cell_type": "code",
   "execution_count": 4,
   "metadata": {},
   "outputs": [
    {
     "name": "stdout",
     "output_type": "stream",
     "text": [
      "200\n"
     ]
    },
    {
     "data": {
      "text/plain": [
       "{'count': 20,\n",
       " 'next': None,\n",
       " 'previous': 'https://potentials.nist.gov/rest/data/query/keyword/',\n",
       " 'results': [{'id': 627391,\n",
       "   'template': 21,\n",
       "   'workspace': 1,\n",
       "   'user_id': '2',\n",
       "   'title': 'potential.2022--Alvi-S-M-A-A-Faiyad-A-Munshi-M-A-M-et-al--Au',\n",
       "   'creation_date': '2022-05-09T13:56:14.881000-04:00',\n",
       "   'last_modification_date': '2022-07-22T18:16:55.303000-04:00',\n",
       "   'last_change_date': '2022-07-22T18:16:55.794000-04:00',\n",
       "   'xml_content': '<?xml version=\"1.0\" encoding=\"utf-8\"?>\\n<interatomic-potential><key>b93371f4-c3fa-4649-964d-7a4a15f22e67</key><id>2022--Alvi-S-M-A-A-Faiyad-A-Munshi-M-A-M-et-al--Au</id><URL>https://potentials.nist.gov/pid/rest/local/potentials/potential.2022--Alvi-S-M-A-A-Faiyad-A-Munshi-M-A-M-et-al--Au</URL><record-version>2022-05-09</record-version><description><citation><document-type>journal</document-type><title>Cyclic and tensile deformations of Gold–Silver core shell systems using newly parameterized MEAM potential</title><author><given-name>S.M.A.A.</given-name><surname>Alvi</surname></author><author><given-name>A.</given-name><surname>Faiyad</surname></author><author><given-name>M.A.M.</given-name><surname>Munshi</surname></author><author><given-name>M.</given-name><surname>Motalab</surname></author><author><given-name>M.M.</given-name><surname>Islam</surname></author><author><given-name>S.</given-name><surname>Saha</surname></author><publication-name>Mechanics of Materials</publication-name><publication-date><year>2022</year></publication-date><volume>169</volume><abstract>Gold–Silver (Au-Ag) core-shell nanostructures have significant applicability in stretchable and biocompatible electronics where endurance under high tensile and cyclic loading is a requirement. This work, for the first time, quantitatively investigates the role of dislocations and defect interaction governing the mechanical behavior of Au-Ag and Ag-Au Core-shell nanostructures under tensile and cyclic loading using molecular dynamics (MD) simulation. For accurate representation of the underlying physics, a novel modified embedded atomic model (MEAM) interatomic potential for pristine Au, Ag and their alloys is parameterized through two different density functional theory (DFT) schemes. Using the new potential for MD simulations, the cyclic loading properties of pristine and core-shell nanowires (NWs) in a strain range of -15%-15% for 10 cycles are conducted. The tensile behavior of pristine and core-shell NWs is also explored for temperatures between 300 K and 600 K. A comparative analysis between Core-shell structures and their pristine counterparts are carried out. Our results suggest that Ag-Au Core-shell NW exhibit superior stress-strain reversibility under cyclic loading among the structures examined. Ag-Au exhibit the highest dislocation formation and near-complete annihilation of defects consistently. Au-Ag also present improved cyclic loading properties than its pristine counterparts. For tensile loading, all four structures exhibited deterioration in strength with increasing temperature. Thermal softening is observed to be more prominent in Au-Ag core-shell NWs compared to Ag-Au. Our work lays out a foundation for exploration of mechanical properties of Au-Ag systems using the MEAM potential which will help design components for stretchable electronics and creates a pathway for further exploration of similar binary alloy systems.</abstract><pages>104304</pages><DOI>10.1016/j.mechmat.2022.104304</DOI><bibtex>@article{Alvi_2022,\\\\n abstract = {Gold–Silver (Au-Ag) core-shell nanostructures have significant applicability in stretchable and biocompatible electronics where endurance under high tensile and cyclic loading is a requirement. This work, for the first time, quantitatively investigates the role of dislocations and defect interaction governing the mechanical behavior of Au-Ag and Ag-Au Core-shell nanostructures under tensile and cyclic loading using molecular dynamics (MD) simulation. For accurate representation of the underlying physics, a novel modified embedded atomic model (MEAM) interatomic potential for pristine Au, Ag and their alloys is parameterized through two different density functional theory (DFT) schemes. Using the new potential for MD simulations, the cyclic loading properties of pristine and core-shell nanowires (NWs) in a strain range of -15%-15% for 10 cycles are conducted. The tensile behavior of pristine and core-shell NWs is also explored for temperatures between 300 K and 600 K. A comparative analysis between Core-shell structures and their pristine counterparts are carried out. Our results suggest that Ag-Au Core-shell NW exhibit superior stress-strain reversibility under cyclic loading among the structures examined. Ag-Au exhibit the highest dislocation formation and near-complete annihilation of defects consistently. Au-Ag also present improved cyclic loading properties than its pristine counterparts. For tensile loading, all four structures exhibited deterioration in strength with increasing temperature. Thermal softening is observed to be more prominent in Au-Ag core-shell NWs compared to Ag-Au. Our work lays out a foundation for exploration of mechanical properties of Au-Ag systems using the MEAM potential which will help design components for stretchable electronics and creates a pathway for further exploration of similar binary alloy systems.},\\\\n author = {Sk Md Ahnaf Akif Alvi and Abrar Faiyad and Md Adnan Mahathir Munshi and Mohammad Motalab and Md Mahbubul Islam and Sourav Saha},\\\\n doi = {10.1016/j.mechmat.2022.104304},\\\\n journal = {Mechanics of Materials},\\\\n month = {jun},\\\\n pages = {104304},\\\\n publisher = {Elsevier BV},\\\\n title = {Cyclic and tensile deformations of Gold–Silver core shell systems using newly parameterized MEAM potential},\\\\n url = {https://doi.org/10.1016%2Fj.mechmat.2022.104304},\\\\n volume = {169},\\\\n year = {2022}\\\\n}\\\\n\\\\n</bibtex></citation></description><implementation><key>2723d606-f077-4d6a-a017-df9708ff8a05</key><id>2022--Alvi-S-M-A-A--Au--LAMMPS--ipr1</id><status>active</status><date>2022-05-09</date><type>LAMMPS pair_style meam</type><notes><text>These files were provided by Sourav Saha on May 6, 2022 and posted with his permission.</text></notes><artifact><web-link><URL>https://www.ctcms.nist.gov/potentials/Download/2022--Alvi-S-M-A-A-Faiyad-A-Munshi-M-A-M-et-al--Au/1/AgAu.library.meam</URL><link-text>AgAu.library.meam</link-text></web-link></artifact><artifact><web-link><URL>https://www.ctcms.nist.gov/potentials/Download/2022--Alvi-S-M-A-A-Faiyad-A-Munshi-M-A-M-et-al--Au/1/Au.parameter.meam</URL><link-text>Au.parameter.meam</link-text></web-link></artifact></implementation><element>Au</element></interatomic-potential>'},\n",
       "  {'id': 627298,\n",
       "   'template': 21,\n",
       "   'workspace': 1,\n",
       "   'user_id': '2',\n",
       "   'title': 'potential.2022--Alvi-S-M-A-A-Faiyad-A-Munshi-M-A-M-et-al--Ag-Au',\n",
       "   'creation_date': '2022-05-09T14:04:12.520000-04:00',\n",
       "   'last_modification_date': '2022-07-22T18:16:54.246000-04:00',\n",
       "   'last_change_date': '2022-07-22T18:16:54.774000-04:00',\n",
       "   'xml_content': '<?xml version=\"1.0\" encoding=\"utf-8\"?>\\n<interatomic-potential><key>8935ea3d-c46c-446d-8103-0c38771d92a1</key><id>2022--Alvi-S-M-A-A-Faiyad-A-Munshi-M-A-M-et-al--Ag-Au</id><URL>https://potentials.nist.gov/pid/rest/local/potentials/potential.2022--Alvi-S-M-A-A-Faiyad-A-Munshi-M-A-M-et-al--Ag-Au</URL><record-version>2022-05-09</record-version><description><citation><document-type>journal</document-type><title>Cyclic and tensile deformations of Gold–Silver core shell systems using newly parameterized MEAM potential</title><author><given-name>S.M.A.A.</given-name><surname>Alvi</surname></author><author><given-name>A.</given-name><surname>Faiyad</surname></author><author><given-name>M.A.M.</given-name><surname>Munshi</surname></author><author><given-name>M.</given-name><surname>Motalab</surname></author><author><given-name>M.M.</given-name><surname>Islam</surname></author><author><given-name>S.</given-name><surname>Saha</surname></author><publication-name>Mechanics of Materials</publication-name><publication-date><year>2022</year></publication-date><volume>169</volume><abstract>Gold–Silver (Au-Ag) core-shell nanostructures have significant applicability in stretchable and biocompatible electronics where endurance under high tensile and cyclic loading is a requirement. This work, for the first time, quantitatively investigates the role of dislocations and defect interaction governing the mechanical behavior of Au-Ag and Ag-Au Core-shell nanostructures under tensile and cyclic loading using molecular dynamics (MD) simulation. For accurate representation of the underlying physics, a novel modified embedded atomic model (MEAM) interatomic potential for pristine Au, Ag and their alloys is parameterized through two different density functional theory (DFT) schemes. Using the new potential for MD simulations, the cyclic loading properties of pristine and core-shell nanowires (NWs) in a strain range of -15%-15% for 10 cycles are conducted. The tensile behavior of pristine and core-shell NWs is also explored for temperatures between 300 K and 600 K. A comparative analysis between Core-shell structures and their pristine counterparts are carried out. Our results suggest that Ag-Au Core-shell NW exhibit superior stress-strain reversibility under cyclic loading among the structures examined. Ag-Au exhibit the highest dislocation formation and near-complete annihilation of defects consistently. Au-Ag also present improved cyclic loading properties than its pristine counterparts. For tensile loading, all four structures exhibited deterioration in strength with increasing temperature. Thermal softening is observed to be more prominent in Au-Ag core-shell NWs compared to Ag-Au. Our work lays out a foundation for exploration of mechanical properties of Au-Ag systems using the MEAM potential which will help design components for stretchable electronics and creates a pathway for further exploration of similar binary alloy systems.</abstract><pages>104304</pages><DOI>10.1016/j.mechmat.2022.104304</DOI><bibtex>@article{Alvi_2022,\\\\n abstract = {Gold–Silver (Au-Ag) core-shell nanostructures have significant applicability in stretchable and biocompatible electronics where endurance under high tensile and cyclic loading is a requirement. This work, for the first time, quantitatively investigates the role of dislocations and defect interaction governing the mechanical behavior of Au-Ag and Ag-Au Core-shell nanostructures under tensile and cyclic loading using molecular dynamics (MD) simulation. For accurate representation of the underlying physics, a novel modified embedded atomic model (MEAM) interatomic potential for pristine Au, Ag and their alloys is parameterized through two different density functional theory (DFT) schemes. Using the new potential for MD simulations, the cyclic loading properties of pristine and core-shell nanowires (NWs) in a strain range of -15%-15% for 10 cycles are conducted. The tensile behavior of pristine and core-shell NWs is also explored for temperatures between 300 K and 600 K. A comparative analysis between Core-shell structures and their pristine counterparts are carried out. Our results suggest that Ag-Au Core-shell NW exhibit superior stress-strain reversibility under cyclic loading among the structures examined. Ag-Au exhibit the highest dislocation formation and near-complete annihilation of defects consistently. Au-Ag also present improved cyclic loading properties than its pristine counterparts. For tensile loading, all four structures exhibited deterioration in strength with increasing temperature. Thermal softening is observed to be more prominent in Au-Ag core-shell NWs compared to Ag-Au. Our work lays out a foundation for exploration of mechanical properties of Au-Ag systems using the MEAM potential which will help design components for stretchable electronics and creates a pathway for further exploration of similar binary alloy systems.},\\\\n author = {Sk Md Ahnaf Akif Alvi and Abrar Faiyad and Md Adnan Mahathir Munshi and Mohammad Motalab and Md Mahbubul Islam and Sourav Saha},\\\\n doi = {10.1016/j.mechmat.2022.104304},\\\\n journal = {Mechanics of Materials},\\\\n month = {jun},\\\\n pages = {104304},\\\\n publisher = {Elsevier BV},\\\\n title = {Cyclic and tensile deformations of Gold–Silver core shell systems using newly parameterized MEAM potential},\\\\n url = {https://doi.org/10.1016%2Fj.mechmat.2022.104304},\\\\n volume = {169},\\\\n year = {2022}\\\\n}\\\\n\\\\n</bibtex></citation></description><implementation><key>94880090-262f-458e-a285-3911a7c5c6b8</key><id>2022--Alvi-S-M-A-A--Ag-Au--LAMMPS--ipr1</id><status>active</status><date>2022-05-09</date><type>LAMMPS pair_style meam</type><notes><text>These files were provided by Sourav Saha on May 6, 2022 and posted with his permission.</text></notes><artifact><web-link><URL>https://www.ctcms.nist.gov/potentials/Download/2022--Alvi-S-M-A-A-Faiyad-A-Munshi-M-A-M-et-al--Ag-Au/1/AgAu.library.meam</URL><link-text>AgAu.library.meam</link-text></web-link></artifact><artifact><web-link><URL>https://www.ctcms.nist.gov/potentials/Download/2022--Alvi-S-M-A-A-Faiyad-A-Munshi-M-A-M-et-al--Ag-Au/1/AgAu.parameter.meam</URL><link-text>AgAu.parameter.meam</link-text></web-link></artifact></implementation><element>Ag</element><element>Au</element></interatomic-potential>'},\n",
       "  {'id': 627024,\n",
       "   'template': 15,\n",
       "   'workspace': 1,\n",
       "   'user_id': '2',\n",
       "   'title': '10.1016_j.mechmat.2022.104304',\n",
       "   'creation_date': '2022-05-09T13:43:10.828000-04:00',\n",
       "   'last_modification_date': '2022-05-09T13:43:10.828000-04:00',\n",
       "   'last_change_date': '2022-05-09T13:43:15.469000-04:00',\n",
       "   'xml_content': '<?xml version=\"1.0\" encoding=\"utf-8\"?>\\n<citation><document-type>journal</document-type><title>Cyclic and tensile deformations of Gold–Silver core shell systems using newly parameterized MEAM potential</title><author><given-name>S.M.A.A.</given-name><surname>Alvi</surname></author><author><given-name>A.</given-name><surname>Faiyad</surname></author><author><given-name>M.A.M.</given-name><surname>Munshi</surname></author><author><given-name>M.</given-name><surname>Motalab</surname></author><author><given-name>M.M.</given-name><surname>Islam</surname></author><author><given-name>S.</given-name><surname>Saha</surname></author><publication-name>Mechanics of Materials</publication-name><publication-date><year>2022</year></publication-date><volume>169</volume><abstract>Gold–Silver (Au-Ag) core-shell nanostructures have significant applicability in stretchable and biocompatible electronics where endurance under high tensile and cyclic loading is a requirement. This work, for the first time, quantitatively investigates the role of dislocations and defect interaction governing the mechanical behavior of Au-Ag and Ag-Au Core-shell nanostructures under tensile and cyclic loading using molecular dynamics (MD) simulation. For accurate representation of the underlying physics, a novel modified embedded atomic model (MEAM) interatomic potential for pristine Au, Ag and their alloys is parameterized through two different density functional theory (DFT) schemes. Using the new potential for MD simulations, the cyclic loading properties of pristine and core-shell nanowires (NWs) in a strain range of -15%-15% for 10 cycles are conducted. The tensile behavior of pristine and core-shell NWs is also explored for temperatures between 300 K and 600 K. A comparative analysis between Core-shell structures and their pristine counterparts are carried out. Our results suggest that Ag-Au Core-shell NW exhibit superior stress-strain reversibility under cyclic loading among the structures examined. Ag-Au exhibit the highest dislocation formation and near-complete annihilation of defects consistently. Au-Ag also present improved cyclic loading properties than its pristine counterparts. For tensile loading, all four structures exhibited deterioration in strength with increasing temperature. Thermal softening is observed to be more prominent in Au-Ag core-shell NWs compared to Ag-Au. Our work lays out a foundation for exploration of mechanical properties of Au-Ag systems using the MEAM potential which will help design components for stretchable electronics and creates a pathway for further exploration of similar binary alloy systems.</abstract><pages>104304</pages><DOI>10.1016/j.mechmat.2022.104304</DOI><bibtex>@article{Alvi_2022,\\\\n abstract = {Gold–Silver (Au-Ag) core-shell nanostructures have significant applicability in stretchable and biocompatible electronics where endurance under high tensile and cyclic loading is a requirement. This work, for the first time, quantitatively investigates the role of dislocations and defect interaction governing the mechanical behavior of Au-Ag and Ag-Au Core-shell nanostructures under tensile and cyclic loading using molecular dynamics (MD) simulation. For accurate representation of the underlying physics, a novel modified embedded atomic model (MEAM) interatomic potential for pristine Au, Ag and their alloys is parameterized through two different density functional theory (DFT) schemes. Using the new potential for MD simulations, the cyclic loading properties of pristine and core-shell nanowires (NWs) in a strain range of -15%-15% for 10 cycles are conducted. The tensile behavior of pristine and core-shell NWs is also explored for temperatures between 300 K and 600 K. A comparative analysis between Core-shell structures and their pristine counterparts are carried out. Our results suggest that Ag-Au Core-shell NW exhibit superior stress-strain reversibility under cyclic loading among the structures examined. Ag-Au exhibit the highest dislocation formation and near-complete annihilation of defects consistently. Au-Ag also present improved cyclic loading properties than its pristine counterparts. For tensile loading, all four structures exhibited deterioration in strength with increasing temperature. Thermal softening is observed to be more prominent in Au-Ag core-shell NWs compared to Ag-Au. Our work lays out a foundation for exploration of mechanical properties of Au-Ag systems using the MEAM potential which will help design components for stretchable electronics and creates a pathway for further exploration of similar binary alloy systems.},\\\\n author = {Sk Md Ahnaf Akif Alvi and Abrar Faiyad and Md Adnan Mahathir Munshi and Mohammad Motalab and Md Mahbubul Islam and Sourav Saha},\\\\n doi = {10.1016/j.mechmat.2022.104304},\\\\n journal = {Mechanics of Materials},\\\\n month = {jun},\\\\n pages = {104304},\\\\n publisher = {Elsevier BV},\\\\n title = {Cyclic and tensile deformations of Gold–Silver core shell systems using newly parameterized MEAM potential},\\\\n url = {https://doi.org/10.1016%2Fj.mechmat.2022.104304},\\\\n volume = {169},\\\\n year = {2022}\\\\n}\\\\n\\\\n</bibtex></citation>'},\n",
       "  {'id': 626707,\n",
       "   'template': 15,\n",
       "   'workspace': 1,\n",
       "   'user_id': '2',\n",
       "   'title': '10.1063_1.3460127',\n",
       "   'creation_date': '2021-08-26T13:48:22.120000-04:00',\n",
       "   'last_modification_date': '2021-11-30T14:38:25.644000-05:00',\n",
       "   'last_change_date': '2021-11-30T14:38:25.649000-05:00',\n",
       "   'xml_content': '<?xml version=\"1.0\" encoding=\"utf-8\"?>\\n<citation><document-type>journal</document-type><title>Transverse resonant properties of strained gold nanowires</title><author><given-name>P.A.T.</given-name><surname>Olsson</surname></author><publication-name>Journal of Applied Physics</publication-name><publication-date><year>2010</year></publication-date><volume>108</volume><issue>3</issue><abstract>In this work, resonant and elastic properties of single crystal gold nanowires have been studied through classical molecular dynamics simulations. The considered nanowires have perfect square cross sections and are oriented with the [100] direction along the wire axis and with 100 side surfaces. Three different sizes were simulated; 4.08×4.08 nm2, 5.71×5.71 nm2, and 7.34×7.34 nm2 cross sectional dimensions, with the respective unrelaxed lengths 49.0 nm, 68.5 nm, and 88.1 nm and the simulations were performed at two different temperatures, 4.2 K and 300 K. Tensile simulations reveal, that the stiffness decreases with decreasing size, and that the size dependence for nanowires at 4.2 K can be accurately described using the concept of surface energy. Comparing results from the resonant simulations reveals that the fundamental eigenfrequency is in good agreement with predictions from Bernoulli–Euler continuum beam theory when the size dependence of the stiffness is taken into account. The eigenfrequencies of the first and second excited modes turn out to be low in comparison with analytical Bernoulli–Euler continuum calculations.</abstract><pages>034318</pages><DOI>10.1063/1.3460127</DOI><bibtex>@article{Olsson_2010,\\\\n abstract = {In this work, resonant and elastic properties of single crystal gold nanowires have been studied through classical molecular dynamics simulations. The considered nanowires have perfect square cross sections and are oriented with the [100] direction along the wire axis and with 100 side surfaces. Three different sizes were simulated; 4.08×4.08 nm2, 5.71×5.71 nm2, and 7.34×7.34 nm2 cross sectional dimensions, with the respective unrelaxed lengths 49.0 nm, 68.5 nm, and 88.1 nm and the simulations were performed at two different temperatures, 4.2 K and 300 K. Tensile simulations reveal, that the stiffness decreases with decreasing size, and that the size dependence for nanowires at 4.2 K can be accurately described using the concept of surface energy. Comparing results from the resonant simulations reveals that the fundamental eigenfrequency is in good agreement with predictions from Bernoulli–Euler continuum beam theory when the size dependence of the stiffness is taken into account. The eigenfrequencies of the first and second excited modes turn out to be low in comparison with analytical Bernoulli–Euler continuum calculations.},\\\\n author = {Pär A. T. Olsson},\\\\n doi = {10.1063/1.3460127},\\\\n journal = {Journal of Applied Physics},\\\\n month = {aug},\\\\n number = {3},\\\\n pages = {034318},\\\\n publisher = {AIP Publishing},\\\\n title = {Transverse resonant properties of strained gold nanowires},\\\\n url = {https://doi.org/10.1063%2F1.3460127},\\\\n volume = {108},\\\\n year = {2010}\\\\n}\\\\n\\\\n</bibtex></citation>'},\n",
       "  {'id': 626950,\n",
       "   'template': 15,\n",
       "   'workspace': 1,\n",
       "   'user_id': '2',\n",
       "   'title': '10.1063_1.2124667',\n",
       "   'creation_date': '2021-08-26T13:50:50.561000-04:00',\n",
       "   'last_modification_date': '2021-11-30T14:38:22.190000-05:00',\n",
       "   'last_change_date': '2021-11-30T14:38:22.320000-05:00',\n",
       "   'xml_content': '<?xml version=\"1.0\" encoding=\"utf-8\"?>\\n<citation><document-type>journal</document-type><title>On fitting a gold embedded atom method potential using the force matching method</title><author><given-name>G.</given-name><surname>Grochola</surname></author><author><given-name>S.P.</given-name><surname>Russo</surname></author><author><given-name>I.K.</given-name><surname>Snook</surname></author><publication-name>The Journal of Chemical Physics</publication-name><publication-date><year>2005</year></publication-date><volume>123</volume><issue>20</issue><abstract>We fit a new gold embedded atom method (EAM) potential using an improved force matching methodology which included fitting to high-temperature solid lattice constants and liquid densities. The new potential shows a good overall improvement in agreement to the experimental lattice constants, elastic constants, stacking fault energy, radial distribution function, and fcc/hcp/bcc lattice energy differences over previous potentials by Foiles, Baskes, and Daw (FBD) [Phys. Rev. B 33, 7983 (1986)] Johnson [Phys. Rev. B 37, 3924 (1988)], and the glue model potential by Ercolessi et al. [Philos. Mag. A 50, 213 (1988)]. Surface energy was improved slightly as compared to potentials by FBD and Johnson but as a result vacancy formation energy is slightly inferior as compared to the same potentials. The results obtained here for gold suggest for other metal species that further overall improvements in potentials may still be possible within the EAM framework with an improved fitting methodology. On the other hand, we also explore the limitations of the EAM framework by attempting a brute force fit to all properties exactly which was found to be unsuccessful. The main conflict in such a brute force fit was between the surface energy and the liquid lattice constant where both could not be fitted identically. By intentionally using a very large number of spline sections for the pair potential, electron-density function, and embedding energy function, we eliminated a lack of functional freedom as a possible cause of this conflict and hence can conclude that it must result from a fundamental limitation in the EAM framework.</abstract><pages>204719</pages><DOI>10.1063/1.2124667</DOI><bibtex>@article{Grochola_2005,\\\\n abstract = {We fit a new gold embedded atom method (EAM) potential using an improved force matching methodology which included fitting to high-temperature solid lattice constants and liquid densities. The new potential shows a good overall improvement in agreement to the experimental lattice constants, elastic constants, stacking fault energy, radial distribution function, and fcc/hcp/bcc lattice energy differences over previous potentials by Foiles, Baskes, and Daw (FBD) [Phys. Rev. B 33, 7983 (1986)] Johnson [Phys. Rev. B 37, 3924 (1988)], and the glue model potential by Ercolessi et al. [Philos. Mag. A 50, 213 (1988)]. Surface energy was improved slightly as compared to potentials by FBD and Johnson but as a result vacancy formation energy is slightly inferior as compared to the same potentials. The results obtained here for gold suggest for other metal species that further overall improvements in potentials may still be possible within the EAM framework with an improved fitting methodology. On the other hand, we also explore the limitations of the EAM framework by attempting a brute force fit to all properties exactly which was found to be unsuccessful. The main conflict in such a brute force fit was between the surface energy and the liquid lattice constant where both could not be fitted identically. By intentionally using a very large number of spline sections for the pair potential, electron-density function, and embedding energy function, we eliminated a lack of functional freedom as a possible cause of this conflict and hence can conclude that it must result from a fundamental limitation in the EAM framework.},\\\\n author = {Gregory Grochola and Salvy P. Russo and Ian K. Snook},\\\\n doi = {10.1063/1.2124667},\\\\n journal = {The Journal of Chemical Physics},\\\\n month = {nov},\\\\n number = {20},\\\\n pages = {204719},\\\\n publisher = {AIP Publishing},\\\\n title = {On fitting a gold embedded atom method potential using the force matching method},\\\\n url = {https://doi.org/10.1063%2F1.2124667},\\\\n volume = {123},\\\\n year = {2005}\\\\n}\\\\n\\\\n</bibtex></citation>'},\n",
       "  {'id': 626702,\n",
       "   'template': 15,\n",
       "   'workspace': 1,\n",
       "   'user_id': '2',\n",
       "   'title': '10.1016_j.apsusc.2009.04.082',\n",
       "   'creation_date': '2021-08-26T13:51:13.239000-04:00',\n",
       "   'last_modification_date': '2021-08-26T13:51:13.239000-04:00',\n",
       "   'last_change_date': '2021-08-26T13:51:13.580000-04:00',\n",
       "   'xml_content': '<?xml version=\"1.0\" encoding=\"utf-8\"?>\\n<citation><document-type>journal</document-type><title>Molecular dynamics simulation of femtosecond ablation and spallation with different interatomic potentials</title><author><given-name>V.V.</given-name><surname>Zhakhovskii</surname></author><author><given-name>N.A.</given-name><surname>Inogamov</surname></author><author><given-name>Y.V.</given-name><surname>Petrov</surname></author><author><given-name>S.I.</given-name><surname>Ashitkov</surname></author><author><given-name>K.</given-name><surname>Nishihara</surname></author><publication-name>Applied Surface Science</publication-name><publication-date><year>2009</year></publication-date><volume>255</volume><issue>24</issue><abstract>Fast heating of target material by femtosecond laser pulse (fsLP) with duration τL~40–100fs results in the formation of thermomechanically stressed state. Its unloading may cause frontal cavitation of subsurface layer at a depth of 50nm for Al and 100nm for Au. The compression wave propagating deep into material hits the rear-side of the target with the formation of rarefaction wave. The last may produce cracks and rear-side spallation. Results of MD simulations of ablation and spallation of Al and Au metals under action fsLP are presented. It is shown that the used EAM potentials (Mishin et al. and our new one) predict the different ablation and spallation thresholds on absorbed fluence in Al: ablation Fa=6065mJ/cm2 and spallation Fs=120190mJ/cm2, where numbers in brackets  show the corresponding values for Mishin potential. The strain rate in spallation zone was 4.3×10^9 1/s at spallation threshold. Simulated spall strength of Al is 7.48.7GPa, that is noticeably less than 10.314GPa obtained from acoustic approximation with the use of velocity pullback on velocity profile of free rear surface. The ablation threshold Fa≈120mJ/cm2 and crater depth of 110nm are obtained in MD simulations of gold with the new EAM potential. They agree well with experiment.</abstract><pages>9592-9596</pages><DOI>10.1016/j.apsusc.2009.04.082</DOI><bibtex>@article{Zhakhovskii_2009,\\\\n abstract = {Fast heating of target material by femtosecond laser pulse (fsLP) with duration τL~40–100fs results in the formation of thermomechanically stressed state. Its unloading may cause frontal cavitation of subsurface layer at a depth of 50nm for Al and 100nm for Au. The compression wave propagating deep into material hits the rear-side of the target with the formation of rarefaction wave. The last may produce cracks and rear-side spallation. Results of MD simulations of ablation and spallation of Al and Au metals under action fsLP are presented. It is shown that the used EAM potentials (Mishin et al. and our new one) predict the different ablation and spallation thresholds on absorbed fluence in Al: ablation Fa=6065mJ/cm2 and spallation Fs=120190mJ/cm2, where numbers in brackets  show the corresponding values for Mishin potential. The strain rate in spallation zone was 4.3×10^9 1/s at spallation threshold. Simulated spall strength of Al is 7.48.7GPa, that is noticeably less than 10.314GPa obtained from acoustic approximation with the use of velocity pullback on velocity profile of free rear surface. The ablation threshold Fa≈120mJ/cm2 and crater depth of 110nm are obtained in MD simulations of gold with the new EAM potential. They agree well with experiment.},\\\\n author = {V.V. Zhakhovskii and N.A. Inogamov and Yu.V. Petrov and S.I. Ashitkov and K. Nishihara},\\\\n doi = {10.1016/j.apsusc.2009.04.082},\\\\n journal = {Applied Surface Science},\\\\n month = {sep},\\\\n number = {24},\\\\n pages = {9592--9596},\\\\n publisher = {Elsevier BV},\\\\n title = {Molecular dynamics simulation of femtosecond ablation and spallation with different interatomic potentials},\\\\n url = {https://doi.org/10.1016%2Fj.apsusc.2009.04.082},\\\\n volume = {255},\\\\n year = {2009}\\\\n}\\\\n\\\\n</bibtex></citation>'},\n",
       "  {'id': 626823,\n",
       "   'template': 15,\n",
       "   'workspace': 1,\n",
       "   'user_id': '2',\n",
       "   'title': '10.1007_s00340-014-5789-y',\n",
       "   'creation_date': '2021-08-26T13:50:34.644000-04:00',\n",
       "   'last_modification_date': '2021-08-26T13:50:34.644000-04:00',\n",
       "   'last_change_date': '2021-08-26T13:50:34.953000-04:00',\n",
       "   'xml_content': '<?xml version=\"1.0\" encoding=\"utf-8\"?>\\n<citation><document-type>journal</document-type><title>Soft picosecond X-ray laser nanomodification of gold and aluminum surfaces</title><author><given-name>S.V.</given-name><surname>Starikov</surname></author><author><given-name>A.Y.</given-name><surname>Faenov</surname></author><author><given-name>T.A.</given-name><surname>Pikuz</surname></author><author><given-name>I.Y.</given-name><surname>Skobelev</surname></author><author><given-name>V.E.</given-name><surname>Fortov</surname></author><author><given-name>S.</given-name><surname>Tamotsu</surname></author><author><given-name>M.</given-name><surname>Ishino</surname></author><author><given-name>M.</given-name><surname>Tanaka</surname></author><author><given-name>N.</given-name><surname>Hasegawa</surname></author><author><given-name>M.</given-name><surname>Nishikino</surname></author><author><given-name>T.</given-name><surname>Kaihori</surname></author><author><given-name>T.</given-name><surname>Imazono</surname></author><author><given-name>M.</given-name><surname>Kando</surname></author><author><given-name>T.</given-name><surname>Kawachi</surname></author><publication-name>Applied Physics B</publication-name><publication-date><year>2014</year></publication-date><volume>116</volume><issue>4</issue><abstract>Experimental and theoretical investigations of aluminum (Al) and gold (Au) surface modification by soft X-ray laser pulse are presented. Well-polished samples of Al and Au are irradiated by ps-duration pulse with wavelength of 13.9 nm at the energy range of 24-72 nJ. Differences in the melting and the ablation processes for those materials are observed. It is shown that at low laser pulse energy, the nanoscale ripples on the surface may be induced by melting without following ablation. In that case, the nanoscale changes in the surface are caused by splash of molten metal under gradient of fluence. At higher laser pulse energy, the ablation process occurs and craters are formed on the surface. However, the melting determines the size of the modified surface at all ranges of the laser energies. For interpretation of experimental results, the atomistic simulations of melting and ablation processes in Al and Au are provided. The calculated threshold fluencies for melting and ablation are well consistent with measured ones.</abstract><pages>1005-1016</pages><DOI>10.1007/s00340-014-5789-y</DOI><bibtex>@article{Starikov_2014,\\\\n abstract = {Experimental and theoretical investigations of aluminum (Al) and gold (Au) surface modification by soft X-ray laser pulse are presented. Well-polished samples of Al and Au are irradiated by ps-duration pulse with wavelength of 13.9 nm at the energy range of 24-72 nJ. Differences in the melting and the ablation processes for those materials are observed. It is shown that at low laser pulse energy, the nanoscale ripples on the surface may be induced by melting without following ablation. In that case, the nanoscale changes in the surface are caused by splash of molten metal under gradient of fluence. At higher laser pulse energy, the ablation process occurs and craters are formed on the surface. However, the melting determines the size of the modified surface at all ranges of the laser energies. For interpretation of experimental results, the atomistic simulations of melting and ablation processes in Al and Au are provided. The calculated threshold fluencies for melting and ablation are well consistent with measured ones.},\\\\n author = {S. V. Starikov and A. Ya. Faenov and T. A. Pikuz and I. Yu. Skobelev and V. E. Fortov and S. Tamotsu and M. Ishino and M. Tanaka and N. Hasegawa and M. Nishikino and T. Kaihori and T. Imazono and M. Kando and T. Kawachi},\\\\n doi = {10.1007/s00340-014-5789-y},\\\\n journal = {Applied Physics B},\\\\n month = {feb},\\\\n number = {4},\\\\n pages = {1005--1016},\\\\n publisher = {Springer Nature},\\\\n title = {Soft picosecond X-ray laser nanomodification of gold and aluminum surfaces},\\\\n url = {https://doi.org/10.1007%2Fs00340-014-5789-y},\\\\n volume = {116},\\\\n year = {2014}\\\\n}\\\\n\\\\n</bibtex></citation>'},\n",
       "  {'id': 626922,\n",
       "   'template': 15,\n",
       "   'workspace': 1,\n",
       "   'user_id': '2',\n",
       "   'title': '10.1134_s1063776112040115',\n",
       "   'creation_date': '2021-08-26T13:50:11.854000-04:00',\n",
       "   'last_modification_date': '2021-08-26T13:50:11.854000-04:00',\n",
       "   'last_change_date': '2021-08-26T13:50:12.167000-04:00',\n",
       "   'xml_content': '<?xml version=\"1.0\" encoding=\"utf-8\"?>\\n<citation><document-type>journal</document-type><title>Atomistic simulation of laser ablation of gold: Effect of pressure relaxation</title><author><given-name>G.E.</given-name><surname>Norman</surname></author><author><given-name>S.V.</given-name><surname>Starikov</surname></author><author><given-name>V.V.</given-name><surname>Stegailov</surname></author><publication-name>Journal of Experimental and Theoretical Physics</publication-name><publication-date><year>2012</year></publication-date><volume>114</volume><issue>5</issue><abstract>The process of ablation of a gold target by femto- and picosecond laser radiation pulses has been studied by numerical simulations using an atomistic model with allowance for the electron subsystem and the dependence of the ion-ion interaction potential on the electron temperature. Using this potential, it is possible to take into account the change in the physical properties of the ion subsystem as a result of heating of the electron subsystem. The results of simulations reveal a significant difference between the characteristics of metal ablation by laser pulses of various durations. For ablation with subpicosecond pulses, two mechanisms of metal fracture related to the evolution of electronic pressure in the system are established.</abstract><pages>792-800</pages><DOI>10.1134/s1063776112040115</DOI><bibtex>@article{Norman_2012,\\\\n abstract = {The process of ablation of a gold target by femto- and picosecond laser radiation pulses has been studied by numerical simulations using an atomistic model with allowance for the electron subsystem and the dependence of the ion-ion interaction potential on the electron temperature. Using this potential, it is possible to take into account the change in the physical properties of the ion subsystem as a result of heating of the electron subsystem. The results of simulations reveal a significant difference between the characteristics of metal ablation by laser pulses of various durations. For ablation with subpicosecond pulses, two mechanisms of metal fracture related to the evolution of electronic pressure in the system are established.},\\\\n author = {G. E. Norman and S. V. Starikov and V. V. Stegailov},\\\\n doi = {10.1134/s1063776112040115},\\\\n journal = {Journal of Experimental and Theoretical Physics},\\\\n month = {may},\\\\n number = {5},\\\\n pages = {792--800},\\\\n publisher = {Pleiades Publishing Ltd},\\\\n title = {Atomistic simulation of laser ablation of gold: Effect of pressure relaxation},\\\\n url = {https://doi.org/10.1134%2Fs1063776112040115},\\\\n volume = {114},\\\\n year = {2012}\\\\n}\\\\n\\\\n</bibtex></citation>'},\n",
       "  {'id': 626732,\n",
       "   'template': 15,\n",
       "   'workspace': 1,\n",
       "   'user_id': '2',\n",
       "   'title': '10.1016_0039-6028(92)90642-j',\n",
       "   'creation_date': '2021-08-26T13:49:23.519000-04:00',\n",
       "   'last_modification_date': '2021-08-26T13:49:23.519000-04:00',\n",
       "   'last_change_date': '2021-08-26T13:49:23.830000-04:00',\n",
       "   'xml_content': '<?xml version=\"1.0\" encoding=\"utf-8\"?>\\n<citation><document-type>journal</document-type><title>Calculated energies and relaxations of the low-index planes of ordered Cu3Au</title><author><given-name>W.E.</given-name><surname>Wallace</surname></author><author><given-name>G.J.</given-name><surname>Ackland</surname></author><publication-name>Surface Science</publication-name><publication-date><year>1992</year></publication-date><volume>275</volume><issue>1-2</issue><abstract>The absolute-zero specific energies, and the atomic-scale relaxations, of the (100), (110), and (111) surfaces of ordered Cu&lt;sub&gt;3&lt;/sub&gt;Au were calculated using Finnis-Sinclair many-body potentials. The gold-rich truncations of the (100) and (110) surfaces were found to be energetically favored over the gold-poor truncations. This is in agreement with published low-energy ion scattering studies of Cu&lt;sub&gt;3&lt;/sub&gt;Au. The mixed-composition truncations of these low-index surfaces were each found by the calculation to be buckled, with gold atoms displaced toward the vacuum, as compared to copper atoms. A comparison is made to a low-energy electron diffraction study of gold deposited onto the Cu(100), which also showed the buckling of a mixed copper-gold surface, and to embedded-atom method calculations of the low-index surfaces of Ni&lt;sub&gt;3&lt;/sub&gt;Al, which is isomorphic to ordered Cu&lt;sub&gt;3&lt;/sub&gt;Au.</abstract><pages>L685-L690</pages><DOI>10.1016/0039-6028(92)90642-j</DOI><bibtex>@article{Wallace_1992,\\\\n abstract = {The absolute-zero specific energies, and the atomic-scale relaxations, of the (100), (110), and (111) surfaces of ordered Cu&lt;sub&gt;3&lt;/sub&gt;Au were calculated using Finnis-Sinclair many-body potentials. The gold-rich truncations of the (100) and (110) surfaces were found to be energetically favored over the gold-poor truncations. This is in agreement with published low-energy ion scattering studies of Cu&lt;sub&gt;3&lt;/sub&gt;Au. The mixed-composition truncations of these low-index surfaces were each found by the calculation to be buckled, with gold atoms displaced toward the vacuum, as compared to copper atoms. A comparison is made to a low-energy electron diffraction study of gold deposited onto the Cu(100), which also showed the buckling of a mixed copper-gold surface, and to embedded-atom method calculations of the low-index surfaces of Ni&lt;sub&gt;3&lt;/sub&gt;Al, which is isomorphic to ordered Cu&lt;sub&gt;3&lt;/sub&gt;Au.},\\\\n author = {W.E. Wallace and G.J. Ackland},\\\\n doi = {10.1016/0039-6028(92)90642-j},\\\\n journal = {Surface Science},\\\\n month = {sep},\\\\n number = {1-2},\\\\n pages = {L685--L690},\\\\n publisher = {Elsevier BV},\\\\n title = {Calculated energies and relaxations of the low-index planes of ordered Cu3Au},\\\\n url = {https://doi.org/10.1016%2F0039-6028%2892%2990642-j},\\\\n volume = {275},\\\\n year = {1992}\\\\n}\\\\n\\\\n</bibtex></citation>'},\n",
       "  {'id': 626727,\n",
       "   'template': 15,\n",
       "   'workspace': 1,\n",
       "   'user_id': '2',\n",
       "   'title': '10.1080_01418618708204485',\n",
       "   'creation_date': '2021-08-26T13:48:23.120000-04:00',\n",
       "   'last_modification_date': '2021-08-26T13:48:23.120000-04:00',\n",
       "   'last_change_date': '2021-08-26T13:48:23.432000-04:00',\n",
       "   'xml_content': '<?xml version=\"1.0\" encoding=\"utf-8\"?>\\n<citation><document-type>journal</document-type><title>Simple N-body potentials for the noble metals and nickel</title><author><given-name>G.J.</given-name><surname>Ackland</surname></author><author><given-name>G.</given-name><surname>Tichy</surname></author><author><given-name>V.</given-name><surname>Vitek</surname></author><author><given-name>M.W.</given-name><surname>Finnis</surname></author><publication-name>Philosophical Magazine A</publication-name><publication-date><year>1987</year></publication-date><volume>56</volume><issue>6</issue><abstract>Using the approach of Finnis and Sinclair, N-body potentials for copper, silver, gold and nickel have been constructed. The total energy is regarded as consisting of a pair-potential part and a many body cohesive part. Both these parts are functions of the atomic separations only and are represented by cubic splines, fitted to various bulk properties. For the noble metals, the pair-potentials were fitted at short range to pressure-volume relationships calculated by Christensen and Heine so that interactions at separations smaller than that of the first-nearest neighbours can be treated in this scheme. Using these potentials, point defects, surfaces (including the surface reconstructions) and grain boundaries have been studied and satisfactory agreement with available experimental data has been found.</abstract><pages>735-756</pages><DOI>10.1080/01418618708204485</DOI><bibtex>@article{Ackland_1987,\\\\n abstract = {Using the approach of Finnis and Sinclair, N-body potentials for copper, silver, gold and nickel have been constructed. The total energy is regarded as consisting of a pair-potential part and a many body cohesive part. Both these parts are functions of the atomic separations only and are represented by cubic splines, fitted to various bulk properties. For the noble metals, the pair-potentials were fitted at short range to pressure-volume relationships calculated by Christensen and Heine so that interactions at separations smaller than that of the first-nearest neighbours can be treated in this scheme. Using these potentials, point defects, surfaces (including the surface reconstructions) and grain boundaries have been studied and satisfactory agreement with available experimental data has been found.},\\\\n author = {G. J. Ackland and G. Tichy and V. Vitek and M. W. Finnis},\\\\n doi = {10.1080/01418618708204485},\\\\n journal = {Philosophical Magazine A},\\\\n month = {dec},\\\\n number = {6},\\\\n pages = {735--756},\\\\n publisher = {Informa UK Limited},\\\\n title = {Simple N-body potentials for the noble metals and nickel},\\\\n url = {https://doi.org/10.1080%2F01418618708204485},\\\\n volume = {56},\\\\n year = {1987}\\\\n}\\\\n\\\\n</bibtex></citation>'}]}"
      ]
     },
     "execution_count": 4,
     "metadata": {},
     "output_type": "execute_result"
    }
   ],
   "source": [
    "print(response.status_code)\n",
    "response.json()"
   ]
  },
  {
   "cell_type": "markdown",
   "metadata": {},
   "source": [
    "By default, the REST call will check if the status code is good and if not will print the returned text content and generate an error message.  This can be turned off by setting checkstatus=False."
   ]
  },
  {
   "cell_type": "code",
   "execution_count": 5,
   "metadata": {},
   "outputs": [
    {
     "name": "stdout",
     "output_type": "stream",
     "text": [
      "\n",
      "<!doctype html>\n",
      "<html lang=\"en\">\n",
      "<head>\n",
      "  <title>Not Found</title>\n",
      "</head>\n",
      "<body>\n",
      "  <h1>Not Found</h1><p>The requested resource was not found on this server.</p>\n",
      "</body>\n",
      "</html>\n",
      "\n"
     ]
    },
    {
     "ename": "HTTPError",
     "evalue": "404 Client Error: Not Found for url: https://potentials.nist.gov/rest/no/such/url",
     "output_type": "error",
     "traceback": [
      "\u001b[0;31m---------------------------------------------------------------------------\u001b[0m",
      "\u001b[0;31mHTTPError\u001b[0m                                 Traceback (most recent call last)",
      "Cell \u001b[0;32mIn[5], line 2\u001b[0m\n\u001b[1;32m      1\u001b[0m \u001b[38;5;66;03m# Show that bad call automatically issues message and error\u001b[39;00m\n\u001b[0;32m----> 2\u001b[0m response \u001b[38;5;241m=\u001b[39m curator\u001b[38;5;241m.\u001b[39mget(\u001b[38;5;124m'\u001b[39m\u001b[38;5;124m/rest/no/such/url\u001b[39m\u001b[38;5;124m'\u001b[39m)\n",
      "File \u001b[0;32m~/Python-packages/pycdcs/cdcs/RestClient.py:304\u001b[0m, in \u001b[0;36mRestClient.get\u001b[0;34m(self, rest_url, **kwargs)\u001b[0m\n\u001b[1;32m    279\u001b[0m \u001b[38;5;28;01mdef\u001b[39;00m \u001b[38;5;21mget\u001b[39m(\u001b[38;5;28mself\u001b[39m, rest_url: \u001b[38;5;28mstr\u001b[39m,\n\u001b[1;32m    280\u001b[0m         \u001b[38;5;241m*\u001b[39m\u001b[38;5;241m*\u001b[39mkwargs) \u001b[38;5;241m-\u001b[39m\u001b[38;5;241m>\u001b[39m requests\u001b[38;5;241m.\u001b[39mResponse:\n\u001b[1;32m    281\u001b[0m \u001b[38;5;250m    \u001b[39m\u001b[38;5;124;03m\"\"\"\u001b[39;00m\n\u001b[1;32m    282\u001b[0m \u001b[38;5;124;03m    Wrapper around requests.get that automatically sets any access\u001b[39;00m\n\u001b[1;32m    283\u001b[0m \u001b[38;5;124;03m    parameters based on the stored login information.\u001b[39;00m\n\u001b[0;32m   (...)\u001b[0m\n\u001b[1;32m    302\u001b[0m \u001b[38;5;124;03m        Any requests errors if the response code is not ok.\u001b[39;00m\n\u001b[1;32m    303\u001b[0m \u001b[38;5;124;03m    \"\"\"\u001b[39;00m\n\u001b[0;32m--> 304\u001b[0m     \u001b[38;5;28;01mreturn\u001b[39;00m \u001b[38;5;28mself\u001b[39m\u001b[38;5;241m.\u001b[39mrequest(\u001b[38;5;124m'\u001b[39m\u001b[38;5;124mget\u001b[39m\u001b[38;5;124m'\u001b[39m, rest_url, \u001b[38;5;241m*\u001b[39m\u001b[38;5;241m*\u001b[39mkwargs)\n",
      "File \u001b[0;32m~/Python-packages/pycdcs/cdcs/RestClient.py:244\u001b[0m, in \u001b[0;36mRestClient.request\u001b[0;34m(self, method, rest_url, checkstatus, retry504, **kwargs)\u001b[0m\n\u001b[1;32m    242\u001b[0m     \u001b[38;5;28;01mexcept\u001b[39;00m:\n\u001b[1;32m    243\u001b[0m         \u001b[38;5;28mprint\u001b[39m(response\u001b[38;5;241m.\u001b[39mtext)\n\u001b[0;32m--> 244\u001b[0m     response\u001b[38;5;241m.\u001b[39mraise_for_status()\n\u001b[1;32m    246\u001b[0m \u001b[38;5;28;01mreturn\u001b[39;00m response\n",
      "File \u001b[0;32m~/anaconda3/lib/python3.11/site-packages/requests/models.py:1021\u001b[0m, in \u001b[0;36mResponse.raise_for_status\u001b[0;34m(self)\u001b[0m\n\u001b[1;32m   1016\u001b[0m     http_error_msg \u001b[38;5;241m=\u001b[39m (\n\u001b[1;32m   1017\u001b[0m         \u001b[38;5;124mf\u001b[39m\u001b[38;5;124m\"\u001b[39m\u001b[38;5;132;01m{\u001b[39;00m\u001b[38;5;28mself\u001b[39m\u001b[38;5;241m.\u001b[39mstatus_code\u001b[38;5;132;01m}\u001b[39;00m\u001b[38;5;124m Server Error: \u001b[39m\u001b[38;5;132;01m{\u001b[39;00mreason\u001b[38;5;132;01m}\u001b[39;00m\u001b[38;5;124m for url: \u001b[39m\u001b[38;5;132;01m{\u001b[39;00m\u001b[38;5;28mself\u001b[39m\u001b[38;5;241m.\u001b[39murl\u001b[38;5;132;01m}\u001b[39;00m\u001b[38;5;124m\"\u001b[39m\n\u001b[1;32m   1018\u001b[0m     )\n\u001b[1;32m   1020\u001b[0m \u001b[38;5;28;01mif\u001b[39;00m http_error_msg:\n\u001b[0;32m-> 1021\u001b[0m     \u001b[38;5;28;01mraise\u001b[39;00m HTTPError(http_error_msg, response\u001b[38;5;241m=\u001b[39m\u001b[38;5;28mself\u001b[39m)\n",
      "\u001b[0;31mHTTPError\u001b[0m: 404 Client Error: Not Found for url: https://potentials.nist.gov/rest/no/such/url"
     ]
    }
   ],
   "source": [
    "# Show that bad call automatically issues message and error\n",
    "response = curator.get('/rest/no/such/url')"
   ]
  },
  {
   "cell_type": "code",
   "execution_count": 6,
   "metadata": {},
   "outputs": [
    {
     "name": "stdout",
     "output_type": "stream",
     "text": [
      "404\n",
      "\n",
      "<!doctype html>\n",
      "<html lang=\"en\">\n",
      "<head>\n",
      "  <title>Not Found</title>\n",
      "</head>\n",
      "<body>\n",
      "  <h1>Not Found</h1><p>The requested resource was not found on this server.</p>\n",
      "</body>\n",
      "</html>\n",
      "\n"
     ]
    }
   ],
   "source": [
    "# Turn off automatic checking of status\n",
    "response = curator.get('/rest/no/such/url', checkstatus=False)\n",
    "print(response.status_code)\n",
    "print(response.text)"
   ]
  }
 ],
 "metadata": {
  "kernelspec": {
   "display_name": "Python 3 (ipykernel)",
   "language": "python",
   "name": "python3"
  },
  "language_info": {
   "codemirror_mode": {
    "name": "ipython",
    "version": 3
   },
   "file_extension": ".py",
   "mimetype": "text/x-python",
   "name": "python",
   "nbconvert_exporter": "python",
   "pygments_lexer": "ipython3",
   "version": "3.11.5"
  }
 },
 "nbformat": 4,
 "nbformat_minor": 4
}
