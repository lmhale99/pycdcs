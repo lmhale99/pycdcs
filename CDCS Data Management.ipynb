{
 "cells": [
  {
   "cell_type": "markdown",
   "metadata": {},
   "source": [
    "# CDCS Data Management\n",
    "\n",
    "This Notebook details the functions and interactions for managing data in a CDCS instance.  Primarily, this means having an account on the database allowing you to log in to create and modify records. "
   ]
  },
  {
   "cell_type": "code",
   "execution_count": 10,
   "metadata": {},
   "outputs": [],
   "source": [
    "from pathlib import Path\n",
    "\n",
    "from cdcs import CDCS"
   ]
  },
  {
   "cell_type": "markdown",
   "metadata": {},
   "source": [
    "## 1. Class initialization\n",
    "\n",
    "A CDCS client manager can be initialized by passing it the host url and authenication information.\n",
    "\n",
    "Parameters\n",
    "\n",
    "- __username__: (*str, optional*) Username to log in as. If not given, then a promp will ask for it. An empty string '' username will access the client as an anonymous guest.\n",
    "- __password__: (*str, optional*) The password associated with the username. If not given and username is not '', then a promp will ask for the password.\n",
    "- __certification__: (*str, optional*) The path to a certification file, if needed."
   ]
  },
  {
   "cell_type": "code",
   "execution_count": 2,
   "metadata": {},
   "outputs": [
    {
     "name": "stdout",
     "output_type": "stream",
     "text": [
      "Enter password for lmh1 @ https://potentials.nist.gov:········\n"
     ]
    }
   ],
   "source": [
    "curator = CDCS('https://potentials.nist.gov/', username='lmh1')"
   ]
  },
  {
   "cell_type": "markdown",
   "metadata": {},
   "source": [
    "## 2. Query data\n",
    "\n",
    "The query() method works the same here as for an anonymous user. Note that the query will return *all* records that you have access to: public records as well as ones assigned to you.\n",
    "\n",
    "Parameters\n",
    "- __template__: (*list, str, pandas.Series or pandas.DataFrame, optional*) One or more templates or template titles to limit the search by.\n",
    "- __title__: (*str, optional*) Record title to limit the search by.\n",
    "- __keyword__: (*str or list, optional*) Keyword(s) to use for a string-based search of record content.  Only records containing all keywords will be returned. \n",
    "- __mongoquery__: (*str or dict, optional*) Mongodb find query to use in limiting searches by record element fields.  Note: only record parsing is supported, not field projection.\n",
    "\n",
    "Returns\n",
    "- (*pandas.DataFrame*) All records matching the search request"
   ]
  },
  {
   "cell_type": "markdown",
   "metadata": {},
   "source": [
    "Specify a template in the database to interact with"
   ]
  },
  {
   "cell_type": "code",
   "execution_count": 6,
   "metadata": {},
   "outputs": [],
   "source": [
    "# Note: template should the name of a template in the database you are accessing!\n",
    "template = 'FAQ'"
   ]
  },
  {
   "cell_type": "markdown",
   "metadata": {},
   "source": [
    "Use query to fetch records"
   ]
  },
  {
   "cell_type": "code",
   "execution_count": 7,
   "metadata": {},
   "outputs": [
    {
     "data": {
      "text/html": [
       "<div>\n",
       "<style scoped>\n",
       "    .dataframe tbody tr th:only-of-type {\n",
       "        vertical-align: middle;\n",
       "    }\n",
       "\n",
       "    .dataframe tbody tr th {\n",
       "        vertical-align: top;\n",
       "    }\n",
       "\n",
       "    .dataframe thead th {\n",
       "        text-align: right;\n",
       "    }\n",
       "</style>\n",
       "<table border=\"1\" class=\"dataframe\">\n",
       "  <thead>\n",
       "    <tr style=\"text-align: right;\">\n",
       "      <th></th>\n",
       "      <th>id</th>\n",
       "      <th>template</th>\n",
       "      <th>workspace</th>\n",
       "      <th>user_id</th>\n",
       "      <th>title</th>\n",
       "      <th>xml_content</th>\n",
       "      <th>last_modification_date</th>\n",
       "      <th>template_title</th>\n",
       "    </tr>\n",
       "  </thead>\n",
       "  <tbody>\n",
       "    <tr>\n",
       "      <td>0</td>\n",
       "      <td>5df2ad2290985100269d7bf5</td>\n",
       "      <td>5df2ad2290985100269d7bf1</td>\n",
       "      <td>5de9613a75d7d40014ffb6fc</td>\n",
       "      <td>2</td>\n",
       "      <td>lammps</td>\n",
       "      <td>&lt;faq  xmlns:xsi=\"http://www.w3.org/2001/XMLSch...</td>\n",
       "      <td>2019-12-17T19:58:26.591000Z</td>\n",
       "      <td>FAQ</td>\n",
       "    </tr>\n",
       "    <tr>\n",
       "      <td>1</td>\n",
       "      <td>5df2ad2290985100349d7c6f</td>\n",
       "      <td>5df2ad2290985100269d7bf1</td>\n",
       "      <td>5de9613a75d7d40014ffb6fc</td>\n",
       "      <td>2</td>\n",
       "      <td>faq</td>\n",
       "      <td>&lt;faq  xmlns:xsi=\"http://www.w3.org/2001/XMLSch...</td>\n",
       "      <td>2019-12-17T19:58:26.850000Z</td>\n",
       "      <td>FAQ</td>\n",
       "    </tr>\n",
       "    <tr>\n",
       "      <td>2</td>\n",
       "      <td>5df2ad2390985100269d7bf9</td>\n",
       "      <td>5df2ad2290985100269d7bf1</td>\n",
       "      <td>5de9613a75d7d40014ffb6fc</td>\n",
       "      <td>2</td>\n",
       "      <td>submit</td>\n",
       "      <td>&lt;faq  xmlns:xsi=\"http://www.w3.org/2001/XMLSch...</td>\n",
       "      <td>2019-12-17T19:58:27.099000Z</td>\n",
       "      <td>FAQ</td>\n",
       "    </tr>\n",
       "    <tr>\n",
       "      <td>3</td>\n",
       "      <td>5df2ad2390985100349d7c73</td>\n",
       "      <td>5df2ad2290985100269d7bf1</td>\n",
       "      <td>5de9613a75d7d40014ffb6fc</td>\n",
       "      <td>2</td>\n",
       "      <td>ref</td>\n",
       "      <td>&lt;faq  xmlns:xsi=\"http://www.w3.org/2001/XMLSch...</td>\n",
       "      <td>2019-12-17T19:58:27.329000Z</td>\n",
       "      <td>FAQ</td>\n",
       "    </tr>\n",
       "    <tr>\n",
       "      <td>4</td>\n",
       "      <td>5df2ad2490985100349d7c77</td>\n",
       "      <td>5df2ad2290985100269d7bf1</td>\n",
       "      <td>5de9613a75d7d40014ffb6fc</td>\n",
       "      <td>2</td>\n",
       "      <td>manuscript</td>\n",
       "      <td>&lt;faq  xmlns:xsi=\"http://www.w3.org/2001/XMLSch...</td>\n",
       "      <td>2019-12-17T19:58:27.558000Z</td>\n",
       "      <td>FAQ</td>\n",
       "    </tr>\n",
       "    <tr>\n",
       "      <td>5</td>\n",
       "      <td>5df2ad2490985100269d7bfd</td>\n",
       "      <td>5df2ad2290985100269d7bf1</td>\n",
       "      <td>5de9613a75d7d40014ffb6fc</td>\n",
       "      <td>2</td>\n",
       "      <td>formats</td>\n",
       "      <td>&lt;faq  xmlns:xsi=\"http://www.w3.org/2001/XMLSch...</td>\n",
       "      <td>2019-12-17T19:58:27.787000Z</td>\n",
       "      <td>FAQ</td>\n",
       "    </tr>\n",
       "    <tr>\n",
       "      <td>6</td>\n",
       "      <td>5df2ad2490985100269d7c01</td>\n",
       "      <td>5df2ad2290985100269d7bf1</td>\n",
       "      <td>5de9613a75d7d40014ffb6fc</td>\n",
       "      <td>2</td>\n",
       "      <td>graphs</td>\n",
       "      <td>&lt;faq  xmlns:xsi=\"http://www.w3.org/2001/XMLSch...</td>\n",
       "      <td>2019-12-17T19:58:28.042000Z</td>\n",
       "      <td>FAQ</td>\n",
       "    </tr>\n",
       "  </tbody>\n",
       "</table>\n",
       "</div>"
      ],
      "text/plain": [
       "                         id                  template  \\\n",
       "0  5df2ad2290985100269d7bf5  5df2ad2290985100269d7bf1   \n",
       "1  5df2ad2290985100349d7c6f  5df2ad2290985100269d7bf1   \n",
       "2  5df2ad2390985100269d7bf9  5df2ad2290985100269d7bf1   \n",
       "3  5df2ad2390985100349d7c73  5df2ad2290985100269d7bf1   \n",
       "4  5df2ad2490985100349d7c77  5df2ad2290985100269d7bf1   \n",
       "5  5df2ad2490985100269d7bfd  5df2ad2290985100269d7bf1   \n",
       "6  5df2ad2490985100269d7c01  5df2ad2290985100269d7bf1   \n",
       "\n",
       "                  workspace user_id       title  \\\n",
       "0  5de9613a75d7d40014ffb6fc       2      lammps   \n",
       "1  5de9613a75d7d40014ffb6fc       2         faq   \n",
       "2  5de9613a75d7d40014ffb6fc       2      submit   \n",
       "3  5de9613a75d7d40014ffb6fc       2         ref   \n",
       "4  5de9613a75d7d40014ffb6fc       2  manuscript   \n",
       "5  5de9613a75d7d40014ffb6fc       2     formats   \n",
       "6  5de9613a75d7d40014ffb6fc       2      graphs   \n",
       "\n",
       "                                         xml_content  \\\n",
       "0  <faq  xmlns:xsi=\"http://www.w3.org/2001/XMLSch...   \n",
       "1  <faq  xmlns:xsi=\"http://www.w3.org/2001/XMLSch...   \n",
       "2  <faq  xmlns:xsi=\"http://www.w3.org/2001/XMLSch...   \n",
       "3  <faq  xmlns:xsi=\"http://www.w3.org/2001/XMLSch...   \n",
       "4  <faq  xmlns:xsi=\"http://www.w3.org/2001/XMLSch...   \n",
       "5  <faq  xmlns:xsi=\"http://www.w3.org/2001/XMLSch...   \n",
       "6  <faq  xmlns:xsi=\"http://www.w3.org/2001/XMLSch...   \n",
       "\n",
       "        last_modification_date template_title  \n",
       "0  2019-12-17T19:58:26.591000Z            FAQ  \n",
       "1  2019-12-17T19:58:26.850000Z            FAQ  \n",
       "2  2019-12-17T19:58:27.099000Z            FAQ  \n",
       "3  2019-12-17T19:58:27.329000Z            FAQ  \n",
       "4  2019-12-17T19:58:27.558000Z            FAQ  \n",
       "5  2019-12-17T19:58:27.787000Z            FAQ  \n",
       "6  2019-12-17T19:58:28.042000Z            FAQ  "
      ]
     },
     "execution_count": 7,
     "metadata": {},
     "output_type": "execute_result"
    }
   ],
   "source": [
    "records = curator.query(template=template)\n",
    "records"
   ]
  },
  {
   "cell_type": "markdown",
   "metadata": {},
   "source": [
    "Pick the first record, and see its xml contents"
   ]
  },
  {
   "cell_type": "code",
   "execution_count": 8,
   "metadata": {},
   "outputs": [
    {
     "name": "stdout",
     "output_type": "stream",
     "text": [
      "<faq  xmlns:xsi=\"http://www.w3.org/2001/XMLSchema-instance\" ><question>Where can I download the LAMMPS molecular dynamics software package?</question><answer><![CDATA[<a href=\"http://lammps.sandia.gov\" class=\"external\">LAMMPS</a> (Large-scale Atomic/Molecular Massively Parallel Simulator) is developed and maintained at  <a href=\"http://www.sandia.gov\" class=\"external\">Sandia National Laboratories</a>.]]></answer></faq>\n"
     ]
    }
   ],
   "source": [
    "record = records.iloc[0]\n",
    "content = record.xml_content\n",
    "print(content)"
   ]
  },
  {
   "cell_type": "markdown",
   "metadata": {},
   "source": [
    "## 3. Manage data\n",
    "\n",
    "A number of class methods have been defined to support retrieving/adding/modifying/deleting records that you own."
   ]
  },
  {
   "cell_type": "markdown",
   "metadata": {},
   "source": [
    "### 3.1 Upload a new record\n",
    "\n",
    "New records can be uploaded to the database using the upload_record() method.\n",
    "\n",
    "Parameters\n",
    "\n",
    "- **template** (*str or pandas.Series*) The template or template title to associate with the record.\n",
    "- **filename** (*str, optional*) Name of an XML file whose contents are to be uploaded.  Either filename or content required.\n",
    "- **content** (*str or bytes, optional*) String content to upload. Either filename or content required.\n",
    "- **title** (*str, optional*) Title to save the record as.  Optional if filename is given (title will be taken as filename without ext).\n",
    "- **duplicatecheck** (*bool, optional*) If True (default), then a ValueError will be raised if a record already exists in the database with the same template and title.  If False, no check is performed possibly allowing for multiple records with the same title to exist in the database."
   ]
  },
  {
   "cell_type": "markdown",
   "metadata": {},
   "source": [
    "Use the content from the record queried above to upload a \"test\" record."
   ]
  },
  {
   "cell_type": "code",
   "execution_count": 9,
   "metadata": {},
   "outputs": [
    {
     "name": "stdout",
     "output_type": "stream",
     "text": [
      "record testrecord1 (5e1785f1ab2f7c00263cf484) successfully uploaded.\n"
     ]
    }
   ],
   "source": [
    "title = 'testrecord1'\n",
    "curator.upload_record(template=template, title=title, content=content)"
   ]
  },
  {
   "cell_type": "markdown",
   "metadata": {},
   "source": [
    "Alternatively, the names of any local XML files can be specified and the method will automatically read the contents.  Note that if title is not specified, the file name without path and extension will be used."
   ]
  },
  {
   "cell_type": "code",
   "execution_count": 11,
   "metadata": {},
   "outputs": [
    {
     "name": "stdout",
     "output_type": "stream",
     "text": [
      "record testrecord2 (5e17880cab2f7c002c3cf413) successfully uploaded.\n"
     ]
    }
   ],
   "source": [
    "# Save content to local file\n",
    "filename = 'testrecord2.xml'\n",
    "with open(filename, 'w') as f:\n",
    "    f.write(content)\n",
    "    \n",
    "# Upload from file    \n",
    "curator.upload_record(template=template, filename=filename)\n",
    "\n",
    "# Delete local file (keep working directory clean)\n",
    "Path(filename).unlink()"
   ]
  },
  {
   "cell_type": "markdown",
   "metadata": {},
   "source": [
    "### 3.2 Access data records assigned to you\n",
    "\n",
    "The records that you own can be accessed using the get_records and get_record methods. get_records() will fetch all records with matching template and/or title. get_record() will fetch a single record if exactly one record matching the given title + template is found, otherwise will throw an error."
   ]
  },
  {
   "cell_type": "code",
   "execution_count": 12,
   "metadata": {},
   "outputs": [
    {
     "data": {
      "text/html": [
       "<div>\n",
       "<style scoped>\n",
       "    .dataframe tbody tr th:only-of-type {\n",
       "        vertical-align: middle;\n",
       "    }\n",
       "\n",
       "    .dataframe tbody tr th {\n",
       "        vertical-align: top;\n",
       "    }\n",
       "\n",
       "    .dataframe thead th {\n",
       "        text-align: right;\n",
       "    }\n",
       "</style>\n",
       "<table border=\"1\" class=\"dataframe\">\n",
       "  <thead>\n",
       "    <tr style=\"text-align: right;\">\n",
       "      <th></th>\n",
       "      <th>id</th>\n",
       "      <th>template</th>\n",
       "      <th>workspace</th>\n",
       "      <th>user_id</th>\n",
       "      <th>title</th>\n",
       "      <th>xml_content</th>\n",
       "      <th>last_modification_date</th>\n",
       "    </tr>\n",
       "  </thead>\n",
       "  <tbody>\n",
       "    <tr>\n",
       "      <td>0</td>\n",
       "      <td>5df2ac9990985100269d7ad9</td>\n",
       "      <td>5df2ac9890985100349d7ad7</td>\n",
       "      <td>5de9613a75d7d40014ffb6fc</td>\n",
       "      <td>2</td>\n",
       "      <td>potential.1985--Foiles-S-M--Ni-Cu</td>\n",
       "      <td>&lt;?xml version=\"1.0\" encoding=\"utf-8\"?&gt;\\n&lt;inter...</td>\n",
       "      <td>2019-12-17T18:36:01.151000Z</td>\n",
       "    </tr>\n",
       "    <tr>\n",
       "      <td>1</td>\n",
       "      <td>5df2ac9990985100339d7ad9</td>\n",
       "      <td>5df2ac9890985100349d7ad7</td>\n",
       "      <td>5de9613a75d7d40014ffb6fc</td>\n",
       "      <td>2</td>\n",
       "      <td>potential.1987--Ackland-G-J-Thetford-R--Nb</td>\n",
       "      <td>&lt;?xml version=\"1.0\" encoding=\"utf-8\"?&gt;\\n&lt;inter...</td>\n",
       "      <td>2019-12-17T18:36:01.458000Z</td>\n",
       "    </tr>\n",
       "    <tr>\n",
       "      <td>2</td>\n",
       "      <td>5df2ac9a90985100329d7ad9</td>\n",
       "      <td>5df2ac9890985100349d7ad7</td>\n",
       "      <td>5de9613a75d7d40014ffb6fc</td>\n",
       "      <td>2</td>\n",
       "      <td>potential.1987--Ackland-G-J-Thetford-R--Ta</td>\n",
       "      <td>&lt;?xml version=\"1.0\" encoding=\"utf-8\"?&gt;\\n&lt;inter...</td>\n",
       "      <td>2019-12-17T18:36:01.732000Z</td>\n",
       "    </tr>\n",
       "    <tr>\n",
       "      <td>3</td>\n",
       "      <td>5df2ac9a90985100269d7add</td>\n",
       "      <td>5df2ac9890985100349d7ad7</td>\n",
       "      <td>5de9613a75d7d40014ffb6fc</td>\n",
       "      <td>2</td>\n",
       "      <td>potential.1987--Ackland-G-J-Thetford-R--V</td>\n",
       "      <td>&lt;?xml version=\"1.0\" encoding=\"utf-8\"?&gt;\\n&lt;inter...</td>\n",
       "      <td>2019-12-17T18:36:01.990000Z</td>\n",
       "    </tr>\n",
       "    <tr>\n",
       "      <td>4</td>\n",
       "      <td>5df2ac9b90985100269d7ae1</td>\n",
       "      <td>5df2ac9890985100349d7ad7</td>\n",
       "      <td>5de9613a75d7d40014ffb6fc</td>\n",
       "      <td>2</td>\n",
       "      <td>potential.1987--Ackland-G-J-Thetford-R--W</td>\n",
       "      <td>&lt;?xml version=\"1.0\" encoding=\"utf-8\"?&gt;\\n&lt;inter...</td>\n",
       "      <td>2019-12-17T18:36:02.327000Z</td>\n",
       "    </tr>\n",
       "    <tr>\n",
       "      <td>...</td>\n",
       "      <td>...</td>\n",
       "      <td>...</td>\n",
       "      <td>...</td>\n",
       "      <td>...</td>\n",
       "      <td>...</td>\n",
       "      <td>...</td>\n",
       "      <td>...</td>\n",
       "    </tr>\n",
       "    <tr>\n",
       "      <td>1624</td>\n",
       "      <td>5e0a4682ab2f7c00263cf436</td>\n",
       "      <td>5e0a34edab2f7c00263cf2c6</td>\n",
       "      <td>5de9613a75d7d40014ffb6fc</td>\n",
       "      <td>2</td>\n",
       "      <td>2018--S-A-Etesami-M-I-Baskes-M-Laradji-et-al--...</td>\n",
       "      <td>&lt;?xml version=\"1.0\" encoding=\"utf-8\"?&gt;\\n&lt;citat...</td>\n",
       "      <td>2019-12-30T18:48:34.421000Z</td>\n",
       "    </tr>\n",
       "    <tr>\n",
       "      <td>1625</td>\n",
       "      <td>5e0a4685ab2f7c002e3cf3a8</td>\n",
       "      <td>5e0a34edab2f7c00263cf2c6</td>\n",
       "      <td>5de9613a75d7d40014ffb6fc</td>\n",
       "      <td>2</td>\n",
       "      <td>2019--M-I-Mendelev--Cu-Zr</td>\n",
       "      <td>&lt;?xml version=\"1.0\" encoding=\"utf-8\"?&gt;\\n&lt;citat...</td>\n",
       "      <td>2019-12-30T18:48:36.987000Z</td>\n",
       "    </tr>\n",
       "    <tr>\n",
       "      <td>1626</td>\n",
       "      <td>5e0a4687ab2f7c00263cf43a</td>\n",
       "      <td>5e0a34edab2f7c00263cf2c6</td>\n",
       "      <td>5de9613a75d7d40014ffb6fc</td>\n",
       "      <td>2</td>\n",
       "      <td>2019--M-I-Mendelev--Fe-Ni-Cr</td>\n",
       "      <td>&lt;?xml version=\"1.0\" encoding=\"utf-8\"?&gt;\\n&lt;citat...</td>\n",
       "      <td>2019-12-30T18:48:39.535000Z</td>\n",
       "    </tr>\n",
       "    <tr>\n",
       "      <td>1627</td>\n",
       "      <td>5e1785f1ab2f7c00263cf484</td>\n",
       "      <td>5df2ad2290985100269d7bf1</td>\n",
       "      <td>None</td>\n",
       "      <td>2</td>\n",
       "      <td>testrecord1</td>\n",
       "      <td>&lt;faq  xmlns:xsi=\"http://www.w3.org/2001/XMLSch...</td>\n",
       "      <td>2020-01-09T19:58:41.299000Z</td>\n",
       "    </tr>\n",
       "    <tr>\n",
       "      <td>1628</td>\n",
       "      <td>5e17880cab2f7c002c3cf413</td>\n",
       "      <td>5df2ad2290985100269d7bf1</td>\n",
       "      <td>None</td>\n",
       "      <td>2</td>\n",
       "      <td>testrecord2</td>\n",
       "      <td>&lt;faq  xmlns:xsi=\"http://www.w3.org/2001/XMLSch...</td>\n",
       "      <td>2020-01-09T20:07:40.769000Z</td>\n",
       "    </tr>\n",
       "  </tbody>\n",
       "</table>\n",
       "<p>1629 rows × 7 columns</p>\n",
       "</div>"
      ],
      "text/plain": [
       "                            id                  template  \\\n",
       "0     5df2ac9990985100269d7ad9  5df2ac9890985100349d7ad7   \n",
       "1     5df2ac9990985100339d7ad9  5df2ac9890985100349d7ad7   \n",
       "2     5df2ac9a90985100329d7ad9  5df2ac9890985100349d7ad7   \n",
       "3     5df2ac9a90985100269d7add  5df2ac9890985100349d7ad7   \n",
       "4     5df2ac9b90985100269d7ae1  5df2ac9890985100349d7ad7   \n",
       "...                        ...                       ...   \n",
       "1624  5e0a4682ab2f7c00263cf436  5e0a34edab2f7c00263cf2c6   \n",
       "1625  5e0a4685ab2f7c002e3cf3a8  5e0a34edab2f7c00263cf2c6   \n",
       "1626  5e0a4687ab2f7c00263cf43a  5e0a34edab2f7c00263cf2c6   \n",
       "1627  5e1785f1ab2f7c00263cf484  5df2ad2290985100269d7bf1   \n",
       "1628  5e17880cab2f7c002c3cf413  5df2ad2290985100269d7bf1   \n",
       "\n",
       "                     workspace user_id  \\\n",
       "0     5de9613a75d7d40014ffb6fc       2   \n",
       "1     5de9613a75d7d40014ffb6fc       2   \n",
       "2     5de9613a75d7d40014ffb6fc       2   \n",
       "3     5de9613a75d7d40014ffb6fc       2   \n",
       "4     5de9613a75d7d40014ffb6fc       2   \n",
       "...                        ...     ...   \n",
       "1624  5de9613a75d7d40014ffb6fc       2   \n",
       "1625  5de9613a75d7d40014ffb6fc       2   \n",
       "1626  5de9613a75d7d40014ffb6fc       2   \n",
       "1627                      None       2   \n",
       "1628                      None       2   \n",
       "\n",
       "                                                  title  \\\n",
       "0                     potential.1985--Foiles-S-M--Ni-Cu   \n",
       "1            potential.1987--Ackland-G-J-Thetford-R--Nb   \n",
       "2            potential.1987--Ackland-G-J-Thetford-R--Ta   \n",
       "3             potential.1987--Ackland-G-J-Thetford-R--V   \n",
       "4             potential.1987--Ackland-G-J-Thetford-R--W   \n",
       "...                                                 ...   \n",
       "1624  2018--S-A-Etesami-M-I-Baskes-M-Laradji-et-al--...   \n",
       "1625                          2019--M-I-Mendelev--Cu-Zr   \n",
       "1626                       2019--M-I-Mendelev--Fe-Ni-Cr   \n",
       "1627                                        testrecord1   \n",
       "1628                                        testrecord2   \n",
       "\n",
       "                                            xml_content  \\\n",
       "0     <?xml version=\"1.0\" encoding=\"utf-8\"?>\\n<inter...   \n",
       "1     <?xml version=\"1.0\" encoding=\"utf-8\"?>\\n<inter...   \n",
       "2     <?xml version=\"1.0\" encoding=\"utf-8\"?>\\n<inter...   \n",
       "3     <?xml version=\"1.0\" encoding=\"utf-8\"?>\\n<inter...   \n",
       "4     <?xml version=\"1.0\" encoding=\"utf-8\"?>\\n<inter...   \n",
       "...                                                 ...   \n",
       "1624  <?xml version=\"1.0\" encoding=\"utf-8\"?>\\n<citat...   \n",
       "1625  <?xml version=\"1.0\" encoding=\"utf-8\"?>\\n<citat...   \n",
       "1626  <?xml version=\"1.0\" encoding=\"utf-8\"?>\\n<citat...   \n",
       "1627  <faq  xmlns:xsi=\"http://www.w3.org/2001/XMLSch...   \n",
       "1628  <faq  xmlns:xsi=\"http://www.w3.org/2001/XMLSch...   \n",
       "\n",
       "           last_modification_date  \n",
       "0     2019-12-17T18:36:01.151000Z  \n",
       "1     2019-12-17T18:36:01.458000Z  \n",
       "2     2019-12-17T18:36:01.732000Z  \n",
       "3     2019-12-17T18:36:01.990000Z  \n",
       "4     2019-12-17T18:36:02.327000Z  \n",
       "...                           ...  \n",
       "1624  2019-12-30T18:48:34.421000Z  \n",
       "1625  2019-12-30T18:48:36.987000Z  \n",
       "1626  2019-12-30T18:48:39.535000Z  \n",
       "1627  2020-01-09T19:58:41.299000Z  \n",
       "1628  2020-01-09T20:07:40.769000Z  \n",
       "\n",
       "[1629 rows x 7 columns]"
      ]
     },
     "execution_count": 12,
     "metadata": {},
     "output_type": "execute_result"
    }
   ],
   "source": [
    "curator.get_records(template=template)"
   ]
  },
  {
   "cell_type": "code",
   "execution_count": 13,
   "metadata": {},
   "outputs": [
    {
     "name": "stdout",
     "output_type": "stream",
     "text": [
      "id                                                 5e17880cab2f7c002c3cf413\n",
      "template                                           5df2ad2290985100269d7bf1\n",
      "workspace                                                              None\n",
      "user_id                                                                   2\n",
      "title                                                           testrecord2\n",
      "xml_content               <faq  xmlns:xsi=\"http://www.w3.org/2001/XMLSch...\n",
      "last_modification_date                          2020-01-09T20:07:40.769000Z\n",
      "Name: 0, dtype: object\n"
     ]
    }
   ],
   "source": [
    "record = curator.get_record(template=template, title='testrecord2')\n",
    "print(record)"
   ]
  },
  {
   "cell_type": "code",
   "execution_count": 14,
   "metadata": {},
   "outputs": [
    {
     "name": "stdout",
     "output_type": "stream",
     "text": [
      "<faq  xmlns:xsi=\"http://www.w3.org/2001/XMLSchema-instance\" ><question>Where can I download the LAMMPS molecular dynamics software package?</question><answer><![CDATA[<a href=\"http://lammps.sandia.gov\" class=\"external\">LAMMPS</a> (Large-scale Atomic/Molecular Massively Parallel Simulator) is developed and maintained at  <a href=\"http://www.sandia.gov\" class=\"external\">Sandia National Laboratories</a>.]]></answer></faq>\n"
     ]
    }
   ],
   "source": [
    "print(record.xml_content)"
   ]
  },
  {
   "cell_type": "markdown",
   "metadata": {},
   "source": [
    "### Assign the workspace of record(s)\n",
    "\n",
    "Initially, all records are not part of a workspace. In order for others to query the records, they must be assigned to a workspace that they have access to.\n",
    "\n",
    "**Note:** requires that user has access to workspaces"
   ]
  },
  {
   "cell_type": "markdown",
   "metadata": {},
   "source": [
    "#### Selecting a workspace\n",
    "\n",
    "- __get_workspaces__ retrieves the workspaces\n",
    "- __get_workspace__ retrieves a single workspace based on title"
   ]
  },
  {
   "cell_type": "code",
   "execution_count": 15,
   "metadata": {},
   "outputs": [
    {
     "data": {
      "text/html": [
       "<div>\n",
       "<style scoped>\n",
       "    .dataframe tbody tr th:only-of-type {\n",
       "        vertical-align: middle;\n",
       "    }\n",
       "\n",
       "    .dataframe tbody tr th {\n",
       "        vertical-align: top;\n",
       "    }\n",
       "\n",
       "    .dataframe thead th {\n",
       "        text-align: right;\n",
       "    }\n",
       "</style>\n",
       "<table border=\"1\" class=\"dataframe\">\n",
       "  <thead>\n",
       "    <tr style=\"text-align: right;\">\n",
       "      <th></th>\n",
       "    </tr>\n",
       "  </thead>\n",
       "  <tbody>\n",
       "  </tbody>\n",
       "</table>\n",
       "</div>"
      ],
      "text/plain": [
       "Empty DataFrame\n",
       "Columns: []\n",
       "Index: []"
      ]
     },
     "execution_count": 15,
     "metadata": {},
     "output_type": "execute_result"
    }
   ],
   "source": [
    "curator.get_workspaces()"
   ]
  },
  {
   "cell_type": "code",
   "execution_count": 8,
   "metadata": {},
   "outputs": [
    {
     "data": {
      "text/plain": [
       "id       5dcd581e98caa900137e14ee\n",
       "title     Global Public Workspace\n",
       "owner                        None\n",
       "Name: 0, dtype: object"
      ]
     },
     "execution_count": 8,
     "metadata": {},
     "output_type": "execute_result"
    }
   ],
   "source": [
    "curator.get_workspace(title='Global Public Workspace')"
   ]
  },
  {
   "cell_type": "markdown",
   "metadata": {},
   "source": [
    "The attribute __global_workspace__ also retrieves the Global Public Workspace "
   ]
  },
  {
   "cell_type": "code",
   "execution_count": 16,
   "metadata": {},
   "outputs": [
    {
     "name": "stdout",
     "output_type": "stream",
     "text": [
      "id       5de6e6165176c3001f4677f0\n",
      "title     Global Public Workspace\n",
      "owner                        None\n",
      "Name: 0, dtype: object\n"
     ]
    }
   ],
   "source": [
    "workspace = curator.global_workspace\n",
    "print(workspace)"
   ]
  },
  {
   "cell_type": "markdown",
   "metadata": {},
   "source": [
    "#### Assign workspace\n",
    "\n",
    "Workspace can be assigned to one or more records using __assign_record_workspace__."
   ]
  },
  {
   "cell_type": "code",
   "execution_count": 17,
   "metadata": {},
   "outputs": [
    {
     "name": "stdout",
     "output_type": "stream",
     "text": [
      "{'title': 'testing1'}\n",
      "record testing1 (5de7cd925176c30030330863) assigned to workspace Global Public Workspace (5de6e6165176c3001f4677f0)\n"
     ]
    }
   ],
   "source": [
    "record = curator.get_record(title=title)\n",
    "curator.assign_record_workspace(record, workspace)"
   ]
  },
  {
   "cell_type": "code",
   "execution_count": 18,
   "metadata": {},
   "outputs": [
    {
     "name": "stdout",
     "output_type": "stream",
     "text": [
      "{}\n",
      "record testing1 (5de7cd925176c30030330863) assigned to workspace Global Public Workspace (5de6e6165176c3001f4677f0)\n",
      "record testing2 (5de7ce7e5176c30037963b69) assigned to workspace Global Public Workspace (5de6e6165176c3001f4677f0)\n"
     ]
    }
   ],
   "source": [
    "alluserrecords = curator.get_records()\n",
    "curator.assign_record_workspace(alluserrecords, workspace)"
   ]
  },
  {
   "cell_type": "markdown",
   "metadata": {},
   "source": [
    "### Delete a record\n",
    "\n",
    "__delete_record__ will delete a single user record. The record must be uniquely identified by either\n",
    "\n",
    "- passing a record Series\n",
    "- uniquely identifying a single record by title+template\n"
   ]
  },
  {
   "cell_type": "code",
   "execution_count": 16,
   "metadata": {},
   "outputs": [
    {
     "name": "stdout",
     "output_type": "stream",
     "text": [
      "record testrecord1 (5e1785f1ab2f7c00263cf484) has been deleted.\n"
     ]
    }
   ],
   "source": [
    "# Delete by identifying with title + template\n",
    "curator.delete_record(title='testrecord1')"
   ]
  },
  {
   "cell_type": "code",
   "execution_count": 17,
   "metadata": {},
   "outputs": [
    {
     "name": "stdout",
     "output_type": "stream",
     "text": [
      "record testrecord2 (5e17880cab2f7c002c3cf413) has been deleted.\n"
     ]
    }
   ],
   "source": [
    "# Get record Series first\n",
    "record = curator.get_record(title='testrecord2', template='Request')\n",
    "\n",
    "# Delete by passing Series\n",
    "curator.delete_record(record)"
   ]
  },
  {
   "cell_type": "markdown",
   "metadata": {},
   "source": [
    "## Manage blobs (raw files)"
   ]
  },
  {
   "cell_type": "markdown",
   "metadata": {},
   "source": [
    "Create blob file for testing"
   ]
  },
  {
   "cell_type": "code",
   "execution_count": 22,
   "metadata": {},
   "outputs": [],
   "source": [
    "filename = 'test_blob.txt'\n",
    "\n",
    "with open(filename, 'w') as f:\n",
    "    f.write('This is my blob for testing')"
   ]
  },
  {
   "cell_type": "markdown",
   "metadata": {},
   "source": [
    "### Upload blob\n",
    "\n",
    "Upload a blob file with __upload_blob__"
   ]
  },
  {
   "cell_type": "code",
   "execution_count": 23,
   "metadata": {},
   "outputs": [
    {
     "name": "stdout",
     "output_type": "stream",
     "text": [
      "File \"test_blob.txt\" uploaded as blob \"test_blob.txt\" (5de7d1ad5176c300335b7830)\n",
      "https://test-potentials.nist.gov/rest/blob/download/5de7d1ad5176c300335b7830/\n"
     ]
    }
   ],
   "source": [
    "handle = curator.upload_blob(filename=filename)\n",
    "print(handle)"
   ]
  },
  {
   "cell_type": "markdown",
   "metadata": {},
   "source": [
    "### Access blobs\n",
    "\n",
    "See metadata for blobs you own with __get_blobs__ and __get_blob__\n",
    "\n",
    "__NOTE__ blobs can be explored by either filename or id, but behavior is different\n",
    "\n",
    "- Identifying by filename only works for user blobs\n",
    "- Identifying by id works for all blobs available to you (user + allowed workspaces)"
   ]
  },
  {
   "cell_type": "code",
   "execution_count": 24,
   "metadata": {},
   "outputs": [
    {
     "data": {
      "text/html": [
       "<div>\n",
       "<style scoped>\n",
       "    .dataframe tbody tr th:only-of-type {\n",
       "        vertical-align: middle;\n",
       "    }\n",
       "\n",
       "    .dataframe tbody tr th {\n",
       "        vertical-align: top;\n",
       "    }\n",
       "\n",
       "    .dataframe thead th {\n",
       "        text-align: right;\n",
       "    }\n",
       "</style>\n",
       "<table border=\"1\" class=\"dataframe\">\n",
       "  <thead>\n",
       "    <tr style=\"text-align: right;\">\n",
       "      <th></th>\n",
       "      <th>id</th>\n",
       "      <th>user_id</th>\n",
       "      <th>filename</th>\n",
       "      <th>handle</th>\n",
       "      <th>upload_date</th>\n",
       "    </tr>\n",
       "  </thead>\n",
       "  <tbody>\n",
       "    <tr>\n",
       "      <th>0</th>\n",
       "      <td>5de7d1ad5176c300335b7830</td>\n",
       "      <td>5</td>\n",
       "      <td>test_blob.txt</td>\n",
       "      <td>https://test-potentials.nist.gov/rest/blob/dow...</td>\n",
       "      <td>2019-12-04 15:33:01+00:00</td>\n",
       "    </tr>\n",
       "  </tbody>\n",
       "</table>\n",
       "</div>"
      ],
      "text/plain": [
       "                         id user_id       filename  \\\n",
       "0  5de7d1ad5176c300335b7830       5  test_blob.txt   \n",
       "\n",
       "                                              handle  \\\n",
       "0  https://test-potentials.nist.gov/rest/blob/dow...   \n",
       "\n",
       "                 upload_date  \n",
       "0  2019-12-04 15:33:01+00:00  "
      ]
     },
     "execution_count": 24,
     "metadata": {},
     "output_type": "execute_result"
    }
   ],
   "source": [
    "curator.get_blobs()"
   ]
  },
  {
   "cell_type": "code",
   "execution_count": 26,
   "metadata": {},
   "outputs": [
    {
     "name": "stdout",
     "output_type": "stream",
     "text": [
      "id                                      5de7d1ad5176c300335b7830\n",
      "user_id                                                        5\n",
      "filename                                           test_blob.txt\n",
      "handle         https://test-potentials.nist.gov/rest/blob/dow...\n",
      "upload_date                            2019-12-04 15:33:01+00:00\n",
      "Name: 0, dtype: object\n"
     ]
    }
   ],
   "source": [
    "blobdata = curator.get_blob(filename=filename)\n",
    "print(blobdata)"
   ]
  },
  {
   "cell_type": "code",
   "execution_count": 27,
   "metadata": {},
   "outputs": [
    {
     "data": {
      "text/plain": [
       "id                                      5de7d1ad5176c300335b7830\n",
       "user_id                                                        5\n",
       "filename                                           test_blob.txt\n",
       "handle         https://test-potentials.nist.gov/rest/blob/dow...\n",
       "upload_date                            2019-12-04 15:33:01+00:00\n",
       "dtype: object"
      ]
     },
     "execution_count": 27,
     "metadata": {},
     "output_type": "execute_result"
    }
   ],
   "source": [
    "curator.get_blob(id=blobdata.id)"
   ]
  },
  {
   "cell_type": "markdown",
   "metadata": {},
   "source": [
    "### Access blob contents\n",
    "\n",
    "- __get_blob_contents__ returns the blob contents as bytes\n",
    "- __download_blob__ saves the contents locally using the blob's filename (and optional directory)"
   ]
  },
  {
   "cell_type": "code",
   "execution_count": 28,
   "metadata": {},
   "outputs": [
    {
     "name": "stdout",
     "output_type": "stream",
     "text": [
      "b'This is my blob for testing'\n"
     ]
    }
   ],
   "source": [
    "print(curator.get_blob_contents(filename=filename))"
   ]
  },
  {
   "cell_type": "code",
   "execution_count": 29,
   "metadata": {},
   "outputs": [],
   "source": [
    "curator.download_blob(filename=filename)"
   ]
  },
  {
   "cell_type": "markdown",
   "metadata": {},
   "source": [
    "### Assign blob to workspace"
   ]
  },
  {
   "cell_type": "code",
   "execution_count": 30,
   "metadata": {},
   "outputs": [],
   "source": [
    "blob = curator.get_blob(filename=filename)\n",
    "workspace = curator.global_workspace"
   ]
  },
  {
   "cell_type": "code",
   "execution_count": 31,
   "metadata": {},
   "outputs": [
    {
     "name": "stdout",
     "output_type": "stream",
     "text": [
      "blob test_blob.txt (5de7d1ad5176c300335b7830) assigned to workspace Global Public Workspace (5de6e6165176c3001f4677f0)\n"
     ]
    }
   ],
   "source": [
    "curator.assign_blob_workspace(blob, workspace)"
   ]
  },
  {
   "cell_type": "markdown",
   "metadata": {},
   "source": [
    "### Delete blob"
   ]
  },
  {
   "cell_type": "code",
   "execution_count": 29,
   "metadata": {},
   "outputs": [
    {
     "name": "stdout",
     "output_type": "stream",
     "text": [
      "Successfully deleted blob \"blob\" (5de5477398caa900282b8226)\n"
     ]
    }
   ],
   "source": [
    "curator.delete_blob(filename=filename)"
   ]
  }
 ],
 "metadata": {
  "kernelspec": {
   "display_name": "Python 3",
   "language": "python",
   "name": "python3"
  },
  "language_info": {
   "codemirror_mode": {
    "name": "ipython",
    "version": 3
   },
   "file_extension": ".py",
   "mimetype": "text/x-python",
   "name": "python",
   "nbconvert_exporter": "python",
   "pygments_lexer": "ipython3",
   "version": "3.7.4"
  }
 },
 "nbformat": 4,
 "nbformat_minor": 4
}
