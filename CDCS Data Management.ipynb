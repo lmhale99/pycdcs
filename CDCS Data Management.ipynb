{
 "cells": [
  {
   "cell_type": "markdown",
   "metadata": {},
   "source": [
    "# CDCS Data Management\n",
    "\n",
    "This Notebook details the functions and interactions for managing data in a CDCS instance.  Primarily, this means having an account on the database allowing you to log in to create and modify records. \n",
    "\n",
    "Notes on CDCS design:\n",
    "\n",
    "- Each record is assigned to a user and can be assigned to a workspace.\n",
    "- Any records without a workspace are only accessible to the assigned user.\n",
    "- A workspace serves as a group of records that can be made accessible to specific users.\n",
    "- Each CDCS instance has a \"Global Public Workspace\" that is meant for all users to be able to see."
   ]
  },
  {
   "cell_type": "code",
   "execution_count": 1,
   "metadata": {},
   "outputs": [
    {
     "name": "stdout",
     "output_type": "stream",
     "text": [
      "Notebook executed for cdcs version 0.1.9\n"
     ]
    }
   ],
   "source": [
    "from pathlib import Path\n",
    "\n",
    "import cdcs\n",
    "from cdcs import CDCS\n",
    "\n",
    "print('Notebook executed for cdcs version', cdcs.__version__)"
   ]
  },
  {
   "cell_type": "markdown",
   "metadata": {},
   "source": [
    "## 1. Class initialization\n",
    "\n",
    "A CDCS client manager can be initialized by passing it the host url and authenication information.\n",
    "\n",
    "Parameters\n",
    "\n",
    "- __host__: (*str*) URL for the database's server.\n",
    "- __username__: (*str, optional*) Username of desired account on the server. A prompt will ask for the username if not given.\n",
    "- __password__: (*str, optional*) Password of desired account on the server.  A prompt will ask for the password if not given.\n",
    "- __auth__: (*tuple, optional*) Auth tuple to enable Basic/Digest/Custom HTTP Auth.  Alternative to giving username and password seperately.\n",
    "- __cert__: (*str, optional*) if String, path to ssl client cert file (.pem). If Tuple, (‘cert’, ‘key’) pair.\n",
    "- __certification__: (*str, optional*) Alias for cert. Retained for compatibility.\n",
    "- __verify__: (*bool or str, optional*) Either a boolean, in which case it controls whether we verify the server’s TLS certificate, or a string, in which case it must be a path to a CA bundle to use. Defaults to True."
   ]
  },
  {
   "cell_type": "code",
   "execution_count": 2,
   "metadata": {},
   "outputs": [
    {
     "name": "stdout",
     "output_type": "stream",
     "text": [
      "Enter password for lmh1 @ https://potentials.nist.gov:········\n"
     ]
    }
   ],
   "source": [
    "curator = CDCS('https://potentials.nist.gov/', username='lmh1')"
   ]
  },
  {
   "cell_type": "markdown",
   "metadata": {},
   "source": [
    "## 2. Query data\n",
    "\n",
    "The query() method will return *all* matching records that you have access to.\n",
    "\n",
    "Parameters\n",
    "\n",
    "- __template__: (*list, str, pandas.Series or pandas.DataFrame, optional*) One or more templates or template titles to limit the search by.\n",
    "- __title__: (*str, optional*) Record title to limit the search by.\n",
    "- __keyword__: (*str or list, optional*) Keyword(s) to use for a string-based search of record content.  Only records containing all keywords will be returned. \n",
    "- __mongoquery__: (*str or dict, optional*) Mongodb find query to use in limiting searches by record element fields.  Note: only record parsing is supported, not field projection.\n",
    "- __page__: (*int or None, optional*) If an int, then will return results only for that page of 10 records.  If None (default), then results for all pages will be compiled and returned.\n",
    "\n",
    "Returns\n",
    "- (*pandas.DataFrame*) All records matching the search request"
   ]
  },
  {
   "cell_type": "markdown",
   "metadata": {},
   "source": [
    "Specify a template in the database to interact with"
   ]
  },
  {
   "cell_type": "code",
   "execution_count": 3,
   "metadata": {},
   "outputs": [],
   "source": [
    "# Note: template should the name of a template in the database you are accessing!\n",
    "template = 'FAQ'"
   ]
  },
  {
   "cell_type": "markdown",
   "metadata": {},
   "source": [
    "Use query to fetch records"
   ]
  },
  {
   "cell_type": "code",
   "execution_count": 4,
   "metadata": {},
   "outputs": [
    {
     "data": {
      "text/html": [
       "<div>\n",
       "<style scoped>\n",
       "    .dataframe tbody tr th:only-of-type {\n",
       "        vertical-align: middle;\n",
       "    }\n",
       "\n",
       "    .dataframe tbody tr th {\n",
       "        vertical-align: top;\n",
       "    }\n",
       "\n",
       "    .dataframe thead th {\n",
       "        text-align: right;\n",
       "    }\n",
       "</style>\n",
       "<table border=\"1\" class=\"dataframe\">\n",
       "  <thead>\n",
       "    <tr style=\"text-align: right;\">\n",
       "      <th></th>\n",
       "      <th>id</th>\n",
       "      <th>template</th>\n",
       "      <th>workspace</th>\n",
       "      <th>user_id</th>\n",
       "      <th>title</th>\n",
       "      <th>xml_content</th>\n",
       "      <th>creation_date</th>\n",
       "      <th>last_modification_date</th>\n",
       "      <th>last_change_date</th>\n",
       "      <th>template_title</th>\n",
       "    </tr>\n",
       "  </thead>\n",
       "  <tbody>\n",
       "    <tr>\n",
       "      <th>0</th>\n",
       "      <td>61e7d7734f87baec302de5c4</td>\n",
       "      <td>61e7d772d2b0a949beaa4440</td>\n",
       "      <td>61e04376ea78175c20ac1554</td>\n",
       "      <td>2</td>\n",
       "      <td>ref</td>\n",
       "      <td>&lt;faq  xmlns:xsi=\"http://www.w3.org/2001/XMLSch...</td>\n",
       "      <td>2021-08-26 13:15:58.407000+00:00</td>\n",
       "      <td>2021-08-26 13:15:58.407000+00:00</td>\n",
       "      <td>2021-08-26 13:15:58.715000+00:00</td>\n",
       "      <td>FAQ</td>\n",
       "    </tr>\n",
       "    <tr>\n",
       "      <th>1</th>\n",
       "      <td>61e7d77421ce6d3711a5aa7f</td>\n",
       "      <td>61e7d772d2b0a949beaa4440</td>\n",
       "      <td>61e04376ea78175c20ac1554</td>\n",
       "      <td>2</td>\n",
       "      <td>faq</td>\n",
       "      <td>&lt;faq  xmlns:xsi=\"http://www.w3.org/2001/XMLSch...</td>\n",
       "      <td>2021-08-26 13:15:57.438000+00:00</td>\n",
       "      <td>2021-08-26 13:15:57.438000+00:00</td>\n",
       "      <td>2021-08-26 13:15:57.750000+00:00</td>\n",
       "      <td>FAQ</td>\n",
       "    </tr>\n",
       "    <tr>\n",
       "      <th>2</th>\n",
       "      <td>61e7d7754f87baec302de5c8</td>\n",
       "      <td>61e7d772d2b0a949beaa4440</td>\n",
       "      <td>61e04376ea78175c20ac1554</td>\n",
       "      <td>2</td>\n",
       "      <td>formats</td>\n",
       "      <td>&lt;faq  xmlns:xsi=\"http://www.w3.org/2001/XMLSch...</td>\n",
       "      <td>2021-08-26 13:15:57.919000+00:00</td>\n",
       "      <td>2021-08-26 13:15:57.919000+00:00</td>\n",
       "      <td>2021-08-26 13:15:58.236000+00:00</td>\n",
       "      <td>FAQ</td>\n",
       "    </tr>\n",
       "    <tr>\n",
       "      <th>3</th>\n",
       "      <td>61e7d776023df5acc187b272</td>\n",
       "      <td>61e7d772d2b0a949beaa4440</td>\n",
       "      <td>61e04376ea78175c20ac1554</td>\n",
       "      <td>2</td>\n",
       "      <td>graphs</td>\n",
       "      <td>&lt;faq  xmlns:xsi=\"http://www.w3.org/2001/XMLSch...</td>\n",
       "      <td>2021-08-26 13:15:59.839000+00:00</td>\n",
       "      <td>2021-08-26 13:15:59.839000+00:00</td>\n",
       "      <td>2021-08-26 13:16:00.155000+00:00</td>\n",
       "      <td>FAQ</td>\n",
       "    </tr>\n",
       "    <tr>\n",
       "      <th>4</th>\n",
       "      <td>61e7d777e7c22f15811f3c51</td>\n",
       "      <td>61e7d772d2b0a949beaa4440</td>\n",
       "      <td>61e04376ea78175c20ac1554</td>\n",
       "      <td>2</td>\n",
       "      <td>lammps</td>\n",
       "      <td>&lt;faq  xmlns:xsi=\"http://www.w3.org/2001/XMLSch...</td>\n",
       "      <td>2021-08-26 13:15:59.365000+00:00</td>\n",
       "      <td>2021-08-26 13:15:59.365000+00:00</td>\n",
       "      <td>2021-08-26 13:15:59.674000+00:00</td>\n",
       "      <td>FAQ</td>\n",
       "    </tr>\n",
       "    <tr>\n",
       "      <th>5</th>\n",
       "      <td>61e7d778b7be9048c078d083</td>\n",
       "      <td>61e7d772d2b0a949beaa4440</td>\n",
       "      <td>61e04376ea78175c20ac1554</td>\n",
       "      <td>2</td>\n",
       "      <td>submit</td>\n",
       "      <td>&lt;faq  xmlns:xsi=\"http://www.w3.org/2001/XMLSch...</td>\n",
       "      <td>2021-08-26 13:15:56.939000+00:00</td>\n",
       "      <td>2021-08-26 13:15:56.939000+00:00</td>\n",
       "      <td>2021-08-26 13:15:57.264000+00:00</td>\n",
       "      <td>FAQ</td>\n",
       "    </tr>\n",
       "    <tr>\n",
       "      <th>6</th>\n",
       "      <td>61e7d7794f87baec302de5cc</td>\n",
       "      <td>61e7d772d2b0a949beaa4440</td>\n",
       "      <td>61e04376ea78175c20ac1554</td>\n",
       "      <td>2</td>\n",
       "      <td>manuscript</td>\n",
       "      <td>&lt;faq  xmlns:xsi=\"http://www.w3.org/2001/XMLSch...</td>\n",
       "      <td>2021-08-26 13:15:58.878000+00:00</td>\n",
       "      <td>2021-08-26 13:15:58.878000+00:00</td>\n",
       "      <td>2021-08-26 13:15:59.197000+00:00</td>\n",
       "      <td>FAQ</td>\n",
       "    </tr>\n",
       "  </tbody>\n",
       "</table>\n",
       "</div>"
      ],
      "text/plain": [
       "                         id                  template  \\\n",
       "0  61e7d7734f87baec302de5c4  61e7d772d2b0a949beaa4440   \n",
       "1  61e7d77421ce6d3711a5aa7f  61e7d772d2b0a949beaa4440   \n",
       "2  61e7d7754f87baec302de5c8  61e7d772d2b0a949beaa4440   \n",
       "3  61e7d776023df5acc187b272  61e7d772d2b0a949beaa4440   \n",
       "4  61e7d777e7c22f15811f3c51  61e7d772d2b0a949beaa4440   \n",
       "5  61e7d778b7be9048c078d083  61e7d772d2b0a949beaa4440   \n",
       "6  61e7d7794f87baec302de5cc  61e7d772d2b0a949beaa4440   \n",
       "\n",
       "                  workspace user_id       title  \\\n",
       "0  61e04376ea78175c20ac1554       2         ref   \n",
       "1  61e04376ea78175c20ac1554       2         faq   \n",
       "2  61e04376ea78175c20ac1554       2     formats   \n",
       "3  61e04376ea78175c20ac1554       2      graphs   \n",
       "4  61e04376ea78175c20ac1554       2      lammps   \n",
       "5  61e04376ea78175c20ac1554       2      submit   \n",
       "6  61e04376ea78175c20ac1554       2  manuscript   \n",
       "\n",
       "                                         xml_content  \\\n",
       "0  <faq  xmlns:xsi=\"http://www.w3.org/2001/XMLSch...   \n",
       "1  <faq  xmlns:xsi=\"http://www.w3.org/2001/XMLSch...   \n",
       "2  <faq  xmlns:xsi=\"http://www.w3.org/2001/XMLSch...   \n",
       "3  <faq  xmlns:xsi=\"http://www.w3.org/2001/XMLSch...   \n",
       "4  <faq  xmlns:xsi=\"http://www.w3.org/2001/XMLSch...   \n",
       "5  <faq  xmlns:xsi=\"http://www.w3.org/2001/XMLSch...   \n",
       "6  <faq  xmlns:xsi=\"http://www.w3.org/2001/XMLSch...   \n",
       "\n",
       "                     creation_date           last_modification_date  \\\n",
       "0 2021-08-26 13:15:58.407000+00:00 2021-08-26 13:15:58.407000+00:00   \n",
       "1 2021-08-26 13:15:57.438000+00:00 2021-08-26 13:15:57.438000+00:00   \n",
       "2 2021-08-26 13:15:57.919000+00:00 2021-08-26 13:15:57.919000+00:00   \n",
       "3 2021-08-26 13:15:59.839000+00:00 2021-08-26 13:15:59.839000+00:00   \n",
       "4 2021-08-26 13:15:59.365000+00:00 2021-08-26 13:15:59.365000+00:00   \n",
       "5 2021-08-26 13:15:56.939000+00:00 2021-08-26 13:15:56.939000+00:00   \n",
       "6 2021-08-26 13:15:58.878000+00:00 2021-08-26 13:15:58.878000+00:00   \n",
       "\n",
       "                  last_change_date template_title  \n",
       "0 2021-08-26 13:15:58.715000+00:00            FAQ  \n",
       "1 2021-08-26 13:15:57.750000+00:00            FAQ  \n",
       "2 2021-08-26 13:15:58.236000+00:00            FAQ  \n",
       "3 2021-08-26 13:16:00.155000+00:00            FAQ  \n",
       "4 2021-08-26 13:15:59.674000+00:00            FAQ  \n",
       "5 2021-08-26 13:15:57.264000+00:00            FAQ  \n",
       "6 2021-08-26 13:15:59.197000+00:00            FAQ  "
      ]
     },
     "execution_count": 4,
     "metadata": {},
     "output_type": "execute_result"
    }
   ],
   "source": [
    "records = curator.query(template=template)\n",
    "records"
   ]
  },
  {
   "cell_type": "markdown",
   "metadata": {},
   "source": [
    "Pick the first record, and see its xml contents"
   ]
  },
  {
   "cell_type": "code",
   "execution_count": 5,
   "metadata": {},
   "outputs": [
    {
     "name": "stdout",
     "output_type": "stream",
     "text": [
      "<faq  xmlns:xsi=\"http://www.w3.org/2001/XMLSchema-instance\" ><question>I have downloaded an interatomic potential and wish to acknowledge the website in the references.  How do I do that?</question><answer>In addition to the citation information for the interatomic potential, please include \"NIST Interatomic Potentials Repository: http://www.ctcms.nist.gov/potentials\" in the references.</answer></faq>\n"
     ]
    }
   ],
   "source": [
    "record = records.iloc[0]\n",
    "content = record.xml_content\n",
    "print(content)"
   ]
  },
  {
   "cell_type": "markdown",
   "metadata": {},
   "source": [
    "## 3. Manage records\n",
    "\n",
    "The methods associated with managing records requires having an account with the corresponding database and the correct privileges."
   ]
  },
  {
   "cell_type": "markdown",
   "metadata": {},
   "source": [
    "### 3.1. Upload a new record\n",
    "\n",
    "New records can be uploaded to the database using the upload_record() method.\n",
    "\n",
    "Parameters\n",
    "\n",
    "- **template** (*str or pandas.Series*) The template or template title to associate with the record.\n",
    "- **filename** (*str, optional*) Name of an XML file whose contents are to be uploaded.  Either filename or content required.\n",
    "- **content** (*str or bytes, optional*) String content to upload. Either filename or content required.\n",
    "- **title** (*str, optional*) Title to save the record as.  Optional if filename is given (title will be taken as filename without ext).\n",
    "- **workspace** (*str or pandas.Series, optional*) If given, the record will be assigned to this workspace after successfully being uploaded.\n",
    "- **duplicatecheck** (*bool, optional*) If True (default), then a ValueError will be raised if a record already exists with the same template and title.  If False, no check is performed possibly allowing for multiple records with the same title to exist in the database.  Note: this check only searches the records that you have access to, so duplicates are possible from other users.\n",
    "- **verbose** (*bool, optional*) Setting this to True will print extra status messages.  Default value is False."
   ]
  },
  {
   "cell_type": "markdown",
   "metadata": {},
   "source": [
    "Use the content from the record queried above to upload a \"test\" record."
   ]
  },
  {
   "cell_type": "code",
   "execution_count": 6,
   "metadata": {},
   "outputs": [
    {
     "name": "stdout",
     "output_type": "stream",
     "text": [
      "record testrecord1 (6307af837e0d3151f09d8bde) successfully uploaded.\n"
     ]
    }
   ],
   "source": [
    "title = 'testrecord1'\n",
    "curator.upload_record(template=template, title=title, content=content, verbose=True)"
   ]
  },
  {
   "cell_type": "markdown",
   "metadata": {},
   "source": [
    "Alternatively, the names of any local XML files can be specified and the method will automatically read the contents.  The file name without path and extension will be used for the title if no title is given.\n",
    "\n",
    "Also, note that the workspace is being set to 'Global Public Workspace'."
   ]
  },
  {
   "cell_type": "code",
   "execution_count": 7,
   "metadata": {},
   "outputs": [
    {
     "name": "stdout",
     "output_type": "stream",
     "text": [
      "record testrecord2 (6307af8787cb8a45bc5f7cf6) successfully uploaded.\n",
      "record 6307af8787cb8a45bc5f7cf6 assigned to workspace 61e04376ea78175c20ac1554\n"
     ]
    }
   ],
   "source": [
    "# Save content to local file\n",
    "filename = 'testrecord2.xml'\n",
    "with open(filename, 'w') as f:\n",
    "    f.write(content)\n",
    "    \n",
    "# Upload from file\n",
    "curator.upload_record(template=template, filename=filename, verbose=True,\n",
    "                      workspace='Global Public Workspace')\n",
    "\n",
    "# Delete local file (keep working directory clean)\n",
    "Path(filename).unlink()"
   ]
  },
  {
   "cell_type": "markdown",
   "metadata": {},
   "source": [
    "### 3.2. Retrieve data records\n",
    "\n",
    "The records that you own can be accessed using the get_records() and get_record() methods. get_records() will fetch all matching records, while get_record() will fetch a single record if exactly one match is found and will throw an error otherwise.\n",
    "\n",
    "Parameters\n",
    "\n",
    "- **template** (*str or pandas.Series, optional*) The template or template title to limit the search by.\n",
    "- **title** (*str, optional*) The data record title to limit the search by."
   ]
  },
  {
   "cell_type": "code",
   "execution_count": 8,
   "metadata": {},
   "outputs": [
    {
     "data": {
      "text/html": [
       "<div>\n",
       "<style scoped>\n",
       "    .dataframe tbody tr th:only-of-type {\n",
       "        vertical-align: middle;\n",
       "    }\n",
       "\n",
       "    .dataframe tbody tr th {\n",
       "        vertical-align: top;\n",
       "    }\n",
       "\n",
       "    .dataframe thead th {\n",
       "        text-align: right;\n",
       "    }\n",
       "</style>\n",
       "<table border=\"1\" class=\"dataframe\">\n",
       "  <thead>\n",
       "    <tr style=\"text-align: right;\">\n",
       "      <th></th>\n",
       "      <th>id</th>\n",
       "      <th>template</th>\n",
       "      <th>workspace</th>\n",
       "      <th>user_id</th>\n",
       "      <th>title</th>\n",
       "      <th>xml_content</th>\n",
       "      <th>creation_date</th>\n",
       "      <th>last_modification_date</th>\n",
       "      <th>last_change_date</th>\n",
       "    </tr>\n",
       "  </thead>\n",
       "  <tbody>\n",
       "    <tr>\n",
       "      <th>0</th>\n",
       "      <td>6307af8787cb8a45bc5f7cf6</td>\n",
       "      <td>61e7d772d2b0a949beaa4440</td>\n",
       "      <td>61e04376ea78175c20ac1554</td>\n",
       "      <td>2</td>\n",
       "      <td>testrecord2</td>\n",
       "      <td>&lt;faq  xmlns:xsi=\"http://www.w3.org/2001/XMLSch...</td>\n",
       "      <td>2022-08-25 17:21:11.108000+00:00</td>\n",
       "      <td>2022-08-25 17:21:11.108000+00:00</td>\n",
       "      <td>2022-08-25 17:21:12.974000+00:00</td>\n",
       "    </tr>\n",
       "    <tr>\n",
       "      <th>1</th>\n",
       "      <td>6307af837e0d3151f09d8bde</td>\n",
       "      <td>61e7d772d2b0a949beaa4440</td>\n",
       "      <td>None</td>\n",
       "      <td>2</td>\n",
       "      <td>testrecord1</td>\n",
       "      <td>&lt;faq  xmlns:xsi=\"http://www.w3.org/2001/XMLSch...</td>\n",
       "      <td>2022-08-25 17:21:07.704000+00:00</td>\n",
       "      <td>2022-08-25 17:21:07.704000+00:00</td>\n",
       "      <td>2022-08-25 17:21:07.704000+00:00</td>\n",
       "    </tr>\n",
       "    <tr>\n",
       "      <th>2</th>\n",
       "      <td>61e7d776023df5acc187b272</td>\n",
       "      <td>61e7d772d2b0a949beaa4440</td>\n",
       "      <td>61e04376ea78175c20ac1554</td>\n",
       "      <td>2</td>\n",
       "      <td>graphs</td>\n",
       "      <td>&lt;faq  xmlns:xsi=\"http://www.w3.org/2001/XMLSch...</td>\n",
       "      <td>2021-08-26 13:15:59.839000+00:00</td>\n",
       "      <td>2021-08-26 13:15:59.839000+00:00</td>\n",
       "      <td>2021-08-26 13:16:00.155000+00:00</td>\n",
       "    </tr>\n",
       "    <tr>\n",
       "      <th>3</th>\n",
       "      <td>61e7d777e7c22f15811f3c51</td>\n",
       "      <td>61e7d772d2b0a949beaa4440</td>\n",
       "      <td>61e04376ea78175c20ac1554</td>\n",
       "      <td>2</td>\n",
       "      <td>lammps</td>\n",
       "      <td>&lt;faq  xmlns:xsi=\"http://www.w3.org/2001/XMLSch...</td>\n",
       "      <td>2021-08-26 13:15:59.365000+00:00</td>\n",
       "      <td>2021-08-26 13:15:59.365000+00:00</td>\n",
       "      <td>2021-08-26 13:15:59.674000+00:00</td>\n",
       "    </tr>\n",
       "    <tr>\n",
       "      <th>4</th>\n",
       "      <td>61e7d7794f87baec302de5cc</td>\n",
       "      <td>61e7d772d2b0a949beaa4440</td>\n",
       "      <td>61e04376ea78175c20ac1554</td>\n",
       "      <td>2</td>\n",
       "      <td>manuscript</td>\n",
       "      <td>&lt;faq  xmlns:xsi=\"http://www.w3.org/2001/XMLSch...</td>\n",
       "      <td>2021-08-26 13:15:58.878000+00:00</td>\n",
       "      <td>2021-08-26 13:15:58.878000+00:00</td>\n",
       "      <td>2021-08-26 13:15:59.197000+00:00</td>\n",
       "    </tr>\n",
       "    <tr>\n",
       "      <th>5</th>\n",
       "      <td>61e7d7734f87baec302de5c4</td>\n",
       "      <td>61e7d772d2b0a949beaa4440</td>\n",
       "      <td>61e04376ea78175c20ac1554</td>\n",
       "      <td>2</td>\n",
       "      <td>ref</td>\n",
       "      <td>&lt;faq  xmlns:xsi=\"http://www.w3.org/2001/XMLSch...</td>\n",
       "      <td>2021-08-26 13:15:58.407000+00:00</td>\n",
       "      <td>2021-08-26 13:15:58.407000+00:00</td>\n",
       "      <td>2021-08-26 13:15:58.715000+00:00</td>\n",
       "    </tr>\n",
       "    <tr>\n",
       "      <th>6</th>\n",
       "      <td>61e7d7754f87baec302de5c8</td>\n",
       "      <td>61e7d772d2b0a949beaa4440</td>\n",
       "      <td>61e04376ea78175c20ac1554</td>\n",
       "      <td>2</td>\n",
       "      <td>formats</td>\n",
       "      <td>&lt;faq  xmlns:xsi=\"http://www.w3.org/2001/XMLSch...</td>\n",
       "      <td>2021-08-26 13:15:57.919000+00:00</td>\n",
       "      <td>2021-08-26 13:15:57.919000+00:00</td>\n",
       "      <td>2021-08-26 13:15:58.236000+00:00</td>\n",
       "    </tr>\n",
       "    <tr>\n",
       "      <th>7</th>\n",
       "      <td>61e7d77421ce6d3711a5aa7f</td>\n",
       "      <td>61e7d772d2b0a949beaa4440</td>\n",
       "      <td>61e04376ea78175c20ac1554</td>\n",
       "      <td>2</td>\n",
       "      <td>faq</td>\n",
       "      <td>&lt;faq  xmlns:xsi=\"http://www.w3.org/2001/XMLSch...</td>\n",
       "      <td>2021-08-26 13:15:57.438000+00:00</td>\n",
       "      <td>2021-08-26 13:15:57.438000+00:00</td>\n",
       "      <td>2021-08-26 13:15:57.750000+00:00</td>\n",
       "    </tr>\n",
       "    <tr>\n",
       "      <th>8</th>\n",
       "      <td>61e7d778b7be9048c078d083</td>\n",
       "      <td>61e7d772d2b0a949beaa4440</td>\n",
       "      <td>61e04376ea78175c20ac1554</td>\n",
       "      <td>2</td>\n",
       "      <td>submit</td>\n",
       "      <td>&lt;faq  xmlns:xsi=\"http://www.w3.org/2001/XMLSch...</td>\n",
       "      <td>2021-08-26 13:15:56.939000+00:00</td>\n",
       "      <td>2021-08-26 13:15:56.939000+00:00</td>\n",
       "      <td>2021-08-26 13:15:57.264000+00:00</td>\n",
       "    </tr>\n",
       "  </tbody>\n",
       "</table>\n",
       "</div>"
      ],
      "text/plain": [
       "                         id                  template  \\\n",
       "0  6307af8787cb8a45bc5f7cf6  61e7d772d2b0a949beaa4440   \n",
       "1  6307af837e0d3151f09d8bde  61e7d772d2b0a949beaa4440   \n",
       "2  61e7d776023df5acc187b272  61e7d772d2b0a949beaa4440   \n",
       "3  61e7d777e7c22f15811f3c51  61e7d772d2b0a949beaa4440   \n",
       "4  61e7d7794f87baec302de5cc  61e7d772d2b0a949beaa4440   \n",
       "5  61e7d7734f87baec302de5c4  61e7d772d2b0a949beaa4440   \n",
       "6  61e7d7754f87baec302de5c8  61e7d772d2b0a949beaa4440   \n",
       "7  61e7d77421ce6d3711a5aa7f  61e7d772d2b0a949beaa4440   \n",
       "8  61e7d778b7be9048c078d083  61e7d772d2b0a949beaa4440   \n",
       "\n",
       "                  workspace user_id        title  \\\n",
       "0  61e04376ea78175c20ac1554       2  testrecord2   \n",
       "1                      None       2  testrecord1   \n",
       "2  61e04376ea78175c20ac1554       2       graphs   \n",
       "3  61e04376ea78175c20ac1554       2       lammps   \n",
       "4  61e04376ea78175c20ac1554       2   manuscript   \n",
       "5  61e04376ea78175c20ac1554       2          ref   \n",
       "6  61e04376ea78175c20ac1554       2      formats   \n",
       "7  61e04376ea78175c20ac1554       2          faq   \n",
       "8  61e04376ea78175c20ac1554       2       submit   \n",
       "\n",
       "                                         xml_content  \\\n",
       "0  <faq  xmlns:xsi=\"http://www.w3.org/2001/XMLSch...   \n",
       "1  <faq  xmlns:xsi=\"http://www.w3.org/2001/XMLSch...   \n",
       "2  <faq  xmlns:xsi=\"http://www.w3.org/2001/XMLSch...   \n",
       "3  <faq  xmlns:xsi=\"http://www.w3.org/2001/XMLSch...   \n",
       "4  <faq  xmlns:xsi=\"http://www.w3.org/2001/XMLSch...   \n",
       "5  <faq  xmlns:xsi=\"http://www.w3.org/2001/XMLSch...   \n",
       "6  <faq  xmlns:xsi=\"http://www.w3.org/2001/XMLSch...   \n",
       "7  <faq  xmlns:xsi=\"http://www.w3.org/2001/XMLSch...   \n",
       "8  <faq  xmlns:xsi=\"http://www.w3.org/2001/XMLSch...   \n",
       "\n",
       "                     creation_date           last_modification_date  \\\n",
       "0 2022-08-25 17:21:11.108000+00:00 2022-08-25 17:21:11.108000+00:00   \n",
       "1 2022-08-25 17:21:07.704000+00:00 2022-08-25 17:21:07.704000+00:00   \n",
       "2 2021-08-26 13:15:59.839000+00:00 2021-08-26 13:15:59.839000+00:00   \n",
       "3 2021-08-26 13:15:59.365000+00:00 2021-08-26 13:15:59.365000+00:00   \n",
       "4 2021-08-26 13:15:58.878000+00:00 2021-08-26 13:15:58.878000+00:00   \n",
       "5 2021-08-26 13:15:58.407000+00:00 2021-08-26 13:15:58.407000+00:00   \n",
       "6 2021-08-26 13:15:57.919000+00:00 2021-08-26 13:15:57.919000+00:00   \n",
       "7 2021-08-26 13:15:57.438000+00:00 2021-08-26 13:15:57.438000+00:00   \n",
       "8 2021-08-26 13:15:56.939000+00:00 2021-08-26 13:15:56.939000+00:00   \n",
       "\n",
       "                  last_change_date  \n",
       "0 2022-08-25 17:21:12.974000+00:00  \n",
       "1 2022-08-25 17:21:07.704000+00:00  \n",
       "2 2021-08-26 13:16:00.155000+00:00  \n",
       "3 2021-08-26 13:15:59.674000+00:00  \n",
       "4 2021-08-26 13:15:59.197000+00:00  \n",
       "5 2021-08-26 13:15:58.715000+00:00  \n",
       "6 2021-08-26 13:15:58.236000+00:00  \n",
       "7 2021-08-26 13:15:57.750000+00:00  \n",
       "8 2021-08-26 13:15:57.264000+00:00  "
      ]
     },
     "execution_count": 8,
     "metadata": {},
     "output_type": "execute_result"
    }
   ],
   "source": [
    "curator.get_records(template=template)"
   ]
  },
  {
   "cell_type": "code",
   "execution_count": 9,
   "metadata": {},
   "outputs": [
    {
     "name": "stdout",
     "output_type": "stream",
     "text": [
      "id                                                 6307af8787cb8a45bc5f7cf6\n",
      "template                                           61e7d772d2b0a949beaa4440\n",
      "workspace                                          61e04376ea78175c20ac1554\n",
      "user_id                                                                   2\n",
      "title                                                           testrecord2\n",
      "xml_content               <faq  xmlns:xsi=\"http://www.w3.org/2001/XMLSch...\n",
      "creation_date                              2022-08-25 17:21:11.108000+00:00\n",
      "last_modification_date                     2022-08-25 17:21:11.108000+00:00\n",
      "last_change_date                           2022-08-25 17:21:12.974000+00:00\n",
      "Name: 0, dtype: object\n"
     ]
    }
   ],
   "source": [
    "record = curator.get_record(template=template, title='testrecord2')\n",
    "print(record)"
   ]
  },
  {
   "cell_type": "code",
   "execution_count": 10,
   "metadata": {},
   "outputs": [
    {
     "name": "stdout",
     "output_type": "stream",
     "text": [
      "<faq  xmlns:xsi=\"http://www.w3.org/2001/XMLSchema-instance\" ><question>I have downloaded an interatomic potential and wish to acknowledge the website in the references.  How do I do that?</question><answer>In addition to the citation information for the interatomic potential, please include \"NIST Interatomic Potentials Repository: http://www.ctcms.nist.gov/potentials\" in the references.</answer></faq>\n"
     ]
    }
   ],
   "source": [
    "print(record.xml_content)"
   ]
  },
  {
   "cell_type": "markdown",
   "metadata": {},
   "source": [
    "### 3.3. Update an existing record\n",
    "\n",
    "The content of a record in the database can be changed using the update_record() method.  Note that this only changes the record's content and all other metadata (user, workspace, database id,...) will remain unchanged.\n",
    "\n",
    "- **record** (*pandas.Series, optional*) A previously identified record to delete.  As this uniquely defines a record, the template and title parameters are ignored if given. Can contain the new conte\n",
    "- **template** (*str or pandas.Series, optional*) The template or template title associated with the record.  template + title values must uniquely identify one record.\n",
    "- **title** (*str, optional*) Title of the record to delete.  template + title values must uniquely identify one record.\n",
    "- **filename** (*str or Path, optional*) Path to file containing the new record content to upload. Either filename or content required.\n",
    "- **content** (*str or bytes, optional*) New content to upload. Either filename or content required.\n",
    "- **workspace** (*str or pandas.Series, optional*) If given, the record will be assigned to this workspace after successfully being updated.\n",
    "- **verbose** (*bool, optional*) Setting this to True will print extra status messages.  Default value is False."
   ]
  },
  {
   "cell_type": "markdown",
   "metadata": {},
   "source": [
    "Change the content of testrecord2 by replacing \"download\" with \"find\""
   ]
  },
  {
   "cell_type": "code",
   "execution_count": 11,
   "metadata": {},
   "outputs": [
    {
     "name": "stdout",
     "output_type": "stream",
     "text": [
      "<faq  xmlns:xsi=\"http://www.w3.org/2001/XMLSchema-instance\" ><question>I have finded an interatomic potential and wish to acknowledge the website in the references.  How do I do that?</question><answer>In addition to the citation information for the interatomic potential, please include \"NIST Interatomic Potentials Repository: http://www.ctcms.nist.gov/potentials\" in the references.</answer></faq>\n"
     ]
    }
   ],
   "source": [
    "new_content = record.xml_content.replace('download', 'find')\n",
    "print(new_content)"
   ]
  },
  {
   "cell_type": "code",
   "execution_count": 12,
   "metadata": {},
   "outputs": [
    {
     "name": "stdout",
     "output_type": "stream",
     "text": [
      "record testrecord2 (6307af8787cb8a45bc5f7cf6) has been updated.\n"
     ]
    }
   ],
   "source": [
    "curator.update_record(record=record, content=new_content, verbose=True)"
   ]
  },
  {
   "cell_type": "markdown",
   "metadata": {},
   "source": [
    "Retrieve the record again from the database showing nothing has changed except modification date and content"
   ]
  },
  {
   "cell_type": "code",
   "execution_count": 13,
   "metadata": {},
   "outputs": [
    {
     "name": "stdout",
     "output_type": "stream",
     "text": [
      "id                                                 6307af8787cb8a45bc5f7cf6\n",
      "template                                           61e7d772d2b0a949beaa4440\n",
      "workspace                                          61e04376ea78175c20ac1554\n",
      "user_id                                                                   2\n",
      "title                                                           testrecord2\n",
      "xml_content               <faq  xmlns:xsi=\"http://www.w3.org/2001/XMLSch...\n",
      "creation_date                              2022-08-25 17:21:11.108000+00:00\n",
      "last_modification_date                     2022-08-25 17:21:18.603000+00:00\n",
      "last_change_date                           2022-08-25 17:21:18.608000+00:00\n",
      "Name: 0, dtype: object\n"
     ]
    }
   ],
   "source": [
    "record = curator.get_record(template=template, title='testrecord2')\n",
    "print(record)"
   ]
  },
  {
   "cell_type": "code",
   "execution_count": 14,
   "metadata": {},
   "outputs": [
    {
     "name": "stdout",
     "output_type": "stream",
     "text": [
      "<faq  xmlns:xsi=\"http://www.w3.org/2001/XMLSchema-instance\" ><question>I have finded an interatomic potential and wish to acknowledge the website in the references.  How do I do that?</question><answer>In addition to the citation information for the interatomic potential, please include \"NIST Interatomic Potentials Repository: http://www.ctcms.nist.gov/potentials\" in the references.</answer></faq>\n"
     ]
    }
   ],
   "source": [
    "print(record.xml_content)"
   ]
  },
  {
   "cell_type": "markdown",
   "metadata": {},
   "source": [
    "### 3.4. Assign records to a workspace\n",
    "\n",
    "The upload_record() and update_record() methods give the option to assign each record to a workspace if wanted.  After a record is added, the workspace can also be changed using the assign_records() method.\n",
    "\n",
    "Parameters\n",
    "\n",
    "- __workspace__ (*str or pandas.Series*) The workspace or workspace title to assign the records to.\n",
    "- __records__ (*pandas.Series or pandas.DataFrame, optional*) Pre-selected records to assign to the workspace.  Cannot be given with ids, template, or title.\n",
    "- __ids__ (*str or list, optional*) The ID(s) of the records to assign to the workspace.  Selecting records using ids has the least overhead. Cannot be given with records, template, or title.\n",
    "- __template__ (*str or pandas.Series, optional*) The template or template title of records to assign to the workspace.  Cannot be given with records or ids.\n",
    "- __title__ (*str, optional*) The title of a record to assign to the workspace. Cannot be given with records or ids.\n",
    "- __verbose__ (*bool, optional*) Setting this to True will print extra status messages.  Default value is False."
   ]
  },
  {
   "cell_type": "code",
   "execution_count": 15,
   "metadata": {},
   "outputs": [
    {
     "name": "stdout",
     "output_type": "stream",
     "text": [
      "record 6307af837e0d3151f09d8bde assigned to workspace 61e04376ea78175c20ac1554\n"
     ]
    }
   ],
   "source": [
    "curator.assign_records(workspace='Global Public Workspace', title='testrecord1', template=template, verbose=True)"
   ]
  },
  {
   "cell_type": "markdown",
   "metadata": {},
   "source": [
    "### 3.5. Delete a record\n",
    "\n",
    "A record can also be deleted by the assigned user using the delete_record() method.\n",
    "\n",
    "Parameters\n",
    "\n",
    "- __record__ (*pandas.Series, optional*) A previously identified record to delete.  As this uniquely defines a record, the other parameters are ignored.\n",
    "- __template__ (*str or pandas.Series, optional*) The template or template title associated with the record.  template + title values must uniquely identify one record.\n",
    "- __title__ (*str, optional*) Title of the record to delete.  template + title values must uniquely identify one record.\n",
    "- __verbose__ (*bool, optional*) Setting this to True will print extra status messages.  Default value is False."
   ]
  },
  {
   "cell_type": "code",
   "execution_count": 16,
   "metadata": {},
   "outputs": [
    {
     "name": "stdout",
     "output_type": "stream",
     "text": [
      "record testrecord1 (6307af837e0d3151f09d8bde) has been deleted.\n"
     ]
    }
   ],
   "source": [
    "# Delete by identifying with title + template\n",
    "curator.delete_record(title='testrecord1', template=template, verbose=True)"
   ]
  },
  {
   "cell_type": "code",
   "execution_count": 17,
   "metadata": {},
   "outputs": [
    {
     "name": "stdout",
     "output_type": "stream",
     "text": [
      "record testrecord2 (6307af8787cb8a45bc5f7cf6) has been deleted.\n"
     ]
    }
   ],
   "source": [
    "# Get a record first\n",
    "record = curator.get_record(title='testrecord2', template=template)\n",
    "\n",
    "# Delete by passing Series\n",
    "curator.delete_record(record, verbose=True)"
   ]
  },
  {
   "cell_type": "markdown",
   "metadata": {},
   "source": [
    "## 4. Manage blobs (raw files)\n",
    "\n",
    "The database can also store any non-record files as blob files that can later be retrieved and downloaded all at once."
   ]
  },
  {
   "cell_type": "markdown",
   "metadata": {},
   "source": [
    "Create blob file for testing"
   ]
  },
  {
   "cell_type": "code",
   "execution_count": 18,
   "metadata": {},
   "outputs": [],
   "source": [
    "filename = 'test_blob.txt'\n",
    "\n",
    "with open(filename, 'w') as f:\n",
    "    f.write('This is my blob for testing')"
   ]
  },
  {
   "cell_type": "markdown",
   "metadata": {},
   "source": [
    "### 4.1. Upload blob\n",
    "\n",
    "Blobs can be added to the database using the upload_blob() method.  When a record is uploaded, it will be associated with the given filename (minus the path).\n",
    "\n",
    "Parameters\n",
    "\n",
    "- __filename__ (*str or Path*) The path/name of the file to upload.\n",
    "- __blobbytes__ (*bytesIO, optional*) Pre-loaded file contents.  Allows for the contents of open file-like objects to be passed in and associated with the filename.  If not given, then the file filename will be read instead.\n",
    "- __workspace__ (*str or pandas.Series, optional*) If given, the blob will be assigned to this workspace after successfully being uploaded.\n",
    "- __verbose__ (*bool, optional*) Setting this to True will print extra status messages.  Default value is False.\n",
    "\n",
    "Returns\n",
    "\n",
    "- __handle__ (*str*) The URL that can be used to retrieve the blob's contents."
   ]
  },
  {
   "cell_type": "code",
   "execution_count": 19,
   "metadata": {},
   "outputs": [
    {
     "name": "stdout",
     "output_type": "stream",
     "text": [
      "File \"test_blob.txt\" uploaded as blob \"test_blob.txt\" (6307af9c8a7c6e38a12361fb)\n",
      "https://potentials.nist.gov/rest/blob/download/6307af9c8a7c6e38a12361fb/\n"
     ]
    }
   ],
   "source": [
    "handle = curator.upload_blob(filename=filename, verbose=True)\n",
    "print(handle)"
   ]
  },
  {
   "cell_type": "markdown",
   "metadata": {},
   "source": [
    "### 4.2 Find blob metadata\n",
    "\n",
    "The list of all blobs currently in the database, or all with an associated filename can be explored with the get_blobs() method.\n",
    "\n",
    "Parameters\n",
    "\n",
    "- __filename__ (*str, optional*) The name of the file to limit the search by.\n",
    "\n",
    "A single blob can also be retrieved using the get_blob() method based on a filename, if it is unique in the database, or a database id.\n",
    "\n",
    "Parameters\n",
    "\n",
    "- __id__ (*str, optional*) The unique ID associated with the blob. Cannot be combined with filename\n",
    "- __filename__ (*str, optional*) The name of the file to limit the search by, which must be unique.  Cannot be combined with id.\n",
    "\n",
    "__NOTE__: Exploring blob metadata appears to behave differently for some versions of CDCS, with the filename searches only showing blobs that the user owns, while id searches shows any blobs available to the user, either by being owned or in an available workspace.\n",
    "\n",
    "- Identifying by filename only works for user blobs\n",
    "- Identifying by id works for all blobs available to you (user + allowed workspaces)"
   ]
  },
  {
   "cell_type": "code",
   "execution_count": 20,
   "metadata": {},
   "outputs": [
    {
     "data": {
      "text/html": [
       "<div>\n",
       "<style scoped>\n",
       "    .dataframe tbody tr th:only-of-type {\n",
       "        vertical-align: middle;\n",
       "    }\n",
       "\n",
       "    .dataframe tbody tr th {\n",
       "        vertical-align: top;\n",
       "    }\n",
       "\n",
       "    .dataframe thead th {\n",
       "        text-align: right;\n",
       "    }\n",
       "</style>\n",
       "<table border=\"1\" class=\"dataframe\">\n",
       "  <thead>\n",
       "    <tr style=\"text-align: right;\">\n",
       "      <th></th>\n",
       "      <th>id</th>\n",
       "      <th>user_id</th>\n",
       "      <th>filename</th>\n",
       "      <th>handle</th>\n",
       "      <th>upload_date</th>\n",
       "      <th>pid</th>\n",
       "    </tr>\n",
       "  </thead>\n",
       "  <tbody>\n",
       "    <tr>\n",
       "      <th>0</th>\n",
       "      <td>6307af9c8a7c6e38a12361fb</td>\n",
       "      <td>2</td>\n",
       "      <td>test_blob.txt</td>\n",
       "      <td>https://potentials.nist.gov/rest/blob/download...</td>\n",
       "      <td>2022-08-25 17:21:32+00:00</td>\n",
       "      <td>https://potentials.nist.gov/pid/rest/local/pot...</td>\n",
       "    </tr>\n",
       "  </tbody>\n",
       "</table>\n",
       "</div>"
      ],
      "text/plain": [
       "                         id user_id       filename  \\\n",
       "0  6307af9c8a7c6e38a12361fb       2  test_blob.txt   \n",
       "\n",
       "                                              handle  \\\n",
       "0  https://potentials.nist.gov/rest/blob/download...   \n",
       "\n",
       "                upload_date                                                pid  \n",
       "0 2022-08-25 17:21:32+00:00  https://potentials.nist.gov/pid/rest/local/pot...  "
      ]
     },
     "execution_count": 20,
     "metadata": {},
     "output_type": "execute_result"
    }
   ],
   "source": [
    "curator.get_blobs()"
   ]
  },
  {
   "cell_type": "code",
   "execution_count": 21,
   "metadata": {},
   "outputs": [
    {
     "name": "stdout",
     "output_type": "stream",
     "text": [
      "id                                      6307af9c8a7c6e38a12361fb\n",
      "user_id                                                        2\n",
      "filename                                           test_blob.txt\n",
      "handle         https://potentials.nist.gov/rest/blob/download...\n",
      "upload_date                            2022-08-25 17:21:32+00:00\n",
      "pid            https://potentials.nist.gov/pid/rest/local/pot...\n",
      "Name: 0, dtype: object\n"
     ]
    }
   ],
   "source": [
    "blobdata = curator.get_blob(filename=filename)\n",
    "print(blobdata)"
   ]
  },
  {
   "cell_type": "code",
   "execution_count": 22,
   "metadata": {},
   "outputs": [
    {
     "data": {
      "text/plain": [
       "id                                      6307af9c8a7c6e38a12361fb\n",
       "user_id                                                        2\n",
       "filename                                           test_blob.txt\n",
       "handle         https://potentials.nist.gov/rest/blob/download...\n",
       "upload_date                            2022-08-25 17:21:32+00:00\n",
       "pid            https://potentials.nist.gov/pid/rest/local/pot...\n",
       "dtype: object"
      ]
     },
     "execution_count": 22,
     "metadata": {},
     "output_type": "execute_result"
    }
   ],
   "source": [
    "curator.get_blob(id=blobdata.id)"
   ]
  },
  {
   "cell_type": "markdown",
   "metadata": {},
   "source": [
    "### 4.3 Retrieve blob contents\n",
    "\n",
    "The contents of a blob can then be retrieved using the get_blob_contents() method.\n",
    "\n",
    "Paramters\n",
    "\n",
    "- __blob__ (*pandas.Series, optional*) The blob metadata for a blob, as recieved from get_blobs() or get_blob().  Cannot be combined with id or filename.\n",
    "- __id__ (*str, optional*) The unique ID associated with the blob. Cannot be combined with blob or filename.\n",
    "- __filename__ (*str, optional*) The name of the file to limit the search by, which must be unique.  Cannot be combined with blob or id.\n",
    "\n",
    "Returns\n",
    "\n",
    "- __content__ (*bytes*) The blob's bytes contents."
   ]
  },
  {
   "cell_type": "code",
   "execution_count": 23,
   "metadata": {},
   "outputs": [
    {
     "name": "stdout",
     "output_type": "stream",
     "text": [
      "b'This is my blob for testing'\n"
     ]
    }
   ],
   "source": [
    "print(curator.get_blob_contents(filename=filename))"
   ]
  },
  {
   "cell_type": "markdown",
   "metadata": {},
   "source": [
    "Alternatively, the blob can be saved directly to a local file based on its associated filename with the download_blob() method.\n",
    "\n",
    "Parameters\n",
    "\n",
    "- __blob__ (*pandas.Series, optional*) The blob metadata for a blob, as recieved from get_blobs() or get_blob().  Cannot be combined with id or filename.\n",
    "- __id__ (*str, optional*) The unique ID associated with the blob. Cannot be combined with blob or filename.\n",
    "- __filename__ (*str, optional*) The name of the file to limit the search by, which must be unique.  Cannot be combined with blob or id.\n",
    "- __savedir__ (*str or Path, optional*) The directory to save the file to.  Default value uses the current working directory."
   ]
  },
  {
   "cell_type": "code",
   "execution_count": 24,
   "metadata": {},
   "outputs": [],
   "source": [
    "curator.download_blob(filename=filename)"
   ]
  },
  {
   "cell_type": "markdown",
   "metadata": {},
   "source": [
    "### 4.4. Assign blobs to a workspace\n",
    "\n",
    "Just like records, blobs can also be assigned to workspaces.  This can be done during uploading, or it can be done after uploading using the assign_blobs() method.\n",
    "\n",
    "- __workspace__ (*str or pandas.Series*) The workspace or workspace title to assign the blobs to.\n",
    "- __blobs__ (*pandas.Series or pandas.DataFrame, optional*) Pre-selected blobs to assign to the workspace.  Cannot be given with ids or filename.\n",
    "- __ids__ (*str or list, optional*) The ID(s) of the blobs to assign to the workspace.  Selecting blobs using ids has the least overhead. Cannot be given with blobs or filename.\n",
    "- __filename__ (*str, optional*) The name of the blob file to assign to the workspace.  Cannot be given with blobs or ids.\n",
    "- __verbose__ (*bool, optional*) Setting this to True will print extra status messages.  Default value is False."
   ]
  },
  {
   "cell_type": "code",
   "execution_count": 25,
   "metadata": {},
   "outputs": [
    {
     "name": "stdout",
     "output_type": "stream",
     "text": [
      "blob 6307af9c8a7c6e38a12361fb assigned to workspace 61e04376ea78175c20ac1554\n"
     ]
    }
   ],
   "source": [
    "curator.assign_blobs(workspace='Global Public Workspace', filename=filename, verbose=True)"
   ]
  },
  {
   "cell_type": "markdown",
   "metadata": {},
   "source": [
    "### 4.5. Delete blob\n",
    "\n",
    "Finally, blobs can also be deleted using the delete_blob() method.\n",
    "\n",
    "- __blob__ (*pandas.Series, optional*) The blob metadata for a blob, as recieved from get_blobs() or get_blob().  Cannot be combined with id or filename.\n",
    "- __id__ (*str, optional*) The unique ID associated with the blob. Cannot be combined with blob or filename.\n",
    "- __filename__ (*str, optional*) The name of the file to limit the search by, which must be unique.  Cannot be combined with blob or id.\n",
    "- __verbose__ (*bool, optional*) Setting this to True will print extra status messages.  Default value is False."
   ]
  },
  {
   "cell_type": "code",
   "execution_count": 26,
   "metadata": {},
   "outputs": [
    {
     "name": "stdout",
     "output_type": "stream",
     "text": [
      "Successfully deleted blob \"test_blob.txt\" (6307af9c8a7c6e38a12361fb)\n"
     ]
    }
   ],
   "source": [
    "curator.delete_blob(filename=filename, verbose=True)"
   ]
  },
  {
   "cell_type": "code",
   "execution_count": 27,
   "metadata": {},
   "outputs": [],
   "source": [
    "Path(filename).unlink()"
   ]
  },
  {
   "cell_type": "markdown",
   "metadata": {},
   "source": [
    "## 5. Managing workspaces\n",
    "\n",
    "Workspaces are used to manage access to content stored in a CDCS database. Records and blobs can be assigned to a workspace, then access control is set at the workspace level to all associated content.  The workspace assignment typically falls into three categories:\n",
    "\n",
    "1. Content not assigned to a workspace will only be accessible to the user who created it.\n",
    "2. Content assigned to the \"Global Public Workspace\" can be accessible to anyone who has read access to the database.\n",
    "3. Alternate workspaces can be used to limit access to some content for only specific users."
   ]
  },
  {
   "cell_type": "markdown",
   "metadata": {},
   "source": [
    "### 5.1. Finding workspace metadata\n",
    "\n",
    "Metadata for the available workspaces can be explored using the get_workspaces() and get_workspace() methods.\n",
    "\n",
    "Parameters\n",
    "\n",
    "title: (str, optional) The workspace title to limit the search by."
   ]
  },
  {
   "cell_type": "code",
   "execution_count": 28,
   "metadata": {},
   "outputs": [
    {
     "data": {
      "text/html": [
       "<div>\n",
       "<style scoped>\n",
       "    .dataframe tbody tr th:only-of-type {\n",
       "        vertical-align: middle;\n",
       "    }\n",
       "\n",
       "    .dataframe tbody tr th {\n",
       "        vertical-align: top;\n",
       "    }\n",
       "\n",
       "    .dataframe thead th {\n",
       "        text-align: right;\n",
       "    }\n",
       "</style>\n",
       "<table border=\"1\" class=\"dataframe\">\n",
       "  <thead>\n",
       "    <tr style=\"text-align: right;\">\n",
       "      <th></th>\n",
       "      <th>id</th>\n",
       "      <th>title</th>\n",
       "      <th>owner</th>\n",
       "      <th>is_public</th>\n",
       "    </tr>\n",
       "  </thead>\n",
       "  <tbody>\n",
       "    <tr>\n",
       "      <th>0</th>\n",
       "      <td>61e04376ea78175c20ac1554</td>\n",
       "      <td>Global Public Workspace</td>\n",
       "      <td>None</td>\n",
       "      <td>True</td>\n",
       "    </tr>\n",
       "  </tbody>\n",
       "</table>\n",
       "</div>"
      ],
      "text/plain": [
       "                         id                    title owner  is_public\n",
       "0  61e04376ea78175c20ac1554  Global Public Workspace  None       True"
      ]
     },
     "execution_count": 28,
     "metadata": {},
     "output_type": "execute_result"
    }
   ],
   "source": [
    "curator.get_workspaces()"
   ]
  },
  {
   "cell_type": "code",
   "execution_count": 29,
   "metadata": {},
   "outputs": [
    {
     "data": {
      "text/plain": [
       "id           61e04376ea78175c20ac1554\n",
       "title         Global Public Workspace\n",
       "owner                            None\n",
       "is_public                        True\n",
       "Name: 0, dtype: object"
      ]
     },
     "execution_count": 29,
     "metadata": {},
     "output_type": "execute_result"
    }
   ],
   "source": [
    "curator.get_workspace(title='Global Public Workspace')"
   ]
  },
  {
   "cell_type": "markdown",
   "metadata": {},
   "source": [
    "The attribute global_workspace also retrieves the Global Public Workspace "
   ]
  },
  {
   "cell_type": "code",
   "execution_count": 30,
   "metadata": {},
   "outputs": [
    {
     "name": "stdout",
     "output_type": "stream",
     "text": [
      "id           61e04376ea78175c20ac1554\n",
      "title         Global Public Workspace\n",
      "owner                            None\n",
      "is_public                        True\n",
      "Name: 0, dtype: object\n"
     ]
    }
   ],
   "source": [
    "workspace = curator.global_workspace\n",
    "print(workspace)"
   ]
  },
  {
   "cell_type": "markdown",
   "metadata": {},
   "source": [
    "## 6. Managing templates\n",
    "\n",
    "Templates are used to categorize the types of records that a database stores and to validate uploaded record contents against a schema.  Templates are managed differently than other types of CDCS content in that they are version controlled; changes to template contents do not overwrite the current contents but rather get uploaded as a new template version.  Separate entries called template managers then specify which template versions exist, are active/disabled, and which version is the current version. "
   ]
  },
  {
   "cell_type": "markdown",
   "metadata": {},
   "source": [
    "### 6.1. Finding template metadata\n",
    "\n",
    "A list of all available templates can be retrieved using the template_titles attribute."
   ]
  },
  {
   "cell_type": "code",
   "execution_count": 31,
   "metadata": {},
   "outputs": [
    {
     "data": {
      "text/plain": [
       "['Potential',\n",
       " 'relaxed_crystal',\n",
       " 'FAQ',\n",
       " 'Action',\n",
       " 'PotentialProperties',\n",
       " 'Request',\n",
       " 'free_surface',\n",
       " 'stacking_fault',\n",
       " 'point_defect',\n",
       " 'crystal_prototype',\n",
       " 'potential_LAMMPS',\n",
       " 'Citation',\n",
       " 'calculation_diatom_scan',\n",
       " 'calculation_isolated_atom',\n",
       " 'potential_LAMMPS_KIM',\n",
       " 'calculation_bond_angle_scan',\n",
       " 'dislocation',\n",
       " 'calculation_E_vs_r_scan',\n",
       " 'calculation_relax_box',\n",
       " 'calculation_relax_dynamic',\n",
       " 'calculation_relax_static']"
      ]
     },
     "execution_count": 31,
     "metadata": {},
     "output_type": "execute_result"
    }
   ],
   "source": [
    "curator.template_titles"
   ]
  },
  {
   "cell_type": "markdown",
   "metadata": {},
   "source": [
    "Metadata for the available templates can be explored using the get_templates() and get_template() methods.\n",
    "\n",
    "Parameters\n",
    "\n",
    "- __title__ (*str, optional*): The template title to limit the search by.\n",
    "- __is_disabled__ (*bool, optional*): If True, then disabled templates will be returned.  If False (default), then active templates will be returned.\n",
    "- __current__ (bool, optional*): If True (default), only current template versions will be returned.\n",
    "- __useronly__ (*bool, optional*): If True, only a user's templates are returned. If False (default), then all global templates are returned."
   ]
  },
  {
   "cell_type": "code",
   "execution_count": 32,
   "metadata": {},
   "outputs": [
    {
     "data": {
      "text/html": [
       "<div>\n",
       "<style scoped>\n",
       "    .dataframe tbody tr th:only-of-type {\n",
       "        vertical-align: middle;\n",
       "    }\n",
       "\n",
       "    .dataframe tbody tr th {\n",
       "        vertical-align: top;\n",
       "    }\n",
       "\n",
       "    .dataframe thead th {\n",
       "        text-align: right;\n",
       "    }\n",
       "</style>\n",
       "<table border=\"1\" class=\"dataframe\">\n",
       "  <thead>\n",
       "    <tr style=\"text-align: right;\">\n",
       "      <th></th>\n",
       "      <th>id</th>\n",
       "      <th>user</th>\n",
       "      <th>filename</th>\n",
       "      <th>content</th>\n",
       "      <th>hash</th>\n",
       "      <th>dependencies</th>\n",
       "      <th>title</th>\n",
       "    </tr>\n",
       "  </thead>\n",
       "  <tbody>\n",
       "    <tr>\n",
       "      <th>0</th>\n",
       "      <td>62dae7b074127dcccced663c</td>\n",
       "      <td>None</td>\n",
       "      <td>Potential.xsd</td>\n",
       "      <td>&lt;?xml version=\"1.0\" encoding=\"UTF-8\" standalon...</td>\n",
       "      <td>bfac108952e884965fe5e1517204b8f38d32b89f</td>\n",
       "      <td>[]</td>\n",
       "      <td>Potential</td>\n",
       "    </tr>\n",
       "    <tr>\n",
       "      <th>1</th>\n",
       "      <td>62def2cf74127dcccced6958</td>\n",
       "      <td>None</td>\n",
       "      <td>relaxed_crystal.xsd</td>\n",
       "      <td>&lt;?xml version=\"1.0\"?&gt;\\r\\n&lt;xsd:schema xmlns:xsd...</td>\n",
       "      <td>e3dd6b141935f0cfbe3bea611df3467d027658a7</td>\n",
       "      <td>[]</td>\n",
       "      <td>relaxed_crystal</td>\n",
       "    </tr>\n",
       "    <tr>\n",
       "      <th>2</th>\n",
       "      <td>61e7d772d2b0a949beaa4440</td>\n",
       "      <td>None</td>\n",
       "      <td>record-interatomic-potential-faq.xsd</td>\n",
       "      <td>&lt;?xml version=\"1.0\" encoding=\"UTF-8\" standalon...</td>\n",
       "      <td>2dc0be555da041f782a7435c377ea7a20f28d3cd</td>\n",
       "      <td>[]</td>\n",
       "      <td>FAQ</td>\n",
       "    </tr>\n",
       "    <tr>\n",
       "      <th>3</th>\n",
       "      <td>61e7d77ad2b0a949beaa4442</td>\n",
       "      <td>None</td>\n",
       "      <td>record-interatomic-potential-action.xsd</td>\n",
       "      <td>&lt;?xml version=\"1.0\" encoding=\"UTF-8\" standalon...</td>\n",
       "      <td>f1c3de8a64553d81bd10cfc0cb24dd3cc129c710</td>\n",
       "      <td>[]</td>\n",
       "      <td>Action</td>\n",
       "    </tr>\n",
       "    <tr>\n",
       "      <th>4</th>\n",
       "      <td>61e7d8508e7c5e31a92bb296</td>\n",
       "      <td>None</td>\n",
       "      <td>record-per-potential-properties.xsd</td>\n",
       "      <td>&lt;?xml version=\"1.0\" encoding=\"UTF-8\" standalon...</td>\n",
       "      <td>ea7eeed57e0cea9b15dbda4b32c08266201a7e5a</td>\n",
       "      <td>[]</td>\n",
       "      <td>PotentialProperties</td>\n",
       "    </tr>\n",
       "    <tr>\n",
       "      <th>5</th>\n",
       "      <td>61e7dc6f4f87baec302de99f</td>\n",
       "      <td>None</td>\n",
       "      <td>Request3</td>\n",
       "      <td>&lt;xsd:schema xmlns:xsd=\"http://www.w3.org/2001/...</td>\n",
       "      <td>d108bacceb44a2789544ade71018b7f5ceacca1b</td>\n",
       "      <td>[]</td>\n",
       "      <td>Request</td>\n",
       "    </tr>\n",
       "    <tr>\n",
       "      <th>6</th>\n",
       "      <td>62deddf80fe1c7fb407431c5</td>\n",
       "      <td>None</td>\n",
       "      <td>free_surface.xsd</td>\n",
       "      <td>&lt;?xml version=\"1.0\"?&gt;\\r\\n&lt;xsd:schema xmlns:xsd...</td>\n",
       "      <td>3d898fb080654874a30166b22d7850ff4c5327af</td>\n",
       "      <td>[]</td>\n",
       "      <td>free_surface</td>\n",
       "    </tr>\n",
       "    <tr>\n",
       "      <th>7</th>\n",
       "      <td>62dede62f63fed732aa874c0</td>\n",
       "      <td>None</td>\n",
       "      <td>stacking_fault.xsd</td>\n",
       "      <td>&lt;?xml version=\"1.0\"?&gt;\\r\\n&lt;xsd:schema xmlns:xsd...</td>\n",
       "      <td>c60975939fff88aaea384494b901e11f366137c1</td>\n",
       "      <td>[]</td>\n",
       "      <td>stacking_fault</td>\n",
       "    </tr>\n",
       "    <tr>\n",
       "      <th>8</th>\n",
       "      <td>62dede82567a57d4dfb2e1f5</td>\n",
       "      <td>None</td>\n",
       "      <td>point_defect.xsd</td>\n",
       "      <td>&lt;?xml version=\"1.0\"?&gt;\\r\\n&lt;xsd:schema xmlns:xsd...</td>\n",
       "      <td>b077b95055d04a914e0d2f69f82fd47be562a5b5</td>\n",
       "      <td>[]</td>\n",
       "      <td>point_defect</td>\n",
       "    </tr>\n",
       "    <tr>\n",
       "      <th>9</th>\n",
       "      <td>62d999e374127dcccced63ba</td>\n",
       "      <td>None</td>\n",
       "      <td>crystal_prototype.xsd</td>\n",
       "      <td>&lt;?xml version=\"1.0\"?&gt;\\r\\n&lt;xsd:schema xmlns:xsd...</td>\n",
       "      <td>a711a977750c1ce42bb6dc35e3e71cfcb25d0304</td>\n",
       "      <td>[]</td>\n",
       "      <td>crystal_prototype</td>\n",
       "    </tr>\n",
       "    <tr>\n",
       "      <th>10</th>\n",
       "      <td>62daf1581e2ef0acb8ab49fa</td>\n",
       "      <td>None</td>\n",
       "      <td>potential_LAMMPS.xsd</td>\n",
       "      <td>&lt;?xml version=\"1.0\"?&gt;\\r\\n&lt;xsd:schema xmlns:xsd...</td>\n",
       "      <td>5fc6f070c4bb674566a3dbe685a324cea053aafd</td>\n",
       "      <td>[]</td>\n",
       "      <td>potential_LAMMPS</td>\n",
       "    </tr>\n",
       "    <tr>\n",
       "      <th>11</th>\n",
       "      <td>61e7df98023df5acc187b36f</td>\n",
       "      <td>None</td>\n",
       "      <td>record-interatomic-potential-citation.xsd</td>\n",
       "      <td>&lt;?xml version=\"1.0\" encoding=\"UTF-8\" standalon...</td>\n",
       "      <td>893099854c8ac392bad133ce71ac34f60407ab6f</td>\n",
       "      <td>[]</td>\n",
       "      <td>Citation</td>\n",
       "    </tr>\n",
       "    <tr>\n",
       "      <th>12</th>\n",
       "      <td>61e7e10b4f87baec302def73</td>\n",
       "      <td>None</td>\n",
       "      <td>record-calculation-diatom-scan.xsd</td>\n",
       "      <td>&lt;?xml version=\"1.0\" encoding=\"UTF-8\" standalon...</td>\n",
       "      <td>46ce4c17314f9aeb3f5bb14642baf42e3da3d1e2</td>\n",
       "      <td>[]</td>\n",
       "      <td>calculation_diatom_scan</td>\n",
       "    </tr>\n",
       "    <tr>\n",
       "      <th>13</th>\n",
       "      <td>61e7e9b0b7be9048c078d223</td>\n",
       "      <td>None</td>\n",
       "      <td>record-calculation-isolated-atom.xsd</td>\n",
       "      <td>&lt;?xml version=\"1.0\" encoding=\"UTF-8\" standalon...</td>\n",
       "      <td>30ae52b99037d58b23f83b314543761acc1f07a3</td>\n",
       "      <td>[]</td>\n",
       "      <td>calculation_isolated_atom</td>\n",
       "    </tr>\n",
       "    <tr>\n",
       "      <th>14</th>\n",
       "      <td>62decd8774127dcccced6809</td>\n",
       "      <td>None</td>\n",
       "      <td>potential_LAMMPS_KIM.xsd</td>\n",
       "      <td>&lt;?xml version=\"1.0\" encoding=\"UTF-8\" standalon...</td>\n",
       "      <td>746f8e7bcce63d53c726e4bfad844f3b3a0ec130</td>\n",
       "      <td>[]</td>\n",
       "      <td>potential_LAMMPS_KIM</td>\n",
       "    </tr>\n",
       "    <tr>\n",
       "      <th>15</th>\n",
       "      <td>61e7ef548e7c5e31a92bbde2</td>\n",
       "      <td>None</td>\n",
       "      <td>record-calculation-bond-angle-scan.xsd</td>\n",
       "      <td>&lt;?xml version=\"1.0\" encoding=\"UTF-8\" standalon...</td>\n",
       "      <td>16a76faca187dea47c6089707cd377eb4163ac7b</td>\n",
       "      <td>[]</td>\n",
       "      <td>calculation_bond_angle_scan</td>\n",
       "    </tr>\n",
       "    <tr>\n",
       "      <th>16</th>\n",
       "      <td>62dedea57200a0f59ba083aa</td>\n",
       "      <td>None</td>\n",
       "      <td>dislocation.xsd</td>\n",
       "      <td>&lt;?xml version=\"1.0\"?&gt;\\r\\n&lt;xsd:schema xmlns:xsd...</td>\n",
       "      <td>04e11b7476717f04881856d10c872678f20e25b5</td>\n",
       "      <td>[]</td>\n",
       "      <td>dislocation</td>\n",
       "    </tr>\n",
       "    <tr>\n",
       "      <th>17</th>\n",
       "      <td>62e115c00eb4d6bb44b42528</td>\n",
       "      <td>None</td>\n",
       "      <td>calculation_E_vs_r_scan.xsd</td>\n",
       "      <td>&lt;?xml version=\"1.0\" encoding=\"UTF-8\" standalon...</td>\n",
       "      <td>0c63860e63a7ecf3f2c4e0b8ff4947ce5c4ba066</td>\n",
       "      <td>[]</td>\n",
       "      <td>calculation_E_vs_r_scan</td>\n",
       "    </tr>\n",
       "    <tr>\n",
       "      <th>18</th>\n",
       "      <td>62e408d690a0b7b897480e86</td>\n",
       "      <td>None</td>\n",
       "      <td>calculation_relax_box.xsd</td>\n",
       "      <td>&lt;?xml version=\"1.0\" encoding=\"UTF-8\" standalon...</td>\n",
       "      <td>e59eb49db1af40904339a7f3674c2a81b1920f94</td>\n",
       "      <td>[]</td>\n",
       "      <td>calculation_relax_box</td>\n",
       "    </tr>\n",
       "    <tr>\n",
       "      <th>19</th>\n",
       "      <td>62e408e590a0b7b897480e8f</td>\n",
       "      <td>None</td>\n",
       "      <td>calculation_relax_dynamic.xsd</td>\n",
       "      <td>&lt;?xml version=\"1.0\" encoding=\"UTF-8\" standalon...</td>\n",
       "      <td>3e0f44b7d0d1bf8d7b6930459cea87dcdbc1fae6</td>\n",
       "      <td>[]</td>\n",
       "      <td>calculation_relax_dynamic</td>\n",
       "    </tr>\n",
       "    <tr>\n",
       "      <th>20</th>\n",
       "      <td>62e408f33dcc3fc6fdba9863</td>\n",
       "      <td>None</td>\n",
       "      <td>calculation_relax_static.xsd</td>\n",
       "      <td>&lt;?xml version=\"1.0\" encoding=\"UTF-8\" standalon...</td>\n",
       "      <td>785f70cc4f3498b95cc2187f2c3acf8e943f0e2b</td>\n",
       "      <td>[]</td>\n",
       "      <td>calculation_relax_static</td>\n",
       "    </tr>\n",
       "  </tbody>\n",
       "</table>\n",
       "</div>"
      ],
      "text/plain": [
       "                          id  user                                   filename  \\\n",
       "0   62dae7b074127dcccced663c  None                              Potential.xsd   \n",
       "1   62def2cf74127dcccced6958  None                        relaxed_crystal.xsd   \n",
       "2   61e7d772d2b0a949beaa4440  None       record-interatomic-potential-faq.xsd   \n",
       "3   61e7d77ad2b0a949beaa4442  None    record-interatomic-potential-action.xsd   \n",
       "4   61e7d8508e7c5e31a92bb296  None        record-per-potential-properties.xsd   \n",
       "5   61e7dc6f4f87baec302de99f  None                                   Request3   \n",
       "6   62deddf80fe1c7fb407431c5  None                           free_surface.xsd   \n",
       "7   62dede62f63fed732aa874c0  None                         stacking_fault.xsd   \n",
       "8   62dede82567a57d4dfb2e1f5  None                           point_defect.xsd   \n",
       "9   62d999e374127dcccced63ba  None                      crystal_prototype.xsd   \n",
       "10  62daf1581e2ef0acb8ab49fa  None                       potential_LAMMPS.xsd   \n",
       "11  61e7df98023df5acc187b36f  None  record-interatomic-potential-citation.xsd   \n",
       "12  61e7e10b4f87baec302def73  None         record-calculation-diatom-scan.xsd   \n",
       "13  61e7e9b0b7be9048c078d223  None       record-calculation-isolated-atom.xsd   \n",
       "14  62decd8774127dcccced6809  None                   potential_LAMMPS_KIM.xsd   \n",
       "15  61e7ef548e7c5e31a92bbde2  None     record-calculation-bond-angle-scan.xsd   \n",
       "16  62dedea57200a0f59ba083aa  None                            dislocation.xsd   \n",
       "17  62e115c00eb4d6bb44b42528  None                calculation_E_vs_r_scan.xsd   \n",
       "18  62e408d690a0b7b897480e86  None                  calculation_relax_box.xsd   \n",
       "19  62e408e590a0b7b897480e8f  None              calculation_relax_dynamic.xsd   \n",
       "20  62e408f33dcc3fc6fdba9863  None               calculation_relax_static.xsd   \n",
       "\n",
       "                                              content  \\\n",
       "0   <?xml version=\"1.0\" encoding=\"UTF-8\" standalon...   \n",
       "1   <?xml version=\"1.0\"?>\\r\\n<xsd:schema xmlns:xsd...   \n",
       "2   <?xml version=\"1.0\" encoding=\"UTF-8\" standalon...   \n",
       "3   <?xml version=\"1.0\" encoding=\"UTF-8\" standalon...   \n",
       "4   <?xml version=\"1.0\" encoding=\"UTF-8\" standalon...   \n",
       "5   <xsd:schema xmlns:xsd=\"http://www.w3.org/2001/...   \n",
       "6   <?xml version=\"1.0\"?>\\r\\n<xsd:schema xmlns:xsd...   \n",
       "7   <?xml version=\"1.0\"?>\\r\\n<xsd:schema xmlns:xsd...   \n",
       "8   <?xml version=\"1.0\"?>\\r\\n<xsd:schema xmlns:xsd...   \n",
       "9   <?xml version=\"1.0\"?>\\r\\n<xsd:schema xmlns:xsd...   \n",
       "10  <?xml version=\"1.0\"?>\\r\\n<xsd:schema xmlns:xsd...   \n",
       "11  <?xml version=\"1.0\" encoding=\"UTF-8\" standalon...   \n",
       "12  <?xml version=\"1.0\" encoding=\"UTF-8\" standalon...   \n",
       "13  <?xml version=\"1.0\" encoding=\"UTF-8\" standalon...   \n",
       "14  <?xml version=\"1.0\" encoding=\"UTF-8\" standalon...   \n",
       "15  <?xml version=\"1.0\" encoding=\"UTF-8\" standalon...   \n",
       "16  <?xml version=\"1.0\"?>\\r\\n<xsd:schema xmlns:xsd...   \n",
       "17  <?xml version=\"1.0\" encoding=\"UTF-8\" standalon...   \n",
       "18  <?xml version=\"1.0\" encoding=\"UTF-8\" standalon...   \n",
       "19  <?xml version=\"1.0\" encoding=\"UTF-8\" standalon...   \n",
       "20  <?xml version=\"1.0\" encoding=\"UTF-8\" standalon...   \n",
       "\n",
       "                                        hash dependencies  \\\n",
       "0   bfac108952e884965fe5e1517204b8f38d32b89f           []   \n",
       "1   e3dd6b141935f0cfbe3bea611df3467d027658a7           []   \n",
       "2   2dc0be555da041f782a7435c377ea7a20f28d3cd           []   \n",
       "3   f1c3de8a64553d81bd10cfc0cb24dd3cc129c710           []   \n",
       "4   ea7eeed57e0cea9b15dbda4b32c08266201a7e5a           []   \n",
       "5   d108bacceb44a2789544ade71018b7f5ceacca1b           []   \n",
       "6   3d898fb080654874a30166b22d7850ff4c5327af           []   \n",
       "7   c60975939fff88aaea384494b901e11f366137c1           []   \n",
       "8   b077b95055d04a914e0d2f69f82fd47be562a5b5           []   \n",
       "9   a711a977750c1ce42bb6dc35e3e71cfcb25d0304           []   \n",
       "10  5fc6f070c4bb674566a3dbe685a324cea053aafd           []   \n",
       "11  893099854c8ac392bad133ce71ac34f60407ab6f           []   \n",
       "12  46ce4c17314f9aeb3f5bb14642baf42e3da3d1e2           []   \n",
       "13  30ae52b99037d58b23f83b314543761acc1f07a3           []   \n",
       "14  746f8e7bcce63d53c726e4bfad844f3b3a0ec130           []   \n",
       "15  16a76faca187dea47c6089707cd377eb4163ac7b           []   \n",
       "16  04e11b7476717f04881856d10c872678f20e25b5           []   \n",
       "17  0c63860e63a7ecf3f2c4e0b8ff4947ce5c4ba066           []   \n",
       "18  e59eb49db1af40904339a7f3674c2a81b1920f94           []   \n",
       "19  3e0f44b7d0d1bf8d7b6930459cea87dcdbc1fae6           []   \n",
       "20  785f70cc4f3498b95cc2187f2c3acf8e943f0e2b           []   \n",
       "\n",
       "                          title  \n",
       "0                     Potential  \n",
       "1               relaxed_crystal  \n",
       "2                           FAQ  \n",
       "3                        Action  \n",
       "4           PotentialProperties  \n",
       "5                       Request  \n",
       "6                  free_surface  \n",
       "7                stacking_fault  \n",
       "8                  point_defect  \n",
       "9             crystal_prototype  \n",
       "10             potential_LAMMPS  \n",
       "11                     Citation  \n",
       "12      calculation_diatom_scan  \n",
       "13    calculation_isolated_atom  \n",
       "14         potential_LAMMPS_KIM  \n",
       "15  calculation_bond_angle_scan  \n",
       "16                  dislocation  \n",
       "17      calculation_E_vs_r_scan  \n",
       "18        calculation_relax_box  \n",
       "19    calculation_relax_dynamic  \n",
       "20     calculation_relax_static  "
      ]
     },
     "execution_count": 32,
     "metadata": {},
     "output_type": "execute_result"
    }
   ],
   "source": [
    "curator.get_templates()"
   ]
  },
  {
   "cell_type": "code",
   "execution_count": 33,
   "metadata": {},
   "outputs": [
    {
     "data": {
      "text/plain": [
       "id                                       61e7df98023df5acc187b36f\n",
       "user                                                         None\n",
       "filename                record-interatomic-potential-citation.xsd\n",
       "content         <?xml version=\"1.0\" encoding=\"UTF-8\" standalon...\n",
       "hash                     893099854c8ac392bad133ce71ac34f60407ab6f\n",
       "dependencies                                                   []\n",
       "title                                                    Citation\n",
       "Name: 0, dtype: object"
      ]
     },
     "execution_count": 33,
     "metadata": {},
     "output_type": "execute_result"
    }
   ],
   "source": [
    "curator.get_template('Citation')"
   ]
  },
  {
   "cell_type": "markdown",
   "metadata": {},
   "source": [
    "The get_template_managers() method fetches metadata associated with the various versions of templates in the database. \n",
    "\n",
    "Parameters\n",
    "\n",
    "- __title__ (*str, optional*) The template title to limit the search by.\n",
    "- __is_disabled__ (*bool, optional*) If True, then disabled templates will be returned.  If False (default), then active templates will bereturned.\n",
    "- __useronly__ (*bool, optional*) If True, only a user's templates are returned. If False (default), then all global templates arereturned."
   ]
  },
  {
   "cell_type": "code",
   "execution_count": 34,
   "metadata": {},
   "outputs": [
    {
     "data": {
      "text/html": [
       "<div>\n",
       "<style scoped>\n",
       "    .dataframe tbody tr th:only-of-type {\n",
       "        vertical-align: middle;\n",
       "    }\n",
       "\n",
       "    .dataframe tbody tr th {\n",
       "        vertical-align: top;\n",
       "    }\n",
       "\n",
       "    .dataframe thead th {\n",
       "        text-align: right;\n",
       "    }\n",
       "</style>\n",
       "<table border=\"1\" class=\"dataframe\">\n",
       "  <thead>\n",
       "    <tr style=\"text-align: right;\">\n",
       "      <th></th>\n",
       "      <th>id</th>\n",
       "      <th>title</th>\n",
       "      <th>user</th>\n",
       "      <th>versions</th>\n",
       "      <th>current</th>\n",
       "      <th>is_disabled</th>\n",
       "      <th>disabled_versions</th>\n",
       "      <th>_cls</th>\n",
       "    </tr>\n",
       "  </thead>\n",
       "  <tbody>\n",
       "    <tr>\n",
       "      <th>0</th>\n",
       "      <td>61e7df98023df5acc187b370</td>\n",
       "      <td>Citation</td>\n",
       "      <td>None</td>\n",
       "      <td>[61e7df98023df5acc187b36f]</td>\n",
       "      <td>61e7df98023df5acc187b36f</td>\n",
       "      <td>False</td>\n",
       "      <td>[]</td>\n",
       "      <td>VersionManager.TemplateVersionManager</td>\n",
       "    </tr>\n",
       "  </tbody>\n",
       "</table>\n",
       "</div>"
      ],
      "text/plain": [
       "                         id     title  user                    versions  \\\n",
       "0  61e7df98023df5acc187b370  Citation  None  [61e7df98023df5acc187b36f]   \n",
       "\n",
       "                    current  is_disabled disabled_versions  \\\n",
       "0  61e7df98023df5acc187b36f        False                []   \n",
       "\n",
       "                                    _cls  \n",
       "0  VersionManager.TemplateVersionManager  "
      ]
     },
     "execution_count": 34,
     "metadata": {},
     "output_type": "execute_result"
    }
   ],
   "source": [
    "curator.get_template_managers('Citation')"
   ]
  },
  {
   "cell_type": "markdown",
   "metadata": {},
   "source": [
    "### 6.2. Adding and modifying templates\n",
    "\n",
    "__NOTE__: The upload and update operations for templates differ from other types of CDCS contents due to the template version control system.  Notably, the content associated with an uploaded template cannot be modified or replaced, simply new versions uploaded and managed."
   ]
  },
  {
   "cell_type": "markdown",
   "metadata": {},
   "source": [
    "New templates can be added using upload_template(). This will create a template manager for the template title as well as the first version of that template.\n",
    "\n",
    "Parameters\n",
    "\n",
    "- __filename__ (*str, optional*) Name of the XSD schema file to upload for the template.  Optional if title is given (filename will be taken as \"title\".xsd).\n",
    "- __content__ (*str or bytes, optional*) String contents of an XSD schema file to upload for the template.  Optional if filename is given as a full path to the XSD file.\n",
    "- __title__ (*str, optional*) Title to save the template as.  Optional if filename is given (title will be taken as filename without ext).\n",
    "- __useronly__ (*bool, optional*) If True, the template will be associated only with the user. If False (default), it will be made a global template.\n",
    "- __verbose__ (*bool, optional*) Setting this to True will print extra status messages.  Default value is False."
   ]
  },
  {
   "cell_type": "markdown",
   "metadata": {},
   "source": [
    "Calling update_template() will create a new version of a template and associate it with an existing template title.  Options allow for some automatic version management of the new/old templates.\n",
    "\n",
    "Parameters\n",
    "    \n",
    "- __filename__ (*str, optional*) Name of the XSD schema file to upload for the template.  Optional if title is given (filename will be taken as \"title\".xsd).\n",
    "- __content__ (*str or bytes, optional*) String contents of an XSD schema file to upload for the template.  Optional if filename is given as a full path to the XSD file.\n",
    "- __title__ (*str, optional*) Title to save the template as.  Optional if filename is given (title will be taken as filename without ext).\n",
    "- __template_manager__ (*pandas.Series, optional*) Can be given instead of title if the template_manager info has already been retrieved from the database.\n",
    "- __set_current__ (*bool, optional*) If True (default), will set the uploaded version of the template to be the current active version.\n",
    "- __disable_old__ (*bool, optional*) If True, any active versions of the template besides the newly created and the current version (if different) will be disabled.  Default value is False.\n",
    "- __verbose__ (*bool, optional*) Setting this to True will print extra status messages.  Default value is False."
   ]
  },
  {
   "cell_type": "markdown",
   "metadata": {},
   "source": [
    "### 6.3. Template version management operations\n",
    "\n",
    "As templates cannot be modified or deleted, there are a number of operations that allow for template versions and managers to be made less accessible.\n",
    "\n",
    "Individual template versions can be set as disabled or returned to active status using disable_template() and restore_template(), respectively.  Disabling a template version prevents users from adding records to that template version.  For each template title, a single template version is considered the \"current\" version. The set_current_template() method changes which template version is the current one.  All three of these methods rely on parameters that identify a specific version of a template.\n",
    "\n",
    "Parameters\n",
    "    \n",
    "- __title__ (*str, optional*) The template title.\n",
    "- __version__ (*int, optional*) The version of the template to make current.  Required unless template_id is given.  Note that version numbers start at 1.\n",
    "- __template_manager__ (*pandas.Series, optional*) Template manager information for the template.  This can be given instead of title to avoid querying for the template manager.\n",
    "- __template_id__ (*str, optional*) The database id for the template to set as current.  If given, then no other parameters are allowed (or needed).\n",
    "- __verbose__ (*bool, optional*) Setting this to True will print extra status messages.  Default value is False.\n",
    "\n",
    "Additionally, all versions of a given template can be disabled or restored using disable_template_manager() and restore_template_manager(), respectively.  The parameters for these methods are used to identify the template family to disable/restore. \n",
    "\n",
    "Parameters\n",
    "    \n",
    "- __title__ (*str, optional*) The template title.\n",
    "- __template_manager__ (*pandas.Series, optional*) Template manager information for the template.  This can be given instead of title to avoid querying for the template manager.\n",
    "- __verbose__ (*bool, optional*) Setting this to True will print extra status messages.  Default value is False."
   ]
  },
  {
   "cell_type": "markdown",
   "metadata": {},
   "source": [
    "### 6.4. Template migration and validation\n",
    "\n",
    "Each record is associated with a specific template. Migration allows for records to be associated with a different template instead, as long as the record contents can be validated against the new template's schema.  This type of operation is typically done when a new version of a template is added that extends the current template.  Validation performs the schema validation checks for the records against the new template without migrating the records to the new template.\n",
    "\n",
    "These operations Will hopefully be added soon as the proper use of the REST calls are being worked out. "
   ]
  },
  {
   "cell_type": "markdown",
   "metadata": {},
   "source": [
    "## 7. Managing XSLTs \n",
    "\n",
    "XSLT files allow for the XML content of records to be transformed. This is used by CDCS for a variety of purposes\n",
    "- Transformations to HTML can be used to render the contents of record entries into user-friendly web pages.\n",
    "- Transformations can also be specified to convert the record contents into other text-based formats that users may wish to download.\n",
    "- A transformation can also be used for data migration when a new template version is not backwards compatible with the current template version.  Here, the transformation would be XML to XML so that the content is valid with the new template schema. "
   ]
  },
  {
   "cell_type": "markdown",
   "metadata": {},
   "source": [
    "### 7.1. Exploring existing XSLTs\n",
    "\n",
    "Similar to other content types, get_xslts() and get_xslt() fetch all or one matching XSLT files from the database.  Each XSLT can be identified by its name or filename.\n",
    "\n",
    "Parameters\n",
    " \n",
    "- __name__ (*str, optional*) The xslt name to limit the search by.\n",
    "- __filename__ (*str, optional*) The xslt filename to limit the search by.\n",
    "\n",
    "### 7.2. Uploading a new XSLT\n",
    "\n",
    "New XSLTs can be uploaded using upload_xslt().\n",
    "\n",
    "Parameters\n",
    "    \n",
    "- __name__ (*str, optional*) The name to associate with the XSLT file.  Optional if filename is given as name will be taken as filename without its extension.\n",
    "- __filename__ (*str, optional*) The filename to associate with the XSLT file.  Optional if name and content are given.  If not given, filename will be set to name + '.xsl'. Will read the file contents if the file exists and content is not given.\n",
    "- __content__ (*str or bytes, optional*) XSLT file contents.  Optional if filename is given and points to a file that exists.\n",
    "- __verbose__ (*bool, optional*) Setting this to True will print extra status messages.  Default value is False.\n",
    "\n",
    "### 7.3. Modifying an existing XSLT\n",
    "\n",
    "Any uploaded XSLT entries can be modified and updated using update_xslt(). Note that there are additional parameters compared to other update operations as the name and filename fields can be updated in addition to the content.\n",
    "\n",
    "Parameters\n",
    "    \n",
    "- __name__ (*str, optional*) An xslt name. Will be used to identify the existing xslt entry to update if neither xslt nor xslt_id parameters are given. If either xslt or xslt_id are given, this can be used to assign a new name to the entry.\n",
    "- __filename__ (*str, optional*) An xslt filename. Will be used to identify the existing xslt entry to update if neither xslt nor xslt_id parameters are given. If either xslt or xslt_id are given, this can be used to assign a new filename to the entry.\n",
    "- __content__ (*str, optional*) New xsl content to assign to the entry.\n",
    "- __newname__ (*str, optional*) New name to assign to the entry.\n",
    "- __newfilename__ (*str, optional*) New filename to assign to the entry.\n",
    "- __xslt__ (*pd.Series, optional*) The xslt entry information for the entry that is being updated.  \n",
    "- __xslt_id__ (*str, optional*) The database id that uniquely identifies the xslt entry. \n",
    "- __verbose__ (*bool, optional*) Setting this to True will print extra status messages.  Default value is False.\n",
    "\n",
    "### 7.4. Deleting an existing XSLT\n",
    "\n",
    "Any XSLT files can also be removed from the database using delete_xslt().\n",
    "\n",
    "Parameters\n",
    "    \n",
    "- __name__ (*str, optional*) Values for name and filename can be specified to try to uniquely identify the XSLT entry to delete.  Cannot be combined with xslt or xslt_id as they uniquely identify the XSLT on their own.\n",
    "- __filename__ (*str, optional*) Values for name and filename can be specified to try to uniquely identify the XSLT entry to delete.  Cannot be combined with xslt or xslt_id as they uniquely identify the XSLT on their own.\n",
    "- __xslt__ (*pd.Series, optional*) The xslt entry information for the entry that is to be deleted.  Cannot be combined with name, filename or xslt_id.\n",
    "- __xslt_id__ (* str, optional*) The database id that uniquely identifies the xslt entry to delete.  Cannot be combined with name, filename or xslt.\n",
    "- __verbose__ (*bool, optional*) Setting this to True will print extra status messages.  Default value is False."
   ]
  },
  {
   "cell_type": "markdown",
   "metadata": {},
   "source": [
    "## 8. Managing PID XPATHs\n",
    "\n",
    "To help make data in a CDCS more compliant with FAIR practices, a PID (persistent identifier) can be assigned to each record entry and blob.  Without a PID, the URL for accessing a record/blob contains the database ID that was assigned to that content. The database ID is not persistent as deleting and reuploading the content will result in it being assigned a different database ID. This is especially relevant when restoring a database from a backup as the database IDs are not retained.\n",
    "\n",
    "The PID XPATH operations listed here make it easy for PIDs to be automatically assigned to records of a given schema.  The steps involved are\n",
    "\n",
    "1. The CDCS database needs to be set up to allow for automatically assigning PIDs, and one or more domains needs to be defined.  Contact whoever is in charge of hosting your CDCS instance as these options either require high administration privileges or are not accessible with REST commands or from the web interface.\n",
    "2. In order for a PID to be assigned to a record, the PID must be included in the record's XML content as a full URL.  The database automatically finds the PID URL field from the XML content based on an XPATH that is set on a per-template basis.  The methods described in this section allow for these template-specific PID XPATHs to be managed.\n",
    "3. Each PID URL will be of the form {host}/pid/rest/{provider}/{domain}/{record}.  Host is the host URL for the database, provider is typically \"local\", domain is one of the domains defined in step #1, and record then is some record-specific ID that makes the full URL unique.  As long as this PID URL is in the appropriate XML field specified by the PID XPATH for the template, is consistent with the form described, and is unique, then the record can be accessed from the PID URL."
   ]
  },
  {
   "cell_type": "markdown",
   "metadata": {},
   "source": [
    "### 8.1. Exploring existing PID XPATHs\n",
    "\n",
    "\n",
    "The currently set PID XPATHs can be retrieved and explored with get_pid_xpaths() and get_pid_xpath().\n",
    "\n",
    "Parameters\n",
    "\n",
    "- __template__ (*str or pandas.Series, optional*) The template or template title to limit the search by.\n",
    "\n",
    "### 8.2. Uploading and updating PID XPATHS\n",
    "\n",
    "PID XPATHs can be set and changed with upload_pid_xpath() and update_pid_xpath(), respectively.\n",
    "    \n",
    "Parameters\n",
    "    \n",
    "- __template__ (*str or pandas.Series*) The template or template title.\n",
    "- __xpath__ (*str*) The xpath to use for the pid field for the template.\n",
    "\n",
    "### 8.3. Deleting PID XPATHS\n",
    "\n",
    "A set PID XPATH can be deleted with delete_pid_xpath().\n",
    "    \n",
    "Parameters\n",
    "    \n",
    "- __template__ (*str or pandas.Series*) The template or template title."
   ]
  },
  {
   "cell_type": "code",
   "execution_count": null,
   "metadata": {},
   "outputs": [],
   "source": []
  }
 ],
 "metadata": {
  "kernelspec": {
   "display_name": "Python 3 (ipykernel)",
   "language": "python",
   "name": "python3"
  },
  "language_info": {
   "codemirror_mode": {
    "name": "ipython",
    "version": 3
   },
   "file_extension": ".py",
   "mimetype": "text/x-python",
   "name": "python",
   "nbconvert_exporter": "python",
   "pygments_lexer": "ipython3",
   "version": "3.7.13"
  }
 },
 "nbformat": 4,
 "nbformat_minor": 4
}
