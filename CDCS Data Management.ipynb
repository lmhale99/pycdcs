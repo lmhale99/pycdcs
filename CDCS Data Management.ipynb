{
 "cells": [
  {
   "cell_type": "markdown",
   "metadata": {},
   "source": [
    "# CDCS Data Management\n",
    "\n",
    "This Notebook details the functions and interactions for managing data in a CDCS instance.  Primarily, this means having an account on the database allowing you to log in to create and modify records. \n",
    "\n",
    "Notes on CDCS design:\n",
    "\n",
    "- Each record is assigned to a user and can be assigned to a workspace.\n",
    "- Any records without a workspace are only accessible to the assigned user.\n",
    "- A workspace serves as a group of records that can be made accessible to specific users.\n",
    "- Each CDCS instance has a \"Global Public Workspace\" that is meant for all users to be able to see."
   ]
  },
  {
   "cell_type": "code",
   "execution_count": 1,
   "metadata": {},
   "outputs": [],
   "source": [
    "from pathlib import Path\n",
    "\n",
    "from cdcs import CDCS"
   ]
  },
  {
   "cell_type": "markdown",
   "metadata": {},
   "source": [
    "## 1. Class initialization\n",
    "\n",
    "A CDCS client manager can be initialized by passing it the host url and authenication information.\n",
    "\n",
    "Parameters\n",
    "\n",
    "- __username__: (*str, optional*) Username to log in as. If not given, then a promp will ask for it. An empty string '' username will access the client as an anonymous guest.\n",
    "- __password__: (*str, optional*) The password associated with the username. If not given and username is not '', then a promp will ask for the password.\n",
    "- __certification__: (*str, optional*) The path to a certification file, if needed."
   ]
  },
  {
   "cell_type": "code",
   "execution_count": 2,
   "metadata": {},
   "outputs": [
    {
     "name": "stdout",
     "output_type": "stream",
     "text": [
      "Enter password for lmh1 @ https://potentials.nist.gov:········\n"
     ]
    }
   ],
   "source": [
    "curator = CDCS('https://potentials.nist.gov/', username='lmh1')"
   ]
  },
  {
   "cell_type": "markdown",
   "metadata": {},
   "source": [
    "## 2. Query data\n",
    "\n",
    "The query() method will return *all* matching records that you have access to.\n",
    "\n",
    "Parameters\n",
    "\n",
    "- __template__: (*list, str, pandas.Series or pandas.DataFrame, optional*) One or more templates or template titles to limit the search by.\n",
    "- __title__: (*str, optional*) Record title to limit the search by.\n",
    "- __keyword__: (*str or list, optional*) Keyword(s) to use for a string-based search of record content.  Only records containing all keywords will be returned. \n",
    "- __mongoquery__: (*str or dict, optional*) Mongodb find query to use in limiting searches by record element fields.  Note: only record parsing is supported, not field projection.\n",
    "- __page__: (*int or None, optional*) If an int, then will return results only for that page of 10 records.  If None (default), then results for all pages will be compiled and returned.\n",
    "\n",
    "Returns\n",
    "- (*pandas.DataFrame*) All records matching the search request"
   ]
  },
  {
   "cell_type": "markdown",
   "metadata": {},
   "source": [
    "Specify a template in the database to interact with"
   ]
  },
  {
   "cell_type": "code",
   "execution_count": 3,
   "metadata": {},
   "outputs": [],
   "source": [
    "# Note: template should the name of a template in the database you are accessing!\n",
    "template = 'FAQ'"
   ]
  },
  {
   "cell_type": "markdown",
   "metadata": {},
   "source": [
    "Use query to fetch records"
   ]
  },
  {
   "cell_type": "code",
   "execution_count": 4,
   "metadata": {},
   "outputs": [
    {
     "data": {
      "text/html": [
       "<div>\n",
       "<style scoped>\n",
       "    .dataframe tbody tr th:only-of-type {\n",
       "        vertical-align: middle;\n",
       "    }\n",
       "\n",
       "    .dataframe tbody tr th {\n",
       "        vertical-align: top;\n",
       "    }\n",
       "\n",
       "    .dataframe thead th {\n",
       "        text-align: right;\n",
       "    }\n",
       "</style>\n",
       "<table border=\"1\" class=\"dataframe\">\n",
       "  <thead>\n",
       "    <tr style=\"text-align: right;\">\n",
       "      <th></th>\n",
       "      <th>id</th>\n",
       "      <th>last_modification_date</th>\n",
       "      <th>template</th>\n",
       "      <th>title</th>\n",
       "      <th>user_id</th>\n",
       "      <th>workspace</th>\n",
       "      <th>xml_content</th>\n",
       "      <th>template_title</th>\n",
       "    </tr>\n",
       "  </thead>\n",
       "  <tbody>\n",
       "    <tr>\n",
       "      <th>0</th>\n",
       "      <td>5df2ad2290985100269d7bf5</td>\n",
       "      <td>2019-12-17T19:58:26.591000Z</td>\n",
       "      <td>5df2ad2290985100269d7bf1</td>\n",
       "      <td>lammps</td>\n",
       "      <td>2</td>\n",
       "      <td>5de9613a75d7d40014ffb6fc</td>\n",
       "      <td>&lt;faq  xmlns:xsi=\"http://www.w3.org/2001/XMLSch...</td>\n",
       "      <td>FAQ</td>\n",
       "    </tr>\n",
       "    <tr>\n",
       "      <th>1</th>\n",
       "      <td>5df2ad2290985100349d7c6f</td>\n",
       "      <td>2019-12-17T19:58:26.850000Z</td>\n",
       "      <td>5df2ad2290985100269d7bf1</td>\n",
       "      <td>faq</td>\n",
       "      <td>2</td>\n",
       "      <td>5de9613a75d7d40014ffb6fc</td>\n",
       "      <td>&lt;faq  xmlns:xsi=\"http://www.w3.org/2001/XMLSch...</td>\n",
       "      <td>FAQ</td>\n",
       "    </tr>\n",
       "    <tr>\n",
       "      <th>2</th>\n",
       "      <td>5df2ad2390985100269d7bf9</td>\n",
       "      <td>2019-12-17T19:58:27.099000Z</td>\n",
       "      <td>5df2ad2290985100269d7bf1</td>\n",
       "      <td>submit</td>\n",
       "      <td>2</td>\n",
       "      <td>5de9613a75d7d40014ffb6fc</td>\n",
       "      <td>&lt;faq  xmlns:xsi=\"http://www.w3.org/2001/XMLSch...</td>\n",
       "      <td>FAQ</td>\n",
       "    </tr>\n",
       "    <tr>\n",
       "      <th>3</th>\n",
       "      <td>5df2ad2390985100349d7c73</td>\n",
       "      <td>2019-12-17T19:58:27.329000Z</td>\n",
       "      <td>5df2ad2290985100269d7bf1</td>\n",
       "      <td>ref</td>\n",
       "      <td>2</td>\n",
       "      <td>5de9613a75d7d40014ffb6fc</td>\n",
       "      <td>&lt;faq  xmlns:xsi=\"http://www.w3.org/2001/XMLSch...</td>\n",
       "      <td>FAQ</td>\n",
       "    </tr>\n",
       "    <tr>\n",
       "      <th>4</th>\n",
       "      <td>5df2ad2490985100349d7c77</td>\n",
       "      <td>2019-12-17T19:58:27.558000Z</td>\n",
       "      <td>5df2ad2290985100269d7bf1</td>\n",
       "      <td>manuscript</td>\n",
       "      <td>2</td>\n",
       "      <td>5de9613a75d7d40014ffb6fc</td>\n",
       "      <td>&lt;faq  xmlns:xsi=\"http://www.w3.org/2001/XMLSch...</td>\n",
       "      <td>FAQ</td>\n",
       "    </tr>\n",
       "    <tr>\n",
       "      <th>5</th>\n",
       "      <td>5df2ad2490985100269d7bfd</td>\n",
       "      <td>2019-12-17T19:58:27.787000Z</td>\n",
       "      <td>5df2ad2290985100269d7bf1</td>\n",
       "      <td>formats</td>\n",
       "      <td>2</td>\n",
       "      <td>5de9613a75d7d40014ffb6fc</td>\n",
       "      <td>&lt;faq  xmlns:xsi=\"http://www.w3.org/2001/XMLSch...</td>\n",
       "      <td>FAQ</td>\n",
       "    </tr>\n",
       "    <tr>\n",
       "      <th>6</th>\n",
       "      <td>5df2ad2490985100269d7c01</td>\n",
       "      <td>2019-12-17T19:58:28.042000Z</td>\n",
       "      <td>5df2ad2290985100269d7bf1</td>\n",
       "      <td>graphs</td>\n",
       "      <td>2</td>\n",
       "      <td>5de9613a75d7d40014ffb6fc</td>\n",
       "      <td>&lt;faq  xmlns:xsi=\"http://www.w3.org/2001/XMLSch...</td>\n",
       "      <td>FAQ</td>\n",
       "    </tr>\n",
       "  </tbody>\n",
       "</table>\n",
       "</div>"
      ],
      "text/plain": [
       "                         id       last_modification_date  \\\n",
       "0  5df2ad2290985100269d7bf5  2019-12-17T19:58:26.591000Z   \n",
       "1  5df2ad2290985100349d7c6f  2019-12-17T19:58:26.850000Z   \n",
       "2  5df2ad2390985100269d7bf9  2019-12-17T19:58:27.099000Z   \n",
       "3  5df2ad2390985100349d7c73  2019-12-17T19:58:27.329000Z   \n",
       "4  5df2ad2490985100349d7c77  2019-12-17T19:58:27.558000Z   \n",
       "5  5df2ad2490985100269d7bfd  2019-12-17T19:58:27.787000Z   \n",
       "6  5df2ad2490985100269d7c01  2019-12-17T19:58:28.042000Z   \n",
       "\n",
       "                   template       title user_id                 workspace  \\\n",
       "0  5df2ad2290985100269d7bf1      lammps       2  5de9613a75d7d40014ffb6fc   \n",
       "1  5df2ad2290985100269d7bf1         faq       2  5de9613a75d7d40014ffb6fc   \n",
       "2  5df2ad2290985100269d7bf1      submit       2  5de9613a75d7d40014ffb6fc   \n",
       "3  5df2ad2290985100269d7bf1         ref       2  5de9613a75d7d40014ffb6fc   \n",
       "4  5df2ad2290985100269d7bf1  manuscript       2  5de9613a75d7d40014ffb6fc   \n",
       "5  5df2ad2290985100269d7bf1     formats       2  5de9613a75d7d40014ffb6fc   \n",
       "6  5df2ad2290985100269d7bf1      graphs       2  5de9613a75d7d40014ffb6fc   \n",
       "\n",
       "                                         xml_content template_title  \n",
       "0  <faq  xmlns:xsi=\"http://www.w3.org/2001/XMLSch...            FAQ  \n",
       "1  <faq  xmlns:xsi=\"http://www.w3.org/2001/XMLSch...            FAQ  \n",
       "2  <faq  xmlns:xsi=\"http://www.w3.org/2001/XMLSch...            FAQ  \n",
       "3  <faq  xmlns:xsi=\"http://www.w3.org/2001/XMLSch...            FAQ  \n",
       "4  <faq  xmlns:xsi=\"http://www.w3.org/2001/XMLSch...            FAQ  \n",
       "5  <faq  xmlns:xsi=\"http://www.w3.org/2001/XMLSch...            FAQ  \n",
       "6  <faq  xmlns:xsi=\"http://www.w3.org/2001/XMLSch...            FAQ  "
      ]
     },
     "execution_count": 4,
     "metadata": {},
     "output_type": "execute_result"
    }
   ],
   "source": [
    "records = curator.query(template=template)\n",
    "records"
   ]
  },
  {
   "cell_type": "markdown",
   "metadata": {},
   "source": [
    "Pick the first record, and see its xml contents"
   ]
  },
  {
   "cell_type": "code",
   "execution_count": 5,
   "metadata": {},
   "outputs": [
    {
     "name": "stdout",
     "output_type": "stream",
     "text": [
      "<faq  xmlns:xsi=\"http://www.w3.org/2001/XMLSchema-instance\" ><question>Where can I download the LAMMPS molecular dynamics software package?</question><answer><![CDATA[<a href=\"http://lammps.sandia.gov\" class=\"external\">LAMMPS</a> (Large-scale Atomic/Molecular Massively Parallel Simulator) is developed and maintained at  <a href=\"http://www.sandia.gov\" class=\"external\">Sandia National Laboratories</a>.]]></answer></faq>\n"
     ]
    }
   ],
   "source": [
    "record = records.iloc[0]\n",
    "content = record.xml_content\n",
    "print(content)"
   ]
  },
  {
   "cell_type": "markdown",
   "metadata": {},
   "source": [
    "## 3. Manage records\n",
    "\n",
    "The methods associated with managing records requires having an account with the corresponding database and the correct privileges."
   ]
  },
  {
   "cell_type": "markdown",
   "metadata": {},
   "source": [
    "### 3.1. Upload a new record\n",
    "\n",
    "New records can be uploaded to the database using the upload_record() method.\n",
    "\n",
    "Parameters\n",
    "\n",
    "- **template** (*str or pandas.Series*) The template or template title to associate with the record.\n",
    "- **filename** (*str, optional*) Name of an XML file whose contents are to be uploaded.  Either filename or content required.\n",
    "- **content** (*str or bytes, optional*) String content to upload. Either filename or content required.\n",
    "- **title** (*str, optional*) Title to save the record as.  Optional if filename is given (title will be taken as filename without ext).\n",
    "- **workspace** (*str or pandas.Series, optional*) If given, the record will be assigned to this workspace after successfully being uploaded.\n",
    "- **duplicatecheck** (*bool, optional*) If True (default), then a ValueError will be raised if a record already exists with the same template and title.  If False, no check is performed possibly allowing for multiple records with the same title to exist in the database.  Note: this check only searches the records that you have access to, so duplicates are possible from other users.\n",
    "- **verbose** (*bool, optional*) Setting this to True will print extra status messages.  Default value is False."
   ]
  },
  {
   "cell_type": "markdown",
   "metadata": {},
   "source": [
    "Use the content from the record queried above to upload a \"test\" record."
   ]
  },
  {
   "cell_type": "code",
   "execution_count": 6,
   "metadata": {},
   "outputs": [
    {
     "name": "stdout",
     "output_type": "stream",
     "text": [
      "record testrecord1 (5f58e3c85b91e5002d87aeba) successfully uploaded.\n"
     ]
    }
   ],
   "source": [
    "title = 'testrecord1'\n",
    "curator.upload_record(template=template, title=title, content=content, verbose=True)"
   ]
  },
  {
   "cell_type": "markdown",
   "metadata": {},
   "source": [
    "Alternatively, the names of any local XML files can be specified and the method will automatically read the contents.  The file name without path and extension will be used for the title if no title is given.\n",
    "\n",
    "Also, note that the workspace is being set to 'Global Public Workspace'."
   ]
  },
  {
   "cell_type": "code",
   "execution_count": 7,
   "metadata": {},
   "outputs": [
    {
     "name": "stdout",
     "output_type": "stream",
     "text": [
      "record testrecord2 (5f58e3cf5b91e5003487aebb) successfully uploaded.\n",
      "record 5f58e3cf5b91e5003487aebb assigned to workspace 5de9613a75d7d40014ffb6fc\n"
     ]
    }
   ],
   "source": [
    "# Save content to local file\n",
    "filename = 'testrecord2.xml'\n",
    "with open(filename, 'w') as f:\n",
    "    f.write(content)\n",
    "    \n",
    "# Upload from file\n",
    "curator.upload_record(template=template, filename=filename, verbose=True,\n",
    "                      workspace='Global Public Workspace')\n",
    "\n",
    "# Delete local file (keep working directory clean)\n",
    "Path(filename).unlink()"
   ]
  },
  {
   "cell_type": "markdown",
   "metadata": {},
   "source": [
    "### 3.2. Retrieve data records\n",
    "\n",
    "The records that you own can be accessed using the get_records() and get_record() methods. get_records() will fetch all matching records, while get_record() will fetch a single record if exactly one match is found and will throw an error otherwise.\n",
    "\n",
    "Parameters\n",
    "\n",
    "- **template** (*str or pandas.Series, optional*) The template or template title to limit the search by.\n",
    "- **title** (*str, optional*) The data record title to limit the search by."
   ]
  },
  {
   "cell_type": "code",
   "execution_count": 8,
   "metadata": {},
   "outputs": [
    {
     "data": {
      "text/html": [
       "<div>\n",
       "<style scoped>\n",
       "    .dataframe tbody tr th:only-of-type {\n",
       "        vertical-align: middle;\n",
       "    }\n",
       "\n",
       "    .dataframe tbody tr th {\n",
       "        vertical-align: top;\n",
       "    }\n",
       "\n",
       "    .dataframe thead th {\n",
       "        text-align: right;\n",
       "    }\n",
       "</style>\n",
       "<table border=\"1\" class=\"dataframe\">\n",
       "  <thead>\n",
       "    <tr style=\"text-align: right;\">\n",
       "      <th></th>\n",
       "      <th>id</th>\n",
       "      <th>last_modification_date</th>\n",
       "      <th>template</th>\n",
       "      <th>title</th>\n",
       "      <th>user_id</th>\n",
       "      <th>workspace</th>\n",
       "      <th>xml_content</th>\n",
       "    </tr>\n",
       "  </thead>\n",
       "  <tbody>\n",
       "    <tr>\n",
       "      <th>0</th>\n",
       "      <td>5df2ad2290985100269d7bf5</td>\n",
       "      <td>2019-12-17T19:58:26.591000Z</td>\n",
       "      <td>5df2ad2290985100269d7bf1</td>\n",
       "      <td>lammps</td>\n",
       "      <td>2</td>\n",
       "      <td>5de9613a75d7d40014ffb6fc</td>\n",
       "      <td>&lt;faq  xmlns:xsi=\"http://www.w3.org/2001/XMLSch...</td>\n",
       "    </tr>\n",
       "    <tr>\n",
       "      <th>1</th>\n",
       "      <td>5df2ad2290985100349d7c6f</td>\n",
       "      <td>2019-12-17T19:58:26.850000Z</td>\n",
       "      <td>5df2ad2290985100269d7bf1</td>\n",
       "      <td>faq</td>\n",
       "      <td>2</td>\n",
       "      <td>5de9613a75d7d40014ffb6fc</td>\n",
       "      <td>&lt;faq  xmlns:xsi=\"http://www.w3.org/2001/XMLSch...</td>\n",
       "    </tr>\n",
       "    <tr>\n",
       "      <th>2</th>\n",
       "      <td>5df2ad2390985100269d7bf9</td>\n",
       "      <td>2019-12-17T19:58:27.099000Z</td>\n",
       "      <td>5df2ad2290985100269d7bf1</td>\n",
       "      <td>submit</td>\n",
       "      <td>2</td>\n",
       "      <td>5de9613a75d7d40014ffb6fc</td>\n",
       "      <td>&lt;faq  xmlns:xsi=\"http://www.w3.org/2001/XMLSch...</td>\n",
       "    </tr>\n",
       "    <tr>\n",
       "      <th>3</th>\n",
       "      <td>5df2ad2390985100349d7c73</td>\n",
       "      <td>2019-12-17T19:58:27.329000Z</td>\n",
       "      <td>5df2ad2290985100269d7bf1</td>\n",
       "      <td>ref</td>\n",
       "      <td>2</td>\n",
       "      <td>5de9613a75d7d40014ffb6fc</td>\n",
       "      <td>&lt;faq  xmlns:xsi=\"http://www.w3.org/2001/XMLSch...</td>\n",
       "    </tr>\n",
       "    <tr>\n",
       "      <th>4</th>\n",
       "      <td>5df2ad2490985100349d7c77</td>\n",
       "      <td>2019-12-17T19:58:27.558000Z</td>\n",
       "      <td>5df2ad2290985100269d7bf1</td>\n",
       "      <td>manuscript</td>\n",
       "      <td>2</td>\n",
       "      <td>5de9613a75d7d40014ffb6fc</td>\n",
       "      <td>&lt;faq  xmlns:xsi=\"http://www.w3.org/2001/XMLSch...</td>\n",
       "    </tr>\n",
       "    <tr>\n",
       "      <th>5</th>\n",
       "      <td>5df2ad2490985100269d7bfd</td>\n",
       "      <td>2019-12-17T19:58:27.787000Z</td>\n",
       "      <td>5df2ad2290985100269d7bf1</td>\n",
       "      <td>formats</td>\n",
       "      <td>2</td>\n",
       "      <td>5de9613a75d7d40014ffb6fc</td>\n",
       "      <td>&lt;faq  xmlns:xsi=\"http://www.w3.org/2001/XMLSch...</td>\n",
       "    </tr>\n",
       "    <tr>\n",
       "      <th>6</th>\n",
       "      <td>5df2ad2490985100269d7c01</td>\n",
       "      <td>2019-12-17T19:58:28.042000Z</td>\n",
       "      <td>5df2ad2290985100269d7bf1</td>\n",
       "      <td>graphs</td>\n",
       "      <td>2</td>\n",
       "      <td>5de9613a75d7d40014ffb6fc</td>\n",
       "      <td>&lt;faq  xmlns:xsi=\"http://www.w3.org/2001/XMLSch...</td>\n",
       "    </tr>\n",
       "    <tr>\n",
       "      <th>7</th>\n",
       "      <td>5f58e3c85b91e5002d87aeba</td>\n",
       "      <td>2020-09-09T14:16:39.869000Z</td>\n",
       "      <td>5df2ad2290985100269d7bf1</td>\n",
       "      <td>testrecord1</td>\n",
       "      <td>2</td>\n",
       "      <td>None</td>\n",
       "      <td>&lt;faq  xmlns:xsi=\"http://www.w3.org/2001/XMLSch...</td>\n",
       "    </tr>\n",
       "    <tr>\n",
       "      <th>8</th>\n",
       "      <td>5f58e3cf5b91e5003487aebb</td>\n",
       "      <td>2020-09-09T14:16:47.859000Z</td>\n",
       "      <td>5df2ad2290985100269d7bf1</td>\n",
       "      <td>testrecord2</td>\n",
       "      <td>2</td>\n",
       "      <td>5de9613a75d7d40014ffb6fc</td>\n",
       "      <td>&lt;faq  xmlns:xsi=\"http://www.w3.org/2001/XMLSch...</td>\n",
       "    </tr>\n",
       "  </tbody>\n",
       "</table>\n",
       "</div>"
      ],
      "text/plain": [
       "                         id       last_modification_date  \\\n",
       "0  5df2ad2290985100269d7bf5  2019-12-17T19:58:26.591000Z   \n",
       "1  5df2ad2290985100349d7c6f  2019-12-17T19:58:26.850000Z   \n",
       "2  5df2ad2390985100269d7bf9  2019-12-17T19:58:27.099000Z   \n",
       "3  5df2ad2390985100349d7c73  2019-12-17T19:58:27.329000Z   \n",
       "4  5df2ad2490985100349d7c77  2019-12-17T19:58:27.558000Z   \n",
       "5  5df2ad2490985100269d7bfd  2019-12-17T19:58:27.787000Z   \n",
       "6  5df2ad2490985100269d7c01  2019-12-17T19:58:28.042000Z   \n",
       "7  5f58e3c85b91e5002d87aeba  2020-09-09T14:16:39.869000Z   \n",
       "8  5f58e3cf5b91e5003487aebb  2020-09-09T14:16:47.859000Z   \n",
       "\n",
       "                   template        title user_id                 workspace  \\\n",
       "0  5df2ad2290985100269d7bf1       lammps       2  5de9613a75d7d40014ffb6fc   \n",
       "1  5df2ad2290985100269d7bf1          faq       2  5de9613a75d7d40014ffb6fc   \n",
       "2  5df2ad2290985100269d7bf1       submit       2  5de9613a75d7d40014ffb6fc   \n",
       "3  5df2ad2290985100269d7bf1          ref       2  5de9613a75d7d40014ffb6fc   \n",
       "4  5df2ad2290985100269d7bf1   manuscript       2  5de9613a75d7d40014ffb6fc   \n",
       "5  5df2ad2290985100269d7bf1      formats       2  5de9613a75d7d40014ffb6fc   \n",
       "6  5df2ad2290985100269d7bf1       graphs       2  5de9613a75d7d40014ffb6fc   \n",
       "7  5df2ad2290985100269d7bf1  testrecord1       2                      None   \n",
       "8  5df2ad2290985100269d7bf1  testrecord2       2  5de9613a75d7d40014ffb6fc   \n",
       "\n",
       "                                         xml_content  \n",
       "0  <faq  xmlns:xsi=\"http://www.w3.org/2001/XMLSch...  \n",
       "1  <faq  xmlns:xsi=\"http://www.w3.org/2001/XMLSch...  \n",
       "2  <faq  xmlns:xsi=\"http://www.w3.org/2001/XMLSch...  \n",
       "3  <faq  xmlns:xsi=\"http://www.w3.org/2001/XMLSch...  \n",
       "4  <faq  xmlns:xsi=\"http://www.w3.org/2001/XMLSch...  \n",
       "5  <faq  xmlns:xsi=\"http://www.w3.org/2001/XMLSch...  \n",
       "6  <faq  xmlns:xsi=\"http://www.w3.org/2001/XMLSch...  \n",
       "7  <faq  xmlns:xsi=\"http://www.w3.org/2001/XMLSch...  \n",
       "8  <faq  xmlns:xsi=\"http://www.w3.org/2001/XMLSch...  "
      ]
     },
     "execution_count": 8,
     "metadata": {},
     "output_type": "execute_result"
    }
   ],
   "source": [
    "curator.get_records(template=template)"
   ]
  },
  {
   "cell_type": "code",
   "execution_count": 9,
   "metadata": {},
   "outputs": [
    {
     "name": "stdout",
     "output_type": "stream",
     "text": [
      "id                                                 5f58e3cf5b91e5003487aebb\n",
      "last_modification_date                          2020-09-09T14:16:47.859000Z\n",
      "template                                           5df2ad2290985100269d7bf1\n",
      "title                                                           testrecord2\n",
      "user_id                                                                   2\n",
      "workspace                                          5de9613a75d7d40014ffb6fc\n",
      "xml_content               <faq  xmlns:xsi=\"http://www.w3.org/2001/XMLSch...\n",
      "Name: 0, dtype: object\n"
     ]
    }
   ],
   "source": [
    "record = curator.get_record(template=template, title='testrecord2')\n",
    "print(record)"
   ]
  },
  {
   "cell_type": "code",
   "execution_count": 10,
   "metadata": {},
   "outputs": [
    {
     "name": "stdout",
     "output_type": "stream",
     "text": [
      "<faq  xmlns:xsi=\"http://www.w3.org/2001/XMLSchema-instance\" ><question>Where can I download the LAMMPS molecular dynamics software package?</question><answer><![CDATA[<a href=\"http://lammps.sandia.gov\" class=\"external\">LAMMPS</a> (Large-scale Atomic/Molecular Massively Parallel Simulator) is developed and maintained at  <a href=\"http://www.sandia.gov\" class=\"external\">Sandia National Laboratories</a>.]]></answer></faq>\n"
     ]
    }
   ],
   "source": [
    "print(record.xml_content)"
   ]
  },
  {
   "cell_type": "markdown",
   "metadata": {},
   "source": [
    "### 3.3. Update an existing record\n",
    "\n",
    "The content of a record in the database can be changed using the update_record() method.  Note that this only changes the record's content and all other metadata (user, workspace, database id,...) will remain unchanged.\n",
    "\n",
    "- **record** (*pandas.Series, optional*) A previously identified record to delete.  As this uniquely defines a record, the template and title parameters are ignored if given. Can contain the new conte\n",
    "- **template** (*str or pandas.Series, optional*) The template or template title associated with the record.  template + title values must uniquely identify one record.\n",
    "- **title** (*str, optional*) Title of the record to delete.  template + title values must uniquely identify one record.\n",
    "- **filename** (*str or Path, optional*) Path to file containing the new record content to upload. Either filename or content required.\n",
    "- **content** (*str or bytes, optional*) New content to upload. Either filename or content required.\n",
    "- **workspace** (*str or pandas.Series, optional*) If given, the record will be assigned to this workspace after successfully being updated.\n",
    "- **verbose** (*bool, optional*) Setting this to True will print extra status messages.  Default value is False."
   ]
  },
  {
   "cell_type": "markdown",
   "metadata": {},
   "source": [
    "Change the content of testrecord2 by replacing \"download\" with \"find\""
   ]
  },
  {
   "cell_type": "code",
   "execution_count": 11,
   "metadata": {},
   "outputs": [
    {
     "name": "stdout",
     "output_type": "stream",
     "text": [
      "<faq  xmlns:xsi=\"http://www.w3.org/2001/XMLSchema-instance\" ><question>Where can I find the LAMMPS molecular dynamics software package?</question><answer><![CDATA[<a href=\"http://lammps.sandia.gov\" class=\"external\">LAMMPS</a> (Large-scale Atomic/Molecular Massively Parallel Simulator) is developed and maintained at  <a href=\"http://www.sandia.gov\" class=\"external\">Sandia National Laboratories</a>.]]></answer></faq>\n"
     ]
    }
   ],
   "source": [
    "new_content = record.xml_content.replace('download', 'find')\n",
    "print(new_content)"
   ]
  },
  {
   "cell_type": "code",
   "execution_count": 12,
   "metadata": {},
   "outputs": [
    {
     "name": "stdout",
     "output_type": "stream",
     "text": [
      "record testrecord2 (5f58e3cf5b91e5003487aebb) has been updated.\n"
     ]
    }
   ],
   "source": [
    "curator.update_record(record=record, content=new_content, verbose=True)"
   ]
  },
  {
   "cell_type": "markdown",
   "metadata": {},
   "source": [
    "Retrieve the record again from the database showing nothing has changed except modification date and content"
   ]
  },
  {
   "cell_type": "code",
   "execution_count": 13,
   "metadata": {},
   "outputs": [
    {
     "name": "stdout",
     "output_type": "stream",
     "text": [
      "id                                                 5f58e3cf5b91e5003487aebb\n",
      "last_modification_date                          2020-09-09T14:17:10.465000Z\n",
      "template                                           5df2ad2290985100269d7bf1\n",
      "title                                                           testrecord2\n",
      "user_id                                                                   2\n",
      "workspace                                          5de9613a75d7d40014ffb6fc\n",
      "xml_content               <faq  xmlns:xsi=\"http://www.w3.org/2001/XMLSch...\n",
      "Name: 0, dtype: object\n"
     ]
    }
   ],
   "source": [
    "record = curator.get_record(template=template, title='testrecord2')\n",
    "print(record)"
   ]
  },
  {
   "cell_type": "code",
   "execution_count": 14,
   "metadata": {},
   "outputs": [
    {
     "name": "stdout",
     "output_type": "stream",
     "text": [
      "<faq  xmlns:xsi=\"http://www.w3.org/2001/XMLSchema-instance\" ><question>Where can I find the LAMMPS molecular dynamics software package?</question><answer><![CDATA[<a href=\"http://lammps.sandia.gov\" class=\"external\">LAMMPS</a> (Large-scale Atomic/Molecular Massively Parallel Simulator) is developed and maintained at  <a href=\"http://www.sandia.gov\" class=\"external\">Sandia National Laboratories</a>.]]></answer></faq>\n"
     ]
    }
   ],
   "source": [
    "print(record.xml_content)"
   ]
  },
  {
   "cell_type": "markdown",
   "metadata": {},
   "source": [
    "### 3.4. Assign records to a workspace\n",
    "\n",
    "The upload_record() and update_record() methods give the option to assign each record to a workspace if wanted.  After a record is added, the workspace can also be changed using the assign_records() method.\n",
    "\n",
    "Parameters\n",
    "\n",
    "- __workspace__ (*str or pandas.Series*) The workspace or workspace title to assign the records to.\n",
    "- __records__ (*pandas.Series or pandas.DataFrame, optional*) Pre-selected records to assign to the workspace.  Cannot be given with ids, template, or title.\n",
    "- __ids__ (*str or list, optional*) The ID(s) of the records to assign to the workspace.  Selecting records using ids has the least overhead. Cannot be given with records, template, or title.\n",
    "- __template__ (*str or pandas.Series, optional*) The template or template title of records to assign to the workspace.  Cannot be given with records or ids.\n",
    "- __title__ (*str, optional*) The title of a record to assign to the workspace. Cannot be given with records or ids.\n",
    "- __verbose__ (*bool, optional*) Setting this to True will print extra status messages.  Default value is False."
   ]
  },
  {
   "cell_type": "code",
   "execution_count": 16,
   "metadata": {},
   "outputs": [
    {
     "name": "stdout",
     "output_type": "stream",
     "text": [
      "record 5f58e3c85b91e5002d87aeba assigned to workspace 5de9613a75d7d40014ffb6fc\n"
     ]
    }
   ],
   "source": [
    "curator.assign_records(workspace='Global Public Workspace', title='testrecord1', template=template, verbose=True)"
   ]
  },
  {
   "cell_type": "markdown",
   "metadata": {},
   "source": [
    "### 3.5. Delete a record\n",
    "\n",
    "A record can also be deleted by the assigned user using the delete_record() method.\n",
    "\n",
    "Parameters\n",
    "\n",
    "- __record__ (*pandas.Series, optional*) A previously identified record to delete.  As this uniquely defines a record, the other parameters are ignored.\n",
    "- __template__ (*str or pandas.Series, optional*) The template or template title associated with the record.  template + title values must uniquely identify one record.\n",
    "- __title__ (*str, optional*) Title of the record to delete.  template + title values must uniquely identify one record.\n",
    "- __verbose__ (*bool, optional*) Setting this to True will print extra status messages.  Default value is False."
   ]
  },
  {
   "cell_type": "code",
   "execution_count": 17,
   "metadata": {},
   "outputs": [
    {
     "name": "stdout",
     "output_type": "stream",
     "text": [
      "record testrecord1 (5f58e3c85b91e5002d87aeba) has been deleted.\n"
     ]
    }
   ],
   "source": [
    "# Delete by identifying with title + template\n",
    "curator.delete_record(title='testrecord1', template=template, verbose=True)"
   ]
  },
  {
   "cell_type": "code",
   "execution_count": 18,
   "metadata": {},
   "outputs": [
    {
     "name": "stdout",
     "output_type": "stream",
     "text": [
      "record testrecord2 (5f58e3cf5b91e5003487aebb) has been deleted.\n"
     ]
    }
   ],
   "source": [
    "# Get a record first\n",
    "record = curator.get_record(title='testrecord2', template=template)\n",
    "\n",
    "# Delete by passing Series\n",
    "curator.delete_record(record, verbose=True)"
   ]
  },
  {
   "cell_type": "markdown",
   "metadata": {},
   "source": [
    "## 4. Manage blobs (raw files)\n",
    "\n",
    "The database can also store any non-record files as blob files that can later be retrieved and downloaded all at once."
   ]
  },
  {
   "cell_type": "markdown",
   "metadata": {},
   "source": [
    "Create blob file for testing"
   ]
  },
  {
   "cell_type": "code",
   "execution_count": 27,
   "metadata": {},
   "outputs": [],
   "source": [
    "filename = 'test_blob.txt'\n",
    "\n",
    "with open(filename, 'w') as f:\n",
    "    f.write('This is my blob for testing')"
   ]
  },
  {
   "cell_type": "markdown",
   "metadata": {},
   "source": [
    "### 4.1. Upload blob\n",
    "\n",
    "Blobs can be added to the database using the upload_blob() method.  When a record is uploaded, it will be associated with the given filename (minus the path).\n",
    "\n",
    "Parameters\n",
    "\n",
    "- __filename__ (*str or Path*) The path/name of the file to upload.\n",
    "- __blobbytes__ (*bytesIO, optional*) Pre-loaded file contents.  Allows for the contents of open file-like objects to be passed in and associated with the filename.  If not given, then the file filename will be read instead.\n",
    "- __workspace__ (*str or pandas.Series, optional*) If given, the blob will be assigned to this workspace after successfully being uploaded.\n",
    "- __verbose__ (*bool, optional*) Setting this to True will print extra status messages.  Default value is False.\n",
    "\n",
    "Returns\n",
    "\n",
    "- __handle__ (*str*) The URL that can be used to retrieve the blob's contents."
   ]
  },
  {
   "cell_type": "code",
   "execution_count": 28,
   "metadata": {},
   "outputs": [
    {
     "name": "stdout",
     "output_type": "stream",
     "text": [
      "File \"test_blob.txt\" uploaded as blob \"test_blob.txt\" (5f58e5085b91e5003487aec3)\n",
      "https://potentials.nist.gov/rest/blob/download/5f58e5085b91e5003487aec3/\n"
     ]
    }
   ],
   "source": [
    "handle = curator.upload_blob(filename=filename, verbose=True)\n",
    "print(handle)"
   ]
  },
  {
   "cell_type": "markdown",
   "metadata": {},
   "source": [
    "### 4.2 Find blob metadata\n",
    "\n",
    "The list of all blobs currently in the database, or all with an associated filename can be explored with the get_blobs() method.\n",
    "\n",
    "Parameters\n",
    "\n",
    "- __filename__ (*str, optional*) The name of the file to limit the search by.\n",
    "\n",
    "A single blob can also be retrieved using the get_blob() method based on a filename, if it is unique in the database, or a database id.\n",
    "\n",
    "Parameters\n",
    "\n",
    "- __id__ (*str, optional*) The unique ID associated with the blob. Cannot be combined with filename\n",
    "- __filename__ (*str, optional*) The name of the file to limit the search by, which must be unique.  Cannot be combined with id.\n",
    "\n",
    "__NOTE__: Exploring blob metadata appears to behave differently for some versions of CDCS, with the filename searches only showing blobs that the user owns, while id searches shows any blobs available to the user, either by being owned or in an available workspace.\n",
    "\n",
    "- Identifying by filename only works for user blobs\n",
    "- Identifying by id works for all blobs available to you (user + allowed workspaces)"
   ]
  },
  {
   "cell_type": "code",
   "execution_count": 39,
   "metadata": {},
   "outputs": [
    {
     "data": {
      "text/html": [
       "<div>\n",
       "<style scoped>\n",
       "    .dataframe tbody tr th:only-of-type {\n",
       "        vertical-align: middle;\n",
       "    }\n",
       "\n",
       "    .dataframe tbody tr th {\n",
       "        vertical-align: top;\n",
       "    }\n",
       "\n",
       "    .dataframe thead th {\n",
       "        text-align: right;\n",
       "    }\n",
       "</style>\n",
       "<table border=\"1\" class=\"dataframe\">\n",
       "  <thead>\n",
       "    <tr style=\"text-align: right;\">\n",
       "      <th></th>\n",
       "      <th>filename</th>\n",
       "      <th>handle</th>\n",
       "      <th>id</th>\n",
       "      <th>upload_date</th>\n",
       "      <th>user_id</th>\n",
       "    </tr>\n",
       "  </thead>\n",
       "  <tbody>\n",
       "    <tr>\n",
       "      <th>0</th>\n",
       "      <td>test_blob.txt</td>\n",
       "      <td>https://potentials.nist.gov/rest/blob/download...</td>\n",
       "      <td>5f58e5085b91e5003487aec3</td>\n",
       "      <td>2020-09-09 14:22:00+00:00</td>\n",
       "      <td>2</td>\n",
       "    </tr>\n",
       "  </tbody>\n",
       "</table>\n",
       "</div>"
      ],
      "text/plain": [
       "        filename                                             handle  \\\n",
       "0  test_blob.txt  https://potentials.nist.gov/rest/blob/download...   \n",
       "\n",
       "                         id                upload_date user_id  \n",
       "0  5f58e5085b91e5003487aec3  2020-09-09 14:22:00+00:00       2  "
      ]
     },
     "execution_count": 39,
     "metadata": {},
     "output_type": "execute_result"
    }
   ],
   "source": [
    "curator.get_blobs()"
   ]
  },
  {
   "cell_type": "code",
   "execution_count": 40,
   "metadata": {},
   "outputs": [
    {
     "name": "stdout",
     "output_type": "stream",
     "text": [
      "filename                                           test_blob.txt\n",
      "handle         https://potentials.nist.gov/rest/blob/download...\n",
      "id                                      5f58e5085b91e5003487aec3\n",
      "upload_date                            2020-09-09 14:22:00+00:00\n",
      "user_id                                                        2\n",
      "Name: 0, dtype: object\n"
     ]
    }
   ],
   "source": [
    "blobdata = curator.get_blob(filename=filename)\n",
    "print(blobdata)"
   ]
  },
  {
   "cell_type": "code",
   "execution_count": 41,
   "metadata": {},
   "outputs": [
    {
     "data": {
      "text/plain": [
       "id                                      5f58e5085b91e5003487aec3\n",
       "user_id                                                        2\n",
       "filename                                           test_blob.txt\n",
       "handle         https://potentials.nist.gov/rest/blob/download...\n",
       "upload_date                            2020-09-09 14:22:00+00:00\n",
       "dtype: object"
      ]
     },
     "execution_count": 41,
     "metadata": {},
     "output_type": "execute_result"
    }
   ],
   "source": [
    "curator.get_blob(id=blobdata.id)"
   ]
  },
  {
   "cell_type": "markdown",
   "metadata": {},
   "source": [
    "### 4.3 Retrieve blob contents\n",
    "\n",
    "The contents of a blob can then be retrieved using the get_blob_contents() method.\n",
    "\n",
    "Paramters\n",
    "\n",
    "- __blob__ (*pandas.Series, optional*) The blob metadata for a blob, as recieved from get_blobs() or get_blob().  Cannot be combined with id or filename.\n",
    "- __id__ (*str, optional*) The unique ID associated with the blob. Cannot be combined with blob or filename.\n",
    "- __filename__ (*str, optional*) The name of the file to limit the search by, which must be unique.  Cannot be combined with blob or id.\n",
    "\n",
    "Returns\n",
    "\n",
    "- __content__ (*bytes*) The blob's bytes contents."
   ]
  },
  {
   "cell_type": "code",
   "execution_count": 33,
   "metadata": {},
   "outputs": [
    {
     "name": "stdout",
     "output_type": "stream",
     "text": [
      "b'This is my blob for testing'\n"
     ]
    }
   ],
   "source": [
    "print(curator.get_blob_contents(filename=filename))"
   ]
  },
  {
   "cell_type": "markdown",
   "metadata": {},
   "source": [
    "Alternatively, the blob can be saved directly to a local file based on its associated filename with the download_blob() method.\n",
    "\n",
    "Parameters\n",
    "\n",
    "- __blob__ (*pandas.Series, optional*) The blob metadata for a blob, as recieved from get_blobs() or get_blob().  Cannot be combined with id or filename.\n",
    "- __id__ (*str, optional*) The unique ID associated with the blob. Cannot be combined with blob or filename.\n",
    "- __filename__ (*str, optional*) The name of the file to limit the search by, which must be unique.  Cannot be combined with blob or id.\n",
    "- __savedir__ (*str or Path, optional*) The directory to save the file to.  Default value uses the current working directory."
   ]
  },
  {
   "cell_type": "code",
   "execution_count": 42,
   "metadata": {},
   "outputs": [],
   "source": [
    "curator.download_blob(filename=filename)"
   ]
  },
  {
   "cell_type": "markdown",
   "metadata": {},
   "source": [
    "### 4.4. Assign blobs to a workspace\n",
    "\n",
    "Just like records, blobs can also be assigned to workspaces.  This can be done during uploading, or it can be done after uploading using the assign_blobs() method.\n",
    "\n",
    "- __workspace__ (*str or pandas.Series*) The workspace or workspace title to assign the blobs to.\n",
    "- __blobs__ (*pandas.Series or pandas.DataFrame, optional*) Pre-selected blobs to assign to the workspace.  Cannot be given with ids or filename.\n",
    "- __ids__ (*str or list, optional*) The ID(s) of the blobs to assign to the workspace.  Selecting blobs using ids has the least overhead. Cannot be given with blobs or filename.\n",
    "- __filename__ (*str, optional*) The name of the blob file to assign to the workspace.  Cannot be given with blobs or ids.\n",
    "- __verbose__ (*bool, optional*) Setting this to True will print extra status messages.  Default value is False."
   ]
  },
  {
   "cell_type": "code",
   "execution_count": 43,
   "metadata": {},
   "outputs": [
    {
     "name": "stdout",
     "output_type": "stream",
     "text": [
      "blob 5f58e5085b91e5003487aec3 assigned to workspace 5de9613a75d7d40014ffb6fc\n"
     ]
    }
   ],
   "source": [
    "curator.assign_blobs(workspace='Global Public Workspace', filename=filename, verbose=True)"
   ]
  },
  {
   "cell_type": "markdown",
   "metadata": {},
   "source": [
    "### 4.5. Delete blob\n",
    "\n",
    "Finally, blobs can also be deleted using the delete_blob() method.\n",
    "\n",
    "- __blob__ (*pandas.Series, optional*) The blob metadata for a blob, as recieved from get_blobs() or get_blob().  Cannot be combined with id or filename.\n",
    "- __id__ (*str, optional*) The unique ID associated with the blob. Cannot be combined with blob or filename.\n",
    "- __filename__ (*str, optional*) The name of the file to limit the search by, which must be unique.  Cannot be combined with blob or id.\n",
    "- __verbose__ (*bool, optional*) Setting this to True will print extra status messages.  Default value is False."
   ]
  },
  {
   "cell_type": "code",
   "execution_count": 44,
   "metadata": {},
   "outputs": [
    {
     "name": "stdout",
     "output_type": "stream",
     "text": [
      "Successfully deleted blob \"test_blob.txt\" (5f58e5085b91e5003487aec3)\n"
     ]
    }
   ],
   "source": [
    "curator.delete_blob(filename=filename, verbose=True)"
   ]
  },
  {
   "cell_type": "markdown",
   "metadata": {},
   "source": [
    "## 5. Supporting methods"
   ]
  },
  {
   "cell_type": "markdown",
   "metadata": {},
   "source": [
    "### 5.1. Finding workspace metadata\n",
    "\n",
    "Metadata for the available workspaces can be explored using the get_workspaces() and get_workspace() methods.\n",
    "\n",
    "Parameters\n",
    "\n",
    "title: (str, optional) The workspace title to limit the search by."
   ]
  },
  {
   "cell_type": "code",
   "execution_count": 45,
   "metadata": {},
   "outputs": [
    {
     "data": {
      "text/html": [
       "<div>\n",
       "<style scoped>\n",
       "    .dataframe tbody tr th:only-of-type {\n",
       "        vertical-align: middle;\n",
       "    }\n",
       "\n",
       "    .dataframe tbody tr th {\n",
       "        vertical-align: top;\n",
       "    }\n",
       "\n",
       "    .dataframe thead th {\n",
       "        text-align: right;\n",
       "    }\n",
       "</style>\n",
       "<table border=\"1\" class=\"dataframe\">\n",
       "  <thead>\n",
       "    <tr style=\"text-align: right;\">\n",
       "      <th></th>\n",
       "      <th>id</th>\n",
       "      <th>is_public</th>\n",
       "      <th>owner</th>\n",
       "      <th>title</th>\n",
       "    </tr>\n",
       "  </thead>\n",
       "  <tbody>\n",
       "    <tr>\n",
       "      <th>0</th>\n",
       "      <td>5de9613a75d7d40014ffb6fc</td>\n",
       "      <td>True</td>\n",
       "      <td>None</td>\n",
       "      <td>Global Public Workspace</td>\n",
       "    </tr>\n",
       "  </tbody>\n",
       "</table>\n",
       "</div>"
      ],
      "text/plain": [
       "                         id  is_public owner                    title\n",
       "0  5de9613a75d7d40014ffb6fc       True  None  Global Public Workspace"
      ]
     },
     "execution_count": 45,
     "metadata": {},
     "output_type": "execute_result"
    }
   ],
   "source": [
    "curator.get_workspaces()"
   ]
  },
  {
   "cell_type": "code",
   "execution_count": 46,
   "metadata": {},
   "outputs": [
    {
     "data": {
      "text/plain": [
       "id           5de9613a75d7d40014ffb6fc\n",
       "is_public                        True\n",
       "owner                            None\n",
       "title         Global Public Workspace\n",
       "Name: 0, dtype: object"
      ]
     },
     "execution_count": 46,
     "metadata": {},
     "output_type": "execute_result"
    }
   ],
   "source": [
    "curator.get_workspace(title='Global Public Workspace')"
   ]
  },
  {
   "cell_type": "markdown",
   "metadata": {},
   "source": [
    "The attribute global_workspace also retrieves the Global Public Workspace "
   ]
  },
  {
   "cell_type": "code",
   "execution_count": 47,
   "metadata": {},
   "outputs": [
    {
     "name": "stdout",
     "output_type": "stream",
     "text": [
      "id           5de9613a75d7d40014ffb6fc\n",
      "is_public                        True\n",
      "owner                            None\n",
      "title         Global Public Workspace\n",
      "Name: 0, dtype: object\n"
     ]
    }
   ],
   "source": [
    "workspace = curator.global_workspace\n",
    "print(workspace)"
   ]
  },
  {
   "cell_type": "markdown",
   "metadata": {},
   "source": [
    "### 5.2. Finding template metadata\n",
    "\n",
    "A list of all available templates can be retrieved using the template_titles attribute."
   ]
  },
  {
   "cell_type": "code",
   "execution_count": 48,
   "metadata": {},
   "outputs": [
    {
     "data": {
      "text/plain": [
       "['Potential',\n",
       " 'Family',\n",
       " 'FAQ',\n",
       " 'Action',\n",
       " 'PotentialProperties',\n",
       " 'Request',\n",
       " 'free_surface',\n",
       " 'stacking_fault',\n",
       " 'dislocation',\n",
       " 'point_defect',\n",
       " 'crystal_prototype',\n",
       " 'potential_LAMMPS',\n",
       " 'Citation',\n",
       " 'relaxed_crystal',\n",
       " 'calculation_diatom_scan',\n",
       " 'calculation_isolated_atom']"
      ]
     },
     "execution_count": 48,
     "metadata": {},
     "output_type": "execute_result"
    }
   ],
   "source": [
    "curator.template_titles"
   ]
  },
  {
   "cell_type": "markdown",
   "metadata": {},
   "source": [
    "Metadata for the available templates can be explored using the get_templates() and get_template() methods.\n",
    "\n",
    "Parameters\n",
    "\n",
    "- __title__ (*str, optional*): The template title to limit the search by.\n",
    "- __is_disabled__ (*bool, optional*): If True, then disabled templates will be returned.  If False (default), then active templates will be returned.\n",
    "- __current__ (bool, optional*): If True (default), only current template versions will be returned.\n",
    "- __useronly__ (*bool, optional*): If True, only a user's templates are returned. If False (default), then all global templates are returned."
   ]
  },
  {
   "cell_type": "code",
   "execution_count": 49,
   "metadata": {},
   "outputs": [
    {
     "data": {
      "text/html": [
       "<div>\n",
       "<style scoped>\n",
       "    .dataframe tbody tr th:only-of-type {\n",
       "        vertical-align: middle;\n",
       "    }\n",
       "\n",
       "    .dataframe tbody tr th {\n",
       "        vertical-align: top;\n",
       "    }\n",
       "\n",
       "    .dataframe thead th {\n",
       "        text-align: right;\n",
       "    }\n",
       "</style>\n",
       "<table border=\"1\" class=\"dataframe\">\n",
       "  <thead>\n",
       "    <tr style=\"text-align: right;\">\n",
       "      <th></th>\n",
       "      <th>content</th>\n",
       "      <th>dependencies</th>\n",
       "      <th>filename</th>\n",
       "      <th>hash</th>\n",
       "      <th>id</th>\n",
       "      <th>title</th>\n",
       "    </tr>\n",
       "  </thead>\n",
       "  <tbody>\n",
       "    <tr>\n",
       "      <th>0</th>\n",
       "      <td>&lt;?xml version=\"1.0\" encoding=\"UTF-8\" standalon...</td>\n",
       "      <td>[]</td>\n",
       "      <td>record-interatomic-potential.xsd</td>\n",
       "      <td>68e70e482f446ac79de1ffdc05b769e3d8cc7df4</td>\n",
       "      <td>5df2ac9890985100349d7ad7</td>\n",
       "      <td>Potential</td>\n",
       "    </tr>\n",
       "    <tr>\n",
       "      <th>1</th>\n",
       "      <td>&lt;?xml version=\"1.0\" encoding=\"UTF-8\" standalon...</td>\n",
       "      <td>[]</td>\n",
       "      <td>record-interatomic-potential-family.xsd</td>\n",
       "      <td>493be99cbc23614f898354553ea0d307009673d3</td>\n",
       "      <td>5df2ad2090985100349d7c6b</td>\n",
       "      <td>Family</td>\n",
       "    </tr>\n",
       "    <tr>\n",
       "      <th>2</th>\n",
       "      <td>&lt;?xml version=\"1.0\" encoding=\"UTF-8\" standalon...</td>\n",
       "      <td>[]</td>\n",
       "      <td>record-interatomic-potential-faq.xsd</td>\n",
       "      <td>2dc0be555da041f782a7435c377ea7a20f28d3cd</td>\n",
       "      <td>5df2ad2290985100269d7bf1</td>\n",
       "      <td>FAQ</td>\n",
       "    </tr>\n",
       "    <tr>\n",
       "      <th>3</th>\n",
       "      <td>&lt;?xml version=\"1.0\" encoding=\"UTF-8\" standalon...</td>\n",
       "      <td>[]</td>\n",
       "      <td>record-interatomic-potential-action.xsd</td>\n",
       "      <td>f1c3de8a64553d81bd10cfc0cb24dd3cc129c710</td>\n",
       "      <td>5df2ad2690985100349d7c79</td>\n",
       "      <td>Action</td>\n",
       "    </tr>\n",
       "    <tr>\n",
       "      <th>4</th>\n",
       "      <td>&lt;?xml version=\"1.0\" encoding=\"UTF-8\" standalon...</td>\n",
       "      <td>[]</td>\n",
       "      <td>record-per-potential-properties.xsd</td>\n",
       "      <td>ea7eeed57e0cea9b15dbda4b32c08266201a7e5a</td>\n",
       "      <td>5df2ad6f90985100349d7d57</td>\n",
       "      <td>PotentialProperties</td>\n",
       "    </tr>\n",
       "    <tr>\n",
       "      <th>5</th>\n",
       "      <td>&lt;xsd:schema xmlns:xsd=\"http://www.w3.org/2001/...</td>\n",
       "      <td>[]</td>\n",
       "      <td>Request3</td>\n",
       "      <td>d108bacceb44a2789544ade71018b7f5ceacca1b</td>\n",
       "      <td>5df2ae1190985100269d7db0</td>\n",
       "      <td>Request</td>\n",
       "    </tr>\n",
       "    <tr>\n",
       "      <th>6</th>\n",
       "      <td>&lt;?xml version=\"1.0\"?&gt;\\r\\n&lt;xsd:schema xmlns:xsd...</td>\n",
       "      <td>[]</td>\n",
       "      <td>record-free-surface.xsd</td>\n",
       "      <td>8d2ff690d7e5558b851769f75bad8d90af47102d</td>\n",
       "      <td>5f4d442a5b91e5003525dcc4</td>\n",
       "      <td>free_surface</td>\n",
       "    </tr>\n",
       "    <tr>\n",
       "      <th>7</th>\n",
       "      <td>&lt;?xml version=\"1.0\"?&gt;\\n&lt;xsd:schema xmlns:xsd=\"...</td>\n",
       "      <td>[]</td>\n",
       "      <td>record-stacking-fault.xsd</td>\n",
       "      <td>aaa696ec7723f68e5be8280c8cafab69e08cf3f3</td>\n",
       "      <td>5f4d51375b91e5003425dda1</td>\n",
       "      <td>stacking_fault</td>\n",
       "    </tr>\n",
       "    <tr>\n",
       "      <th>8</th>\n",
       "      <td>&lt;?xml version=\"1.0\"?&gt;\\n&lt;xsd:schema xmlns:xsd=\"...</td>\n",
       "      <td>[]</td>\n",
       "      <td>record-dislocation.xsd</td>\n",
       "      <td>a7463cde6ce130157c5989528260744f9b580fab</td>\n",
       "      <td>5f4d514e5b91e5002725dd3c</td>\n",
       "      <td>dislocation</td>\n",
       "    </tr>\n",
       "    <tr>\n",
       "      <th>9</th>\n",
       "      <td>&lt;?xml version=\"1.0\"?&gt;\\n&lt;xsd:schema xmlns:xsd=\"...</td>\n",
       "      <td>[]</td>\n",
       "      <td>record-point-defect.xsd</td>\n",
       "      <td>4c8bc7e9d8369cdea5c61b27b418c84d3a350a2d</td>\n",
       "      <td>5df95659ab2f7c0033824ae2</td>\n",
       "      <td>point_defect</td>\n",
       "    </tr>\n",
       "    <tr>\n",
       "      <th>10</th>\n",
       "      <td>&lt;?xml version=\"1.0\"?&gt;\\r\\n&lt;xsd:schema xmlns:xsd...</td>\n",
       "      <td>[]</td>\n",
       "      <td>record-parameters-crystal-prototype.xsd</td>\n",
       "      <td>89b192ffea02849008eb91c391ec4fea715b1770</td>\n",
       "      <td>5dfa61b8ab2f7c002c824ad4</td>\n",
       "      <td>crystal_prototype</td>\n",
       "    </tr>\n",
       "    <tr>\n",
       "      <th>11</th>\n",
       "      <td>&lt;?xml version=\"1.0\"?&gt;\\r\\n&lt;xsd:schema xmlns:xsd...</td>\n",
       "      <td>[]</td>\n",
       "      <td>record-parameters-potential-LAMMPS.xsd</td>\n",
       "      <td>a48181ddd363fb93d8a153a48106dd495222c09c</td>\n",
       "      <td>5dfa6d6aab2f7c0026824bae</td>\n",
       "      <td>potential_LAMMPS</td>\n",
       "    </tr>\n",
       "    <tr>\n",
       "      <th>12</th>\n",
       "      <td>&lt;?xml version=\"1.0\" encoding=\"UTF-8\" standalon...</td>\n",
       "      <td>[]</td>\n",
       "      <td>record-interatomic-potential-citation.xsd</td>\n",
       "      <td>893099854c8ac392bad133ce71ac34f60407ab6f</td>\n",
       "      <td>5e0a34edab2f7c00263cf2c6</td>\n",
       "      <td>Citation</td>\n",
       "    </tr>\n",
       "    <tr>\n",
       "      <th>13</th>\n",
       "      <td>&lt;?xml version=\"1.0\" encoding=\"UTF-8\" standalon...</td>\n",
       "      <td>[]</td>\n",
       "      <td>record-relaxed-crystal.xsd</td>\n",
       "      <td>15aa7bd35d0a5c2f73e4304e46c92b64c8a7fd0d</td>\n",
       "      <td>5f10b4a9ab2f7c002d5c1747</td>\n",
       "      <td>relaxed_crystal</td>\n",
       "    </tr>\n",
       "    <tr>\n",
       "      <th>14</th>\n",
       "      <td>&lt;?xml version=\"1.0\" encoding=\"UTF-8\" standalon...</td>\n",
       "      <td>[]</td>\n",
       "      <td>record-calculation-diatom-scan.xsd</td>\n",
       "      <td>46ce4c17314f9aeb3f5bb14642baf42e3da3d1e2</td>\n",
       "      <td>5f15b87eab2f7c00335c7fd1</td>\n",
       "      <td>calculation_diatom_scan</td>\n",
       "    </tr>\n",
       "    <tr>\n",
       "      <th>15</th>\n",
       "      <td>&lt;?xml version=\"1.0\" encoding=\"UTF-8\" standalon...</td>\n",
       "      <td>[]</td>\n",
       "      <td>record-calculation-isolated-atom.xsd</td>\n",
       "      <td>30ae52b99037d58b23f83b314543761acc1f07a3</td>\n",
       "      <td>5f15e35aab2f7c00315c4f30</td>\n",
       "      <td>calculation_isolated_atom</td>\n",
       "    </tr>\n",
       "  </tbody>\n",
       "</table>\n",
       "</div>"
      ],
      "text/plain": [
       "                                              content dependencies  \\\n",
       "0   <?xml version=\"1.0\" encoding=\"UTF-8\" standalon...           []   \n",
       "1   <?xml version=\"1.0\" encoding=\"UTF-8\" standalon...           []   \n",
       "2   <?xml version=\"1.0\" encoding=\"UTF-8\" standalon...           []   \n",
       "3   <?xml version=\"1.0\" encoding=\"UTF-8\" standalon...           []   \n",
       "4   <?xml version=\"1.0\" encoding=\"UTF-8\" standalon...           []   \n",
       "5   <xsd:schema xmlns:xsd=\"http://www.w3.org/2001/...           []   \n",
       "6   <?xml version=\"1.0\"?>\\r\\n<xsd:schema xmlns:xsd...           []   \n",
       "7   <?xml version=\"1.0\"?>\\n<xsd:schema xmlns:xsd=\"...           []   \n",
       "8   <?xml version=\"1.0\"?>\\n<xsd:schema xmlns:xsd=\"...           []   \n",
       "9   <?xml version=\"1.0\"?>\\n<xsd:schema xmlns:xsd=\"...           []   \n",
       "10  <?xml version=\"1.0\"?>\\r\\n<xsd:schema xmlns:xsd...           []   \n",
       "11  <?xml version=\"1.0\"?>\\r\\n<xsd:schema xmlns:xsd...           []   \n",
       "12  <?xml version=\"1.0\" encoding=\"UTF-8\" standalon...           []   \n",
       "13  <?xml version=\"1.0\" encoding=\"UTF-8\" standalon...           []   \n",
       "14  <?xml version=\"1.0\" encoding=\"UTF-8\" standalon...           []   \n",
       "15  <?xml version=\"1.0\" encoding=\"UTF-8\" standalon...           []   \n",
       "\n",
       "                                     filename  \\\n",
       "0            record-interatomic-potential.xsd   \n",
       "1     record-interatomic-potential-family.xsd   \n",
       "2        record-interatomic-potential-faq.xsd   \n",
       "3     record-interatomic-potential-action.xsd   \n",
       "4         record-per-potential-properties.xsd   \n",
       "5                                    Request3   \n",
       "6                     record-free-surface.xsd   \n",
       "7                   record-stacking-fault.xsd   \n",
       "8                      record-dislocation.xsd   \n",
       "9                     record-point-defect.xsd   \n",
       "10    record-parameters-crystal-prototype.xsd   \n",
       "11     record-parameters-potential-LAMMPS.xsd   \n",
       "12  record-interatomic-potential-citation.xsd   \n",
       "13                 record-relaxed-crystal.xsd   \n",
       "14         record-calculation-diatom-scan.xsd   \n",
       "15       record-calculation-isolated-atom.xsd   \n",
       "\n",
       "                                        hash                        id  \\\n",
       "0   68e70e482f446ac79de1ffdc05b769e3d8cc7df4  5df2ac9890985100349d7ad7   \n",
       "1   493be99cbc23614f898354553ea0d307009673d3  5df2ad2090985100349d7c6b   \n",
       "2   2dc0be555da041f782a7435c377ea7a20f28d3cd  5df2ad2290985100269d7bf1   \n",
       "3   f1c3de8a64553d81bd10cfc0cb24dd3cc129c710  5df2ad2690985100349d7c79   \n",
       "4   ea7eeed57e0cea9b15dbda4b32c08266201a7e5a  5df2ad6f90985100349d7d57   \n",
       "5   d108bacceb44a2789544ade71018b7f5ceacca1b  5df2ae1190985100269d7db0   \n",
       "6   8d2ff690d7e5558b851769f75bad8d90af47102d  5f4d442a5b91e5003525dcc4   \n",
       "7   aaa696ec7723f68e5be8280c8cafab69e08cf3f3  5f4d51375b91e5003425dda1   \n",
       "8   a7463cde6ce130157c5989528260744f9b580fab  5f4d514e5b91e5002725dd3c   \n",
       "9   4c8bc7e9d8369cdea5c61b27b418c84d3a350a2d  5df95659ab2f7c0033824ae2   \n",
       "10  89b192ffea02849008eb91c391ec4fea715b1770  5dfa61b8ab2f7c002c824ad4   \n",
       "11  a48181ddd363fb93d8a153a48106dd495222c09c  5dfa6d6aab2f7c0026824bae   \n",
       "12  893099854c8ac392bad133ce71ac34f60407ab6f  5e0a34edab2f7c00263cf2c6   \n",
       "13  15aa7bd35d0a5c2f73e4304e46c92b64c8a7fd0d  5f10b4a9ab2f7c002d5c1747   \n",
       "14  46ce4c17314f9aeb3f5bb14642baf42e3da3d1e2  5f15b87eab2f7c00335c7fd1   \n",
       "15  30ae52b99037d58b23f83b314543761acc1f07a3  5f15e35aab2f7c00315c4f30   \n",
       "\n",
       "                        title  \n",
       "0                   Potential  \n",
       "1                      Family  \n",
       "2                         FAQ  \n",
       "3                      Action  \n",
       "4         PotentialProperties  \n",
       "5                     Request  \n",
       "6                free_surface  \n",
       "7              stacking_fault  \n",
       "8                 dislocation  \n",
       "9                point_defect  \n",
       "10          crystal_prototype  \n",
       "11           potential_LAMMPS  \n",
       "12                   Citation  \n",
       "13            relaxed_crystal  \n",
       "14    calculation_diatom_scan  \n",
       "15  calculation_isolated_atom  "
      ]
     },
     "execution_count": 49,
     "metadata": {},
     "output_type": "execute_result"
    }
   ],
   "source": [
    "curator.get_templates()"
   ]
  },
  {
   "cell_type": "code",
   "execution_count": 50,
   "metadata": {},
   "outputs": [
    {
     "data": {
      "text/plain": [
       "content         <?xml version=\"1.0\" encoding=\"UTF-8\" standalon...\n",
       "dependencies                                                   []\n",
       "filename                record-interatomic-potential-citation.xsd\n",
       "hash                     893099854c8ac392bad133ce71ac34f60407ab6f\n",
       "id                                       5e0a34edab2f7c00263cf2c6\n",
       "title                                                    Citation\n",
       "Name: 0, dtype: object"
      ]
     },
     "execution_count": 50,
     "metadata": {},
     "output_type": "execute_result"
    }
   ],
   "source": [
    "curator.get_template('Citation')"
   ]
  },
  {
   "cell_type": "markdown",
   "metadata": {},
   "source": [
    "The get_template_managers() method fetches metadata associated with the various versions of templates in the database. \n",
    "\n",
    "Parameters\n",
    "\n",
    "- __title__ (*str, optional*) The template title to limit the search by.\n",
    "- __is_disabled__ (*bool, optional*) If True, then disabled templates will be returned.  If False (default), then active templates will bereturned.\n",
    "- __useronly__ (*bool, optional*) If True, only a user's templates are returned. If False (default), then all global templates arereturned."
   ]
  },
  {
   "cell_type": "code",
   "execution_count": 52,
   "metadata": {},
   "outputs": [
    {
     "data": {
      "text/html": [
       "<div>\n",
       "<style scoped>\n",
       "    .dataframe tbody tr th:only-of-type {\n",
       "        vertical-align: middle;\n",
       "    }\n",
       "\n",
       "    .dataframe tbody tr th {\n",
       "        vertical-align: top;\n",
       "    }\n",
       "\n",
       "    .dataframe thead th {\n",
       "        text-align: right;\n",
       "    }\n",
       "</style>\n",
       "<table border=\"1\" class=\"dataframe\">\n",
       "  <thead>\n",
       "    <tr style=\"text-align: right;\">\n",
       "      <th></th>\n",
       "      <th>_cls</th>\n",
       "      <th>current</th>\n",
       "      <th>disabled_versions</th>\n",
       "      <th>id</th>\n",
       "      <th>is_disabled</th>\n",
       "      <th>title</th>\n",
       "      <th>user</th>\n",
       "      <th>versions</th>\n",
       "    </tr>\n",
       "  </thead>\n",
       "  <tbody>\n",
       "    <tr>\n",
       "      <th>0</th>\n",
       "      <td>VersionManager.TemplateVersionManager</td>\n",
       "      <td>5e0a34edab2f7c00263cf2c6</td>\n",
       "      <td>[5e0a27c3ab2f7c002d3cf2c7]</td>\n",
       "      <td>5e0a27c3ab2f7c002d3cf2c8</td>\n",
       "      <td>False</td>\n",
       "      <td>Citation</td>\n",
       "      <td>None</td>\n",
       "      <td>[5e0a27c3ab2f7c002d3cf2c7, 5e0a34edab2f7c00263...</td>\n",
       "    </tr>\n",
       "  </tbody>\n",
       "</table>\n",
       "</div>"
      ],
      "text/plain": [
       "                                    _cls                   current  \\\n",
       "0  VersionManager.TemplateVersionManager  5e0a34edab2f7c00263cf2c6   \n",
       "\n",
       "            disabled_versions                        id  is_disabled  \\\n",
       "0  [5e0a27c3ab2f7c002d3cf2c7]  5e0a27c3ab2f7c002d3cf2c8        False   \n",
       "\n",
       "      title  user                                           versions  \n",
       "0  Citation  None  [5e0a27c3ab2f7c002d3cf2c7, 5e0a34edab2f7c00263...  "
      ]
     },
     "execution_count": 52,
     "metadata": {},
     "output_type": "execute_result"
    }
   ],
   "source": [
    "curator.get_template_managers('Citation')"
   ]
  },
  {
   "cell_type": "code",
   "execution_count": null,
   "metadata": {},
   "outputs": [],
   "source": []
  }
 ],
 "metadata": {
  "kernelspec": {
   "display_name": "Python 3",
   "language": "python",
   "name": "python3"
  },
  "language_info": {
   "codemirror_mode": {
    "name": "ipython",
    "version": 3
   },
   "file_extension": ".py",
   "mimetype": "text/x-python",
   "name": "python",
   "nbconvert_exporter": "python",
   "pygments_lexer": "ipython3",
   "version": "3.7.3"
  }
 },
 "nbformat": 4,
 "nbformat_minor": 4
}
