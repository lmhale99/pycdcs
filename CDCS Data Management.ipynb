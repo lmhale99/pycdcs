{
 "cells": [
  {
   "cell_type": "markdown",
   "metadata": {},
   "source": [
    "# CDCS Data Management\n",
    "\n",
    "This Notebook details the functions and interactions for managing data in a CDCS instance.  Primarily, this means having an account on the database allowing you to log in to create and modify records. \n",
    "\n",
    "Notes on CDCS design:\n",
    "\n",
    "- Each record is assigned to a user and can be assigned to a workspace.\n",
    "- Any records without a workspace are only accessible to the assigned user.\n",
    "- A workspace serves as a group of records that can be made accessible to specific users.\n",
    "- Each CDCS instance has a \"Global Public Workspace\" that is meant for all users to be able to see."
   ]
  },
  {
   "cell_type": "code",
   "execution_count": 1,
   "metadata": {},
   "outputs": [
    {
     "name": "stdout",
     "output_type": "stream",
     "text": [
      "Notebook executed for cdcs version 0.1.5\n"
     ]
    }
   ],
   "source": [
    "from pathlib import Path\n",
    "\n",
    "import cdcs\n",
    "from cdcs import CDCS\n",
    "\n",
    "print('Notebook executed for cdcs version', cdcs.__version__)"
   ]
  },
  {
   "cell_type": "markdown",
   "metadata": {},
   "source": [
    "## 1. Class initialization\n",
    "\n",
    "A CDCS client manager can be initialized by passing it the host url and authenication information.\n",
    "\n",
    "Parameters\n",
    "\n",
    "- __host__: (*str*) URL for the database's server.\n",
    "- __username__: (*str, optional*) Username of desired account on the server. A prompt will ask for the username if not given.\n",
    "- __password__: (*str, optional*) Password of desired account on the server.  A prompt will ask for the password if not given.\n",
    "- __auth__: (*tuple, optional*) Auth tuple to enable Basic/Digest/Custom HTTP Auth.  Alternative to giving username and password seperately.\n",
    "- __cert__: (*str, optional*) if String, path to ssl client cert file (.pem). If Tuple, (‘cert’, ‘key’) pair.\n",
    "- __certification__: (*str, optional*) Alias for cert. Retained for compatibility.\n",
    "- __verify__: (*bool or str, optional*) Either a boolean, in which case it controls whether we verify the server’s TLS certificate, or a string, in which case it must be a path to a CA bundle to use. Defaults to True."
   ]
  },
  {
   "cell_type": "code",
   "execution_count": 2,
   "metadata": {},
   "outputs": [
    {
     "name": "stdin",
     "output_type": "stream",
     "text": [
      "Enter password for lmh1 @ https://potentials.nist.gov: ················\n"
     ]
    }
   ],
   "source": [
    "curator = CDCS('https://potentials.nist.gov/', username='lmh1')"
   ]
  },
  {
   "cell_type": "markdown",
   "metadata": {},
   "source": [
    "## 2. Query data\n",
    "\n",
    "The query() method will return *all* matching records that you have access to.\n",
    "\n",
    "Parameters\n",
    "\n",
    "- __template__: (*list, str, pandas.Series or pandas.DataFrame, optional*) One or more templates or template titles to limit the search by.\n",
    "- __title__: (*str, optional*) Record title to limit the search by.\n",
    "- __keyword__: (*str or list, optional*) Keyword(s) to use for a string-based search of record content.  Only records containing all keywords will be returned. \n",
    "- __mongoquery__: (*str or dict, optional*) Mongodb find query to use in limiting searches by record element fields.  Note: only record parsing is supported, not field projection.\n",
    "- __page__: (*int or None, optional*) If an int, then will return results only for that page of 10 records.  If None (default), then results for all pages will be compiled and returned.\n",
    "\n",
    "Returns\n",
    "- (*pandas.DataFrame*) All records matching the search request"
   ]
  },
  {
   "cell_type": "markdown",
   "metadata": {},
   "source": [
    "Specify a template in the database to interact with"
   ]
  },
  {
   "cell_type": "code",
   "execution_count": 3,
   "metadata": {},
   "outputs": [],
   "source": [
    "# Note: template should the name of a template in the database you are accessing!\n",
    "template = 'FAQ'"
   ]
  },
  {
   "cell_type": "markdown",
   "metadata": {},
   "source": [
    "Use query to fetch records"
   ]
  },
  {
   "cell_type": "code",
   "execution_count": 4,
   "metadata": {},
   "outputs": [
    {
     "data": {
      "text/html": [
       "<div>\n",
       "<style scoped>\n",
       "    .dataframe tbody tr th:only-of-type {\n",
       "        vertical-align: middle;\n",
       "    }\n",
       "\n",
       "    .dataframe tbody tr th {\n",
       "        vertical-align: top;\n",
       "    }\n",
       "\n",
       "    .dataframe thead th {\n",
       "        text-align: right;\n",
       "    }\n",
       "</style>\n",
       "<table border=\"1\" class=\"dataframe\">\n",
       "  <thead>\n",
       "    <tr style=\"text-align: right;\">\n",
       "      <th></th>\n",
       "      <th>id</th>\n",
       "      <th>template</th>\n",
       "      <th>workspace</th>\n",
       "      <th>user_id</th>\n",
       "      <th>title</th>\n",
       "      <th>xml_content</th>\n",
       "      <th>creation_date</th>\n",
       "      <th>last_modification_date</th>\n",
       "      <th>last_change_date</th>\n",
       "      <th>template_title</th>\n",
       "    </tr>\n",
       "  </thead>\n",
       "  <tbody>\n",
       "    <tr>\n",
       "      <th>0</th>\n",
       "      <td>5fb55fac26ed1e003a1712ef</td>\n",
       "      <td>5fb55fac26ed1e003b1712e1</td>\n",
       "      <td>5fb55e4826ed1e0015e846a9</td>\n",
       "      <td>2</td>\n",
       "      <td>formats</td>\n",
       "      <td>&lt;faq  xmlns:xsi=\"http://www.w3.org/2001/XMLSch...</td>\n",
       "      <td>2020-11-18T17:53:48.764000Z</td>\n",
       "      <td>2020-11-18T17:53:48.764000Z</td>\n",
       "      <td>2020-11-19T13:44:31.936000Z</td>\n",
       "      <td>FAQ</td>\n",
       "    </tr>\n",
       "    <tr>\n",
       "      <th>1</th>\n",
       "      <td>5fb55fad26ed1e00351712f0</td>\n",
       "      <td>5fb55fac26ed1e003b1712e1</td>\n",
       "      <td>5fb55e4826ed1e0015e846a9</td>\n",
       "      <td>2</td>\n",
       "      <td>ref</td>\n",
       "      <td>&lt;faq  xmlns:xsi=\"http://www.w3.org/2001/XMLSch...</td>\n",
       "      <td>2020-11-18T17:53:49.097000Z</td>\n",
       "      <td>2020-11-18T17:53:49.097000Z</td>\n",
       "      <td>2020-11-19T13:44:31.752000Z</td>\n",
       "      <td>FAQ</td>\n",
       "    </tr>\n",
       "    <tr>\n",
       "      <th>2</th>\n",
       "      <td>5fb55fad26ed1e003c1712e5</td>\n",
       "      <td>5fb55fac26ed1e003b1712e1</td>\n",
       "      <td>5fb55e4826ed1e0015e846a9</td>\n",
       "      <td>2</td>\n",
       "      <td>submit</td>\n",
       "      <td>&lt;faq  xmlns:xsi=\"http://www.w3.org/2001/XMLSch...</td>\n",
       "      <td>2020-11-18T17:53:49.427000Z</td>\n",
       "      <td>2020-11-18T17:53:49.427000Z</td>\n",
       "      <td>2020-11-19T13:44:31.564000Z</td>\n",
       "      <td>FAQ</td>\n",
       "    </tr>\n",
       "    <tr>\n",
       "      <th>3</th>\n",
       "      <td>5fb55fad26ed1e003d1712f7</td>\n",
       "      <td>5fb55fac26ed1e003b1712e1</td>\n",
       "      <td>5fb55e4826ed1e0015e846a9</td>\n",
       "      <td>2</td>\n",
       "      <td>lammps</td>\n",
       "      <td>&lt;faq  xmlns:xsi=\"http://www.w3.org/2001/XMLSch...</td>\n",
       "      <td>2020-11-18T17:53:49.754000Z</td>\n",
       "      <td>2020-11-18T17:53:49.754000Z</td>\n",
       "      <td>2020-11-19T13:44:31.380000Z</td>\n",
       "      <td>FAQ</td>\n",
       "    </tr>\n",
       "    <tr>\n",
       "      <th>4</th>\n",
       "      <td>5fb55fae26ed1e003b1712e5</td>\n",
       "      <td>5fb55fac26ed1e003b1712e1</td>\n",
       "      <td>5fb55e4826ed1e0015e846a9</td>\n",
       "      <td>2</td>\n",
       "      <td>faq</td>\n",
       "      <td>&lt;faq  xmlns:xsi=\"http://www.w3.org/2001/XMLSch...</td>\n",
       "      <td>2020-11-18T17:53:50.159000Z</td>\n",
       "      <td>2020-11-18T17:53:50.159000Z</td>\n",
       "      <td>2020-11-19T13:44:31.193000Z</td>\n",
       "      <td>FAQ</td>\n",
       "    </tr>\n",
       "    <tr>\n",
       "      <th>5</th>\n",
       "      <td>5fb55fae26ed1e003a1712f3</td>\n",
       "      <td>5fb55fac26ed1e003b1712e1</td>\n",
       "      <td>5fb55e4826ed1e0015e846a9</td>\n",
       "      <td>2</td>\n",
       "      <td>graphs</td>\n",
       "      <td>&lt;faq  xmlns:xsi=\"http://www.w3.org/2001/XMLSch...</td>\n",
       "      <td>2020-11-18T17:53:50.488000Z</td>\n",
       "      <td>2020-11-18T17:53:50.488000Z</td>\n",
       "      <td>2020-11-19T13:44:31Z</td>\n",
       "      <td>FAQ</td>\n",
       "    </tr>\n",
       "    <tr>\n",
       "      <th>6</th>\n",
       "      <td>5fb55fae26ed1e00351712f4</td>\n",
       "      <td>5fb55fac26ed1e003b1712e1</td>\n",
       "      <td>5fb55e4826ed1e0015e846a9</td>\n",
       "      <td>2</td>\n",
       "      <td>manuscript</td>\n",
       "      <td>&lt;faq  xmlns:xsi=\"http://www.w3.org/2001/XMLSch...</td>\n",
       "      <td>2020-11-18T17:53:50.811000Z</td>\n",
       "      <td>2020-11-18T17:53:50.811000Z</td>\n",
       "      <td>2020-11-19T13:44:30.816000Z</td>\n",
       "      <td>FAQ</td>\n",
       "    </tr>\n",
       "  </tbody>\n",
       "</table>\n",
       "</div>"
      ],
      "text/plain": [
       "                         id                  template  \\\n",
       "0  5fb55fac26ed1e003a1712ef  5fb55fac26ed1e003b1712e1   \n",
       "1  5fb55fad26ed1e00351712f0  5fb55fac26ed1e003b1712e1   \n",
       "2  5fb55fad26ed1e003c1712e5  5fb55fac26ed1e003b1712e1   \n",
       "3  5fb55fad26ed1e003d1712f7  5fb55fac26ed1e003b1712e1   \n",
       "4  5fb55fae26ed1e003b1712e5  5fb55fac26ed1e003b1712e1   \n",
       "5  5fb55fae26ed1e003a1712f3  5fb55fac26ed1e003b1712e1   \n",
       "6  5fb55fae26ed1e00351712f4  5fb55fac26ed1e003b1712e1   \n",
       "\n",
       "                  workspace user_id       title  \\\n",
       "0  5fb55e4826ed1e0015e846a9       2     formats   \n",
       "1  5fb55e4826ed1e0015e846a9       2         ref   \n",
       "2  5fb55e4826ed1e0015e846a9       2      submit   \n",
       "3  5fb55e4826ed1e0015e846a9       2      lammps   \n",
       "4  5fb55e4826ed1e0015e846a9       2         faq   \n",
       "5  5fb55e4826ed1e0015e846a9       2      graphs   \n",
       "6  5fb55e4826ed1e0015e846a9       2  manuscript   \n",
       "\n",
       "                                         xml_content  \\\n",
       "0  <faq  xmlns:xsi=\"http://www.w3.org/2001/XMLSch...   \n",
       "1  <faq  xmlns:xsi=\"http://www.w3.org/2001/XMLSch...   \n",
       "2  <faq  xmlns:xsi=\"http://www.w3.org/2001/XMLSch...   \n",
       "3  <faq  xmlns:xsi=\"http://www.w3.org/2001/XMLSch...   \n",
       "4  <faq  xmlns:xsi=\"http://www.w3.org/2001/XMLSch...   \n",
       "5  <faq  xmlns:xsi=\"http://www.w3.org/2001/XMLSch...   \n",
       "6  <faq  xmlns:xsi=\"http://www.w3.org/2001/XMLSch...   \n",
       "\n",
       "                 creation_date       last_modification_date  \\\n",
       "0  2020-11-18T17:53:48.764000Z  2020-11-18T17:53:48.764000Z   \n",
       "1  2020-11-18T17:53:49.097000Z  2020-11-18T17:53:49.097000Z   \n",
       "2  2020-11-18T17:53:49.427000Z  2020-11-18T17:53:49.427000Z   \n",
       "3  2020-11-18T17:53:49.754000Z  2020-11-18T17:53:49.754000Z   \n",
       "4  2020-11-18T17:53:50.159000Z  2020-11-18T17:53:50.159000Z   \n",
       "5  2020-11-18T17:53:50.488000Z  2020-11-18T17:53:50.488000Z   \n",
       "6  2020-11-18T17:53:50.811000Z  2020-11-18T17:53:50.811000Z   \n",
       "\n",
       "              last_change_date template_title  \n",
       "0  2020-11-19T13:44:31.936000Z            FAQ  \n",
       "1  2020-11-19T13:44:31.752000Z            FAQ  \n",
       "2  2020-11-19T13:44:31.564000Z            FAQ  \n",
       "3  2020-11-19T13:44:31.380000Z            FAQ  \n",
       "4  2020-11-19T13:44:31.193000Z            FAQ  \n",
       "5         2020-11-19T13:44:31Z            FAQ  \n",
       "6  2020-11-19T13:44:30.816000Z            FAQ  "
      ]
     },
     "execution_count": 4,
     "metadata": {},
     "output_type": "execute_result"
    }
   ],
   "source": [
    "records = curator.query(template=template)\n",
    "records"
   ]
  },
  {
   "cell_type": "markdown",
   "metadata": {},
   "source": [
    "Pick the first record, and see its xml contents"
   ]
  },
  {
   "cell_type": "code",
   "execution_count": 5,
   "metadata": {},
   "outputs": [
    {
     "name": "stdout",
     "output_type": "stream",
     "text": [
      "<faq  xmlns:xsi=\"http://www.w3.org/2001/XMLSchema-instance\" ><question>What are the potential formats?</question><answer><![CDATA[<b>Due to the range of formats, we are not able to guarantee that the interatomic potentials will work with particular software packages. Rather, we provide the interatomic potentials with appropriate citation information, and it is up to the user to determine whether a potential will work with given software and produce the expected results.</b></p>  <p>Steve Plimpton has a very nice description of various potential and file  formats on the <a href=\"http://lammps.sandia.gov/doc/pair_style.html\" class=\"external\">LAMMPS website</a>. These include the <b>Embedded-atom method (EAM) funcfl</b> and <b>setfl</b> formats, <b>Finnis-Sinclair</b> potentials, and <b>Modified embedded-atom method (MEAM)</b> potentials. More detailed information can be found there.   In addition to LAMMPS, the EAM funcfl and setfl formats are compatible with DYNAMO, the molecular dynamics program developed by Daw, et al. <a href=\"faq.html#Daw\">(1)</a>, though recent versions of LAMMPS have made some modifications to the header information.   The EAM/FS format was designed for use of Finnis-Sinclair <a href=\"faq.html#FS\">(2)</a> interatomic potentials within LAMMPS.</p>  <p>The <a name=\"IMD\" href=\"http://www.itap.physik.uni-stuttgart.de/~imd/\" class=\"external\">IMD molecular dynamics program</a> also supports a range of interatomic potential types and formats.  The file formats are described in the user guide found at <a href=\"http://www.itap.physik.uni-stuttgart.de/~imd/userguide/potformat.html\" class=\"external\">http://www.itap.physik.uni-stuttgart.de/~imd/userguide/potformat.html</a>.   <p><b><u><a name=\"SPaSM\">SPaSM:</a></u></b></p> <p>SPaSM TABLE files have the following format:<br>  * LINE  1 : Number of particle types,  Number of tables per particle (this number should be set to 6 for 1 particle type)<br>  *  -- Begin Table 0 -- <br>  *  LINE 2 : I   J   0     (Table 0 for pair(I,J)) <br>  *  LINE 3 : Number of grid points N <br>  *  LINE 4 : R_start   R_Cutoff <br>  *   R.start   n.nnnn <br>  *      ... <br>  *   R_Cutoff  n.nnnn <br> * <br>  **  -- Begin Table 1-- <br>  *  LINE 1 : I   J   1     (Table 1 for electron density function rho(I,J)) <br>  *  LINE 2 : Number of grid points N <br>  *  LINE 3 : R_start   R_Cutoff <br>  *   R.start   n.nnnn <br>  *    ... <br>  *   R_Cutoff  n.nnnn <br> * <br> *  -- Begin Table 2 -- <br>  *  1 : I   J   2     (Table 2 for embedding function F(I,J)) <br>  *  2 : Number of grid points N <br>  *  3 : rho_start   rho_Cutoff <br>  *    rho.start   n.nnnn <br>  *                ... <br>  *    rho_Cutoff  n.nnnn <br> ------------------------------------------------------------------------------------------------ <br> <br> The number of tables per particle should be set to 6 per type: since the input data is converted into the following internal tables <br>  *    Table   function <br> ---------------------------------------------------------------------------------------------- <br>  *         0  = Phi(r)         - Tabulated in terms of r <br>  *         1  = rho(r)           - Tabulated in terms of r <br>  *         2  = F(p)           - Tabulated in terms of p <br>  *         3  = Phi'(r)/r      - Tabulated in r <br>  *         4  = rho'(r)/r        - Tabulated in r <br>  *         5  = F'(p)          - Tabulated in p <br> <br> <p>SPaSM formatting information courtesy of Ramon Ravelo (U. Texas El Paso).  <p><b><u>Modified Embedded-Atom Method (MEAM):</u></b></p> <p> The <b><a name=\"MEAM\">\"Modified Embedded-Atom Method\"</a></b> or <b>\"MEAM\"</b> format extends the embedded-atom method to include angularly-dependent forces.  The original MEAM references (including  functional forms) are:<br> M.I. Baskes, \"Application of the embedded-atom method to covalent materials: A semiempirical potential for silicon,\" Phys. Rev. Lett. <b>59</b>, 2666-2669 (1987).<br> M.I. Baskes, \"Modified embedded-atom potentials for cubic materials and impurities,\" Phys. Rev. B <b>46</b>, 2727 - 2742 (1992).<br> Additional information can be found on the <a href=\"http://lammps.sandia.gov/doc/pair_meam.html\" class=\"external\">LAMMPS website</a>.  </p>  <p><b><u>Angular-Dependent Potential (ADP):</u></b></p> <p>The <b><a name=\"ADP\">\"Angular-Dependent Potential\"</a></b> or <b>\"ADP\"</b> format also extends the embedded-atom method to include angularly-dependent forces.  More information (including equations) c an be found in the following reference: Y. Mishin, M.J. Mehl, and D.A. Papaconstantopoulos, \"Phase stability in the Fe-Ni system: Investigation by first-principles calculations and atomistic simulations,\" Acta Mat. <b>53</b>, 4029 (2005).  DOI :10.1016/j.actamat.2005.05.001.<br> Prof. Mishin requested the following note be included:          \"The equation appearing in the Appendix on page 4040 contains a typing error: the sign before 1/3 in the last line must be negative.\"         He provided the corrected equation for the angular-dependent force contributions in <a href=\"./Download/Fe-Ni-YM/ADP_Forces.jpg\">ADP_Forces.jpg</a> or          <a href=\"./Download/Fe-Ni-YM/ADP_Forces.pdf\">ADP_Forces.pdf</a>.<br> <b>\"ADP tabulated functions\"</b> are pairs of (x,f(x)) values as described in the headers of those files. </p>  <p><b><u><a name=\"GULP\">GULP:</a></u></b></p> <p>More information about the <b>\"GULP\"</b> format is available at <a href=\"http://nanochemistry.curtin.edu.au/gulp/\" class=\"external\">http://nanochemistry.curtin.edu.au/gulp/</a>. </p>  <p><b><u>MoldyPSI:</u></b></p> <p>The <b><a name=\"MoldyPSI\">\"MoldyPSI\"</a></b> format combines a parameter file with the Fortran90 routines to calculate the EAM functions and their derivatives. </p>  <p><b><u>Table:</u></b></p> <p>The <b>\"table\"</b> formats are described in the headers of the files.  They are pairs of (x,f(x)) values such as (&rho;,F(&rho;)) as described in the references associated with each interatomic potential.</p>]]></answer></faq>\n"
     ]
    }
   ],
   "source": [
    "record = records.iloc[0]\n",
    "content = record.xml_content\n",
    "print(content)"
   ]
  },
  {
   "cell_type": "markdown",
   "metadata": {},
   "source": [
    "## 3. Manage records\n",
    "\n",
    "The methods associated with managing records requires having an account with the corresponding database and the correct privileges."
   ]
  },
  {
   "cell_type": "markdown",
   "metadata": {},
   "source": [
    "### 3.1. Upload a new record\n",
    "\n",
    "New records can be uploaded to the database using the upload_record() method.\n",
    "\n",
    "Parameters\n",
    "\n",
    "- **template** (*str or pandas.Series*) The template or template title to associate with the record.\n",
    "- **filename** (*str, optional*) Name of an XML file whose contents are to be uploaded.  Either filename or content required.\n",
    "- **content** (*str or bytes, optional*) String content to upload. Either filename or content required.\n",
    "- **title** (*str, optional*) Title to save the record as.  Optional if filename is given (title will be taken as filename without ext).\n",
    "- **workspace** (*str or pandas.Series, optional*) If given, the record will be assigned to this workspace after successfully being uploaded.\n",
    "- **duplicatecheck** (*bool, optional*) If True (default), then a ValueError will be raised if a record already exists with the same template and title.  If False, no check is performed possibly allowing for multiple records with the same title to exist in the database.  Note: this check only searches the records that you have access to, so duplicates are possible from other users.\n",
    "- **verbose** (*bool, optional*) Setting this to True will print extra status messages.  Default value is False."
   ]
  },
  {
   "cell_type": "markdown",
   "metadata": {},
   "source": [
    "Use the content from the record queried above to upload a \"test\" record."
   ]
  },
  {
   "cell_type": "code",
   "execution_count": 6,
   "metadata": {},
   "outputs": [
    {
     "name": "stdout",
     "output_type": "stream",
     "text": [
      "record testrecord1 (610171ef542fc6b84c74cbf7) successfully uploaded.\n"
     ]
    }
   ],
   "source": [
    "title = 'testrecord1'\n",
    "curator.upload_record(template=template, title=title, content=content, verbose=True)"
   ]
  },
  {
   "cell_type": "markdown",
   "metadata": {},
   "source": [
    "Alternatively, the names of any local XML files can be specified and the method will automatically read the contents.  The file name without path and extension will be used for the title if no title is given.\n",
    "\n",
    "Also, note that the workspace is being set to 'Global Public Workspace'."
   ]
  },
  {
   "cell_type": "code",
   "execution_count": 7,
   "metadata": {},
   "outputs": [
    {
     "name": "stdout",
     "output_type": "stream",
     "text": [
      "record testrecord2 (610171f5b392c35e3e74cb89) successfully uploaded.\n",
      "record 610171f5b392c35e3e74cb89 assigned to workspace 5fb55e4826ed1e0015e846a9\n"
     ]
    }
   ],
   "source": [
    "# Save content to local file\n",
    "filename = 'testrecord2.xml'\n",
    "with open(filename, 'w') as f:\n",
    "    f.write(content)\n",
    "    \n",
    "# Upload from file\n",
    "curator.upload_record(template=template, filename=filename, verbose=True,\n",
    "                      workspace='Global Public Workspace')\n",
    "\n",
    "# Delete local file (keep working directory clean)\n",
    "Path(filename).unlink()"
   ]
  },
  {
   "cell_type": "markdown",
   "metadata": {},
   "source": [
    "### 3.2. Retrieve data records\n",
    "\n",
    "The records that you own can be accessed using the get_records() and get_record() methods. get_records() will fetch all matching records, while get_record() will fetch a single record if exactly one match is found and will throw an error otherwise.\n",
    "\n",
    "Parameters\n",
    "\n",
    "- **template** (*str or pandas.Series, optional*) The template or template title to limit the search by.\n",
    "- **title** (*str, optional*) The data record title to limit the search by."
   ]
  },
  {
   "cell_type": "code",
   "execution_count": 8,
   "metadata": {},
   "outputs": [
    {
     "data": {
      "text/html": [
       "<div>\n",
       "<style scoped>\n",
       "    .dataframe tbody tr th:only-of-type {\n",
       "        vertical-align: middle;\n",
       "    }\n",
       "\n",
       "    .dataframe tbody tr th {\n",
       "        vertical-align: top;\n",
       "    }\n",
       "\n",
       "    .dataframe thead th {\n",
       "        text-align: right;\n",
       "    }\n",
       "</style>\n",
       "<table border=\"1\" class=\"dataframe\">\n",
       "  <thead>\n",
       "    <tr style=\"text-align: right;\">\n",
       "      <th></th>\n",
       "      <th>id</th>\n",
       "      <th>template</th>\n",
       "      <th>workspace</th>\n",
       "      <th>user_id</th>\n",
       "      <th>title</th>\n",
       "      <th>xml_content</th>\n",
       "      <th>creation_date</th>\n",
       "      <th>last_modification_date</th>\n",
       "      <th>last_change_date</th>\n",
       "    </tr>\n",
       "  </thead>\n",
       "  <tbody>\n",
       "    <tr>\n",
       "      <th>0</th>\n",
       "      <td>610171f5b392c35e3e74cb89</td>\n",
       "      <td>5fb55fac26ed1e003b1712e1</td>\n",
       "      <td>5fb55e4826ed1e0015e846a9</td>\n",
       "      <td>2</td>\n",
       "      <td>testrecord2</td>\n",
       "      <td>&lt;faq  xmlns:xsi=\"http://www.w3.org/2001/XMLSch...</td>\n",
       "      <td>2021-07-28T15:04:21.573000Z</td>\n",
       "      <td>2021-07-28T15:04:21.573000Z</td>\n",
       "      <td>2021-07-28T15:04:23.033000Z</td>\n",
       "    </tr>\n",
       "    <tr>\n",
       "      <th>1</th>\n",
       "      <td>610171ef542fc6b84c74cbf7</td>\n",
       "      <td>5fb55fac26ed1e003b1712e1</td>\n",
       "      <td>None</td>\n",
       "      <td>2</td>\n",
       "      <td>testrecord1</td>\n",
       "      <td>&lt;faq  xmlns:xsi=\"http://www.w3.org/2001/XMLSch...</td>\n",
       "      <td>2021-07-28T15:04:15.161000Z</td>\n",
       "      <td>2021-07-28T15:04:15.161000Z</td>\n",
       "      <td>2021-07-28T15:04:15.161000Z</td>\n",
       "    </tr>\n",
       "    <tr>\n",
       "      <th>2</th>\n",
       "      <td>5fb55fae26ed1e00351712f4</td>\n",
       "      <td>5fb55fac26ed1e003b1712e1</td>\n",
       "      <td>5fb55e4826ed1e0015e846a9</td>\n",
       "      <td>2</td>\n",
       "      <td>manuscript</td>\n",
       "      <td>&lt;faq  xmlns:xsi=\"http://www.w3.org/2001/XMLSch...</td>\n",
       "      <td>2020-11-18T17:53:50.811000Z</td>\n",
       "      <td>2020-11-18T17:53:50.811000Z</td>\n",
       "      <td>2020-11-19T13:44:30.816000Z</td>\n",
       "    </tr>\n",
       "    <tr>\n",
       "      <th>3</th>\n",
       "      <td>5fb55fae26ed1e003a1712f3</td>\n",
       "      <td>5fb55fac26ed1e003b1712e1</td>\n",
       "      <td>5fb55e4826ed1e0015e846a9</td>\n",
       "      <td>2</td>\n",
       "      <td>graphs</td>\n",
       "      <td>&lt;faq  xmlns:xsi=\"http://www.w3.org/2001/XMLSch...</td>\n",
       "      <td>2020-11-18T17:53:50.488000Z</td>\n",
       "      <td>2020-11-18T17:53:50.488000Z</td>\n",
       "      <td>2020-11-19T13:44:31Z</td>\n",
       "    </tr>\n",
       "    <tr>\n",
       "      <th>4</th>\n",
       "      <td>5fb55fae26ed1e003b1712e5</td>\n",
       "      <td>5fb55fac26ed1e003b1712e1</td>\n",
       "      <td>5fb55e4826ed1e0015e846a9</td>\n",
       "      <td>2</td>\n",
       "      <td>faq</td>\n",
       "      <td>&lt;faq  xmlns:xsi=\"http://www.w3.org/2001/XMLSch...</td>\n",
       "      <td>2020-11-18T17:53:50.159000Z</td>\n",
       "      <td>2020-11-18T17:53:50.159000Z</td>\n",
       "      <td>2020-11-19T13:44:31.193000Z</td>\n",
       "    </tr>\n",
       "    <tr>\n",
       "      <th>5</th>\n",
       "      <td>5fb55fad26ed1e003d1712f7</td>\n",
       "      <td>5fb55fac26ed1e003b1712e1</td>\n",
       "      <td>5fb55e4826ed1e0015e846a9</td>\n",
       "      <td>2</td>\n",
       "      <td>lammps</td>\n",
       "      <td>&lt;faq  xmlns:xsi=\"http://www.w3.org/2001/XMLSch...</td>\n",
       "      <td>2020-11-18T17:53:49.754000Z</td>\n",
       "      <td>2020-11-18T17:53:49.754000Z</td>\n",
       "      <td>2020-11-19T13:44:31.380000Z</td>\n",
       "    </tr>\n",
       "    <tr>\n",
       "      <th>6</th>\n",
       "      <td>5fb55fad26ed1e003c1712e5</td>\n",
       "      <td>5fb55fac26ed1e003b1712e1</td>\n",
       "      <td>5fb55e4826ed1e0015e846a9</td>\n",
       "      <td>2</td>\n",
       "      <td>submit</td>\n",
       "      <td>&lt;faq  xmlns:xsi=\"http://www.w3.org/2001/XMLSch...</td>\n",
       "      <td>2020-11-18T17:53:49.427000Z</td>\n",
       "      <td>2020-11-18T17:53:49.427000Z</td>\n",
       "      <td>2020-11-19T13:44:31.564000Z</td>\n",
       "    </tr>\n",
       "    <tr>\n",
       "      <th>7</th>\n",
       "      <td>5fb55fad26ed1e00351712f0</td>\n",
       "      <td>5fb55fac26ed1e003b1712e1</td>\n",
       "      <td>5fb55e4826ed1e0015e846a9</td>\n",
       "      <td>2</td>\n",
       "      <td>ref</td>\n",
       "      <td>&lt;faq  xmlns:xsi=\"http://www.w3.org/2001/XMLSch...</td>\n",
       "      <td>2020-11-18T17:53:49.097000Z</td>\n",
       "      <td>2020-11-18T17:53:49.097000Z</td>\n",
       "      <td>2020-11-19T13:44:31.752000Z</td>\n",
       "    </tr>\n",
       "    <tr>\n",
       "      <th>8</th>\n",
       "      <td>5fb55fac26ed1e003a1712ef</td>\n",
       "      <td>5fb55fac26ed1e003b1712e1</td>\n",
       "      <td>5fb55e4826ed1e0015e846a9</td>\n",
       "      <td>2</td>\n",
       "      <td>formats</td>\n",
       "      <td>&lt;faq  xmlns:xsi=\"http://www.w3.org/2001/XMLSch...</td>\n",
       "      <td>2020-11-18T17:53:48.764000Z</td>\n",
       "      <td>2020-11-18T17:53:48.764000Z</td>\n",
       "      <td>2020-11-19T13:44:31.936000Z</td>\n",
       "    </tr>\n",
       "  </tbody>\n",
       "</table>\n",
       "</div>"
      ],
      "text/plain": [
       "                         id                  template  \\\n",
       "0  610171f5b392c35e3e74cb89  5fb55fac26ed1e003b1712e1   \n",
       "1  610171ef542fc6b84c74cbf7  5fb55fac26ed1e003b1712e1   \n",
       "2  5fb55fae26ed1e00351712f4  5fb55fac26ed1e003b1712e1   \n",
       "3  5fb55fae26ed1e003a1712f3  5fb55fac26ed1e003b1712e1   \n",
       "4  5fb55fae26ed1e003b1712e5  5fb55fac26ed1e003b1712e1   \n",
       "5  5fb55fad26ed1e003d1712f7  5fb55fac26ed1e003b1712e1   \n",
       "6  5fb55fad26ed1e003c1712e5  5fb55fac26ed1e003b1712e1   \n",
       "7  5fb55fad26ed1e00351712f0  5fb55fac26ed1e003b1712e1   \n",
       "8  5fb55fac26ed1e003a1712ef  5fb55fac26ed1e003b1712e1   \n",
       "\n",
       "                  workspace user_id        title  \\\n",
       "0  5fb55e4826ed1e0015e846a9       2  testrecord2   \n",
       "1                      None       2  testrecord1   \n",
       "2  5fb55e4826ed1e0015e846a9       2   manuscript   \n",
       "3  5fb55e4826ed1e0015e846a9       2       graphs   \n",
       "4  5fb55e4826ed1e0015e846a9       2          faq   \n",
       "5  5fb55e4826ed1e0015e846a9       2       lammps   \n",
       "6  5fb55e4826ed1e0015e846a9       2       submit   \n",
       "7  5fb55e4826ed1e0015e846a9       2          ref   \n",
       "8  5fb55e4826ed1e0015e846a9       2      formats   \n",
       "\n",
       "                                         xml_content  \\\n",
       "0  <faq  xmlns:xsi=\"http://www.w3.org/2001/XMLSch...   \n",
       "1  <faq  xmlns:xsi=\"http://www.w3.org/2001/XMLSch...   \n",
       "2  <faq  xmlns:xsi=\"http://www.w3.org/2001/XMLSch...   \n",
       "3  <faq  xmlns:xsi=\"http://www.w3.org/2001/XMLSch...   \n",
       "4  <faq  xmlns:xsi=\"http://www.w3.org/2001/XMLSch...   \n",
       "5  <faq  xmlns:xsi=\"http://www.w3.org/2001/XMLSch...   \n",
       "6  <faq  xmlns:xsi=\"http://www.w3.org/2001/XMLSch...   \n",
       "7  <faq  xmlns:xsi=\"http://www.w3.org/2001/XMLSch...   \n",
       "8  <faq  xmlns:xsi=\"http://www.w3.org/2001/XMLSch...   \n",
       "\n",
       "                 creation_date       last_modification_date  \\\n",
       "0  2021-07-28T15:04:21.573000Z  2021-07-28T15:04:21.573000Z   \n",
       "1  2021-07-28T15:04:15.161000Z  2021-07-28T15:04:15.161000Z   \n",
       "2  2020-11-18T17:53:50.811000Z  2020-11-18T17:53:50.811000Z   \n",
       "3  2020-11-18T17:53:50.488000Z  2020-11-18T17:53:50.488000Z   \n",
       "4  2020-11-18T17:53:50.159000Z  2020-11-18T17:53:50.159000Z   \n",
       "5  2020-11-18T17:53:49.754000Z  2020-11-18T17:53:49.754000Z   \n",
       "6  2020-11-18T17:53:49.427000Z  2020-11-18T17:53:49.427000Z   \n",
       "7  2020-11-18T17:53:49.097000Z  2020-11-18T17:53:49.097000Z   \n",
       "8  2020-11-18T17:53:48.764000Z  2020-11-18T17:53:48.764000Z   \n",
       "\n",
       "              last_change_date  \n",
       "0  2021-07-28T15:04:23.033000Z  \n",
       "1  2021-07-28T15:04:15.161000Z  \n",
       "2  2020-11-19T13:44:30.816000Z  \n",
       "3         2020-11-19T13:44:31Z  \n",
       "4  2020-11-19T13:44:31.193000Z  \n",
       "5  2020-11-19T13:44:31.380000Z  \n",
       "6  2020-11-19T13:44:31.564000Z  \n",
       "7  2020-11-19T13:44:31.752000Z  \n",
       "8  2020-11-19T13:44:31.936000Z  "
      ]
     },
     "execution_count": 8,
     "metadata": {},
     "output_type": "execute_result"
    }
   ],
   "source": [
    "curator.get_records(template=template)"
   ]
  },
  {
   "cell_type": "code",
   "execution_count": 9,
   "metadata": {},
   "outputs": [
    {
     "name": "stdout",
     "output_type": "stream",
     "text": [
      "id                                                 610171f5b392c35e3e74cb89\n",
      "template                                           5fb55fac26ed1e003b1712e1\n",
      "workspace                                          5fb55e4826ed1e0015e846a9\n",
      "user_id                                                                   2\n",
      "title                                                           testrecord2\n",
      "xml_content               <faq  xmlns:xsi=\"http://www.w3.org/2001/XMLSch...\n",
      "creation_date                                   2021-07-28T15:04:21.573000Z\n",
      "last_modification_date                          2021-07-28T15:04:21.573000Z\n",
      "last_change_date                                2021-07-28T15:04:23.033000Z\n",
      "Name: 0, dtype: object\n"
     ]
    }
   ],
   "source": [
    "record = curator.get_record(template=template, title='testrecord2')\n",
    "print(record)"
   ]
  },
  {
   "cell_type": "code",
   "execution_count": 10,
   "metadata": {},
   "outputs": [
    {
     "name": "stdout",
     "output_type": "stream",
     "text": [
      "<faq  xmlns:xsi=\"http://www.w3.org/2001/XMLSchema-instance\" ><question>What are the potential formats?</question><answer><![CDATA[<b>Due to the range of formats, we are not able to guarantee that the interatomic potentials will work with particular software packages. Rather, we provide the interatomic potentials with appropriate citation information, and it is up to the user to determine whether a potential will work with given software and produce the expected results.</b></p>  <p>Steve Plimpton has a very nice description of various potential and file  formats on the <a href=\"http://lammps.sandia.gov/doc/pair_style.html\" class=\"external\">LAMMPS website</a>. These include the <b>Embedded-atom method (EAM) funcfl</b> and <b>setfl</b> formats, <b>Finnis-Sinclair</b> potentials, and <b>Modified embedded-atom method (MEAM)</b> potentials. More detailed information can be found there.   In addition to LAMMPS, the EAM funcfl and setfl formats are compatible with DYNAMO, the molecular dynamics program developed by Daw, et al. <a href=\"faq.html#Daw\">(1)</a>, though recent versions of LAMMPS have made some modifications to the header information.   The EAM/FS format was designed for use of Finnis-Sinclair <a href=\"faq.html#FS\">(2)</a> interatomic potentials within LAMMPS.</p>  <p>The <a name=\"IMD\" href=\"http://www.itap.physik.uni-stuttgart.de/~imd/\" class=\"external\">IMD molecular dynamics program</a> also supports a range of interatomic potential types and formats.  The file formats are described in the user guide found at <a href=\"http://www.itap.physik.uni-stuttgart.de/~imd/userguide/potformat.html\" class=\"external\">http://www.itap.physik.uni-stuttgart.de/~imd/userguide/potformat.html</a>.   <p><b><u><a name=\"SPaSM\">SPaSM:</a></u></b></p> <p>SPaSM TABLE files have the following format:<br>  * LINE  1 : Number of particle types,  Number of tables per particle (this number should be set to 6 for 1 particle type)<br>  *  -- Begin Table 0 -- <br>  *  LINE 2 : I   J   0     (Table 0 for pair(I,J)) <br>  *  LINE 3 : Number of grid points N <br>  *  LINE 4 : R_start   R_Cutoff <br>  *   R.start   n.nnnn <br>  *      ... <br>  *   R_Cutoff  n.nnnn <br> * <br>  **  -- Begin Table 1-- <br>  *  LINE 1 : I   J   1     (Table 1 for electron density function rho(I,J)) <br>  *  LINE 2 : Number of grid points N <br>  *  LINE 3 : R_start   R_Cutoff <br>  *   R.start   n.nnnn <br>  *    ... <br>  *   R_Cutoff  n.nnnn <br> * <br> *  -- Begin Table 2 -- <br>  *  1 : I   J   2     (Table 2 for embedding function F(I,J)) <br>  *  2 : Number of grid points N <br>  *  3 : rho_start   rho_Cutoff <br>  *    rho.start   n.nnnn <br>  *                ... <br>  *    rho_Cutoff  n.nnnn <br> ------------------------------------------------------------------------------------------------ <br> <br> The number of tables per particle should be set to 6 per type: since the input data is converted into the following internal tables <br>  *    Table   function <br> ---------------------------------------------------------------------------------------------- <br>  *         0  = Phi(r)         - Tabulated in terms of r <br>  *         1  = rho(r)           - Tabulated in terms of r <br>  *         2  = F(p)           - Tabulated in terms of p <br>  *         3  = Phi'(r)/r      - Tabulated in r <br>  *         4  = rho'(r)/r        - Tabulated in r <br>  *         5  = F'(p)          - Tabulated in p <br> <br> <p>SPaSM formatting information courtesy of Ramon Ravelo (U. Texas El Paso).  <p><b><u>Modified Embedded-Atom Method (MEAM):</u></b></p> <p> The <b><a name=\"MEAM\">\"Modified Embedded-Atom Method\"</a></b> or <b>\"MEAM\"</b> format extends the embedded-atom method to include angularly-dependent forces.  The original MEAM references (including  functional forms) are:<br> M.I. Baskes, \"Application of the embedded-atom method to covalent materials: A semiempirical potential for silicon,\" Phys. Rev. Lett. <b>59</b>, 2666-2669 (1987).<br> M.I. Baskes, \"Modified embedded-atom potentials for cubic materials and impurities,\" Phys. Rev. B <b>46</b>, 2727 - 2742 (1992).<br> Additional information can be found on the <a href=\"http://lammps.sandia.gov/doc/pair_meam.html\" class=\"external\">LAMMPS website</a>.  </p>  <p><b><u>Angular-Dependent Potential (ADP):</u></b></p> <p>The <b><a name=\"ADP\">\"Angular-Dependent Potential\"</a></b> or <b>\"ADP\"</b> format also extends the embedded-atom method to include angularly-dependent forces.  More information (including equations) c an be found in the following reference: Y. Mishin, M.J. Mehl, and D.A. Papaconstantopoulos, \"Phase stability in the Fe-Ni system: Investigation by first-principles calculations and atomistic simulations,\" Acta Mat. <b>53</b>, 4029 (2005).  DOI :10.1016/j.actamat.2005.05.001.<br> Prof. Mishin requested the following note be included:          \"The equation appearing in the Appendix on page 4040 contains a typing error: the sign before 1/3 in the last line must be negative.\"         He provided the corrected equation for the angular-dependent force contributions in <a href=\"./Download/Fe-Ni-YM/ADP_Forces.jpg\">ADP_Forces.jpg</a> or          <a href=\"./Download/Fe-Ni-YM/ADP_Forces.pdf\">ADP_Forces.pdf</a>.<br> <b>\"ADP tabulated functions\"</b> are pairs of (x,f(x)) values as described in the headers of those files. </p>  <p><b><u><a name=\"GULP\">GULP:</a></u></b></p> <p>More information about the <b>\"GULP\"</b> format is available at <a href=\"http://nanochemistry.curtin.edu.au/gulp/\" class=\"external\">http://nanochemistry.curtin.edu.au/gulp/</a>. </p>  <p><b><u>MoldyPSI:</u></b></p> <p>The <b><a name=\"MoldyPSI\">\"MoldyPSI\"</a></b> format combines a parameter file with the Fortran90 routines to calculate the EAM functions and their derivatives. </p>  <p><b><u>Table:</u></b></p> <p>The <b>\"table\"</b> formats are described in the headers of the files.  They are pairs of (x,f(x)) values such as (&rho;,F(&rho;)) as described in the references associated with each interatomic potential.</p>]]></answer></faq>\n"
     ]
    }
   ],
   "source": [
    "print(record.xml_content)"
   ]
  },
  {
   "cell_type": "markdown",
   "metadata": {},
   "source": [
    "### 3.3. Update an existing record\n",
    "\n",
    "The content of a record in the database can be changed using the update_record() method.  Note that this only changes the record's content and all other metadata (user, workspace, database id,...) will remain unchanged.\n",
    "\n",
    "- **record** (*pandas.Series, optional*) A previously identified record to delete.  As this uniquely defines a record, the template and title parameters are ignored if given. Can contain the new conte\n",
    "- **template** (*str or pandas.Series, optional*) The template or template title associated with the record.  template + title values must uniquely identify one record.\n",
    "- **title** (*str, optional*) Title of the record to delete.  template + title values must uniquely identify one record.\n",
    "- **filename** (*str or Path, optional*) Path to file containing the new record content to upload. Either filename or content required.\n",
    "- **content** (*str or bytes, optional*) New content to upload. Either filename or content required.\n",
    "- **workspace** (*str or pandas.Series, optional*) If given, the record will be assigned to this workspace after successfully being updated.\n",
    "- **verbose** (*bool, optional*) Setting this to True will print extra status messages.  Default value is False."
   ]
  },
  {
   "cell_type": "markdown",
   "metadata": {},
   "source": [
    "Change the content of testrecord2 by replacing \"download\" with \"find\""
   ]
  },
  {
   "cell_type": "code",
   "execution_count": 11,
   "metadata": {},
   "outputs": [
    {
     "name": "stdout",
     "output_type": "stream",
     "text": [
      "<faq  xmlns:xsi=\"http://www.w3.org/2001/XMLSchema-instance\" ><question>What are the potential formats?</question><answer><![CDATA[<b>Due to the range of formats, we are not able to guarantee that the interatomic potentials will work with particular software packages. Rather, we provide the interatomic potentials with appropriate citation information, and it is up to the user to determine whether a potential will work with given software and produce the expected results.</b></p>  <p>Steve Plimpton has a very nice description of various potential and file  formats on the <a href=\"http://lammps.sandia.gov/doc/pair_style.html\" class=\"external\">LAMMPS website</a>. These include the <b>Embedded-atom method (EAM) funcfl</b> and <b>setfl</b> formats, <b>Finnis-Sinclair</b> potentials, and <b>Modified embedded-atom method (MEAM)</b> potentials. More detailed information can be found there.   In addition to LAMMPS, the EAM funcfl and setfl formats are compatible with DYNAMO, the molecular dynamics program developed by Daw, et al. <a href=\"faq.html#Daw\">(1)</a>, though recent versions of LAMMPS have made some modifications to the header information.   The EAM/FS format was designed for use of Finnis-Sinclair <a href=\"faq.html#FS\">(2)</a> interatomic potentials within LAMMPS.</p>  <p>The <a name=\"IMD\" href=\"http://www.itap.physik.uni-stuttgart.de/~imd/\" class=\"external\">IMD molecular dynamics program</a> also supports a range of interatomic potential types and formats.  The file formats are described in the user guide found at <a href=\"http://www.itap.physik.uni-stuttgart.de/~imd/userguide/potformat.html\" class=\"external\">http://www.itap.physik.uni-stuttgart.de/~imd/userguide/potformat.html</a>.   <p><b><u><a name=\"SPaSM\">SPaSM:</a></u></b></p> <p>SPaSM TABLE files have the following format:<br>  * LINE  1 : Number of particle types,  Number of tables per particle (this number should be set to 6 for 1 particle type)<br>  *  -- Begin Table 0 -- <br>  *  LINE 2 : I   J   0     (Table 0 for pair(I,J)) <br>  *  LINE 3 : Number of grid points N <br>  *  LINE 4 : R_start   R_Cutoff <br>  *   R.start   n.nnnn <br>  *      ... <br>  *   R_Cutoff  n.nnnn <br> * <br>  **  -- Begin Table 1-- <br>  *  LINE 1 : I   J   1     (Table 1 for electron density function rho(I,J)) <br>  *  LINE 2 : Number of grid points N <br>  *  LINE 3 : R_start   R_Cutoff <br>  *   R.start   n.nnnn <br>  *    ... <br>  *   R_Cutoff  n.nnnn <br> * <br> *  -- Begin Table 2 -- <br>  *  1 : I   J   2     (Table 2 for embedding function F(I,J)) <br>  *  2 : Number of grid points N <br>  *  3 : rho_start   rho_Cutoff <br>  *    rho.start   n.nnnn <br>  *                ... <br>  *    rho_Cutoff  n.nnnn <br> ------------------------------------------------------------------------------------------------ <br> <br> The number of tables per particle should be set to 6 per type: since the input data is converted into the following internal tables <br>  *    Table   function <br> ---------------------------------------------------------------------------------------------- <br>  *         0  = Phi(r)         - Tabulated in terms of r <br>  *         1  = rho(r)           - Tabulated in terms of r <br>  *         2  = F(p)           - Tabulated in terms of p <br>  *         3  = Phi'(r)/r      - Tabulated in r <br>  *         4  = rho'(r)/r        - Tabulated in r <br>  *         5  = F'(p)          - Tabulated in p <br> <br> <p>SPaSM formatting information courtesy of Ramon Ravelo (U. Texas El Paso).  <p><b><u>Modified Embedded-Atom Method (MEAM):</u></b></p> <p> The <b><a name=\"MEAM\">\"Modified Embedded-Atom Method\"</a></b> or <b>\"MEAM\"</b> format extends the embedded-atom method to include angularly-dependent forces.  The original MEAM references (including  functional forms) are:<br> M.I. Baskes, \"Application of the embedded-atom method to covalent materials: A semiempirical potential for silicon,\" Phys. Rev. Lett. <b>59</b>, 2666-2669 (1987).<br> M.I. Baskes, \"Modified embedded-atom potentials for cubic materials and impurities,\" Phys. Rev. B <b>46</b>, 2727 - 2742 (1992).<br> Additional information can be found on the <a href=\"http://lammps.sandia.gov/doc/pair_meam.html\" class=\"external\">LAMMPS website</a>.  </p>  <p><b><u>Angular-Dependent Potential (ADP):</u></b></p> <p>The <b><a name=\"ADP\">\"Angular-Dependent Potential\"</a></b> or <b>\"ADP\"</b> format also extends the embedded-atom method to include angularly-dependent forces.  More information (including equations) c an be found in the following reference: Y. Mishin, M.J. Mehl, and D.A. Papaconstantopoulos, \"Phase stability in the Fe-Ni system: Investigation by first-principles calculations and atomistic simulations,\" Acta Mat. <b>53</b>, 4029 (2005).  DOI :10.1016/j.actamat.2005.05.001.<br> Prof. Mishin requested the following note be included:          \"The equation appearing in the Appendix on page 4040 contains a typing error: the sign before 1/3 in the last line must be negative.\"         He provided the corrected equation for the angular-dependent force contributions in <a href=\"./Download/Fe-Ni-YM/ADP_Forces.jpg\">ADP_Forces.jpg</a> or          <a href=\"./Download/Fe-Ni-YM/ADP_Forces.pdf\">ADP_Forces.pdf</a>.<br> <b>\"ADP tabulated functions\"</b> are pairs of (x,f(x)) values as described in the headers of those files. </p>  <p><b><u><a name=\"GULP\">GULP:</a></u></b></p> <p>More information about the <b>\"GULP\"</b> format is available at <a href=\"http://nanochemistry.curtin.edu.au/gulp/\" class=\"external\">http://nanochemistry.curtin.edu.au/gulp/</a>. </p>  <p><b><u>MoldyPSI:</u></b></p> <p>The <b><a name=\"MoldyPSI\">\"MoldyPSI\"</a></b> format combines a parameter file with the Fortran90 routines to calculate the EAM functions and their derivatives. </p>  <p><b><u>Table:</u></b></p> <p>The <b>\"table\"</b> formats are described in the headers of the files.  They are pairs of (x,f(x)) values such as (&rho;,F(&rho;)) as described in the references associated with each interatomic potential.</p>]]></answer></faq>\n"
     ]
    }
   ],
   "source": [
    "new_content = record.xml_content.replace('download', 'find')\n",
    "print(new_content)"
   ]
  },
  {
   "cell_type": "code",
   "execution_count": 12,
   "metadata": {},
   "outputs": [
    {
     "name": "stdout",
     "output_type": "stream",
     "text": [
      "record testrecord2 (610171f5b392c35e3e74cb89) has been updated.\n"
     ]
    }
   ],
   "source": [
    "curator.update_record(record=record, content=new_content, verbose=True)"
   ]
  },
  {
   "cell_type": "markdown",
   "metadata": {},
   "source": [
    "Retrieve the record again from the database showing nothing has changed except modification date and content"
   ]
  },
  {
   "cell_type": "code",
   "execution_count": 13,
   "metadata": {},
   "outputs": [
    {
     "name": "stdout",
     "output_type": "stream",
     "text": [
      "id                                                 610171f5b392c35e3e74cb89\n",
      "template                                           5fb55fac26ed1e003b1712e1\n",
      "workspace                                          5fb55e4826ed1e0015e846a9\n",
      "user_id                                                                   2\n",
      "title                                                           testrecord2\n",
      "xml_content               <faq  xmlns:xsi=\"http://www.w3.org/2001/XMLSch...\n",
      "creation_date                                   2021-07-28T15:04:21.573000Z\n",
      "last_modification_date                          2021-07-28T15:04:38.042000Z\n",
      "last_change_date                                2021-07-28T15:04:38.047000Z\n",
      "Name: 0, dtype: object\n"
     ]
    }
   ],
   "source": [
    "record = curator.get_record(template=template, title='testrecord2')\n",
    "print(record)"
   ]
  },
  {
   "cell_type": "code",
   "execution_count": 14,
   "metadata": {},
   "outputs": [
    {
     "name": "stdout",
     "output_type": "stream",
     "text": [
      "<faq  xmlns:xsi=\"http://www.w3.org/2001/XMLSchema-instance\" ><question>What are the potential formats?</question><answer><![CDATA[<b>Due to the range of formats, we are not able to guarantee that the interatomic potentials will work with particular software packages. Rather, we provide the interatomic potentials with appropriate citation information, and it is up to the user to determine whether a potential will work with given software and produce the expected results.</b></p>  <p>Steve Plimpton has a very nice description of various potential and file  formats on the <a href=\"http://lammps.sandia.gov/doc/pair_style.html\" class=\"external\">LAMMPS website</a>. These include the <b>Embedded-atom method (EAM) funcfl</b> and <b>setfl</b> formats, <b>Finnis-Sinclair</b> potentials, and <b>Modified embedded-atom method (MEAM)</b> potentials. More detailed information can be found there.   In addition to LAMMPS, the EAM funcfl and setfl formats are compatible with DYNAMO, the molecular dynamics program developed by Daw, et al. <a href=\"faq.html#Daw\">(1)</a>, though recent versions of LAMMPS have made some modifications to the header information.   The EAM/FS format was designed for use of Finnis-Sinclair <a href=\"faq.html#FS\">(2)</a> interatomic potentials within LAMMPS.</p>  <p>The <a name=\"IMD\" href=\"http://www.itap.physik.uni-stuttgart.de/~imd/\" class=\"external\">IMD molecular dynamics program</a> also supports a range of interatomic potential types and formats.  The file formats are described in the user guide found at <a href=\"http://www.itap.physik.uni-stuttgart.de/~imd/userguide/potformat.html\" class=\"external\">http://www.itap.physik.uni-stuttgart.de/~imd/userguide/potformat.html</a>.   <p><b><u><a name=\"SPaSM\">SPaSM:</a></u></b></p> <p>SPaSM TABLE files have the following format:<br>  * LINE  1 : Number of particle types,  Number of tables per particle (this number should be set to 6 for 1 particle type)<br>  *  -- Begin Table 0 -- <br>  *  LINE 2 : I   J   0     (Table 0 for pair(I,J)) <br>  *  LINE 3 : Number of grid points N <br>  *  LINE 4 : R_start   R_Cutoff <br>  *   R.start   n.nnnn <br>  *      ... <br>  *   R_Cutoff  n.nnnn <br> * <br>  **  -- Begin Table 1-- <br>  *  LINE 1 : I   J   1     (Table 1 for electron density function rho(I,J)) <br>  *  LINE 2 : Number of grid points N <br>  *  LINE 3 : R_start   R_Cutoff <br>  *   R.start   n.nnnn <br>  *    ... <br>  *   R_Cutoff  n.nnnn <br> * <br> *  -- Begin Table 2 -- <br>  *  1 : I   J   2     (Table 2 for embedding function F(I,J)) <br>  *  2 : Number of grid points N <br>  *  3 : rho_start   rho_Cutoff <br>  *    rho.start   n.nnnn <br>  *                ... <br>  *    rho_Cutoff  n.nnnn <br> ------------------------------------------------------------------------------------------------ <br> <br> The number of tables per particle should be set to 6 per type: since the input data is converted into the following internal tables <br>  *    Table   function <br> ---------------------------------------------------------------------------------------------- <br>  *         0  = Phi(r)         - Tabulated in terms of r <br>  *         1  = rho(r)           - Tabulated in terms of r <br>  *         2  = F(p)           - Tabulated in terms of p <br>  *         3  = Phi'(r)/r      - Tabulated in r <br>  *         4  = rho'(r)/r        - Tabulated in r <br>  *         5  = F'(p)          - Tabulated in p <br> <br> <p>SPaSM formatting information courtesy of Ramon Ravelo (U. Texas El Paso).  <p><b><u>Modified Embedded-Atom Method (MEAM):</u></b></p> <p> The <b><a name=\"MEAM\">\"Modified Embedded-Atom Method\"</a></b> or <b>\"MEAM\"</b> format extends the embedded-atom method to include angularly-dependent forces.  The original MEAM references (including  functional forms) are:<br> M.I. Baskes, \"Application of the embedded-atom method to covalent materials: A semiempirical potential for silicon,\" Phys. Rev. Lett. <b>59</b>, 2666-2669 (1987).<br> M.I. Baskes, \"Modified embedded-atom potentials for cubic materials and impurities,\" Phys. Rev. B <b>46</b>, 2727 - 2742 (1992).<br> Additional information can be found on the <a href=\"http://lammps.sandia.gov/doc/pair_meam.html\" class=\"external\">LAMMPS website</a>.  </p>  <p><b><u>Angular-Dependent Potential (ADP):</u></b></p> <p>The <b><a name=\"ADP\">\"Angular-Dependent Potential\"</a></b> or <b>\"ADP\"</b> format also extends the embedded-atom method to include angularly-dependent forces.  More information (including equations) c an be found in the following reference: Y. Mishin, M.J. Mehl, and D.A. Papaconstantopoulos, \"Phase stability in the Fe-Ni system: Investigation by first-principles calculations and atomistic simulations,\" Acta Mat. <b>53</b>, 4029 (2005).  DOI :10.1016/j.actamat.2005.05.001.<br> Prof. Mishin requested the following note be included:          \"The equation appearing in the Appendix on page 4040 contains a typing error: the sign before 1/3 in the last line must be negative.\"         He provided the corrected equation for the angular-dependent force contributions in <a href=\"./Download/Fe-Ni-YM/ADP_Forces.jpg\">ADP_Forces.jpg</a> or          <a href=\"./Download/Fe-Ni-YM/ADP_Forces.pdf\">ADP_Forces.pdf</a>.<br> <b>\"ADP tabulated functions\"</b> are pairs of (x,f(x)) values as described in the headers of those files. </p>  <p><b><u><a name=\"GULP\">GULP:</a></u></b></p> <p>More information about the <b>\"GULP\"</b> format is available at <a href=\"http://nanochemistry.curtin.edu.au/gulp/\" class=\"external\">http://nanochemistry.curtin.edu.au/gulp/</a>. </p>  <p><b><u>MoldyPSI:</u></b></p> <p>The <b><a name=\"MoldyPSI\">\"MoldyPSI\"</a></b> format combines a parameter file with the Fortran90 routines to calculate the EAM functions and their derivatives. </p>  <p><b><u>Table:</u></b></p> <p>The <b>\"table\"</b> formats are described in the headers of the files.  They are pairs of (x,f(x)) values such as (&rho;,F(&rho;)) as described in the references associated with each interatomic potential.</p>]]></answer></faq>\n"
     ]
    }
   ],
   "source": [
    "print(record.xml_content)"
   ]
  },
  {
   "cell_type": "markdown",
   "metadata": {},
   "source": [
    "### 3.4. Assign records to a workspace\n",
    "\n",
    "The upload_record() and update_record() methods give the option to assign each record to a workspace if wanted.  After a record is added, the workspace can also be changed using the assign_records() method.\n",
    "\n",
    "Parameters\n",
    "\n",
    "- __workspace__ (*str or pandas.Series*) The workspace or workspace title to assign the records to.\n",
    "- __records__ (*pandas.Series or pandas.DataFrame, optional*) Pre-selected records to assign to the workspace.  Cannot be given with ids, template, or title.\n",
    "- __ids__ (*str or list, optional*) The ID(s) of the records to assign to the workspace.  Selecting records using ids has the least overhead. Cannot be given with records, template, or title.\n",
    "- __template__ (*str or pandas.Series, optional*) The template or template title of records to assign to the workspace.  Cannot be given with records or ids.\n",
    "- __title__ (*str, optional*) The title of a record to assign to the workspace. Cannot be given with records or ids.\n",
    "- __verbose__ (*bool, optional*) Setting this to True will print extra status messages.  Default value is False."
   ]
  },
  {
   "cell_type": "code",
   "execution_count": 15,
   "metadata": {},
   "outputs": [
    {
     "name": "stdout",
     "output_type": "stream",
     "text": [
      "record 610171ef542fc6b84c74cbf7 assigned to workspace 5fb55e4826ed1e0015e846a9\n"
     ]
    }
   ],
   "source": [
    "curator.assign_records(workspace='Global Public Workspace', title='testrecord1', template=template, verbose=True)"
   ]
  },
  {
   "cell_type": "markdown",
   "metadata": {},
   "source": [
    "### 3.5. Delete a record\n",
    "\n",
    "A record can also be deleted by the assigned user using the delete_record() method.\n",
    "\n",
    "Parameters\n",
    "\n",
    "- __record__ (*pandas.Series, optional*) A previously identified record to delete.  As this uniquely defines a record, the other parameters are ignored.\n",
    "- __template__ (*str or pandas.Series, optional*) The template or template title associated with the record.  template + title values must uniquely identify one record.\n",
    "- __title__ (*str, optional*) Title of the record to delete.  template + title values must uniquely identify one record.\n",
    "- __verbose__ (*bool, optional*) Setting this to True will print extra status messages.  Default value is False."
   ]
  },
  {
   "cell_type": "code",
   "execution_count": 16,
   "metadata": {},
   "outputs": [
    {
     "name": "stdout",
     "output_type": "stream",
     "text": [
      "record testrecord1 (610171ef542fc6b84c74cbf7) has been deleted.\n"
     ]
    }
   ],
   "source": [
    "# Delete by identifying with title + template\n",
    "curator.delete_record(title='testrecord1', template=template, verbose=True)"
   ]
  },
  {
   "cell_type": "code",
   "execution_count": 17,
   "metadata": {},
   "outputs": [
    {
     "name": "stdout",
     "output_type": "stream",
     "text": [
      "record testrecord2 (610171f5b392c35e3e74cb89) has been deleted.\n"
     ]
    }
   ],
   "source": [
    "# Get a record first\n",
    "record = curator.get_record(title='testrecord2', template=template)\n",
    "\n",
    "# Delete by passing Series\n",
    "curator.delete_record(record, verbose=True)"
   ]
  },
  {
   "cell_type": "markdown",
   "metadata": {},
   "source": [
    "## 4. Manage blobs (raw files)\n",
    "\n",
    "The database can also store any non-record files as blob files that can later be retrieved and downloaded all at once."
   ]
  },
  {
   "cell_type": "markdown",
   "metadata": {},
   "source": [
    "Create blob file for testing"
   ]
  },
  {
   "cell_type": "code",
   "execution_count": 18,
   "metadata": {},
   "outputs": [],
   "source": [
    "filename = 'test_blob.txt'\n",
    "\n",
    "with open(filename, 'w') as f:\n",
    "    f.write('This is my blob for testing')"
   ]
  },
  {
   "cell_type": "markdown",
   "metadata": {},
   "source": [
    "### 4.1. Upload blob\n",
    "\n",
    "Blobs can be added to the database using the upload_blob() method.  When a record is uploaded, it will be associated with the given filename (minus the path).\n",
    "\n",
    "Parameters\n",
    "\n",
    "- __filename__ (*str or Path*) The path/name of the file to upload.\n",
    "- __blobbytes__ (*bytesIO, optional*) Pre-loaded file contents.  Allows for the contents of open file-like objects to be passed in and associated with the filename.  If not given, then the file filename will be read instead.\n",
    "- __workspace__ (*str or pandas.Series, optional*) If given, the blob will be assigned to this workspace after successfully being uploaded.\n",
    "- __verbose__ (*bool, optional*) Setting this to True will print extra status messages.  Default value is False.\n",
    "\n",
    "Returns\n",
    "\n",
    "- __handle__ (*str*) The URL that can be used to retrieve the blob's contents."
   ]
  },
  {
   "cell_type": "code",
   "execution_count": 19,
   "metadata": {},
   "outputs": [
    {
     "name": "stdout",
     "output_type": "stream",
     "text": [
      "File \"test_blob.txt\" uploaded as blob \"test_blob.txt\" (61017222542fc6b84c74cbfc)\n",
      "https://potentials.nist.gov/rest/blob/download/61017222542fc6b84c74cbfc/\n"
     ]
    }
   ],
   "source": [
    "handle = curator.upload_blob(filename=filename, verbose=True)\n",
    "print(handle)"
   ]
  },
  {
   "cell_type": "markdown",
   "metadata": {},
   "source": [
    "### 4.2 Find blob metadata\n",
    "\n",
    "The list of all blobs currently in the database, or all with an associated filename can be explored with the get_blobs() method.\n",
    "\n",
    "Parameters\n",
    "\n",
    "- __filename__ (*str, optional*) The name of the file to limit the search by.\n",
    "\n",
    "A single blob can also be retrieved using the get_blob() method based on a filename, if it is unique in the database, or a database id.\n",
    "\n",
    "Parameters\n",
    "\n",
    "- __id__ (*str, optional*) The unique ID associated with the blob. Cannot be combined with filename\n",
    "- __filename__ (*str, optional*) The name of the file to limit the search by, which must be unique.  Cannot be combined with id.\n",
    "\n",
    "__NOTE__: Exploring blob metadata appears to behave differently for some versions of CDCS, with the filename searches only showing blobs that the user owns, while id searches shows any blobs available to the user, either by being owned or in an available workspace.\n",
    "\n",
    "- Identifying by filename only works for user blobs\n",
    "- Identifying by id works for all blobs available to you (user + allowed workspaces)"
   ]
  },
  {
   "cell_type": "code",
   "execution_count": 20,
   "metadata": {},
   "outputs": [
    {
     "data": {
      "text/html": [
       "<div>\n",
       "<style scoped>\n",
       "    .dataframe tbody tr th:only-of-type {\n",
       "        vertical-align: middle;\n",
       "    }\n",
       "\n",
       "    .dataframe tbody tr th {\n",
       "        vertical-align: top;\n",
       "    }\n",
       "\n",
       "    .dataframe thead th {\n",
       "        text-align: right;\n",
       "    }\n",
       "</style>\n",
       "<table border=\"1\" class=\"dataframe\">\n",
       "  <thead>\n",
       "    <tr style=\"text-align: right;\">\n",
       "      <th></th>\n",
       "      <th>id</th>\n",
       "      <th>user_id</th>\n",
       "      <th>filename</th>\n",
       "      <th>handle</th>\n",
       "      <th>upload_date</th>\n",
       "    </tr>\n",
       "  </thead>\n",
       "  <tbody>\n",
       "    <tr>\n",
       "      <th>0</th>\n",
       "      <td>606b4abf26ed1e002ad1fab1</td>\n",
       "      <td>2</td>\n",
       "      <td>bond_angle_scan.7z</td>\n",
       "      <td>https://potentials.nist.gov/rest/blob/download...</td>\n",
       "      <td>2021-04-05 17:37:03+00:00</td>\n",
       "    </tr>\n",
       "    <tr>\n",
       "      <th>1</th>\n",
       "      <td>606ee34ce5dbce002bc0f04c</td>\n",
       "      <td>2</td>\n",
       "      <td>W-H-H.7z</td>\n",
       "      <td>https://potentials.nist.gov/rest/blob/download...</td>\n",
       "      <td>2021-04-08 11:04:44+00:00</td>\n",
       "    </tr>\n",
       "    <tr>\n",
       "      <th>2</th>\n",
       "      <td>61017222542fc6b84c74cbfc</td>\n",
       "      <td>2</td>\n",
       "      <td>test_blob.txt</td>\n",
       "      <td>https://potentials.nist.gov/rest/blob/download...</td>\n",
       "      <td>2021-07-28 15:05:06+00:00</td>\n",
       "    </tr>\n",
       "  </tbody>\n",
       "</table>\n",
       "</div>"
      ],
      "text/plain": [
       "                         id user_id            filename  \\\n",
       "0  606b4abf26ed1e002ad1fab1       2  bond_angle_scan.7z   \n",
       "1  606ee34ce5dbce002bc0f04c       2            W-H-H.7z   \n",
       "2  61017222542fc6b84c74cbfc       2       test_blob.txt   \n",
       "\n",
       "                                              handle  \\\n",
       "0  https://potentials.nist.gov/rest/blob/download...   \n",
       "1  https://potentials.nist.gov/rest/blob/download...   \n",
       "2  https://potentials.nist.gov/rest/blob/download...   \n",
       "\n",
       "                 upload_date  \n",
       "0  2021-04-05 17:37:03+00:00  \n",
       "1  2021-04-08 11:04:44+00:00  \n",
       "2  2021-07-28 15:05:06+00:00  "
      ]
     },
     "execution_count": 20,
     "metadata": {},
     "output_type": "execute_result"
    }
   ],
   "source": [
    "curator.get_blobs()"
   ]
  },
  {
   "cell_type": "code",
   "execution_count": 21,
   "metadata": {},
   "outputs": [
    {
     "name": "stdout",
     "output_type": "stream",
     "text": [
      "id                                      61017222542fc6b84c74cbfc\n",
      "user_id                                                        2\n",
      "filename                                           test_blob.txt\n",
      "handle         https://potentials.nist.gov/rest/blob/download...\n",
      "upload_date                            2021-07-28 15:05:06+00:00\n",
      "Name: 0, dtype: object\n"
     ]
    }
   ],
   "source": [
    "blobdata = curator.get_blob(filename=filename)\n",
    "print(blobdata)"
   ]
  },
  {
   "cell_type": "code",
   "execution_count": 22,
   "metadata": {},
   "outputs": [
    {
     "data": {
      "text/plain": [
       "id                                      61017222542fc6b84c74cbfc\n",
       "user_id                                                        2\n",
       "filename                                           test_blob.txt\n",
       "handle         https://potentials.nist.gov/rest/blob/download...\n",
       "upload_date                            2021-07-28 15:05:06+00:00\n",
       "dtype: object"
      ]
     },
     "execution_count": 22,
     "metadata": {},
     "output_type": "execute_result"
    }
   ],
   "source": [
    "curator.get_blob(id=blobdata.id)"
   ]
  },
  {
   "cell_type": "markdown",
   "metadata": {},
   "source": [
    "### 4.3 Retrieve blob contents\n",
    "\n",
    "The contents of a blob can then be retrieved using the get_blob_contents() method.\n",
    "\n",
    "Paramters\n",
    "\n",
    "- __blob__ (*pandas.Series, optional*) The blob metadata for a blob, as recieved from get_blobs() or get_blob().  Cannot be combined with id or filename.\n",
    "- __id__ (*str, optional*) The unique ID associated with the blob. Cannot be combined with blob or filename.\n",
    "- __filename__ (*str, optional*) The name of the file to limit the search by, which must be unique.  Cannot be combined with blob or id.\n",
    "\n",
    "Returns\n",
    "\n",
    "- __content__ (*bytes*) The blob's bytes contents."
   ]
  },
  {
   "cell_type": "code",
   "execution_count": 23,
   "metadata": {},
   "outputs": [
    {
     "name": "stdout",
     "output_type": "stream",
     "text": [
      "b'This is my blob for testing'\n"
     ]
    }
   ],
   "source": [
    "print(curator.get_blob_contents(filename=filename))"
   ]
  },
  {
   "cell_type": "markdown",
   "metadata": {},
   "source": [
    "Alternatively, the blob can be saved directly to a local file based on its associated filename with the download_blob() method.\n",
    "\n",
    "Parameters\n",
    "\n",
    "- __blob__ (*pandas.Series, optional*) The blob metadata for a blob, as recieved from get_blobs() or get_blob().  Cannot be combined with id or filename.\n",
    "- __id__ (*str, optional*) The unique ID associated with the blob. Cannot be combined with blob or filename.\n",
    "- __filename__ (*str, optional*) The name of the file to limit the search by, which must be unique.  Cannot be combined with blob or id.\n",
    "- __savedir__ (*str or Path, optional*) The directory to save the file to.  Default value uses the current working directory."
   ]
  },
  {
   "cell_type": "code",
   "execution_count": 24,
   "metadata": {},
   "outputs": [],
   "source": [
    "curator.download_blob(filename=filename)"
   ]
  },
  {
   "cell_type": "markdown",
   "metadata": {},
   "source": [
    "### 4.4. Assign blobs to a workspace\n",
    "\n",
    "Just like records, blobs can also be assigned to workspaces.  This can be done during uploading, or it can be done after uploading using the assign_blobs() method.\n",
    "\n",
    "- __workspace__ (*str or pandas.Series*) The workspace or workspace title to assign the blobs to.\n",
    "- __blobs__ (*pandas.Series or pandas.DataFrame, optional*) Pre-selected blobs to assign to the workspace.  Cannot be given with ids or filename.\n",
    "- __ids__ (*str or list, optional*) The ID(s) of the blobs to assign to the workspace.  Selecting blobs using ids has the least overhead. Cannot be given with blobs or filename.\n",
    "- __filename__ (*str, optional*) The name of the blob file to assign to the workspace.  Cannot be given with blobs or ids.\n",
    "- __verbose__ (*bool, optional*) Setting this to True will print extra status messages.  Default value is False."
   ]
  },
  {
   "cell_type": "code",
   "execution_count": 25,
   "metadata": {},
   "outputs": [
    {
     "name": "stdout",
     "output_type": "stream",
     "text": [
      "blob 61017222542fc6b84c74cbfc assigned to workspace 5fb55e4826ed1e0015e846a9\n"
     ]
    }
   ],
   "source": [
    "curator.assign_blobs(workspace='Global Public Workspace', filename=filename, verbose=True)"
   ]
  },
  {
   "cell_type": "markdown",
   "metadata": {},
   "source": [
    "### 4.5. Delete blob\n",
    "\n",
    "Finally, blobs can also be deleted using the delete_blob() method.\n",
    "\n",
    "- __blob__ (*pandas.Series, optional*) The blob metadata for a blob, as recieved from get_blobs() or get_blob().  Cannot be combined with id or filename.\n",
    "- __id__ (*str, optional*) The unique ID associated with the blob. Cannot be combined with blob or filename.\n",
    "- __filename__ (*str, optional*) The name of the file to limit the search by, which must be unique.  Cannot be combined with blob or id.\n",
    "- __verbose__ (*bool, optional*) Setting this to True will print extra status messages.  Default value is False."
   ]
  },
  {
   "cell_type": "code",
   "execution_count": 26,
   "metadata": {},
   "outputs": [
    {
     "name": "stdout",
     "output_type": "stream",
     "text": [
      "Successfully deleted blob \"test_blob.txt\" (61017222542fc6b84c74cbfc)\n"
     ]
    }
   ],
   "source": [
    "curator.delete_blob(filename=filename, verbose=True)"
   ]
  },
  {
   "cell_type": "code",
   "execution_count": 34,
   "metadata": {},
   "outputs": [],
   "source": [
    "Path(filename).unlink()"
   ]
  },
  {
   "cell_type": "markdown",
   "metadata": {},
   "source": [
    "## 5. Supporting methods"
   ]
  },
  {
   "cell_type": "markdown",
   "metadata": {},
   "source": [
    "### 5.1. Finding workspace metadata\n",
    "\n",
    "Metadata for the available workspaces can be explored using the get_workspaces() and get_workspace() methods.\n",
    "\n",
    "Parameters\n",
    "\n",
    "title: (str, optional) The workspace title to limit the search by."
   ]
  },
  {
   "cell_type": "code",
   "execution_count": 27,
   "metadata": {},
   "outputs": [
    {
     "data": {
      "text/html": [
       "<div>\n",
       "<style scoped>\n",
       "    .dataframe tbody tr th:only-of-type {\n",
       "        vertical-align: middle;\n",
       "    }\n",
       "\n",
       "    .dataframe tbody tr th {\n",
       "        vertical-align: top;\n",
       "    }\n",
       "\n",
       "    .dataframe thead th {\n",
       "        text-align: right;\n",
       "    }\n",
       "</style>\n",
       "<table border=\"1\" class=\"dataframe\">\n",
       "  <thead>\n",
       "    <tr style=\"text-align: right;\">\n",
       "      <th></th>\n",
       "      <th>id</th>\n",
       "      <th>title</th>\n",
       "      <th>owner</th>\n",
       "      <th>is_public</th>\n",
       "    </tr>\n",
       "  </thead>\n",
       "  <tbody>\n",
       "    <tr>\n",
       "      <th>0</th>\n",
       "      <td>5fb55e4826ed1e0015e846a9</td>\n",
       "      <td>Global Public Workspace</td>\n",
       "      <td>None</td>\n",
       "      <td>True</td>\n",
       "    </tr>\n",
       "    <tr>\n",
       "      <th>1</th>\n",
       "      <td>606b0e5b26ed1e003a28f025</td>\n",
       "      <td>Three body scan</td>\n",
       "      <td>2</td>\n",
       "      <td>False</td>\n",
       "    </tr>\n",
       "  </tbody>\n",
       "</table>\n",
       "</div>"
      ],
      "text/plain": [
       "                         id                    title owner  is_public\n",
       "0  5fb55e4826ed1e0015e846a9  Global Public Workspace  None       True\n",
       "1  606b0e5b26ed1e003a28f025          Three body scan     2      False"
      ]
     },
     "execution_count": 27,
     "metadata": {},
     "output_type": "execute_result"
    }
   ],
   "source": [
    "curator.get_workspaces()"
   ]
  },
  {
   "cell_type": "code",
   "execution_count": 28,
   "metadata": {},
   "outputs": [
    {
     "data": {
      "text/plain": [
       "id           5fb55e4826ed1e0015e846a9\n",
       "title         Global Public Workspace\n",
       "owner                            None\n",
       "is_public                        True\n",
       "Name: 0, dtype: object"
      ]
     },
     "execution_count": 28,
     "metadata": {},
     "output_type": "execute_result"
    }
   ],
   "source": [
    "curator.get_workspace(title='Global Public Workspace')"
   ]
  },
  {
   "cell_type": "markdown",
   "metadata": {},
   "source": [
    "The attribute global_workspace also retrieves the Global Public Workspace "
   ]
  },
  {
   "cell_type": "code",
   "execution_count": 29,
   "metadata": {},
   "outputs": [
    {
     "name": "stdout",
     "output_type": "stream",
     "text": [
      "id           5fb55e4826ed1e0015e846a9\n",
      "title         Global Public Workspace\n",
      "owner                            None\n",
      "is_public                        True\n",
      "Name: 0, dtype: object\n"
     ]
    }
   ],
   "source": [
    "workspace = curator.global_workspace\n",
    "print(workspace)"
   ]
  },
  {
   "cell_type": "markdown",
   "metadata": {},
   "source": [
    "### 5.2. Finding template metadata\n",
    "\n",
    "A list of all available templates can be retrieved using the template_titles attribute."
   ]
  },
  {
   "cell_type": "code",
   "execution_count": 30,
   "metadata": {},
   "outputs": [
    {
     "data": {
      "text/plain": [
       "['Potential',\n",
       " 'Family',\n",
       " 'FAQ',\n",
       " 'Action',\n",
       " 'PotentialProperties',\n",
       " 'Request',\n",
       " 'free_surface',\n",
       " 'stacking_fault',\n",
       " 'point_defect',\n",
       " 'crystal_prototype',\n",
       " 'potential_LAMMPS',\n",
       " 'Citation',\n",
       " 'relaxed_crystal',\n",
       " 'calculation_diatom_scan',\n",
       " 'calculation_isolated_atom',\n",
       " 'potential_LAMMPS_KIM',\n",
       " 'calculation_bond_angle_scan']"
      ]
     },
     "execution_count": 30,
     "metadata": {},
     "output_type": "execute_result"
    }
   ],
   "source": [
    "curator.template_titles"
   ]
  },
  {
   "cell_type": "markdown",
   "metadata": {},
   "source": [
    "Metadata for the available templates can be explored using the get_templates() and get_template() methods.\n",
    "\n",
    "Parameters\n",
    "\n",
    "- __title__ (*str, optional*): The template title to limit the search by.\n",
    "- __is_disabled__ (*bool, optional*): If True, then disabled templates will be returned.  If False (default), then active templates will be returned.\n",
    "- __current__ (bool, optional*): If True (default), only current template versions will be returned.\n",
    "- __useronly__ (*bool, optional*): If True, only a user's templates are returned. If False (default), then all global templates are returned."
   ]
  },
  {
   "cell_type": "code",
   "execution_count": 31,
   "metadata": {},
   "outputs": [
    {
     "data": {
      "text/html": [
       "<div>\n",
       "<style scoped>\n",
       "    .dataframe tbody tr th:only-of-type {\n",
       "        vertical-align: middle;\n",
       "    }\n",
       "\n",
       "    .dataframe tbody tr th {\n",
       "        vertical-align: top;\n",
       "    }\n",
       "\n",
       "    .dataframe thead th {\n",
       "        text-align: right;\n",
       "    }\n",
       "</style>\n",
       "<table border=\"1\" class=\"dataframe\">\n",
       "  <thead>\n",
       "    <tr style=\"text-align: right;\">\n",
       "      <th></th>\n",
       "      <th>id</th>\n",
       "      <th>user</th>\n",
       "      <th>filename</th>\n",
       "      <th>content</th>\n",
       "      <th>hash</th>\n",
       "      <th>dependencies</th>\n",
       "      <th>title</th>\n",
       "    </tr>\n",
       "  </thead>\n",
       "  <tbody>\n",
       "    <tr>\n",
       "      <th>0</th>\n",
       "      <td>5fb7035126ed1e0037179acc</td>\n",
       "      <td>None</td>\n",
       "      <td>Potential4.xsd</td>\n",
       "      <td>&lt;?xml version=\"1.0\" encoding=\"UTF-8\" standalon...</td>\n",
       "      <td>c35b164c2947bdab2c6dd8566f84584a4a3eef7f</td>\n",
       "      <td>[]</td>\n",
       "      <td>Potential</td>\n",
       "    </tr>\n",
       "    <tr>\n",
       "      <th>1</th>\n",
       "      <td>5fb55fab26ed1e003c1712e1</td>\n",
       "      <td>None</td>\n",
       "      <td>record-interatomic-potential-family.xsd</td>\n",
       "      <td>&lt;?xml version=\"1.0\" encoding=\"UTF-8\" standalon...</td>\n",
       "      <td>493be99cbc23614f898354553ea0d307009673d3</td>\n",
       "      <td>[]</td>\n",
       "      <td>Family</td>\n",
       "    </tr>\n",
       "    <tr>\n",
       "      <th>2</th>\n",
       "      <td>5fb55fac26ed1e003b1712e1</td>\n",
       "      <td>None</td>\n",
       "      <td>record-interatomic-potential-faq.xsd</td>\n",
       "      <td>&lt;?xml version=\"1.0\" encoding=\"UTF-8\" standalon...</td>\n",
       "      <td>2dc0be555da041f782a7435c377ea7a20f28d3cd</td>\n",
       "      <td>[]</td>\n",
       "      <td>FAQ</td>\n",
       "    </tr>\n",
       "    <tr>\n",
       "      <th>3</th>\n",
       "      <td>5fb55faf26ed1e003d1712f9</td>\n",
       "      <td>None</td>\n",
       "      <td>record-interatomic-potential-action.xsd</td>\n",
       "      <td>&lt;?xml version=\"1.0\" encoding=\"UTF-8\" standalon...</td>\n",
       "      <td>f1c3de8a64553d81bd10cfc0cb24dd3cc129c710</td>\n",
       "      <td>[]</td>\n",
       "      <td>Action</td>\n",
       "    </tr>\n",
       "    <tr>\n",
       "      <th>4</th>\n",
       "      <td>5fb55ff126ed1e003c17137f</td>\n",
       "      <td>None</td>\n",
       "      <td>record-per-potential-properties.xsd</td>\n",
       "      <td>&lt;?xml version=\"1.0\" encoding=\"UTF-8\" standalon...</td>\n",
       "      <td>ea7eeed57e0cea9b15dbda4b32c08266201a7e5a</td>\n",
       "      <td>[]</td>\n",
       "      <td>PotentialProperties</td>\n",
       "    </tr>\n",
       "    <tr>\n",
       "      <th>5</th>\n",
       "      <td>5fb5614a26ed1e00351714c9</td>\n",
       "      <td>None</td>\n",
       "      <td>Request3</td>\n",
       "      <td>&lt;xsd:schema xmlns:xsd=\"http://www.w3.org/2001/...</td>\n",
       "      <td>d108bacceb44a2789544ade71018b7f5ceacca1b</td>\n",
       "      <td>[]</td>\n",
       "      <td>Request</td>\n",
       "    </tr>\n",
       "    <tr>\n",
       "      <th>6</th>\n",
       "      <td>5fb5617026ed1e003517151b</td>\n",
       "      <td>None</td>\n",
       "      <td>record-free-surface.xsd</td>\n",
       "      <td>&lt;?xml version=\"1.0\"?&gt;\\r\\n&lt;xsd:schema xmlns:xsd...</td>\n",
       "      <td>8d2ff690d7e5558b851769f75bad8d90af47102d</td>\n",
       "      <td>[]</td>\n",
       "      <td>free_surface</td>\n",
       "    </tr>\n",
       "    <tr>\n",
       "      <th>7</th>\n",
       "      <td>5fb561a226ed1e003b17159d</td>\n",
       "      <td>None</td>\n",
       "      <td>record-stacking-fault.xsd</td>\n",
       "      <td>&lt;?xml version=\"1.0\"?&gt;\\n&lt;xsd:schema xmlns:xsd=\"...</td>\n",
       "      <td>aaa696ec7723f68e5be8280c8cafab69e08cf3f3</td>\n",
       "      <td>[]</td>\n",
       "      <td>stacking_fault</td>\n",
       "    </tr>\n",
       "    <tr>\n",
       "      <th>8</th>\n",
       "      <td>5fb561a726ed1e0038171153</td>\n",
       "      <td>None</td>\n",
       "      <td>record-point-defect.xsd</td>\n",
       "      <td>&lt;?xml version=\"1.0\"?&gt;\\n&lt;xsd:schema xmlns:xsd=\"...</td>\n",
       "      <td>4c8bc7e9d8369cdea5c61b27b418c84d3a350a2d</td>\n",
       "      <td>[]</td>\n",
       "      <td>point_defect</td>\n",
       "    </tr>\n",
       "    <tr>\n",
       "      <th>9</th>\n",
       "      <td>60f06f91e3f5c92595740437</td>\n",
       "      <td>None</td>\n",
       "      <td>crystal_prototype.xsd</td>\n",
       "      <td>&lt;?xml version=\"1.0\"?&gt;\\r\\n&lt;xsd:schema xmlns:xsd...</td>\n",
       "      <td>c270b1e6186a7d0a34489596781e02af1b80d006</td>\n",
       "      <td>[]</td>\n",
       "      <td>crystal_prototype</td>\n",
       "    </tr>\n",
       "    <tr>\n",
       "      <th>10</th>\n",
       "      <td>606df2fae5dbce003dc0eeff</td>\n",
       "      <td>None</td>\n",
       "      <td>potential_LAMMPS.xsd</td>\n",
       "      <td>&lt;?xml version=\"1.0\"?&gt;\\r\\n&lt;xsd:schema xmlns:xsd...</td>\n",
       "      <td>2881ca54c5f3fe29ee36b06308f98e9901e8c8fd</td>\n",
       "      <td>[]</td>\n",
       "      <td>potential_LAMMPS</td>\n",
       "    </tr>\n",
       "    <tr>\n",
       "      <th>11</th>\n",
       "      <td>5fb562c626ed1e002a1713ef</td>\n",
       "      <td>None</td>\n",
       "      <td>record-interatomic-potential-citation.xsd</td>\n",
       "      <td>&lt;?xml version=\"1.0\" encoding=\"UTF-8\" standalon...</td>\n",
       "      <td>893099854c8ac392bad133ce71ac34f60407ab6f</td>\n",
       "      <td>[]</td>\n",
       "      <td>Citation</td>\n",
       "    </tr>\n",
       "    <tr>\n",
       "      <th>12</th>\n",
       "      <td>60f09538f2613a0688740440</td>\n",
       "      <td>None</td>\n",
       "      <td>relaxed_crystal.xsd</td>\n",
       "      <td>&lt;?xml version=\"1.0\"?&gt;\\r\\n&lt;xsd:schema xmlns:xsd...</td>\n",
       "      <td>7272f1b29fc122c429976cc2436beab0c9e8f9fb</td>\n",
       "      <td>[]</td>\n",
       "      <td>relaxed_crystal</td>\n",
       "    </tr>\n",
       "    <tr>\n",
       "      <th>13</th>\n",
       "      <td>5fb5b6bb26ed1e003517780b</td>\n",
       "      <td>None</td>\n",
       "      <td>record-calculation-diatom-scan.xsd</td>\n",
       "      <td>&lt;?xml version=\"1.0\" encoding=\"UTF-8\" standalon...</td>\n",
       "      <td>46ce4c17314f9aeb3f5bb14642baf42e3da3d1e2</td>\n",
       "      <td>[]</td>\n",
       "      <td>calculation_diatom_scan</td>\n",
       "    </tr>\n",
       "    <tr>\n",
       "      <th>14</th>\n",
       "      <td>5fb5b85926ed1e003d1742ae</td>\n",
       "      <td>None</td>\n",
       "      <td>record-calculation-isolated-atom.xsd</td>\n",
       "      <td>&lt;?xml version=\"1.0\" encoding=\"UTF-8\" standalon...</td>\n",
       "      <td>30ae52b99037d58b23f83b314543761acc1f07a3</td>\n",
       "      <td>[]</td>\n",
       "      <td>calculation_isolated_atom</td>\n",
       "    </tr>\n",
       "    <tr>\n",
       "      <th>15</th>\n",
       "      <td>605b63e126ed1e003728eeff</td>\n",
       "      <td>None</td>\n",
       "      <td>potential-LAMMPS-KIM.xsd</td>\n",
       "      <td>&lt;?xml version=\"1.0\" encoding=\"UTF-8\" standalon...</td>\n",
       "      <td>1e331780cdb7d3382474e91844e5f4b95b12f1fa</td>\n",
       "      <td>[]</td>\n",
       "      <td>potential_LAMMPS_KIM</td>\n",
       "    </tr>\n",
       "    <tr>\n",
       "      <th>16</th>\n",
       "      <td>606b0ee526ed1e003b28ef76</td>\n",
       "      <td>None</td>\n",
       "      <td>record-calculation-bond-angle-scan.xsd</td>\n",
       "      <td>&lt;?xml version=\"1.0\" encoding=\"UTF-8\" standalon...</td>\n",
       "      <td>16a76faca187dea47c6089707cd377eb4163ac7b</td>\n",
       "      <td>[]</td>\n",
       "      <td>calculation_bond_angle_scan</td>\n",
       "    </tr>\n",
       "  </tbody>\n",
       "</table>\n",
       "</div>"
      ],
      "text/plain": [
       "                          id  user                                   filename  \\\n",
       "0   5fb7035126ed1e0037179acc  None                             Potential4.xsd   \n",
       "1   5fb55fab26ed1e003c1712e1  None    record-interatomic-potential-family.xsd   \n",
       "2   5fb55fac26ed1e003b1712e1  None       record-interatomic-potential-faq.xsd   \n",
       "3   5fb55faf26ed1e003d1712f9  None    record-interatomic-potential-action.xsd   \n",
       "4   5fb55ff126ed1e003c17137f  None        record-per-potential-properties.xsd   \n",
       "5   5fb5614a26ed1e00351714c9  None                                   Request3   \n",
       "6   5fb5617026ed1e003517151b  None                    record-free-surface.xsd   \n",
       "7   5fb561a226ed1e003b17159d  None                  record-stacking-fault.xsd   \n",
       "8   5fb561a726ed1e0038171153  None                    record-point-defect.xsd   \n",
       "9   60f06f91e3f5c92595740437  None                      crystal_prototype.xsd   \n",
       "10  606df2fae5dbce003dc0eeff  None                       potential_LAMMPS.xsd   \n",
       "11  5fb562c626ed1e002a1713ef  None  record-interatomic-potential-citation.xsd   \n",
       "12  60f09538f2613a0688740440  None                        relaxed_crystal.xsd   \n",
       "13  5fb5b6bb26ed1e003517780b  None         record-calculation-diatom-scan.xsd   \n",
       "14  5fb5b85926ed1e003d1742ae  None       record-calculation-isolated-atom.xsd   \n",
       "15  605b63e126ed1e003728eeff  None                   potential-LAMMPS-KIM.xsd   \n",
       "16  606b0ee526ed1e003b28ef76  None     record-calculation-bond-angle-scan.xsd   \n",
       "\n",
       "                                              content  \\\n",
       "0   <?xml version=\"1.0\" encoding=\"UTF-8\" standalon...   \n",
       "1   <?xml version=\"1.0\" encoding=\"UTF-8\" standalon...   \n",
       "2   <?xml version=\"1.0\" encoding=\"UTF-8\" standalon...   \n",
       "3   <?xml version=\"1.0\" encoding=\"UTF-8\" standalon...   \n",
       "4   <?xml version=\"1.0\" encoding=\"UTF-8\" standalon...   \n",
       "5   <xsd:schema xmlns:xsd=\"http://www.w3.org/2001/...   \n",
       "6   <?xml version=\"1.0\"?>\\r\\n<xsd:schema xmlns:xsd...   \n",
       "7   <?xml version=\"1.0\"?>\\n<xsd:schema xmlns:xsd=\"...   \n",
       "8   <?xml version=\"1.0\"?>\\n<xsd:schema xmlns:xsd=\"...   \n",
       "9   <?xml version=\"1.0\"?>\\r\\n<xsd:schema xmlns:xsd...   \n",
       "10  <?xml version=\"1.0\"?>\\r\\n<xsd:schema xmlns:xsd...   \n",
       "11  <?xml version=\"1.0\" encoding=\"UTF-8\" standalon...   \n",
       "12  <?xml version=\"1.0\"?>\\r\\n<xsd:schema xmlns:xsd...   \n",
       "13  <?xml version=\"1.0\" encoding=\"UTF-8\" standalon...   \n",
       "14  <?xml version=\"1.0\" encoding=\"UTF-8\" standalon...   \n",
       "15  <?xml version=\"1.0\" encoding=\"UTF-8\" standalon...   \n",
       "16  <?xml version=\"1.0\" encoding=\"UTF-8\" standalon...   \n",
       "\n",
       "                                        hash dependencies  \\\n",
       "0   c35b164c2947bdab2c6dd8566f84584a4a3eef7f           []   \n",
       "1   493be99cbc23614f898354553ea0d307009673d3           []   \n",
       "2   2dc0be555da041f782a7435c377ea7a20f28d3cd           []   \n",
       "3   f1c3de8a64553d81bd10cfc0cb24dd3cc129c710           []   \n",
       "4   ea7eeed57e0cea9b15dbda4b32c08266201a7e5a           []   \n",
       "5   d108bacceb44a2789544ade71018b7f5ceacca1b           []   \n",
       "6   8d2ff690d7e5558b851769f75bad8d90af47102d           []   \n",
       "7   aaa696ec7723f68e5be8280c8cafab69e08cf3f3           []   \n",
       "8   4c8bc7e9d8369cdea5c61b27b418c84d3a350a2d           []   \n",
       "9   c270b1e6186a7d0a34489596781e02af1b80d006           []   \n",
       "10  2881ca54c5f3fe29ee36b06308f98e9901e8c8fd           []   \n",
       "11  893099854c8ac392bad133ce71ac34f60407ab6f           []   \n",
       "12  7272f1b29fc122c429976cc2436beab0c9e8f9fb           []   \n",
       "13  46ce4c17314f9aeb3f5bb14642baf42e3da3d1e2           []   \n",
       "14  30ae52b99037d58b23f83b314543761acc1f07a3           []   \n",
       "15  1e331780cdb7d3382474e91844e5f4b95b12f1fa           []   \n",
       "16  16a76faca187dea47c6089707cd377eb4163ac7b           []   \n",
       "\n",
       "                          title  \n",
       "0                     Potential  \n",
       "1                        Family  \n",
       "2                           FAQ  \n",
       "3                        Action  \n",
       "4           PotentialProperties  \n",
       "5                       Request  \n",
       "6                  free_surface  \n",
       "7                stacking_fault  \n",
       "8                  point_defect  \n",
       "9             crystal_prototype  \n",
       "10             potential_LAMMPS  \n",
       "11                     Citation  \n",
       "12              relaxed_crystal  \n",
       "13      calculation_diatom_scan  \n",
       "14    calculation_isolated_atom  \n",
       "15         potential_LAMMPS_KIM  \n",
       "16  calculation_bond_angle_scan  "
      ]
     },
     "execution_count": 31,
     "metadata": {},
     "output_type": "execute_result"
    }
   ],
   "source": [
    "curator.get_templates()"
   ]
  },
  {
   "cell_type": "code",
   "execution_count": 32,
   "metadata": {},
   "outputs": [
    {
     "data": {
      "text/plain": [
       "id                                       5fb562c626ed1e002a1713ef\n",
       "user                                                         None\n",
       "filename                record-interatomic-potential-citation.xsd\n",
       "content         <?xml version=\"1.0\" encoding=\"UTF-8\" standalon...\n",
       "hash                     893099854c8ac392bad133ce71ac34f60407ab6f\n",
       "dependencies                                                   []\n",
       "title                                                    Citation\n",
       "Name: 0, dtype: object"
      ]
     },
     "execution_count": 32,
     "metadata": {},
     "output_type": "execute_result"
    }
   ],
   "source": [
    "curator.get_template('Citation')"
   ]
  },
  {
   "cell_type": "markdown",
   "metadata": {},
   "source": [
    "The get_template_managers() method fetches metadata associated with the various versions of templates in the database. \n",
    "\n",
    "Parameters\n",
    "\n",
    "- __title__ (*str, optional*) The template title to limit the search by.\n",
    "- __is_disabled__ (*bool, optional*) If True, then disabled templates will be returned.  If False (default), then active templates will bereturned.\n",
    "- __useronly__ (*bool, optional*) If True, only a user's templates are returned. If False (default), then all global templates arereturned."
   ]
  },
  {
   "cell_type": "code",
   "execution_count": 33,
   "metadata": {},
   "outputs": [
    {
     "data": {
      "text/html": [
       "<div>\n",
       "<style scoped>\n",
       "    .dataframe tbody tr th:only-of-type {\n",
       "        vertical-align: middle;\n",
       "    }\n",
       "\n",
       "    .dataframe tbody tr th {\n",
       "        vertical-align: top;\n",
       "    }\n",
       "\n",
       "    .dataframe thead th {\n",
       "        text-align: right;\n",
       "    }\n",
       "</style>\n",
       "<table border=\"1\" class=\"dataframe\">\n",
       "  <thead>\n",
       "    <tr style=\"text-align: right;\">\n",
       "      <th></th>\n",
       "      <th>id</th>\n",
       "      <th>title</th>\n",
       "      <th>user</th>\n",
       "      <th>versions</th>\n",
       "      <th>current</th>\n",
       "      <th>is_disabled</th>\n",
       "      <th>disabled_versions</th>\n",
       "      <th>_cls</th>\n",
       "    </tr>\n",
       "  </thead>\n",
       "  <tbody>\n",
       "    <tr>\n",
       "      <th>0</th>\n",
       "      <td>5fb562c626ed1e002a1713f0</td>\n",
       "      <td>Citation</td>\n",
       "      <td>None</td>\n",
       "      <td>[5fb562c626ed1e002a1713ef]</td>\n",
       "      <td>5fb562c626ed1e002a1713ef</td>\n",
       "      <td>False</td>\n",
       "      <td>[]</td>\n",
       "      <td>VersionManager.TemplateVersionManager</td>\n",
       "    </tr>\n",
       "  </tbody>\n",
       "</table>\n",
       "</div>"
      ],
      "text/plain": [
       "                         id     title  user                    versions  \\\n",
       "0  5fb562c626ed1e002a1713f0  Citation  None  [5fb562c626ed1e002a1713ef]   \n",
       "\n",
       "                    current  is_disabled disabled_versions  \\\n",
       "0  5fb562c626ed1e002a1713ef        False                []   \n",
       "\n",
       "                                    _cls  \n",
       "0  VersionManager.TemplateVersionManager  "
      ]
     },
     "execution_count": 33,
     "metadata": {},
     "output_type": "execute_result"
    }
   ],
   "source": [
    "curator.get_template_managers('Citation')"
   ]
  }
 ],
 "metadata": {
  "kernelspec": {
   "display_name": "Python 3",
   "language": "python",
   "name": "python3"
  },
  "language_info": {
   "codemirror_mode": {
    "name": "ipython",
    "version": 3
   },
   "file_extension": ".py",
   "mimetype": "text/x-python",
   "name": "python",
   "nbconvert_exporter": "python",
   "pygments_lexer": "ipython3",
   "version": "3.7.3"
  }
 },
 "nbformat": 4,
 "nbformat_minor": 4
}
