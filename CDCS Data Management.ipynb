{
 "cells": [
  {
   "cell_type": "markdown",
   "metadata": {},
   "source": [
    "# CDCS Data Management\n",
    "\n",
    "This Notebook details the functions and interactions for managing data in a CDCS instance.  Primarily, this means having an account on the database allowing you to log in to create and modify records. \n",
    "\n",
    "Notes on CDCS design:\n",
    "\n",
    "- Each record is assigned to a user and can be assigned to a workspace.\n",
    "- Any records without a workspace are only accessible to the assigned user.\n",
    "- A workspace serves as a group of records that can be made accessible to specific users.\n",
    "- Each CDCS instance has a \"Global Public Workspace\" that is meant for all users to be able to see."
   ]
  },
  {
   "cell_type": "code",
   "execution_count": 1,
   "metadata": {},
   "outputs": [
    {
     "name": "stdout",
     "output_type": "stream",
     "text": [
      "Notebook executed for cdcs version 0.2.0\n"
     ]
    }
   ],
   "source": [
    "from pathlib import Path\n",
    "\n",
    "import cdcs\n",
    "from cdcs import CDCS\n",
    "\n",
    "print('Notebook executed for cdcs version', cdcs.__version__)"
   ]
  },
  {
   "cell_type": "markdown",
   "metadata": {},
   "source": [
    "## 1. Class initialization\n",
    "\n",
    "A CDCS client manager can be initialized by passing it the host url and authenication information.\n",
    "\n",
    "Parameters\n",
    "\n",
    "- __host__: (*str*) URL for the database's server.\n",
    "- __username__: (*str, optional*) Username of desired account on the server. A prompt will ask for the username if not given.\n",
    "- __password__: (*str, optional*) Password of desired account on the server.  A prompt will ask for the password if not given.\n",
    "- __auth__: (*tuple, optional*) Auth tuple to enable Basic/Digest/Custom HTTP Auth.  Alternative to giving username and password seperately.\n",
    "- __cert__: (*str, optional*) if String, path to ssl client cert file (.pem). If Tuple, (‘cert’, ‘key’) pair.\n",
    "- __certification__: (*str, optional*) Alias for cert. Retained for compatibility.\n",
    "- __verify__: (*bool or str, optional*) Either a boolean, in which case it controls whether we verify the server’s TLS certificate, or a string, in which case it must be a path to a CA bundle to use. Defaults to True.\n",
    "- __cdcsversion__: (*str, optional*) For CDCS versions 2.X.X, this allows for specifying the full CDCS version to ensure the class methods perform the correct REST calls.  This can be specified as \"#.#.#\", or if None is given will default to \"2.15.0\".  For CDCS versions 3.X.X, this is ignored as version info is obtained directly from the database."
   ]
  },
  {
   "cell_type": "code",
   "execution_count": 2,
   "metadata": {},
   "outputs": [
    {
     "name": "stdout",
     "output_type": "stream",
     "text": [
      "Enter password for lmh1 @ https://potentials.nist.gov:········\n",
      "(2, 21, 0)\n"
     ]
    }
   ],
   "source": [
    "curator_v2 = CDCS('https://potentials.nist.gov/', username='lmh1', cdcsversion='2.21.0')\n",
    "print(curator_v2.cdcsversion)"
   ]
  },
  {
   "cell_type": "code",
   "execution_count": 3,
   "metadata": {},
   "outputs": [
    {
     "name": "stdout",
     "output_type": "stream",
     "text": [
      "Enter password for lmh1 @ https://test-potentials.nist.gov:········\n",
      "(3, 0, 1)\n"
     ]
    }
   ],
   "source": [
    "curator_v3 = CDCS('https://test-potentials.nist.gov/', username='lmh1', verify=False)\n",
    "print(curator_v3.cdcsversion)"
   ]
  },
  {
   "cell_type": "code",
   "execution_count": 4,
   "metadata": {},
   "outputs": [],
   "source": [
    "curator = curator_v3"
   ]
  },
  {
   "cell_type": "markdown",
   "metadata": {},
   "source": [
    "## 2. Query data\n",
    "\n",
    "The query() method will return *all* matching records that you have access to.\n",
    "\n",
    "Parameters\n",
    "\n",
    "- __template__: (*list, str, pandas.Series or pandas.DataFrame, optional*) One or more templates or template titles to limit the search by.\n",
    "- __title__: (*str, optional*) Record title to limit the search by.\n",
    "- __keyword__: (*str or list, optional*) Keyword(s) to use for a string-based search of record content.  Only records containing all keywords will be returned. \n",
    "- __mongoquery__: (*str or dict, optional*) Mongodb find query to use in limiting searches by record element fields.  Note: only record parsing is supported, not field projection.\n",
    "- __page__: (*int or None, optional*) If an int, then will return results only for that page of 10 records.  If None (default), then results for all pages will be compiled and returned.\n",
    "- __parse_dates__: (*bool, optional*) If True (default) then date fields will automatically be parsed into pandas.Timestamp objects.  If False they will be left as str values.\n",
    "- __progress_bar__: (*bool, optional*) If True (default) a progress bar will be displayed for multi-page query results.\n",
    "\n",
    "Returns\n",
    "\n",
    "- (*pandas.DataFrame*) All records matching the search request"
   ]
  },
  {
   "cell_type": "markdown",
   "metadata": {},
   "source": [
    "Specify a template in the database to interact with"
   ]
  },
  {
   "cell_type": "code",
   "execution_count": 5,
   "metadata": {},
   "outputs": [],
   "source": [
    "# Note: template should the name of a template in the database you are accessing!\n",
    "template = 'FAQ'"
   ]
  },
  {
   "cell_type": "markdown",
   "metadata": {},
   "source": [
    "Use query to fetch records"
   ]
  },
  {
   "cell_type": "code",
   "execution_count": 6,
   "metadata": {},
   "outputs": [
    {
     "data": {
      "text/html": [
       "<div>\n",
       "<style scoped>\n",
       "    .dataframe tbody tr th:only-of-type {\n",
       "        vertical-align: middle;\n",
       "    }\n",
       "\n",
       "    .dataframe tbody tr th {\n",
       "        vertical-align: top;\n",
       "    }\n",
       "\n",
       "    .dataframe thead th {\n",
       "        text-align: right;\n",
       "    }\n",
       "</style>\n",
       "<table border=\"1\" class=\"dataframe\">\n",
       "  <thead>\n",
       "    <tr style=\"text-align: right;\">\n",
       "      <th></th>\n",
       "      <th>id</th>\n",
       "      <th>template</th>\n",
       "      <th>workspace</th>\n",
       "      <th>user_id</th>\n",
       "      <th>title</th>\n",
       "      <th>xml_content</th>\n",
       "      <th>creation_date</th>\n",
       "      <th>last_modification_date</th>\n",
       "      <th>last_change_date</th>\n",
       "      <th>template_title</th>\n",
       "    </tr>\n",
       "  </thead>\n",
       "  <tbody>\n",
       "    <tr>\n",
       "      <th>0</th>\n",
       "      <td>3497</td>\n",
       "      <td>11</td>\n",
       "      <td>1</td>\n",
       "      <td>5</td>\n",
       "      <td>graphs</td>\n",
       "      <td>&lt;faq  xmlns:xsi=\"http://www.w3.org/2001/XMLSch...</td>\n",
       "      <td>2021-08-26 13:15:59.839000+00:00</td>\n",
       "      <td>2021-08-26 13:15:59.839000+00:00</td>\n",
       "      <td>2021-08-26 13:16:00.155000+00:00</td>\n",
       "      <td>FAQ</td>\n",
       "    </tr>\n",
       "    <tr>\n",
       "      <th>1</th>\n",
       "      <td>3498</td>\n",
       "      <td>11</td>\n",
       "      <td>1</td>\n",
       "      <td>5</td>\n",
       "      <td>lammps</td>\n",
       "      <td>&lt;faq  xmlns:xsi=\"http://www.w3.org/2001/XMLSch...</td>\n",
       "      <td>2021-08-26 13:15:59.365000+00:00</td>\n",
       "      <td>2021-08-26 13:15:59.365000+00:00</td>\n",
       "      <td>2021-08-26 13:15:59.674000+00:00</td>\n",
       "      <td>FAQ</td>\n",
       "    </tr>\n",
       "    <tr>\n",
       "      <th>2</th>\n",
       "      <td>3500</td>\n",
       "      <td>11</td>\n",
       "      <td>1</td>\n",
       "      <td>5</td>\n",
       "      <td>manuscript</td>\n",
       "      <td>&lt;faq  xmlns:xsi=\"http://www.w3.org/2001/XMLSch...</td>\n",
       "      <td>2021-08-26 13:15:58.878000+00:00</td>\n",
       "      <td>2021-08-26 13:15:58.878000+00:00</td>\n",
       "      <td>2021-08-26 13:15:59.197000+00:00</td>\n",
       "      <td>FAQ</td>\n",
       "    </tr>\n",
       "    <tr>\n",
       "      <th>3</th>\n",
       "      <td>3494</td>\n",
       "      <td>11</td>\n",
       "      <td>1</td>\n",
       "      <td>5</td>\n",
       "      <td>ref</td>\n",
       "      <td>&lt;faq  xmlns:xsi=\"http://www.w3.org/2001/XMLSch...</td>\n",
       "      <td>2021-08-26 13:15:58.407000+00:00</td>\n",
       "      <td>2021-08-26 13:15:58.407000+00:00</td>\n",
       "      <td>2021-08-26 13:15:58.715000+00:00</td>\n",
       "      <td>FAQ</td>\n",
       "    </tr>\n",
       "    <tr>\n",
       "      <th>4</th>\n",
       "      <td>3496</td>\n",
       "      <td>11</td>\n",
       "      <td>1</td>\n",
       "      <td>5</td>\n",
       "      <td>formats</td>\n",
       "      <td>&lt;faq  xmlns:xsi=\"http://www.w3.org/2001/XMLSch...</td>\n",
       "      <td>2021-08-26 13:15:57.919000+00:00</td>\n",
       "      <td>2021-08-26 13:15:57.919000+00:00</td>\n",
       "      <td>2021-08-26 13:15:58.236000+00:00</td>\n",
       "      <td>FAQ</td>\n",
       "    </tr>\n",
       "    <tr>\n",
       "      <th>5</th>\n",
       "      <td>3495</td>\n",
       "      <td>11</td>\n",
       "      <td>1</td>\n",
       "      <td>5</td>\n",
       "      <td>faq</td>\n",
       "      <td>&lt;faq  xmlns:xsi=\"http://www.w3.org/2001/XMLSch...</td>\n",
       "      <td>2021-08-26 13:15:57.438000+00:00</td>\n",
       "      <td>2021-08-26 13:15:57.438000+00:00</td>\n",
       "      <td>2021-08-26 13:15:57.750000+00:00</td>\n",
       "      <td>FAQ</td>\n",
       "    </tr>\n",
       "    <tr>\n",
       "      <th>6</th>\n",
       "      <td>3499</td>\n",
       "      <td>11</td>\n",
       "      <td>1</td>\n",
       "      <td>5</td>\n",
       "      <td>submit</td>\n",
       "      <td>&lt;faq  xmlns:xsi=\"http://www.w3.org/2001/XMLSch...</td>\n",
       "      <td>2021-08-26 13:15:56.939000+00:00</td>\n",
       "      <td>2021-08-26 13:15:56.939000+00:00</td>\n",
       "      <td>2021-08-26 13:15:57.264000+00:00</td>\n",
       "      <td>FAQ</td>\n",
       "    </tr>\n",
       "  </tbody>\n",
       "</table>\n",
       "</div>"
      ],
      "text/plain": [
       "     id  template  workspace user_id       title  \\\n",
       "0  3497        11          1       5      graphs   \n",
       "1  3498        11          1       5      lammps   \n",
       "2  3500        11          1       5  manuscript   \n",
       "3  3494        11          1       5         ref   \n",
       "4  3496        11          1       5     formats   \n",
       "5  3495        11          1       5         faq   \n",
       "6  3499        11          1       5      submit   \n",
       "\n",
       "                                         xml_content  \\\n",
       "0  <faq  xmlns:xsi=\"http://www.w3.org/2001/XMLSch...   \n",
       "1  <faq  xmlns:xsi=\"http://www.w3.org/2001/XMLSch...   \n",
       "2  <faq  xmlns:xsi=\"http://www.w3.org/2001/XMLSch...   \n",
       "3  <faq  xmlns:xsi=\"http://www.w3.org/2001/XMLSch...   \n",
       "4  <faq  xmlns:xsi=\"http://www.w3.org/2001/XMLSch...   \n",
       "5  <faq  xmlns:xsi=\"http://www.w3.org/2001/XMLSch...   \n",
       "6  <faq  xmlns:xsi=\"http://www.w3.org/2001/XMLSch...   \n",
       "\n",
       "                     creation_date           last_modification_date  \\\n",
       "0 2021-08-26 13:15:59.839000+00:00 2021-08-26 13:15:59.839000+00:00   \n",
       "1 2021-08-26 13:15:59.365000+00:00 2021-08-26 13:15:59.365000+00:00   \n",
       "2 2021-08-26 13:15:58.878000+00:00 2021-08-26 13:15:58.878000+00:00   \n",
       "3 2021-08-26 13:15:58.407000+00:00 2021-08-26 13:15:58.407000+00:00   \n",
       "4 2021-08-26 13:15:57.919000+00:00 2021-08-26 13:15:57.919000+00:00   \n",
       "5 2021-08-26 13:15:57.438000+00:00 2021-08-26 13:15:57.438000+00:00   \n",
       "6 2021-08-26 13:15:56.939000+00:00 2021-08-26 13:15:56.939000+00:00   \n",
       "\n",
       "                  last_change_date template_title  \n",
       "0 2021-08-26 13:16:00.155000+00:00            FAQ  \n",
       "1 2021-08-26 13:15:59.674000+00:00            FAQ  \n",
       "2 2021-08-26 13:15:59.197000+00:00            FAQ  \n",
       "3 2021-08-26 13:15:58.715000+00:00            FAQ  \n",
       "4 2021-08-26 13:15:58.236000+00:00            FAQ  \n",
       "5 2021-08-26 13:15:57.750000+00:00            FAQ  \n",
       "6 2021-08-26 13:15:57.264000+00:00            FAQ  "
      ]
     },
     "execution_count": 6,
     "metadata": {},
     "output_type": "execute_result"
    }
   ],
   "source": [
    "records = curator.query(template=template)\n",
    "records"
   ]
  },
  {
   "cell_type": "markdown",
   "metadata": {},
   "source": [
    "Pick the first record, and see its xml contents"
   ]
  },
  {
   "cell_type": "code",
   "execution_count": 7,
   "metadata": {},
   "outputs": [
    {
     "name": "stdout",
     "output_type": "stream",
     "text": [
      "<faq  xmlns:xsi=\"http://www.w3.org/2001/XMLSchema-instance\" ><question>I've downloaded a file and plotted it, but the graphs don't look like the figures in the paper.  Why?</question><answer><![CDATA[There can be several reasons for this.  One is file formatting.   Different developers and software packages use different data and file formats to present their interatomic potentials.</p>  <p>Even with the same file/data format, invariant transformations in the EAM format mean that different parameterizations of the interatomic potentials can look completely different but yield the same physical properties.  This is especially true for alloys.  The issue of invariant transformations is discussed in several places.  Among them are: </p> <UL> <LI>Y. Mishin, \"Interatomic potentials for metals,\" in <em>Handbook of Materials Modeling</em>, edited by S. Yip (Springer, Dordrect, The Netherlands, 2005), Chap. 2.2, pp. 459-478. <LI>A.E. Carlsson, \"Beyond pair potentials in elemental transition metals and semiconductors,\" in <em>Solid State Physics</em>, Volume 43, Ehrenreich and Turnbull (eds.) (1990). </UL> To compare different EAM interatomic potentials, the <em>effective pair format</em> should be used.]]></answer></faq>\n"
     ]
    }
   ],
   "source": [
    "record = records.iloc[0]\n",
    "content = record.xml_content\n",
    "print(content)"
   ]
  },
  {
   "cell_type": "markdown",
   "metadata": {},
   "source": [
    "## 3. Manage records\n",
    "\n",
    "The methods associated with managing records requires having an account with the corresponding database and the correct privileges."
   ]
  },
  {
   "cell_type": "markdown",
   "metadata": {},
   "source": [
    "### 3.1. Upload a new record\n",
    "\n",
    "New records can be uploaded to the database using the upload_record() method.\n",
    "\n",
    "Parameters\n",
    "\n",
    "- **template** (*str or pandas.Series*) The template or template title to associate with the record.\n",
    "- **filename** (*str, optional*) Name of an XML file whose contents are to be uploaded.  Either filename or content required.\n",
    "- **content** (*str or bytes, optional*) String content to upload. Either filename or content required.\n",
    "- **title** (*str, optional*) Title to save the record as.  Optional if filename is given (title will be taken as filename without ext).\n",
    "- **workspace** (*str or pandas.Series, optional*) If given, the record will be assigned to this workspace after successfully being uploaded.\n",
    "- **duplicatecheck** (*bool, optional*) If True (default), then a ValueError will be raised if a record already exists with the same template and title.  If False, no check is performed possibly allowing for multiple records with the same title to exist in the database.  Note: this check only searches the records that you have access to, so duplicates are possible from other users.\n",
    "- **verbose** (*bool, optional*) Setting this to True will print extra status messages.  Default value is False."
   ]
  },
  {
   "cell_type": "markdown",
   "metadata": {},
   "source": [
    "Use the content from the record queried above to upload a \"test\" record."
   ]
  },
  {
   "cell_type": "code",
   "execution_count": 8,
   "metadata": {},
   "outputs": [
    {
     "name": "stdout",
     "output_type": "stream",
     "text": [
      "record testrecord1 (4884) successfully uploaded.\n"
     ]
    }
   ],
   "source": [
    "title = 'testrecord1'\n",
    "curator.upload_record(template=template, title=title, content=content, verbose=True)"
   ]
  },
  {
   "cell_type": "markdown",
   "metadata": {},
   "source": [
    "Alternatively, the names of any local XML files can be specified and the method will automatically read the contents.  The file name without path and extension will be used for the title if no title is given.\n",
    "\n",
    "Also, note that the workspace is being set to 'Global Public Workspace'."
   ]
  },
  {
   "cell_type": "code",
   "execution_count": 9,
   "metadata": {},
   "outputs": [
    {
     "name": "stdout",
     "output_type": "stream",
     "text": [
      "record testrecord2 (4885) successfully uploaded.\n",
      "record 4885 assigned to workspace 1\n"
     ]
    }
   ],
   "source": [
    "# Save content to local file\n",
    "filename = 'testrecord2.xml'\n",
    "with open(filename, 'w') as f:\n",
    "    f.write(content)\n",
    "    \n",
    "# Upload from file\n",
    "curator.upload_record(template=template, filename=filename, verbose=True,\n",
    "                      workspace='Global Public Workspace')\n",
    "\n",
    "# Delete local file (keep working directory clean)\n",
    "Path(filename).unlink()"
   ]
  },
  {
   "cell_type": "markdown",
   "metadata": {},
   "source": [
    "### 3.2. Retrieve data records\n",
    "\n",
    "The records that you own can be accessed using the get_records() and get_record() methods. get_records() will fetch all matching records, while get_record() will fetch a single record if exactly one match is found and will throw an error otherwise.\n",
    "\n",
    "__NOTE__: The behavior of get_records() is different for CDCS versions 2.X.X and 3.X.X.  For versions 2.X.X, get_records will attempt to return all matching records at once.  For versions 3.X.X, get_records behaves similiarly to query in that matching records are returned in page batches of ten.\n",
    "\n",
    "Parameters\n",
    "\n",
    "- __template__ (*str or pandas.Series, optional*) The template or template title to limit the search by.\n",
    "- __title__ (*str, optional*) The data record title to limit the search by.\n",
    "- __page__ (*int or None, optional*) If an int, then will return results only for that page of 10 records. If None (default), then results for all pages will be compiled and returned.  Only used for CDCS versions 3.X.X. \n",
    "- __parse_dates__ (*bool, optional*) If True (default) then date fields will automatically be parsed into pandas.Timestamp objects.  If False they will be left as str values.\n",
    "- __progress_bar__ (*bool, optional*) If True (default) a progress bar will be displayed for multi-page query results. Only used for CDCS versions 3.X.X.\n"
   ]
  },
  {
   "cell_type": "code",
   "execution_count": 10,
   "metadata": {},
   "outputs": [
    {
     "data": {
      "text/html": [
       "<div>\n",
       "<style scoped>\n",
       "    .dataframe tbody tr th:only-of-type {\n",
       "        vertical-align: middle;\n",
       "    }\n",
       "\n",
       "    .dataframe tbody tr th {\n",
       "        vertical-align: top;\n",
       "    }\n",
       "\n",
       "    .dataframe thead th {\n",
       "        text-align: right;\n",
       "    }\n",
       "</style>\n",
       "<table border=\"1\" class=\"dataframe\">\n",
       "  <thead>\n",
       "    <tr style=\"text-align: right;\">\n",
       "      <th></th>\n",
       "      <th>id</th>\n",
       "      <th>template</th>\n",
       "      <th>workspace</th>\n",
       "      <th>user_id</th>\n",
       "      <th>title</th>\n",
       "      <th>xml_content</th>\n",
       "      <th>checksum</th>\n",
       "      <th>creation_date</th>\n",
       "      <th>last_modification_date</th>\n",
       "      <th>last_change_date</th>\n",
       "    </tr>\n",
       "  </thead>\n",
       "  <tbody>\n",
       "    <tr>\n",
       "      <th>0</th>\n",
       "      <td>4885</td>\n",
       "      <td>11</td>\n",
       "      <td>1.0</td>\n",
       "      <td>5</td>\n",
       "      <td>testrecord2</td>\n",
       "      <td>&lt;faq  xmlns:xsi=\"http://www.w3.org/2001/XMLSch...</td>\n",
       "      <td>None</td>\n",
       "      <td>2023-01-19T20:51:36.364217Z</td>\n",
       "      <td>2023-01-19T20:51:36.364217Z</td>\n",
       "      <td>2023-01-19T20:51:36.943279Z</td>\n",
       "    </tr>\n",
       "    <tr>\n",
       "      <th>1</th>\n",
       "      <td>4884</td>\n",
       "      <td>11</td>\n",
       "      <td>NaN</td>\n",
       "      <td>5</td>\n",
       "      <td>testrecord1</td>\n",
       "      <td>&lt;faq  xmlns:xsi=\"http://www.w3.org/2001/XMLSch...</td>\n",
       "      <td>None</td>\n",
       "      <td>2023-01-19T20:51:35.236297Z</td>\n",
       "      <td>2023-01-19T20:51:35.236297Z</td>\n",
       "      <td>2023-01-19T20:51:35.236297Z</td>\n",
       "    </tr>\n",
       "    <tr>\n",
       "      <th>2</th>\n",
       "      <td>3497</td>\n",
       "      <td>11</td>\n",
       "      <td>1.0</td>\n",
       "      <td>5</td>\n",
       "      <td>graphs</td>\n",
       "      <td>&lt;faq  xmlns:xsi=\"http://www.w3.org/2001/XMLSch...</td>\n",
       "      <td>None</td>\n",
       "      <td>2021-08-26T13:15:59.839000Z</td>\n",
       "      <td>2021-08-26T13:15:59.839000Z</td>\n",
       "      <td>2021-08-26T13:16:00.155000Z</td>\n",
       "    </tr>\n",
       "    <tr>\n",
       "      <th>3</th>\n",
       "      <td>3498</td>\n",
       "      <td>11</td>\n",
       "      <td>1.0</td>\n",
       "      <td>5</td>\n",
       "      <td>lammps</td>\n",
       "      <td>&lt;faq  xmlns:xsi=\"http://www.w3.org/2001/XMLSch...</td>\n",
       "      <td>None</td>\n",
       "      <td>2021-08-26T13:15:59.365000Z</td>\n",
       "      <td>2021-08-26T13:15:59.365000Z</td>\n",
       "      <td>2021-08-26T13:15:59.674000Z</td>\n",
       "    </tr>\n",
       "    <tr>\n",
       "      <th>4</th>\n",
       "      <td>3500</td>\n",
       "      <td>11</td>\n",
       "      <td>1.0</td>\n",
       "      <td>5</td>\n",
       "      <td>manuscript</td>\n",
       "      <td>&lt;faq  xmlns:xsi=\"http://www.w3.org/2001/XMLSch...</td>\n",
       "      <td>None</td>\n",
       "      <td>2021-08-26T13:15:58.878000Z</td>\n",
       "      <td>2021-08-26T13:15:58.878000Z</td>\n",
       "      <td>2021-08-26T13:15:59.197000Z</td>\n",
       "    </tr>\n",
       "    <tr>\n",
       "      <th>5</th>\n",
       "      <td>3494</td>\n",
       "      <td>11</td>\n",
       "      <td>1.0</td>\n",
       "      <td>5</td>\n",
       "      <td>ref</td>\n",
       "      <td>&lt;faq  xmlns:xsi=\"http://www.w3.org/2001/XMLSch...</td>\n",
       "      <td>None</td>\n",
       "      <td>2021-08-26T13:15:58.407000Z</td>\n",
       "      <td>2021-08-26T13:15:58.407000Z</td>\n",
       "      <td>2021-08-26T13:15:58.715000Z</td>\n",
       "    </tr>\n",
       "    <tr>\n",
       "      <th>6</th>\n",
       "      <td>3496</td>\n",
       "      <td>11</td>\n",
       "      <td>1.0</td>\n",
       "      <td>5</td>\n",
       "      <td>formats</td>\n",
       "      <td>&lt;faq  xmlns:xsi=\"http://www.w3.org/2001/XMLSch...</td>\n",
       "      <td>None</td>\n",
       "      <td>2021-08-26T13:15:57.919000Z</td>\n",
       "      <td>2021-08-26T13:15:57.919000Z</td>\n",
       "      <td>2021-08-26T13:15:58.236000Z</td>\n",
       "    </tr>\n",
       "    <tr>\n",
       "      <th>7</th>\n",
       "      <td>3495</td>\n",
       "      <td>11</td>\n",
       "      <td>1.0</td>\n",
       "      <td>5</td>\n",
       "      <td>faq</td>\n",
       "      <td>&lt;faq  xmlns:xsi=\"http://www.w3.org/2001/XMLSch...</td>\n",
       "      <td>None</td>\n",
       "      <td>2021-08-26T13:15:57.438000Z</td>\n",
       "      <td>2021-08-26T13:15:57.438000Z</td>\n",
       "      <td>2021-08-26T13:15:57.750000Z</td>\n",
       "    </tr>\n",
       "    <tr>\n",
       "      <th>8</th>\n",
       "      <td>3499</td>\n",
       "      <td>11</td>\n",
       "      <td>1.0</td>\n",
       "      <td>5</td>\n",
       "      <td>submit</td>\n",
       "      <td>&lt;faq  xmlns:xsi=\"http://www.w3.org/2001/XMLSch...</td>\n",
       "      <td>None</td>\n",
       "      <td>2021-08-26T13:15:56.939000Z</td>\n",
       "      <td>2021-08-26T13:15:56.939000Z</td>\n",
       "      <td>2021-08-26T13:15:57.264000Z</td>\n",
       "    </tr>\n",
       "  </tbody>\n",
       "</table>\n",
       "</div>"
      ],
      "text/plain": [
       "     id  template  workspace user_id        title  \\\n",
       "0  4885        11        1.0       5  testrecord2   \n",
       "1  4884        11        NaN       5  testrecord1   \n",
       "2  3497        11        1.0       5       graphs   \n",
       "3  3498        11        1.0       5       lammps   \n",
       "4  3500        11        1.0       5   manuscript   \n",
       "5  3494        11        1.0       5          ref   \n",
       "6  3496        11        1.0       5      formats   \n",
       "7  3495        11        1.0       5          faq   \n",
       "8  3499        11        1.0       5       submit   \n",
       "\n",
       "                                         xml_content checksum  \\\n",
       "0  <faq  xmlns:xsi=\"http://www.w3.org/2001/XMLSch...     None   \n",
       "1  <faq  xmlns:xsi=\"http://www.w3.org/2001/XMLSch...     None   \n",
       "2  <faq  xmlns:xsi=\"http://www.w3.org/2001/XMLSch...     None   \n",
       "3  <faq  xmlns:xsi=\"http://www.w3.org/2001/XMLSch...     None   \n",
       "4  <faq  xmlns:xsi=\"http://www.w3.org/2001/XMLSch...     None   \n",
       "5  <faq  xmlns:xsi=\"http://www.w3.org/2001/XMLSch...     None   \n",
       "6  <faq  xmlns:xsi=\"http://www.w3.org/2001/XMLSch...     None   \n",
       "7  <faq  xmlns:xsi=\"http://www.w3.org/2001/XMLSch...     None   \n",
       "8  <faq  xmlns:xsi=\"http://www.w3.org/2001/XMLSch...     None   \n",
       "\n",
       "                 creation_date       last_modification_date  \\\n",
       "0  2023-01-19T20:51:36.364217Z  2023-01-19T20:51:36.364217Z   \n",
       "1  2023-01-19T20:51:35.236297Z  2023-01-19T20:51:35.236297Z   \n",
       "2  2021-08-26T13:15:59.839000Z  2021-08-26T13:15:59.839000Z   \n",
       "3  2021-08-26T13:15:59.365000Z  2021-08-26T13:15:59.365000Z   \n",
       "4  2021-08-26T13:15:58.878000Z  2021-08-26T13:15:58.878000Z   \n",
       "5  2021-08-26T13:15:58.407000Z  2021-08-26T13:15:58.407000Z   \n",
       "6  2021-08-26T13:15:57.919000Z  2021-08-26T13:15:57.919000Z   \n",
       "7  2021-08-26T13:15:57.438000Z  2021-08-26T13:15:57.438000Z   \n",
       "8  2021-08-26T13:15:56.939000Z  2021-08-26T13:15:56.939000Z   \n",
       "\n",
       "              last_change_date  \n",
       "0  2023-01-19T20:51:36.943279Z  \n",
       "1  2023-01-19T20:51:35.236297Z  \n",
       "2  2021-08-26T13:16:00.155000Z  \n",
       "3  2021-08-26T13:15:59.674000Z  \n",
       "4  2021-08-26T13:15:59.197000Z  \n",
       "5  2021-08-26T13:15:58.715000Z  \n",
       "6  2021-08-26T13:15:58.236000Z  \n",
       "7  2021-08-26T13:15:57.750000Z  \n",
       "8  2021-08-26T13:15:57.264000Z  "
      ]
     },
     "execution_count": 10,
     "metadata": {},
     "output_type": "execute_result"
    }
   ],
   "source": [
    "curator.get_records(template=template, parse_dates=False)"
   ]
  },
  {
   "cell_type": "code",
   "execution_count": 11,
   "metadata": {},
   "outputs": [
    {
     "name": "stdout",
     "output_type": "stream",
     "text": [
      "id                                                                     4885\n",
      "template                                                                 11\n",
      "workspace                                                                 1\n",
      "user_id                                                                   5\n",
      "title                                                           testrecord2\n",
      "xml_content               <faq  xmlns:xsi=\"http://www.w3.org/2001/XMLSch...\n",
      "checksum                                                               None\n",
      "creation_date                                   2023-01-19T20:51:36.364217Z\n",
      "last_modification_date                          2023-01-19T20:51:36.364217Z\n",
      "last_change_date                                2023-01-19T20:51:36.943279Z\n",
      "Name: 0, dtype: object\n"
     ]
    }
   ],
   "source": [
    "record = curator.get_record(template=template, title='testrecord2', parse_dates=False)\n",
    "print(record)"
   ]
  },
  {
   "cell_type": "code",
   "execution_count": 12,
   "metadata": {},
   "outputs": [
    {
     "name": "stdout",
     "output_type": "stream",
     "text": [
      "<faq  xmlns:xsi=\"http://www.w3.org/2001/XMLSchema-instance\" ><question>I've downloaded a file and plotted it, but the graphs don't look like the figures in the paper.  Why?</question><answer><![CDATA[There can be several reasons for this.  One is file formatting.   Different developers and software packages use different data and file formats to present their interatomic potentials.</p>  <p>Even with the same file/data format, invariant transformations in the EAM format mean that different parameterizations of the interatomic potentials can look completely different but yield the same physical properties.  This is especially true for alloys.  The issue of invariant transformations is discussed in several places.  Among them are: </p> <UL> <LI>Y. Mishin, \"Interatomic potentials for metals,\" in <em>Handbook of Materials Modeling</em>, edited by S. Yip (Springer, Dordrect, The Netherlands, 2005), Chap. 2.2, pp. 459-478. <LI>A.E. Carlsson, \"Beyond pair potentials in elemental transition metals and semiconductors,\" in <em>Solid State Physics</em>, Volume 43, Ehrenreich and Turnbull (eds.) (1990). </UL> To compare different EAM interatomic potentials, the <em>effective pair format</em> should be used.]]></answer></faq>\n"
     ]
    }
   ],
   "source": [
    "print(record.xml_content)"
   ]
  },
  {
   "cell_type": "markdown",
   "metadata": {},
   "source": [
    "### 3.3. Update an existing record\n",
    "\n",
    "The content of a record in the database can be changed using the update_record() method.  Note that this only changes the record's content and all other metadata (user, workspace, database id,...) will remain unchanged.\n",
    "\n",
    "- **record** (*pandas.Series, optional*) A previously identified record to delete.  As this uniquely defines a record, the template and title parameters are ignored if given. Can contain the new conte\n",
    "- **template** (*str or pandas.Series, optional*) The template or template title associated with the record.  template + title values must uniquely identify one record.\n",
    "- **title** (*str, optional*) Title of the record to delete.  template + title values must uniquely identify one record.\n",
    "- **filename** (*str or Path, optional*) Path to file containing the new record content to upload. Either filename or content required.\n",
    "- **content** (*str or bytes, optional*) New content to upload. Either filename or content required.\n",
    "- **workspace** (*str or pandas.Series, optional*) If given, the record will be assigned to this workspace after successfully being updated.\n",
    "- **verbose** (*bool, optional*) Setting this to True will print extra status messages.  Default value is False."
   ]
  },
  {
   "cell_type": "markdown",
   "metadata": {},
   "source": [
    "Change the content of testrecord2 by replacing \"download\" with \"find\""
   ]
  },
  {
   "cell_type": "code",
   "execution_count": 13,
   "metadata": {},
   "outputs": [
    {
     "name": "stdout",
     "output_type": "stream",
     "text": [
      "<faq  xmlns:xsi=\"http://www.w3.org/2001/XMLSchema-instance\" ><question>I've finded a file and plotted it, but the graphs don't look like the figures in the paper.  Why?</question><answer><![CDATA[There can be several reasons for this.  One is file formatting.   Different developers and software packages use different data and file formats to present their interatomic potentials.</p>  <p>Even with the same file/data format, invariant transformations in the EAM format mean that different parameterizations of the interatomic potentials can look completely different but yield the same physical properties.  This is especially true for alloys.  The issue of invariant transformations is discussed in several places.  Among them are: </p> <UL> <LI>Y. Mishin, \"Interatomic potentials for metals,\" in <em>Handbook of Materials Modeling</em>, edited by S. Yip (Springer, Dordrect, The Netherlands, 2005), Chap. 2.2, pp. 459-478. <LI>A.E. Carlsson, \"Beyond pair potentials in elemental transition metals and semiconductors,\" in <em>Solid State Physics</em>, Volume 43, Ehrenreich and Turnbull (eds.) (1990). </UL> To compare different EAM interatomic potentials, the <em>effective pair format</em> should be used.]]></answer></faq>\n"
     ]
    }
   ],
   "source": [
    "new_content = record.xml_content.replace('download', 'find')\n",
    "print(new_content)"
   ]
  },
  {
   "cell_type": "code",
   "execution_count": 14,
   "metadata": {},
   "outputs": [
    {
     "name": "stdout",
     "output_type": "stream",
     "text": [
      "record testrecord2 (4885) has been updated.\n"
     ]
    }
   ],
   "source": [
    "curator.update_record(record=record, content=new_content, verbose=True)"
   ]
  },
  {
   "cell_type": "markdown",
   "metadata": {},
   "source": [
    "Retrieve the record again from the database showing nothing has changed except modification date and content"
   ]
  },
  {
   "cell_type": "code",
   "execution_count": 15,
   "metadata": {},
   "outputs": [
    {
     "name": "stdout",
     "output_type": "stream",
     "text": [
      "id                                                                     4885\n",
      "template                                                                 11\n",
      "workspace                                                                 1\n",
      "user_id                                                                   5\n",
      "title                                                           testrecord2\n",
      "xml_content               <faq  xmlns:xsi=\"http://www.w3.org/2001/XMLSch...\n",
      "checksum                                                               None\n",
      "creation_date                              2023-01-19 20:51:36.364217+00:00\n",
      "last_modification_date                     2023-01-19 20:51:39.051503+00:00\n",
      "last_change_date                           2023-01-19 20:51:39.057506+00:00\n",
      "Name: 0, dtype: object\n"
     ]
    }
   ],
   "source": [
    "record = curator.get_record(template=template, title='testrecord2')\n",
    "print(record)"
   ]
  },
  {
   "cell_type": "code",
   "execution_count": 16,
   "metadata": {},
   "outputs": [
    {
     "name": "stdout",
     "output_type": "stream",
     "text": [
      "<faq  xmlns:xsi=\"http://www.w3.org/2001/XMLSchema-instance\" ><question>I've finded a file and plotted it, but the graphs don't look like the figures in the paper.  Why?</question><answer><![CDATA[There can be several reasons for this.  One is file formatting.   Different developers and software packages use different data and file formats to present their interatomic potentials.</p>  <p>Even with the same file/data format, invariant transformations in the EAM format mean that different parameterizations of the interatomic potentials can look completely different but yield the same physical properties.  This is especially true for alloys.  The issue of invariant transformations is discussed in several places.  Among them are: </p> <UL> <LI>Y. Mishin, \"Interatomic potentials for metals,\" in <em>Handbook of Materials Modeling</em>, edited by S. Yip (Springer, Dordrect, The Netherlands, 2005), Chap. 2.2, pp. 459-478. <LI>A.E. Carlsson, \"Beyond pair potentials in elemental transition metals and semiconductors,\" in <em>Solid State Physics</em>, Volume 43, Ehrenreich and Turnbull (eds.) (1990). </UL> To compare different EAM interatomic potentials, the <em>effective pair format</em> should be used.]]></answer></faq>\n"
     ]
    }
   ],
   "source": [
    "print(record.xml_content)"
   ]
  },
  {
   "cell_type": "markdown",
   "metadata": {},
   "source": [
    "### 3.4. Assign records to a workspace\n",
    "\n",
    "The upload_record() and update_record() methods give the option to assign each record to a workspace if wanted.  After a record is added, the workspace can also be changed using the assign_records() method.\n",
    "\n",
    "Parameters\n",
    "\n",
    "- __workspace__ (*str or pandas.Series*) The workspace or workspace title to assign the records to.\n",
    "- __records__ (*pandas.Series or pandas.DataFrame, optional*) Pre-selected records to assign to the workspace.  Cannot be given with ids, template, or title.\n",
    "- __ids__ (*str or list, optional*) The ID(s) of the records to assign to the workspace.  Selecting records using ids has the least overhead. Cannot be given with records, template, or title.\n",
    "- __template__ (*str or pandas.Series, optional*) The template or template title of records to assign to the workspace.  Cannot be given with records or ids.\n",
    "- __title__ (*str, optional*) The title of a record to assign to the workspace. Cannot be given with records or ids.\n",
    "- __verbose__ (*bool, optional*) Setting this to True will print extra status messages.  Default value is False."
   ]
  },
  {
   "cell_type": "code",
   "execution_count": 17,
   "metadata": {},
   "outputs": [
    {
     "name": "stdout",
     "output_type": "stream",
     "text": [
      "record 4884 assigned to workspace 1\n"
     ]
    }
   ],
   "source": [
    "curator.assign_records(workspace='Global Public Workspace', title='testrecord1', template=template, verbose=True)"
   ]
  },
  {
   "cell_type": "markdown",
   "metadata": {},
   "source": [
    "### 3.5. Delete a record\n",
    "\n",
    "A record can also be deleted by the assigned user using the delete_record() method.\n",
    "\n",
    "Parameters\n",
    "\n",
    "- __record__ (*pandas.Series, optional*) A previously identified record to delete.  As this uniquely defines a record, the other parameters are ignored.\n",
    "- __template__ (*str or pandas.Series, optional*) The template or template title associated with the record.  template + title values must uniquely identify one record.\n",
    "- __title__ (*str, optional*) Title of the record to delete.  template + title values must uniquely identify one record.\n",
    "- __verbose__ (*bool, optional*) Setting this to True will print extra status messages.  Default value is False."
   ]
  },
  {
   "cell_type": "code",
   "execution_count": 18,
   "metadata": {},
   "outputs": [
    {
     "name": "stdout",
     "output_type": "stream",
     "text": [
      "record testrecord1 (4884) has been deleted.\n"
     ]
    }
   ],
   "source": [
    "# Delete by identifying with title + template\n",
    "curator.delete_record(title='testrecord1', template=template, verbose=True)"
   ]
  },
  {
   "cell_type": "code",
   "execution_count": 19,
   "metadata": {},
   "outputs": [
    {
     "name": "stdout",
     "output_type": "stream",
     "text": [
      "record testrecord2 (4885) has been deleted.\n"
     ]
    }
   ],
   "source": [
    "# Get a record first\n",
    "record = curator.get_record(title='testrecord2', template=template)\n",
    "\n",
    "# Delete by passing Series\n",
    "curator.delete_record(record, verbose=True)"
   ]
  },
  {
   "cell_type": "markdown",
   "metadata": {},
   "source": [
    "## 4. Manage blobs (raw files)\n",
    "\n",
    "The database can also store any non-record files as blob files that can later be retrieved and downloaded all at once."
   ]
  },
  {
   "cell_type": "markdown",
   "metadata": {},
   "source": [
    "Create blob file for testing"
   ]
  },
  {
   "cell_type": "code",
   "execution_count": 20,
   "metadata": {},
   "outputs": [],
   "source": [
    "filename = 'test_blob.txt'\n",
    "\n",
    "with open(filename, 'w') as f:\n",
    "    f.write('This is my blob for testing')"
   ]
  },
  {
   "cell_type": "markdown",
   "metadata": {},
   "source": [
    "### 4.1. Upload blob\n",
    "\n",
    "Blobs can be added to the database using the upload_blob() method.  When a record is uploaded, it will be associated with the given filename (minus the path).\n",
    "\n",
    "Parameters\n",
    "\n",
    "- __filename__ (*str or Path*) The path/name of the file to upload.\n",
    "- __blobbytes__ (*bytesIO, optional*) Pre-loaded file contents.  Allows for the contents of open file-like objects to be passed in and associated with the filename.  If not given, then the file filename will be read instead.\n",
    "- __workspace__ (*str or pandas.Series, optional*) If given, the blob will be assigned to this workspace after successfully being uploaded.\n",
    "- __verbose__ (*bool, optional*) Setting this to True will print extra status messages.  Default value is False.\n",
    "\n",
    "Returns\n",
    "\n",
    "- __handle__ (*str*) The URL that can be used to retrieve the blob's contents."
   ]
  },
  {
   "cell_type": "code",
   "execution_count": 21,
   "metadata": {},
   "outputs": [
    {
     "name": "stdout",
     "output_type": "stream",
     "text": [
      "File \"test_blob.txt\" uploaded as blob \"test_blob.txt\" (3)\n",
      "https://test-potentials.nist.gov/rest/blob/download/3/\n"
     ]
    }
   ],
   "source": [
    "handle = curator.upload_blob(filename=filename, verbose=True)\n",
    "print(handle)"
   ]
  },
  {
   "cell_type": "markdown",
   "metadata": {},
   "source": [
    "### 4.2 Find blob metadata\n",
    "\n",
    "The list of all blobs currently in the database, or all with an associated filename can be explored with the get_blobs() method.\n",
    "\n",
    "Parameters\n",
    "\n",
    "- __filename__ (*str, optional*) The name of the file to limit the search by.\n",
    "\n",
    "A single blob can also be retrieved using the get_blob() method based on a filename, if it is unique in the database, or a database id.\n",
    "\n",
    "Parameters\n",
    "\n",
    "- __id__ (*str, optional*) The unique ID associated with the blob. Cannot be combined with filename\n",
    "- __filename__ (*str, optional*) The name of the file to limit the search by, which must be unique.  Cannot be combined with id.\n",
    "\n",
    "__NOTE__: Exploring blob metadata appears to behave differently for some versions of CDCS, with the filename searches only showing blobs that the user owns, while id searches shows any blobs available to the user, either by being owned or in an available workspace.\n",
    "\n",
    "- Identifying by filename only works for user blobs\n",
    "- Identifying by id works for all blobs available to you (user + allowed workspaces)"
   ]
  },
  {
   "cell_type": "code",
   "execution_count": 22,
   "metadata": {},
   "outputs": [
    {
     "data": {
      "text/html": [
       "<div>\n",
       "<style scoped>\n",
       "    .dataframe tbody tr th:only-of-type {\n",
       "        vertical-align: middle;\n",
       "    }\n",
       "\n",
       "    .dataframe tbody tr th {\n",
       "        vertical-align: top;\n",
       "    }\n",
       "\n",
       "    .dataframe thead th {\n",
       "        text-align: right;\n",
       "    }\n",
       "</style>\n",
       "<table border=\"1\" class=\"dataframe\">\n",
       "  <thead>\n",
       "    <tr style=\"text-align: right;\">\n",
       "      <th></th>\n",
       "      <th>id</th>\n",
       "      <th>user_id</th>\n",
       "      <th>filename</th>\n",
       "      <th>handle</th>\n",
       "      <th>blob</th>\n",
       "      <th>checksum</th>\n",
       "      <th>upload_date</th>\n",
       "      <th>pid</th>\n",
       "    </tr>\n",
       "  </thead>\n",
       "  <tbody>\n",
       "    <tr>\n",
       "      <th>0</th>\n",
       "      <td>3</td>\n",
       "      <td>5</td>\n",
       "      <td>test_blob.txt</td>\n",
       "      <td>https://test-potentials.nist.gov/rest/blob/dow...</td>\n",
       "      <td>https://test-potentials.nist.gov/rest/blob/use...</td>\n",
       "      <td>None</td>\n",
       "      <td>2023-01-19 20:51:44.108819+00:00</td>\n",
       "      <td>None</td>\n",
       "    </tr>\n",
       "  </tbody>\n",
       "</table>\n",
       "</div>"
      ],
      "text/plain": [
       "   id user_id       filename  \\\n",
       "0   3       5  test_blob.txt   \n",
       "\n",
       "                                              handle  \\\n",
       "0  https://test-potentials.nist.gov/rest/blob/dow...   \n",
       "\n",
       "                                                blob checksum  \\\n",
       "0  https://test-potentials.nist.gov/rest/blob/use...     None   \n",
       "\n",
       "                       upload_date   pid  \n",
       "0 2023-01-19 20:51:44.108819+00:00  None  "
      ]
     },
     "execution_count": 22,
     "metadata": {},
     "output_type": "execute_result"
    }
   ],
   "source": [
    "curator.get_blobs()"
   ]
  },
  {
   "cell_type": "code",
   "execution_count": 23,
   "metadata": {},
   "outputs": [
    {
     "name": "stdout",
     "output_type": "stream",
     "text": [
      "id                                                             3\n",
      "user_id                                                        5\n",
      "filename                                           test_blob.txt\n",
      "handle         https://test-potentials.nist.gov/rest/blob/dow...\n",
      "blob           https://test-potentials.nist.gov/rest/blob/use...\n",
      "checksum                                                    None\n",
      "upload_date                     2023-01-19 20:51:44.108819+00:00\n",
      "pid                                                         None\n",
      "Name: 0, dtype: object\n"
     ]
    }
   ],
   "source": [
    "blobdata = curator.get_blob(filename=filename)\n",
    "print(blobdata)"
   ]
  },
  {
   "cell_type": "code",
   "execution_count": 24,
   "metadata": {},
   "outputs": [
    {
     "data": {
      "text/plain": [
       "id                                                             3\n",
       "user_id                                                        5\n",
       "filename                                           test_blob.txt\n",
       "handle         https://test-potentials.nist.gov/rest/blob/dow...\n",
       "blob           https://test-potentials.nist.gov/rest/blob/3/u...\n",
       "checksum                                                    None\n",
       "upload_date                     2023-01-19 20:51:44.108819+00:00\n",
       "pid                                                         None\n",
       "dtype: object"
      ]
     },
     "execution_count": 24,
     "metadata": {},
     "output_type": "execute_result"
    }
   ],
   "source": [
    "curator.get_blob(id=blobdata.id)"
   ]
  },
  {
   "cell_type": "markdown",
   "metadata": {},
   "source": [
    "### 4.3 Retrieve blob contents\n",
    "\n",
    "The contents of a blob can then be retrieved using the get_blob_contents() method.\n",
    "\n",
    "Paramters\n",
    "\n",
    "- __blob__ (*pandas.Series, optional*) The blob metadata for a blob, as recieved from get_blobs() or get_blob().  Cannot be combined with id or filename.\n",
    "- __id__ (*str, optional*) The unique ID associated with the blob. Cannot be combined with blob or filename.\n",
    "- __filename__ (*str, optional*) The name of the file to limit the search by, which must be unique.  Cannot be combined with blob or id.\n",
    "\n",
    "Returns\n",
    "\n",
    "- __content__ (*bytes*) The blob's bytes contents."
   ]
  },
  {
   "cell_type": "code",
   "execution_count": 25,
   "metadata": {},
   "outputs": [
    {
     "name": "stdout",
     "output_type": "stream",
     "text": [
      "b'This is my blob for testing'\n"
     ]
    }
   ],
   "source": [
    "print(curator.get_blob_contents(filename=filename))"
   ]
  },
  {
   "cell_type": "markdown",
   "metadata": {},
   "source": [
    "Alternatively, the blob can be saved directly to a local file based on its associated filename with the download_blob() method.\n",
    "\n",
    "Parameters\n",
    "\n",
    "- __blob__ (*pandas.Series, optional*) The blob metadata for a blob, as recieved from get_blobs() or get_blob().  Cannot be combined with id or filename.\n",
    "- __id__ (*str, optional*) The unique ID associated with the blob. Cannot be combined with blob or filename.\n",
    "- __filename__ (*str, optional*) The name of the file to limit the search by, which must be unique.  Cannot be combined with blob or id.\n",
    "- __savedir__ (*str or Path, optional*) The directory to save the file to.  Default value uses the current working directory."
   ]
  },
  {
   "cell_type": "code",
   "execution_count": 26,
   "metadata": {},
   "outputs": [],
   "source": [
    "curator.download_blob(filename=filename)"
   ]
  },
  {
   "cell_type": "markdown",
   "metadata": {},
   "source": [
    "### 4.4. Assign blobs to a workspace\n",
    "\n",
    "Just like records, blobs can also be assigned to workspaces.  This can be done during uploading, or it can be done after uploading using the assign_blobs() method.\n",
    "\n",
    "- __workspace__ (*str or pandas.Series*) The workspace or workspace title to assign the blobs to.\n",
    "- __blobs__ (*pandas.Series or pandas.DataFrame, optional*) Pre-selected blobs to assign to the workspace.  Cannot be given with ids or filename.\n",
    "- __ids__ (*str or list, optional*) The ID(s) of the blobs to assign to the workspace.  Selecting blobs using ids has the least overhead. Cannot be given with blobs or filename.\n",
    "- __filename__ (*str, optional*) The name of the blob file to assign to the workspace.  Cannot be given with blobs or ids.\n",
    "- __verbose__ (*bool, optional*) Setting this to True will print extra status messages.  Default value is False."
   ]
  },
  {
   "cell_type": "code",
   "execution_count": 27,
   "metadata": {},
   "outputs": [
    {
     "name": "stdout",
     "output_type": "stream",
     "text": [
      "blob 3 assigned to workspace 1\n"
     ]
    }
   ],
   "source": [
    "curator.assign_blobs(workspace='Global Public Workspace', filename=filename, verbose=True)"
   ]
  },
  {
   "cell_type": "markdown",
   "metadata": {},
   "source": [
    "### 4.5. Delete blob\n",
    "\n",
    "Finally, blobs can also be deleted using the delete_blob() method.\n",
    "\n",
    "- __blob__ (*pandas.Series, optional*) The blob metadata for a blob, as recieved from get_blobs() or get_blob().  Cannot be combined with id or filename.\n",
    "- __id__ (*str, optional*) The unique ID associated with the blob. Cannot be combined with blob or filename.\n",
    "- __filename__ (*str, optional*) The name of the file to limit the search by, which must be unique.  Cannot be combined with blob or id.\n",
    "- __verbose__ (*bool, optional*) Setting this to True will print extra status messages.  Default value is False."
   ]
  },
  {
   "cell_type": "code",
   "execution_count": 28,
   "metadata": {},
   "outputs": [
    {
     "name": "stdout",
     "output_type": "stream",
     "text": [
      "Successfully deleted blob \"test_blob.txt\" (3)\n"
     ]
    }
   ],
   "source": [
    "curator.delete_blob(filename=filename, verbose=True)"
   ]
  },
  {
   "cell_type": "code",
   "execution_count": 29,
   "metadata": {},
   "outputs": [],
   "source": [
    "Path(filename).unlink()"
   ]
  },
  {
   "cell_type": "markdown",
   "metadata": {},
   "source": [
    "## 5. Managing workspaces\n",
    "\n",
    "Workspaces are used to manage access to content stored in a CDCS database. Records and blobs can be assigned to a workspace, then access control is set at the workspace level to all associated content.  The workspace assignment typically falls into three categories:\n",
    "\n",
    "1. Content not assigned to a workspace will only be accessible to the user who created it.\n",
    "2. Content assigned to the \"Global Public Workspace\" can be accessible to anyone who has read access to the database.\n",
    "3. Alternate workspaces can be used to limit access to some content for only specific users."
   ]
  },
  {
   "cell_type": "markdown",
   "metadata": {},
   "source": [
    "### 5.1. Finding workspace metadata\n",
    "\n",
    "Metadata for the available workspaces can be explored using the get_workspaces() and get_workspace() methods.\n",
    "\n",
    "Parameters\n",
    "\n",
    "title: (str, optional) The workspace title to limit the search by."
   ]
  },
  {
   "cell_type": "code",
   "execution_count": 30,
   "metadata": {},
   "outputs": [
    {
     "data": {
      "text/html": [
       "<div>\n",
       "<style scoped>\n",
       "    .dataframe tbody tr th:only-of-type {\n",
       "        vertical-align: middle;\n",
       "    }\n",
       "\n",
       "    .dataframe tbody tr th {\n",
       "        vertical-align: top;\n",
       "    }\n",
       "\n",
       "    .dataframe thead th {\n",
       "        text-align: right;\n",
       "    }\n",
       "</style>\n",
       "<table border=\"1\" class=\"dataframe\">\n",
       "  <thead>\n",
       "    <tr style=\"text-align: right;\">\n",
       "      <th></th>\n",
       "      <th>id</th>\n",
       "      <th>title</th>\n",
       "      <th>owner</th>\n",
       "      <th>is_public</th>\n",
       "    </tr>\n",
       "  </thead>\n",
       "  <tbody>\n",
       "    <tr>\n",
       "      <th>0</th>\n",
       "      <td>1</td>\n",
       "      <td>Global Public Workspace</td>\n",
       "      <td>None</td>\n",
       "      <td>True</td>\n",
       "    </tr>\n",
       "  </tbody>\n",
       "</table>\n",
       "</div>"
      ],
      "text/plain": [
       "   id                    title owner  is_public\n",
       "0   1  Global Public Workspace  None       True"
      ]
     },
     "execution_count": 30,
     "metadata": {},
     "output_type": "execute_result"
    }
   ],
   "source": [
    "curator.get_workspaces()"
   ]
  },
  {
   "cell_type": "code",
   "execution_count": 31,
   "metadata": {},
   "outputs": [
    {
     "data": {
      "text/plain": [
       "id                                 1\n",
       "title        Global Public Workspace\n",
       "owner                           None\n",
       "is_public                       True\n",
       "Name: 0, dtype: object"
      ]
     },
     "execution_count": 31,
     "metadata": {},
     "output_type": "execute_result"
    }
   ],
   "source": [
    "curator.get_workspace(title='Global Public Workspace')"
   ]
  },
  {
   "cell_type": "markdown",
   "metadata": {},
   "source": [
    "The attribute global_workspace also retrieves the Global Public Workspace "
   ]
  },
  {
   "cell_type": "code",
   "execution_count": 32,
   "metadata": {},
   "outputs": [
    {
     "name": "stdout",
     "output_type": "stream",
     "text": [
      "id                                 1\n",
      "title        Global Public Workspace\n",
      "owner                           None\n",
      "is_public                       True\n",
      "Name: 0, dtype: object\n"
     ]
    }
   ],
   "source": [
    "workspace = curator.global_workspace\n",
    "print(workspace)"
   ]
  },
  {
   "cell_type": "markdown",
   "metadata": {},
   "source": [
    "## 6. Managing templates\n",
    "\n",
    "Templates are used to categorize the types of records that a database stores and to validate uploaded record contents against a schema.  Templates are managed differently than other types of CDCS content in that they are version controlled; changes to template contents do not overwrite the current contents but rather get uploaded as a new template version.  Separate entries called template managers then specify which template versions exist, are active/disabled, and which version is the current version. "
   ]
  },
  {
   "cell_type": "markdown",
   "metadata": {},
   "source": [
    "### 6.1. Finding template metadata\n",
    "\n",
    "A list of all available templates can be retrieved using the template_titles attribute."
   ]
  },
  {
   "cell_type": "code",
   "execution_count": 33,
   "metadata": {},
   "outputs": [
    {
     "data": {
      "text/plain": [
       "['Action',\n",
       " 'calculation_bond_angle_scan',\n",
       " 'calculation_diatom_scan',\n",
       " 'stacking_fault',\n",
       " 'Request',\n",
       " 'PotentialProperties',\n",
       " 'potential_LAMMPS_KIM',\n",
       " 'potential_LAMMPS',\n",
       " 'Potential',\n",
       " 'free_surface',\n",
       " 'FAQ',\n",
       " 'crystal_prototype',\n",
       " 'Citation',\n",
       " 'calculation_isolated_atom',\n",
       " 'relaxed_crystal']"
      ]
     },
     "execution_count": 33,
     "metadata": {},
     "output_type": "execute_result"
    }
   ],
   "source": [
    "curator.template_titles"
   ]
  },
  {
   "cell_type": "markdown",
   "metadata": {},
   "source": [
    "Metadata for the available templates can be explored using the get_templates() and get_template() methods.\n",
    "\n",
    "Parameters\n",
    "\n",
    "- __title__ (*str, optional*): The template title to limit the search by.\n",
    "- __is_disabled__ (*bool, optional*): If True, then disabled templates will be returned.  If False (default), then active templates will be returned.\n",
    "- __current__ (bool, optional*): If True (default), only current template versions will be returned.\n",
    "- __useronly__ (*bool, optional*): If True, only a user's templates are returned. If False (default), then all global templates are returned."
   ]
  },
  {
   "cell_type": "code",
   "execution_count": 34,
   "metadata": {},
   "outputs": [
    {
     "data": {
      "text/html": [
       "<div>\n",
       "<style scoped>\n",
       "    .dataframe tbody tr th:only-of-type {\n",
       "        vertical-align: middle;\n",
       "    }\n",
       "\n",
       "    .dataframe tbody tr th {\n",
       "        vertical-align: top;\n",
       "    }\n",
       "\n",
       "    .dataframe thead th {\n",
       "        text-align: right;\n",
       "    }\n",
       "</style>\n",
       "<table border=\"1\" class=\"dataframe\">\n",
       "  <thead>\n",
       "    <tr style=\"text-align: right;\">\n",
       "      <th></th>\n",
       "      <th>id</th>\n",
       "      <th>user</th>\n",
       "      <th>filename</th>\n",
       "      <th>checksum</th>\n",
       "      <th>content</th>\n",
       "      <th>hash</th>\n",
       "      <th>dependencies</th>\n",
       "      <th>title</th>\n",
       "    </tr>\n",
       "  </thead>\n",
       "  <tbody>\n",
       "    <tr>\n",
       "      <th>0</th>\n",
       "      <td>1</td>\n",
       "      <td>None</td>\n",
       "      <td>record-interatomic-potential-action.xsd</td>\n",
       "      <td>None</td>\n",
       "      <td>&lt;?xml version=\"1.0\" encoding=\"UTF-8\" standalon...</td>\n",
       "      <td>f1c3de8a64553d81bd10cfc0cb24dd3cc129c710</td>\n",
       "      <td>[]</td>\n",
       "      <td>Action</td>\n",
       "    </tr>\n",
       "    <tr>\n",
       "      <th>1</th>\n",
       "      <td>2</td>\n",
       "      <td>None</td>\n",
       "      <td>record-calculation-bond-angle-scan.xsd</td>\n",
       "      <td>None</td>\n",
       "      <td>&lt;?xml version=\"1.0\" encoding=\"UTF-8\" standalon...</td>\n",
       "      <td>16a76faca187dea47c6089707cd377eb4163ac7b</td>\n",
       "      <td>[]</td>\n",
       "      <td>calculation_bond_angle_scan</td>\n",
       "    </tr>\n",
       "    <tr>\n",
       "      <th>2</th>\n",
       "      <td>3</td>\n",
       "      <td>None</td>\n",
       "      <td>record-calculation-diatom-scan.xsd</td>\n",
       "      <td>None</td>\n",
       "      <td>&lt;?xml version=\"1.0\" encoding=\"UTF-8\" standalon...</td>\n",
       "      <td>46ce4c17314f9aeb3f5bb14642baf42e3da3d1e2</td>\n",
       "      <td>[]</td>\n",
       "      <td>calculation_diatom_scan</td>\n",
       "    </tr>\n",
       "    <tr>\n",
       "      <th>3</th>\n",
       "      <td>4</td>\n",
       "      <td>None</td>\n",
       "      <td>record-stacking-fault.xsd</td>\n",
       "      <td>None</td>\n",
       "      <td>&lt;?xml version=\"1.0\"?&gt;\\n&lt;xsd:schema xmlns:xsd=\"...</td>\n",
       "      <td>aaa696ec7723f68e5be8280c8cafab69e08cf3f3</td>\n",
       "      <td>[]</td>\n",
       "      <td>stacking_fault</td>\n",
       "    </tr>\n",
       "    <tr>\n",
       "      <th>4</th>\n",
       "      <td>5</td>\n",
       "      <td>None</td>\n",
       "      <td>Request3</td>\n",
       "      <td>None</td>\n",
       "      <td>&lt;xsd:schema xmlns:xsd=\"http://www.w3.org/2001/...</td>\n",
       "      <td>d108bacceb44a2789544ade71018b7f5ceacca1b</td>\n",
       "      <td>[]</td>\n",
       "      <td>Request</td>\n",
       "    </tr>\n",
       "    <tr>\n",
       "      <th>5</th>\n",
       "      <td>6</td>\n",
       "      <td>None</td>\n",
       "      <td>record-per-potential-properties.xsd</td>\n",
       "      <td>None</td>\n",
       "      <td>&lt;?xml version=\"1.0\" encoding=\"UTF-8\" standalon...</td>\n",
       "      <td>ea7eeed57e0cea9b15dbda4b32c08266201a7e5a</td>\n",
       "      <td>[]</td>\n",
       "      <td>PotentialProperties</td>\n",
       "    </tr>\n",
       "    <tr>\n",
       "      <th>6</th>\n",
       "      <td>7</td>\n",
       "      <td>None</td>\n",
       "      <td>potential-LAMMPS-KIM.xsd</td>\n",
       "      <td>None</td>\n",
       "      <td>&lt;?xml version=\"1.0\" encoding=\"UTF-8\" standalon...</td>\n",
       "      <td>1e331780cdb7d3382474e91844e5f4b95b12f1fa</td>\n",
       "      <td>[]</td>\n",
       "      <td>potential_LAMMPS_KIM</td>\n",
       "    </tr>\n",
       "    <tr>\n",
       "      <th>7</th>\n",
       "      <td>8</td>\n",
       "      <td>None</td>\n",
       "      <td>potential_LAMMPS.xsd</td>\n",
       "      <td>None</td>\n",
       "      <td>&lt;?xml version=\"1.0\"?&gt;\\r\\n&lt;xsd:schema xmlns:xsd...</td>\n",
       "      <td>2881ca54c5f3fe29ee36b06308f98e9901e8c8fd</td>\n",
       "      <td>[]</td>\n",
       "      <td>potential_LAMMPS</td>\n",
       "    </tr>\n",
       "    <tr>\n",
       "      <th>8</th>\n",
       "      <td>9</td>\n",
       "      <td>None</td>\n",
       "      <td>Potential4.xsd</td>\n",
       "      <td>None</td>\n",
       "      <td>&lt;?xml version=\"1.0\" encoding=\"UTF-8\" standalon...</td>\n",
       "      <td>c35b164c2947bdab2c6dd8566f84584a4a3eef7f</td>\n",
       "      <td>[]</td>\n",
       "      <td>Potential</td>\n",
       "    </tr>\n",
       "    <tr>\n",
       "      <th>9</th>\n",
       "      <td>10</td>\n",
       "      <td>None</td>\n",
       "      <td>record-free-surface.xsd</td>\n",
       "      <td>None</td>\n",
       "      <td>&lt;?xml version=\"1.0\"?&gt;\\r\\n&lt;xsd:schema xmlns:xsd...</td>\n",
       "      <td>8d2ff690d7e5558b851769f75bad8d90af47102d</td>\n",
       "      <td>[]</td>\n",
       "      <td>free_surface</td>\n",
       "    </tr>\n",
       "    <tr>\n",
       "      <th>10</th>\n",
       "      <td>11</td>\n",
       "      <td>None</td>\n",
       "      <td>record-interatomic-potential-faq.xsd</td>\n",
       "      <td>None</td>\n",
       "      <td>&lt;?xml version=\"1.0\" encoding=\"UTF-8\" standalon...</td>\n",
       "      <td>2dc0be555da041f782a7435c377ea7a20f28d3cd</td>\n",
       "      <td>[]</td>\n",
       "      <td>FAQ</td>\n",
       "    </tr>\n",
       "    <tr>\n",
       "      <th>11</th>\n",
       "      <td>12</td>\n",
       "      <td>None</td>\n",
       "      <td>crystal_prototype.xsd</td>\n",
       "      <td>None</td>\n",
       "      <td>&lt;?xml version=\"1.0\"?&gt;\\r\\n&lt;xsd:schema xmlns:xsd...</td>\n",
       "      <td>c270b1e6186a7d0a34489596781e02af1b80d006</td>\n",
       "      <td>[]</td>\n",
       "      <td>crystal_prototype</td>\n",
       "    </tr>\n",
       "    <tr>\n",
       "      <th>12</th>\n",
       "      <td>13</td>\n",
       "      <td>None</td>\n",
       "      <td>record-interatomic-potential-citation.xsd</td>\n",
       "      <td>None</td>\n",
       "      <td>&lt;?xml version=\"1.0\" encoding=\"UTF-8\" standalon...</td>\n",
       "      <td>893099854c8ac392bad133ce71ac34f60407ab6f</td>\n",
       "      <td>[]</td>\n",
       "      <td>Citation</td>\n",
       "    </tr>\n",
       "    <tr>\n",
       "      <th>13</th>\n",
       "      <td>14</td>\n",
       "      <td>None</td>\n",
       "      <td>record-calculation-isolated-atom.xsd</td>\n",
       "      <td>None</td>\n",
       "      <td>&lt;?xml version=\"1.0\" encoding=\"UTF-8\" standalon...</td>\n",
       "      <td>30ae52b99037d58b23f83b314543761acc1f07a3</td>\n",
       "      <td>[]</td>\n",
       "      <td>calculation_isolated_atom</td>\n",
       "    </tr>\n",
       "    <tr>\n",
       "      <th>14</th>\n",
       "      <td>15</td>\n",
       "      <td>None</td>\n",
       "      <td>relaxed_crystal.xsd</td>\n",
       "      <td>None</td>\n",
       "      <td>&lt;?xml version=\"1.0\"?&gt;\\r\\n&lt;xsd:schema xmlns:xsd...</td>\n",
       "      <td>7272f1b29fc122c429976cc2436beab0c9e8f9fb</td>\n",
       "      <td>[]</td>\n",
       "      <td>relaxed_crystal</td>\n",
       "    </tr>\n",
       "  </tbody>\n",
       "</table>\n",
       "</div>"
      ],
      "text/plain": [
       "    id  user                                   filename checksum  \\\n",
       "0    1  None    record-interatomic-potential-action.xsd     None   \n",
       "1    2  None     record-calculation-bond-angle-scan.xsd     None   \n",
       "2    3  None         record-calculation-diatom-scan.xsd     None   \n",
       "3    4  None                  record-stacking-fault.xsd     None   \n",
       "4    5  None                                   Request3     None   \n",
       "5    6  None        record-per-potential-properties.xsd     None   \n",
       "6    7  None                   potential-LAMMPS-KIM.xsd     None   \n",
       "7    8  None                       potential_LAMMPS.xsd     None   \n",
       "8    9  None                             Potential4.xsd     None   \n",
       "9   10  None                    record-free-surface.xsd     None   \n",
       "10  11  None       record-interatomic-potential-faq.xsd     None   \n",
       "11  12  None                      crystal_prototype.xsd     None   \n",
       "12  13  None  record-interatomic-potential-citation.xsd     None   \n",
       "13  14  None       record-calculation-isolated-atom.xsd     None   \n",
       "14  15  None                        relaxed_crystal.xsd     None   \n",
       "\n",
       "                                              content  \\\n",
       "0   <?xml version=\"1.0\" encoding=\"UTF-8\" standalon...   \n",
       "1   <?xml version=\"1.0\" encoding=\"UTF-8\" standalon...   \n",
       "2   <?xml version=\"1.0\" encoding=\"UTF-8\" standalon...   \n",
       "3   <?xml version=\"1.0\"?>\\n<xsd:schema xmlns:xsd=\"...   \n",
       "4   <xsd:schema xmlns:xsd=\"http://www.w3.org/2001/...   \n",
       "5   <?xml version=\"1.0\" encoding=\"UTF-8\" standalon...   \n",
       "6   <?xml version=\"1.0\" encoding=\"UTF-8\" standalon...   \n",
       "7   <?xml version=\"1.0\"?>\\r\\n<xsd:schema xmlns:xsd...   \n",
       "8   <?xml version=\"1.0\" encoding=\"UTF-8\" standalon...   \n",
       "9   <?xml version=\"1.0\"?>\\r\\n<xsd:schema xmlns:xsd...   \n",
       "10  <?xml version=\"1.0\" encoding=\"UTF-8\" standalon...   \n",
       "11  <?xml version=\"1.0\"?>\\r\\n<xsd:schema xmlns:xsd...   \n",
       "12  <?xml version=\"1.0\" encoding=\"UTF-8\" standalon...   \n",
       "13  <?xml version=\"1.0\" encoding=\"UTF-8\" standalon...   \n",
       "14  <?xml version=\"1.0\"?>\\r\\n<xsd:schema xmlns:xsd...   \n",
       "\n",
       "                                        hash dependencies  \\\n",
       "0   f1c3de8a64553d81bd10cfc0cb24dd3cc129c710           []   \n",
       "1   16a76faca187dea47c6089707cd377eb4163ac7b           []   \n",
       "2   46ce4c17314f9aeb3f5bb14642baf42e3da3d1e2           []   \n",
       "3   aaa696ec7723f68e5be8280c8cafab69e08cf3f3           []   \n",
       "4   d108bacceb44a2789544ade71018b7f5ceacca1b           []   \n",
       "5   ea7eeed57e0cea9b15dbda4b32c08266201a7e5a           []   \n",
       "6   1e331780cdb7d3382474e91844e5f4b95b12f1fa           []   \n",
       "7   2881ca54c5f3fe29ee36b06308f98e9901e8c8fd           []   \n",
       "8   c35b164c2947bdab2c6dd8566f84584a4a3eef7f           []   \n",
       "9   8d2ff690d7e5558b851769f75bad8d90af47102d           []   \n",
       "10  2dc0be555da041f782a7435c377ea7a20f28d3cd           []   \n",
       "11  c270b1e6186a7d0a34489596781e02af1b80d006           []   \n",
       "12  893099854c8ac392bad133ce71ac34f60407ab6f           []   \n",
       "13  30ae52b99037d58b23f83b314543761acc1f07a3           []   \n",
       "14  7272f1b29fc122c429976cc2436beab0c9e8f9fb           []   \n",
       "\n",
       "                          title  \n",
       "0                        Action  \n",
       "1   calculation_bond_angle_scan  \n",
       "2       calculation_diatom_scan  \n",
       "3                stacking_fault  \n",
       "4                       Request  \n",
       "5           PotentialProperties  \n",
       "6          potential_LAMMPS_KIM  \n",
       "7              potential_LAMMPS  \n",
       "8                     Potential  \n",
       "9                  free_surface  \n",
       "10                          FAQ  \n",
       "11            crystal_prototype  \n",
       "12                     Citation  \n",
       "13    calculation_isolated_atom  \n",
       "14              relaxed_crystal  "
      ]
     },
     "execution_count": 34,
     "metadata": {},
     "output_type": "execute_result"
    }
   ],
   "source": [
    "curator.get_templates()"
   ]
  },
  {
   "cell_type": "code",
   "execution_count": 35,
   "metadata": {},
   "outputs": [
    {
     "data": {
      "text/plain": [
       "id                                                             13\n",
       "user                                                         None\n",
       "filename                record-interatomic-potential-citation.xsd\n",
       "checksum                                                     None\n",
       "content         <?xml version=\"1.0\" encoding=\"UTF-8\" standalon...\n",
       "hash                     893099854c8ac392bad133ce71ac34f60407ab6f\n",
       "dependencies                                                   []\n",
       "title                                                    Citation\n",
       "Name: 0, dtype: object"
      ]
     },
     "execution_count": 35,
     "metadata": {},
     "output_type": "execute_result"
    }
   ],
   "source": [
    "curator.get_template('Citation')"
   ]
  },
  {
   "cell_type": "markdown",
   "metadata": {},
   "source": [
    "The get_template_managers() method fetches metadata associated with the various versions of templates in the database. \n",
    "\n",
    "Parameters\n",
    "\n",
    "- __title__ (*str, optional*) The template title to limit the search by.\n",
    "- __is_disabled__ (*bool, optional*) If True, then disabled templates will be returned.  If False (default), then active templates will bereturned.\n",
    "- __useronly__ (*bool, optional*) If True, only a user's templates are returned. If False (default), then all global templates arereturned."
   ]
  },
  {
   "cell_type": "code",
   "execution_count": 36,
   "metadata": {},
   "outputs": [
    {
     "data": {
      "text/html": [
       "<div>\n",
       "<style scoped>\n",
       "    .dataframe tbody tr th:only-of-type {\n",
       "        vertical-align: middle;\n",
       "    }\n",
       "\n",
       "    .dataframe tbody tr th {\n",
       "        vertical-align: top;\n",
       "    }\n",
       "\n",
       "    .dataframe thead th {\n",
       "        text-align: right;\n",
       "    }\n",
       "</style>\n",
       "<table border=\"1\" class=\"dataframe\">\n",
       "  <thead>\n",
       "    <tr style=\"text-align: right;\">\n",
       "      <th></th>\n",
       "      <th>id</th>\n",
       "      <th>versions</th>\n",
       "      <th>current</th>\n",
       "      <th>disabled_versions</th>\n",
       "      <th>title</th>\n",
       "      <th>user</th>\n",
       "      <th>is_disabled</th>\n",
       "      <th>_cls</th>\n",
       "      <th>creation_date</th>\n",
       "    </tr>\n",
       "  </thead>\n",
       "  <tbody>\n",
       "    <tr>\n",
       "      <th>0</th>\n",
       "      <td>13</td>\n",
       "      <td>[13]</td>\n",
       "      <td>13</td>\n",
       "      <td>[]</td>\n",
       "      <td>Citation</td>\n",
       "      <td>None</td>\n",
       "      <td>False</td>\n",
       "      <td>VersionManager.TemplateVersionManager</td>\n",
       "      <td>2022-11-10T15:01:36.345654Z</td>\n",
       "    </tr>\n",
       "  </tbody>\n",
       "</table>\n",
       "</div>"
      ],
      "text/plain": [
       "   id versions current disabled_versions     title  user  is_disabled  \\\n",
       "0  13     [13]      13                []  Citation  None        False   \n",
       "\n",
       "                                    _cls                creation_date  \n",
       "0  VersionManager.TemplateVersionManager  2022-11-10T15:01:36.345654Z  "
      ]
     },
     "execution_count": 36,
     "metadata": {},
     "output_type": "execute_result"
    }
   ],
   "source": [
    "curator.get_template_managers('Citation')"
   ]
  },
  {
   "cell_type": "markdown",
   "metadata": {},
   "source": [
    "### 6.2. Adding and modifying templates\n",
    "\n",
    "__NOTE__: The upload and update operations for templates differ from other types of CDCS contents due to the template version control system.  Notably, the content associated with an uploaded template cannot be modified or replaced, simply new versions uploaded and managed."
   ]
  },
  {
   "cell_type": "markdown",
   "metadata": {},
   "source": [
    "New templates can be added using upload_template(). This will create a template manager for the template title as well as the first version of that template.\n",
    "\n",
    "Parameters\n",
    "\n",
    "- __filename__ (*str, optional*) Name of the XSD schema file to upload for the template.  Optional if title is given (filename will be taken as \"title\".xsd).\n",
    "- __content__ (*str or bytes, optional*) String contents of an XSD schema file to upload for the template.  Optional if filename is given as a full path to the XSD file.\n",
    "- __title__ (*str, optional*) Title to save the template as.  Optional if filename is given (title will be taken as filename without ext).\n",
    "- __useronly__ (*bool, optional*) If True, the template will be associated only with the user. If False (default), it will be made a global template.\n",
    "- __verbose__ (*bool, optional*) Setting this to True will print extra status messages.  Default value is False."
   ]
  },
  {
   "cell_type": "markdown",
   "metadata": {},
   "source": [
    "Calling update_template() will create a new version of a template and associate it with an existing template title.  Options allow for some automatic version management of the new/old templates.\n",
    "\n",
    "Parameters\n",
    "    \n",
    "- __filename__ (*str, optional*) Name of the XSD schema file to upload for the template.  Optional if title is given (filename will be taken as \"title\".xsd).\n",
    "- __content__ (*str or bytes, optional*) String contents of an XSD schema file to upload for the template.  Optional if filename is given as a full path to the XSD file.\n",
    "- __title__ (*str, optional*) Title to save the template as.  Optional if filename is given (title will be taken as filename without ext).\n",
    "- __template_manager__ (*pandas.Series, optional*) Can be given instead of title if the template_manager info has already been retrieved from the database.\n",
    "- __set_current__ (*bool, optional*) If True (default), will set the uploaded version of the template to be the current active version.\n",
    "- __disable_old__ (*bool, optional*) If True, any active versions of the template besides the newly created and the current version (if different) will be disabled.  Default value is False.\n",
    "- __verbose__ (*bool, optional*) Setting this to True will print extra status messages.  Default value is False."
   ]
  },
  {
   "cell_type": "markdown",
   "metadata": {},
   "source": [
    "### 6.3. Template version management operations\n",
    "\n",
    "As templates cannot be modified or deleted, there are a number of operations that allow for template versions and managers to be made less accessible.\n",
    "\n",
    "Individual template versions can be set as disabled or returned to active status using disable_template() and restore_template(), respectively.  Disabling a template version prevents users from adding records to that template version.  For each template title, a single template version is considered the \"current\" version. The set_current_template() method changes which template version is the current one.  All three of these methods rely on parameters that identify a specific version of a template.\n",
    "\n",
    "Parameters\n",
    "    \n",
    "- __title__ (*str, optional*) The template title.\n",
    "- __version__ (*int, optional*) The version of the template to make current.  Required unless template_id is given.  Note that version numbers start at 1.\n",
    "- __template_manager__ (*pandas.Series, optional*) Template manager information for the template.  This can be given instead of title to avoid querying for the template manager.\n",
    "- __template_id__ (*str, optional*) The database id for the template to set as current.  If given, then no other parameters are allowed (or needed).\n",
    "- __verbose__ (*bool, optional*) Setting this to True will print extra status messages.  Default value is False.\n",
    "\n",
    "Additionally, all versions of a given template can be disabled or restored using disable_template_manager() and restore_template_manager(), respectively.  The parameters for these methods are used to identify the template family to disable/restore. \n",
    "\n",
    "Parameters\n",
    "    \n",
    "- __title__ (*str, optional*) The template title.\n",
    "- __template_manager__ (*pandas.Series, optional*) Template manager information for the template.  This can be given instead of title to avoid querying for the template manager.\n",
    "- __verbose__ (*bool, optional*) Setting this to True will print extra status messages.  Default value is False."
   ]
  },
  {
   "cell_type": "markdown",
   "metadata": {},
   "source": [
    "### 6.4. Template migration and validation\n",
    "\n",
    "Each record is associated with a specific template. Migration allows for records to be associated with a different template instead, as long as the record contents can be validated against the new template's schema.  This type of operation is typically done when a new version of a template is added that extends the current template.  Validation performs the schema validation checks for the records against the new template without migrating the records to the new template.\n",
    "\n",
    "These operations Will hopefully be added soon as the proper use of the REST calls are being worked out. "
   ]
  },
  {
   "cell_type": "markdown",
   "metadata": {},
   "source": [
    "## 7. Managing XSLTs \n",
    "\n",
    "XSLT files allow for the XML content of records to be transformed. This is used by CDCS for a variety of purposes\n",
    "- Transformations to HTML can be used to render the contents of record entries into user-friendly web pages.\n",
    "- Transformations can also be specified to convert the record contents into other text-based formats that users may wish to download.\n",
    "- A transformation can also be used for data migration when a new template version is not backwards compatible with the current template version.  Here, the transformation would be XML to XML so that the content is valid with the new template schema. "
   ]
  },
  {
   "cell_type": "markdown",
   "metadata": {},
   "source": [
    "### 7.1. Exploring existing XSLTs\n",
    "\n",
    "Similar to other content types, get_xslts() and get_xslt() fetch all or one matching XSLT files from the database.  Each XSLT can be identified by its name or filename.\n",
    "\n",
    "Parameters\n",
    " \n",
    "- __name__ (*str, optional*) The xslt name to limit the search by.\n",
    "- __filename__ (*str, optional*) The xslt filename to limit the search by.\n",
    "\n",
    "### 7.2. Uploading a new XSLT\n",
    "\n",
    "New XSLTs can be uploaded using upload_xslt().\n",
    "\n",
    "Parameters\n",
    "    \n",
    "- __name__ (*str, optional*) The name to associate with the XSLT file.  Optional if filename is given as name will be taken as filename without its extension.\n",
    "- __filename__ (*str, optional*) The filename to associate with the XSLT file.  Optional if name and content are given.  If not given, filename will be set to name + '.xsl'. Will read the file contents if the file exists and content is not given.\n",
    "- __content__ (*str or bytes, optional*) XSLT file contents.  Optional if filename is given and points to a file that exists.\n",
    "- __verbose__ (*bool, optional*) Setting this to True will print extra status messages.  Default value is False.\n",
    "\n",
    "### 7.3. Modifying an existing XSLT\n",
    "\n",
    "Any uploaded XSLT entries can be modified and updated using update_xslt(). Note that there are additional parameters compared to other update operations as the name and filename fields can be updated in addition to the content.\n",
    "\n",
    "Parameters\n",
    "    \n",
    "- __name__ (*str, optional*) An xslt name. Will be used to identify the existing xslt entry to update if neither xslt nor xslt_id parameters are given. If either xslt or xslt_id are given, this can be used to assign a new name to the entry.\n",
    "- __filename__ (*str, optional*) An xslt filename. Will be used to identify the existing xslt entry to update if neither xslt nor xslt_id parameters are given. If either xslt or xslt_id are given, this can be used to assign a new filename to the entry.\n",
    "- __content__ (*str, optional*) New xsl content to assign to the entry.\n",
    "- __newname__ (*str, optional*) New name to assign to the entry.\n",
    "- __newfilename__ (*str, optional*) New filename to assign to the entry.\n",
    "- __xslt__ (*pd.Series, optional*) The xslt entry information for the entry that is being updated.  \n",
    "- __xslt_id__ (*str, optional*) The database id that uniquely identifies the xslt entry. \n",
    "- __verbose__ (*bool, optional*) Setting this to True will print extra status messages.  Default value is False.\n",
    "\n",
    "### 7.4. Deleting an existing XSLT\n",
    "\n",
    "Any XSLT files can also be removed from the database using delete_xslt().\n",
    "\n",
    "Parameters\n",
    "    \n",
    "- __name__ (*str, optional*) Values for name and filename can be specified to try to uniquely identify the XSLT entry to delete.  Cannot be combined with xslt or xslt_id as they uniquely identify the XSLT on their own.\n",
    "- __filename__ (*str, optional*) Values for name and filename can be specified to try to uniquely identify the XSLT entry to delete.  Cannot be combined with xslt or xslt_id as they uniquely identify the XSLT on their own.\n",
    "- __xslt__ (*pd.Series, optional*) The xslt entry information for the entry that is to be deleted.  Cannot be combined with name, filename or xslt_id.\n",
    "- __xslt_id__ (* str, optional*) The database id that uniquely identifies the xslt entry to delete.  Cannot be combined with name, filename or xslt.\n",
    "- __verbose__ (*bool, optional*) Setting this to True will print extra status messages.  Default value is False."
   ]
  },
  {
   "cell_type": "markdown",
   "metadata": {},
   "source": [
    "## 8. Managing PID XPATHs\n",
    "\n",
    "To help make data in a CDCS more compliant with FAIR practices, a PID (persistent identifier) can be assigned to each record entry and blob.  Without a PID, the URL for accessing a record/blob contains the database ID that was assigned to that content. The database ID is not persistent as deleting and reuploading the content will result in it being assigned a different database ID. This is especially relevant when restoring a database from a backup as the database IDs are not retained.\n",
    "\n",
    "The PID XPATH operations listed here make it easy for PIDs to be automatically assigned to records of a given schema.  The steps involved are\n",
    "\n",
    "1. The CDCS database needs to be set up to allow for automatically assigning PIDs, and one or more domains needs to be defined.  Contact whoever is in charge of hosting your CDCS instance as these options either require high administration privileges or are not accessible with REST commands or from the web interface.\n",
    "2. In order for a PID to be assigned to a record, the PID must be included in the record's XML content as a full URL.  The database automatically finds the PID URL field from the XML content based on an XPATH that is set on a per-template basis.  The methods described in this section allow for these template-specific PID XPATHs to be managed.\n",
    "3. Each PID URL will be of the form {host}/pid/rest/{provider}/{domain}/{record}.  Host is the host URL for the database, provider is typically \"local\", domain is one of the domains defined in step #1, and record then is some record-specific ID that makes the full URL unique.  As long as this PID URL is in the appropriate XML field specified by the PID XPATH for the template, is consistent with the form described, and is unique, then the record can be accessed from the PID URL."
   ]
  },
  {
   "cell_type": "markdown",
   "metadata": {},
   "source": [
    "### 8.1. Exploring existing PID XPATHs\n",
    "\n",
    "\n",
    "The currently set PID XPATHs can be retrieved and explored with get_pid_xpaths() and get_pid_xpath().\n",
    "\n",
    "Parameters\n",
    "\n",
    "- __template__ (*str or pandas.Series, optional*) The template or template title to limit the search by.\n",
    "\n",
    "### 8.2. Uploading and updating PID XPATHS\n",
    "\n",
    "PID XPATHs can be set and changed with upload_pid_xpath() and update_pid_xpath(), respectively.\n",
    "    \n",
    "Parameters\n",
    "    \n",
    "- __template__ (*str or pandas.Series*) The template or template title.\n",
    "- __xpath__ (*str*) The xpath to use for the pid field for the template.\n",
    "\n",
    "### 8.3. Deleting PID XPATHS\n",
    "\n",
    "A set PID XPATH can be deleted with delete_pid_xpath().\n",
    "    \n",
    "Parameters\n",
    "    \n",
    "- __template__ (*str or pandas.Series*) The template or template title."
   ]
  },
  {
   "cell_type": "code",
   "execution_count": null,
   "metadata": {},
   "outputs": [],
   "source": []
  }
 ],
 "metadata": {
  "kernelspec": {
   "display_name": "Python 3 (ipykernel)",
   "language": "python",
   "name": "python3"
  },
  "language_info": {
   "codemirror_mode": {
    "name": "ipython",
    "version": 3
   },
   "file_extension": ".py",
   "mimetype": "text/x-python",
   "name": "python",
   "nbconvert_exporter": "python",
   "pygments_lexer": "ipython3",
   "version": "3.7.13"
  }
 },
 "nbformat": 4,
 "nbformat_minor": 4
}
